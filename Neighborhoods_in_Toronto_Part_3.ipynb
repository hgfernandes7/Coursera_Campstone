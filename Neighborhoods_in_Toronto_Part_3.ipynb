{
 "cells": [
  {
   "cell_type": "markdown",
   "metadata": {},
   "source": [
    "# Segmenting and Clustering Neighborhoods in Toronto"
   ]
  },
  {
   "cell_type": "code",
   "execution_count": 1,
   "metadata": {},
   "outputs": [],
   "source": [
    "from bs4 import BeautifulSoup\n",
    "import requests\n",
    "import numpy as np\n",
    "import pandas as pd"
   ]
  },
  {
   "cell_type": "markdown",
   "metadata": {},
   "source": [
    "## Scrapping Data From Wikipedia"
   ]
  },
  {
   "cell_type": "code",
   "execution_count": 2,
   "metadata": {},
   "outputs": [],
   "source": [
    "#website we want to get de html\n",
    "website = 'https://en.wikipedia.org/wiki/List_of_postal_codes_of_Canada:_M'\n",
    "#Get the html from the website\n",
    "source = requests.get(website).text"
   ]
  },
  {
   "cell_type": "code",
   "execution_count": 3,
   "metadata": {},
   "outputs": [],
   "source": [
    "soup = BeautifulSoup(source,'lxml')\n",
    "#get the table\n",
    "table = soup.find('table',{'class':'wikitable sortable'})\n",
    "#get the content of the table\n",
    "content = table.get_text().split('\\n')"
   ]
  },
  {
   "cell_type": "code",
   "execution_count": 4,
   "metadata": {},
   "outputs": [
    {
     "data": {
      "text/plain": [
       "['',\n",
       " '',\n",
       " 'Postcode',\n",
       " 'Borough',\n",
       " 'Neighbourhood',\n",
       " '',\n",
       " '',\n",
       " 'M1A',\n",
       " 'Not assigned',\n",
       " 'Not assigned']"
      ]
     },
     "execution_count": 4,
     "metadata": {},
     "output_type": "execute_result"
    }
   ],
   "source": [
    "content[0:10]"
   ]
  },
  {
   "cell_type": "code",
   "execution_count": 5,
   "metadata": {},
   "outputs": [],
   "source": [
    "#remove empty values from the list\n",
    "content = list(filter(None,content))"
   ]
  },
  {
   "cell_type": "code",
   "execution_count": 6,
   "metadata": {},
   "outputs": [
    {
     "data": {
      "text/plain": [
       "['Postcode',\n",
       " 'Borough',\n",
       " 'Neighbourhood',\n",
       " 'M1A',\n",
       " 'Not assigned',\n",
       " 'Not assigned',\n",
       " 'M2A',\n",
       " 'Not assigned',\n",
       " 'Not assigned',\n",
       " 'M3A']"
      ]
     },
     "execution_count": 6,
     "metadata": {},
     "output_type": "execute_result"
    }
   ],
   "source": [
    "content[0:10]"
   ]
  },
  {
   "cell_type": "code",
   "execution_count": 7,
   "metadata": {},
   "outputs": [],
   "source": [
    "postcode = []\n",
    "borough = []\n",
    "neighborhood = []\n",
    "cont = 0\n",
    "\n",
    "#create the vectors of the three columns\n",
    "for i in range(len(content)):\n",
    "    if cont == 0:\n",
    "        postcode.append(content[i])\n",
    "        cont = cont + 1\n",
    "    elif cont == 1:\n",
    "        borough.append(content[i])\n",
    "        cont = cont + 1\n",
    "    else:\n",
    "        neighborhood.append(content[i])\n",
    "        cont = 0"
   ]
  },
  {
   "cell_type": "code",
   "execution_count": 8,
   "metadata": {},
   "outputs": [
    {
     "name": "stdout",
     "output_type": "stream",
     "text": [
      "['Postcode', 'M1A', 'M2A', 'M3A', 'M4A']\n",
      "['Borough', 'Not assigned', 'Not assigned', 'North York', 'North York']\n",
      "['Neighbourhood', 'Not assigned', 'Not assigned', 'Parkwoods', 'Victoria Village']\n"
     ]
    }
   ],
   "source": [
    "print(postcode[0:5])\n",
    "print(borough[0:5])\n",
    "print(neighborhood[0:5])"
   ]
  },
  {
   "cell_type": "code",
   "execution_count": 9,
   "metadata": {},
   "outputs": [
    {
     "data": {
      "text/html": [
       "<div>\n",
       "<style scoped>\n",
       "    .dataframe tbody tr th:only-of-type {\n",
       "        vertical-align: middle;\n",
       "    }\n",
       "\n",
       "    .dataframe tbody tr th {\n",
       "        vertical-align: top;\n",
       "    }\n",
       "\n",
       "    .dataframe thead th {\n",
       "        text-align: right;\n",
       "    }\n",
       "</style>\n",
       "<table border=\"1\" class=\"dataframe\">\n",
       "  <thead>\n",
       "    <tr style=\"text-align: right;\">\n",
       "      <th></th>\n",
       "      <th>Postcode</th>\n",
       "      <th>Borough</th>\n",
       "      <th>Neighbourhood</th>\n",
       "    </tr>\n",
       "  </thead>\n",
       "  <tbody>\n",
       "    <tr>\n",
       "      <th>0</th>\n",
       "      <td>M1A</td>\n",
       "      <td>Not assigned</td>\n",
       "      <td>Not assigned</td>\n",
       "    </tr>\n",
       "    <tr>\n",
       "      <th>1</th>\n",
       "      <td>M2A</td>\n",
       "      <td>Not assigned</td>\n",
       "      <td>Not assigned</td>\n",
       "    </tr>\n",
       "    <tr>\n",
       "      <th>2</th>\n",
       "      <td>M3A</td>\n",
       "      <td>North York</td>\n",
       "      <td>Parkwoods</td>\n",
       "    </tr>\n",
       "    <tr>\n",
       "      <th>3</th>\n",
       "      <td>M4A</td>\n",
       "      <td>North York</td>\n",
       "      <td>Victoria Village</td>\n",
       "    </tr>\n",
       "    <tr>\n",
       "      <th>4</th>\n",
       "      <td>M5A</td>\n",
       "      <td>Downtown Toronto</td>\n",
       "      <td>Harbourfront</td>\n",
       "    </tr>\n",
       "  </tbody>\n",
       "</table>\n",
       "</div>"
      ],
      "text/plain": [
       "  Postcode           Borough     Neighbourhood\n",
       "0      M1A      Not assigned      Not assigned\n",
       "1      M2A      Not assigned      Not assigned\n",
       "2      M3A        North York         Parkwoods\n",
       "3      M4A        North York  Victoria Village\n",
       "4      M5A  Downtown Toronto      Harbourfront"
      ]
     },
     "execution_count": 9,
     "metadata": {},
     "output_type": "execute_result"
    }
   ],
   "source": [
    "#create the dataframe\n",
    "df = pd.DataFrame()\n",
    "df[postcode[0]] = postcode[1:]\n",
    "df[borough[0]] = borough[1:]\n",
    "df[neighborhood[0]] = neighborhood[1:]\n",
    "df.head()"
   ]
  },
  {
   "cell_type": "code",
   "execution_count": 10,
   "metadata": {},
   "outputs": [],
   "source": [
    "#correct the column title\n",
    "df.rename(columns = {'Neighbourhood':'Neighborhood'}, inplace = True)"
   ]
  },
  {
   "cell_type": "code",
   "execution_count": 11,
   "metadata": {},
   "outputs": [],
   "source": [
    "#Remove the 'Not assigned' data\n",
    "df.drop(index = df[(df['Neighborhood'] == 'Not assigned') & (df['Borough'] == 'Not assigned')].index, inplace = True)"
   ]
  },
  {
   "cell_type": "code",
   "execution_count": 12,
   "metadata": {},
   "outputs": [],
   "source": [
    "#reset the index\n",
    "df.reset_index(drop = True, inplace = True)"
   ]
  },
  {
   "cell_type": "code",
   "execution_count": 13,
   "metadata": {},
   "outputs": [
    {
     "data": {
      "text/html": [
       "<div>\n",
       "<style scoped>\n",
       "    .dataframe tbody tr th:only-of-type {\n",
       "        vertical-align: middle;\n",
       "    }\n",
       "\n",
       "    .dataframe tbody tr th {\n",
       "        vertical-align: top;\n",
       "    }\n",
       "\n",
       "    .dataframe thead th {\n",
       "        text-align: right;\n",
       "    }\n",
       "</style>\n",
       "<table border=\"1\" class=\"dataframe\">\n",
       "  <thead>\n",
       "    <tr style=\"text-align: right;\">\n",
       "      <th></th>\n",
       "      <th>Postcode</th>\n",
       "      <th>Borough</th>\n",
       "      <th>Neighborhood</th>\n",
       "    </tr>\n",
       "  </thead>\n",
       "  <tbody>\n",
       "  </tbody>\n",
       "</table>\n",
       "</div>"
      ],
      "text/plain": [
       "Empty DataFrame\n",
       "Columns: [Postcode, Borough, Neighborhood]\n",
       "Index: []"
      ]
     },
     "execution_count": 13,
     "metadata": {},
     "output_type": "execute_result"
    }
   ],
   "source": [
    "#check if still has 'Not assigned' data\n",
    "df[df['Borough'] == 'Not assigned']"
   ]
  },
  {
   "cell_type": "code",
   "execution_count": 14,
   "metadata": {},
   "outputs": [
    {
     "data": {
      "text/html": [
       "<div>\n",
       "<style scoped>\n",
       "    .dataframe tbody tr th:only-of-type {\n",
       "        vertical-align: middle;\n",
       "    }\n",
       "\n",
       "    .dataframe tbody tr th {\n",
       "        vertical-align: top;\n",
       "    }\n",
       "\n",
       "    .dataframe thead th {\n",
       "        text-align: right;\n",
       "    }\n",
       "</style>\n",
       "<table border=\"1\" class=\"dataframe\">\n",
       "  <thead>\n",
       "    <tr style=\"text-align: right;\">\n",
       "      <th></th>\n",
       "      <th>Postcode</th>\n",
       "      <th>Borough</th>\n",
       "      <th>Neighborhood</th>\n",
       "    </tr>\n",
       "  </thead>\n",
       "  <tbody>\n",
       "    <tr>\n",
       "      <th>6</th>\n",
       "      <td>M7A</td>\n",
       "      <td>Queen's Park</td>\n",
       "      <td>Not assigned</td>\n",
       "    </tr>\n",
       "  </tbody>\n",
       "</table>\n",
       "</div>"
      ],
      "text/plain": [
       "  Postcode       Borough  Neighborhood\n",
       "6      M7A  Queen's Park  Not assigned"
      ]
     },
     "execution_count": 14,
     "metadata": {},
     "output_type": "execute_result"
    }
   ],
   "source": [
    "df[df['Neighborhood'] == 'Not assigned']"
   ]
  },
  {
   "cell_type": "code",
   "execution_count": 15,
   "metadata": {},
   "outputs": [],
   "source": [
    "df.Neighborhood.replace('Not assigned',\"Queen's Park\", inplace = True)"
   ]
  },
  {
   "cell_type": "code",
   "execution_count": 16,
   "metadata": {},
   "outputs": [
    {
     "data": {
      "text/html": [
       "<div>\n",
       "<style scoped>\n",
       "    .dataframe tbody tr th:only-of-type {\n",
       "        vertical-align: middle;\n",
       "    }\n",
       "\n",
       "    .dataframe tbody tr th {\n",
       "        vertical-align: top;\n",
       "    }\n",
       "\n",
       "    .dataframe thead th {\n",
       "        text-align: right;\n",
       "    }\n",
       "</style>\n",
       "<table border=\"1\" class=\"dataframe\">\n",
       "  <thead>\n",
       "    <tr style=\"text-align: right;\">\n",
       "      <th></th>\n",
       "      <th>Postcode</th>\n",
       "      <th>Borough</th>\n",
       "      <th>Neighborhood</th>\n",
       "    </tr>\n",
       "  </thead>\n",
       "  <tbody>\n",
       "  </tbody>\n",
       "</table>\n",
       "</div>"
      ],
      "text/plain": [
       "Empty DataFrame\n",
       "Columns: [Postcode, Borough, Neighborhood]\n",
       "Index: []"
      ]
     },
     "execution_count": 16,
     "metadata": {},
     "output_type": "execute_result"
    }
   ],
   "source": [
    "df[df['Neighborhood'] == 'Not assigned']"
   ]
  },
  {
   "cell_type": "code",
   "execution_count": 17,
   "metadata": {},
   "outputs": [
    {
     "data": {
      "text/html": [
       "<div>\n",
       "<style scoped>\n",
       "    .dataframe tbody tr th:only-of-type {\n",
       "        vertical-align: middle;\n",
       "    }\n",
       "\n",
       "    .dataframe tbody tr th {\n",
       "        vertical-align: top;\n",
       "    }\n",
       "\n",
       "    .dataframe thead th {\n",
       "        text-align: right;\n",
       "    }\n",
       "</style>\n",
       "<table border=\"1\" class=\"dataframe\">\n",
       "  <thead>\n",
       "    <tr style=\"text-align: right;\">\n",
       "      <th></th>\n",
       "      <th>Postcode</th>\n",
       "      <th>Borough</th>\n",
       "      <th>Neighborhood</th>\n",
       "    </tr>\n",
       "  </thead>\n",
       "  <tbody>\n",
       "    <tr>\n",
       "      <th>0</th>\n",
       "      <td>M3A</td>\n",
       "      <td>North York</td>\n",
       "      <td>Parkwoods</td>\n",
       "    </tr>\n",
       "    <tr>\n",
       "      <th>1</th>\n",
       "      <td>M4A</td>\n",
       "      <td>North York</td>\n",
       "      <td>Victoria Village</td>\n",
       "    </tr>\n",
       "    <tr>\n",
       "      <th>2</th>\n",
       "      <td>M5A</td>\n",
       "      <td>Downtown Toronto</td>\n",
       "      <td>Harbourfront</td>\n",
       "    </tr>\n",
       "    <tr>\n",
       "      <th>3</th>\n",
       "      <td>M5A</td>\n",
       "      <td>Downtown Toronto</td>\n",
       "      <td>Regent Park</td>\n",
       "    </tr>\n",
       "    <tr>\n",
       "      <th>4</th>\n",
       "      <td>M6A</td>\n",
       "      <td>North York</td>\n",
       "      <td>Lawrence Heights</td>\n",
       "    </tr>\n",
       "  </tbody>\n",
       "</table>\n",
       "</div>"
      ],
      "text/plain": [
       "  Postcode           Borough      Neighborhood\n",
       "0      M3A        North York         Parkwoods\n",
       "1      M4A        North York  Victoria Village\n",
       "2      M5A  Downtown Toronto      Harbourfront\n",
       "3      M5A  Downtown Toronto       Regent Park\n",
       "4      M6A        North York  Lawrence Heights"
      ]
     },
     "execution_count": 17,
     "metadata": {},
     "output_type": "execute_result"
    }
   ],
   "source": [
    "df.head()"
   ]
  },
  {
   "cell_type": "code",
   "execution_count": 18,
   "metadata": {},
   "outputs": [],
   "source": [
    "#group the neighborhoods by the poscode\n",
    "df_final = df.groupby('Postcode')['Neighborhood'].apply(','.join).reset_index()"
   ]
  },
  {
   "cell_type": "code",
   "execution_count": 19,
   "metadata": {},
   "outputs": [],
   "source": [
    "#add the 'Borough' column\n",
    "df_final = df_final.merge(df[['Postcode','Borough']],on = 'Postcode', how = 'inner').drop_duplicates()\n",
    "df_final.reset_index(inplace = True, drop = True)"
   ]
  },
  {
   "cell_type": "code",
   "execution_count": 20,
   "metadata": {},
   "outputs": [],
   "source": [
    "#put the columns in the right sequence\n",
    "df_final = df_final[['Postcode','Borough','Neighborhood']]\n",
    "df_final.sort_values(by = 'Postcode', inplace = True)"
   ]
  },
  {
   "cell_type": "code",
   "execution_count": 21,
   "metadata": {},
   "outputs": [
    {
     "data": {
      "text/html": [
       "<div>\n",
       "<style scoped>\n",
       "    .dataframe tbody tr th:only-of-type {\n",
       "        vertical-align: middle;\n",
       "    }\n",
       "\n",
       "    .dataframe tbody tr th {\n",
       "        vertical-align: top;\n",
       "    }\n",
       "\n",
       "    .dataframe thead th {\n",
       "        text-align: right;\n",
       "    }\n",
       "</style>\n",
       "<table border=\"1\" class=\"dataframe\">\n",
       "  <thead>\n",
       "    <tr style=\"text-align: right;\">\n",
       "      <th></th>\n",
       "      <th>Postcode</th>\n",
       "      <th>Borough</th>\n",
       "      <th>Neighborhood</th>\n",
       "    </tr>\n",
       "  </thead>\n",
       "  <tbody>\n",
       "    <tr>\n",
       "      <th>0</th>\n",
       "      <td>M1B</td>\n",
       "      <td>Scarborough</td>\n",
       "      <td>Rouge,Malvern</td>\n",
       "    </tr>\n",
       "    <tr>\n",
       "      <th>1</th>\n",
       "      <td>M1C</td>\n",
       "      <td>Scarborough</td>\n",
       "      <td>Highland Creek,Rouge Hill,Port Union</td>\n",
       "    </tr>\n",
       "    <tr>\n",
       "      <th>2</th>\n",
       "      <td>M1E</td>\n",
       "      <td>Scarborough</td>\n",
       "      <td>Guildwood,Morningside,West Hill</td>\n",
       "    </tr>\n",
       "    <tr>\n",
       "      <th>3</th>\n",
       "      <td>M1G</td>\n",
       "      <td>Scarborough</td>\n",
       "      <td>Woburn</td>\n",
       "    </tr>\n",
       "    <tr>\n",
       "      <th>4</th>\n",
       "      <td>M1H</td>\n",
       "      <td>Scarborough</td>\n",
       "      <td>Cedarbrae</td>\n",
       "    </tr>\n",
       "  </tbody>\n",
       "</table>\n",
       "</div>"
      ],
      "text/plain": [
       "  Postcode      Borough                          Neighborhood\n",
       "0      M1B  Scarborough                         Rouge,Malvern\n",
       "1      M1C  Scarborough  Highland Creek,Rouge Hill,Port Union\n",
       "2      M1E  Scarborough       Guildwood,Morningside,West Hill\n",
       "3      M1G  Scarborough                                Woburn\n",
       "4      M1H  Scarborough                             Cedarbrae"
      ]
     },
     "execution_count": 21,
     "metadata": {},
     "output_type": "execute_result"
    }
   ],
   "source": [
    "df_final.head()"
   ]
  },
  {
   "cell_type": "markdown",
   "metadata": {},
   "source": [
    "## Getting the Geographical Coordinates of the Neighborhoods"
   ]
  },
  {
   "cell_type": "code",
   "execution_count": 22,
   "metadata": {},
   "outputs": [],
   "source": [
    "web_coord = 'http://cocl.us/Geospatial_data'\n",
    "coord = pd.read_csv(web_coord)"
   ]
  },
  {
   "cell_type": "code",
   "execution_count": 23,
   "metadata": {},
   "outputs": [
    {
     "data": {
      "text/html": [
       "<div>\n",
       "<style scoped>\n",
       "    .dataframe tbody tr th:only-of-type {\n",
       "        vertical-align: middle;\n",
       "    }\n",
       "\n",
       "    .dataframe tbody tr th {\n",
       "        vertical-align: top;\n",
       "    }\n",
       "\n",
       "    .dataframe thead th {\n",
       "        text-align: right;\n",
       "    }\n",
       "</style>\n",
       "<table border=\"1\" class=\"dataframe\">\n",
       "  <thead>\n",
       "    <tr style=\"text-align: right;\">\n",
       "      <th></th>\n",
       "      <th>Postal Code</th>\n",
       "      <th>Latitude</th>\n",
       "      <th>Longitude</th>\n",
       "    </tr>\n",
       "  </thead>\n",
       "  <tbody>\n",
       "    <tr>\n",
       "      <th>0</th>\n",
       "      <td>M1B</td>\n",
       "      <td>43.806686</td>\n",
       "      <td>-79.194353</td>\n",
       "    </tr>\n",
       "    <tr>\n",
       "      <th>1</th>\n",
       "      <td>M1C</td>\n",
       "      <td>43.784535</td>\n",
       "      <td>-79.160497</td>\n",
       "    </tr>\n",
       "    <tr>\n",
       "      <th>2</th>\n",
       "      <td>M1E</td>\n",
       "      <td>43.763573</td>\n",
       "      <td>-79.188711</td>\n",
       "    </tr>\n",
       "    <tr>\n",
       "      <th>3</th>\n",
       "      <td>M1G</td>\n",
       "      <td>43.770992</td>\n",
       "      <td>-79.216917</td>\n",
       "    </tr>\n",
       "    <tr>\n",
       "      <th>4</th>\n",
       "      <td>M1H</td>\n",
       "      <td>43.773136</td>\n",
       "      <td>-79.239476</td>\n",
       "    </tr>\n",
       "  </tbody>\n",
       "</table>\n",
       "</div>"
      ],
      "text/plain": [
       "  Postal Code   Latitude  Longitude\n",
       "0         M1B  43.806686 -79.194353\n",
       "1         M1C  43.784535 -79.160497\n",
       "2         M1E  43.763573 -79.188711\n",
       "3         M1G  43.770992 -79.216917\n",
       "4         M1H  43.773136 -79.239476"
      ]
     },
     "execution_count": 23,
     "metadata": {},
     "output_type": "execute_result"
    }
   ],
   "source": [
    "coord.head()"
   ]
  },
  {
   "cell_type": "code",
   "execution_count": 24,
   "metadata": {},
   "outputs": [
    {
     "data": {
      "text/html": [
       "<div>\n",
       "<style scoped>\n",
       "    .dataframe tbody tr th:only-of-type {\n",
       "        vertical-align: middle;\n",
       "    }\n",
       "\n",
       "    .dataframe tbody tr th {\n",
       "        vertical-align: top;\n",
       "    }\n",
       "\n",
       "    .dataframe thead th {\n",
       "        text-align: right;\n",
       "    }\n",
       "</style>\n",
       "<table border=\"1\" class=\"dataframe\">\n",
       "  <thead>\n",
       "    <tr style=\"text-align: right;\">\n",
       "      <th></th>\n",
       "      <th>Postcode</th>\n",
       "      <th>Latitude</th>\n",
       "      <th>Longitude</th>\n",
       "    </tr>\n",
       "  </thead>\n",
       "  <tbody>\n",
       "    <tr>\n",
       "      <th>0</th>\n",
       "      <td>M1B</td>\n",
       "      <td>43.806686</td>\n",
       "      <td>-79.194353</td>\n",
       "    </tr>\n",
       "    <tr>\n",
       "      <th>1</th>\n",
       "      <td>M1C</td>\n",
       "      <td>43.784535</td>\n",
       "      <td>-79.160497</td>\n",
       "    </tr>\n",
       "    <tr>\n",
       "      <th>2</th>\n",
       "      <td>M1E</td>\n",
       "      <td>43.763573</td>\n",
       "      <td>-79.188711</td>\n",
       "    </tr>\n",
       "    <tr>\n",
       "      <th>3</th>\n",
       "      <td>M1G</td>\n",
       "      <td>43.770992</td>\n",
       "      <td>-79.216917</td>\n",
       "    </tr>\n",
       "    <tr>\n",
       "      <th>4</th>\n",
       "      <td>M1H</td>\n",
       "      <td>43.773136</td>\n",
       "      <td>-79.239476</td>\n",
       "    </tr>\n",
       "  </tbody>\n",
       "</table>\n",
       "</div>"
      ],
      "text/plain": [
       "  Postcode   Latitude  Longitude\n",
       "0      M1B  43.806686 -79.194353\n",
       "1      M1C  43.784535 -79.160497\n",
       "2      M1E  43.763573 -79.188711\n",
       "3      M1G  43.770992 -79.216917\n",
       "4      M1H  43.773136 -79.239476"
      ]
     },
     "execution_count": 24,
     "metadata": {},
     "output_type": "execute_result"
    }
   ],
   "source": [
    "#rename the column 'Postal Code', so we can merge coord with the df_final\n",
    "coord.rename(columns = {'Postal Code':'Postcode'}, inplace = True)\n",
    "coord.head()"
   ]
  },
  {
   "cell_type": "code",
   "execution_count": 25,
   "metadata": {},
   "outputs": [
    {
     "data": {
      "text/html": [
       "<div>\n",
       "<style scoped>\n",
       "    .dataframe tbody tr th:only-of-type {\n",
       "        vertical-align: middle;\n",
       "    }\n",
       "\n",
       "    .dataframe tbody tr th {\n",
       "        vertical-align: top;\n",
       "    }\n",
       "\n",
       "    .dataframe thead th {\n",
       "        text-align: right;\n",
       "    }\n",
       "</style>\n",
       "<table border=\"1\" class=\"dataframe\">\n",
       "  <thead>\n",
       "    <tr style=\"text-align: right;\">\n",
       "      <th></th>\n",
       "      <th>Postcode</th>\n",
       "      <th>Borough</th>\n",
       "      <th>Neighborhood</th>\n",
       "      <th>Latitude</th>\n",
       "      <th>Longitude</th>\n",
       "    </tr>\n",
       "  </thead>\n",
       "  <tbody>\n",
       "    <tr>\n",
       "      <th>0</th>\n",
       "      <td>M1B</td>\n",
       "      <td>Scarborough</td>\n",
       "      <td>Rouge,Malvern</td>\n",
       "      <td>43.806686</td>\n",
       "      <td>-79.194353</td>\n",
       "    </tr>\n",
       "    <tr>\n",
       "      <th>1</th>\n",
       "      <td>M1C</td>\n",
       "      <td>Scarborough</td>\n",
       "      <td>Highland Creek,Rouge Hill,Port Union</td>\n",
       "      <td>43.784535</td>\n",
       "      <td>-79.160497</td>\n",
       "    </tr>\n",
       "    <tr>\n",
       "      <th>2</th>\n",
       "      <td>M1E</td>\n",
       "      <td>Scarborough</td>\n",
       "      <td>Guildwood,Morningside,West Hill</td>\n",
       "      <td>43.763573</td>\n",
       "      <td>-79.188711</td>\n",
       "    </tr>\n",
       "    <tr>\n",
       "      <th>3</th>\n",
       "      <td>M1G</td>\n",
       "      <td>Scarborough</td>\n",
       "      <td>Woburn</td>\n",
       "      <td>43.770992</td>\n",
       "      <td>-79.216917</td>\n",
       "    </tr>\n",
       "    <tr>\n",
       "      <th>4</th>\n",
       "      <td>M1H</td>\n",
       "      <td>Scarborough</td>\n",
       "      <td>Cedarbrae</td>\n",
       "      <td>43.773136</td>\n",
       "      <td>-79.239476</td>\n",
       "    </tr>\n",
       "  </tbody>\n",
       "</table>\n",
       "</div>"
      ],
      "text/plain": [
       "  Postcode      Borough                          Neighborhood   Latitude  \\\n",
       "0      M1B  Scarborough                         Rouge,Malvern  43.806686   \n",
       "1      M1C  Scarborough  Highland Creek,Rouge Hill,Port Union  43.784535   \n",
       "2      M1E  Scarborough       Guildwood,Morningside,West Hill  43.763573   \n",
       "3      M1G  Scarborough                                Woburn  43.770992   \n",
       "4      M1H  Scarborough                             Cedarbrae  43.773136   \n",
       "\n",
       "   Longitude  \n",
       "0 -79.194353  \n",
       "1 -79.160497  \n",
       "2 -79.188711  \n",
       "3 -79.216917  \n",
       "4 -79.239476  "
      ]
     },
     "execution_count": 25,
     "metadata": {},
     "output_type": "execute_result"
    }
   ],
   "source": [
    "df_coord = df_final.merge(coord, on = 'Postcode')\n",
    "df_coord.head()"
   ]
  },
  {
   "cell_type": "code",
   "execution_count": 26,
   "metadata": {},
   "outputs": [
    {
     "data": {
      "text/plain": [
       "(103, 5)"
      ]
     },
     "execution_count": 26,
     "metadata": {},
     "output_type": "execute_result"
    }
   ],
   "source": [
    "df_coord.shape"
   ]
  },
  {
   "cell_type": "markdown",
   "metadata": {},
   "source": [
    "## Clustering Neighborhoods"
   ]
  },
  {
   "cell_type": "code",
   "execution_count": 27,
   "metadata": {},
   "outputs": [],
   "source": [
    "import folium\n",
    "import json\n",
    "from pandas.io.json import json_normalize \n",
    "from sklearn.cluster import KMeans\n",
    "from geopy.geocoders import Nominatim "
   ]
  },
  {
   "cell_type": "code",
   "execution_count": 45,
   "metadata": {},
   "outputs": [
    {
     "name": "stdout",
     "output_type": "stream",
     "text": [
      "The geograpical coordinate of Toronto are 43.653963, -79.387207.\n"
     ]
    }
   ],
   "source": [
    "#get the geographical coordinates of Toronto\n",
    "address = 'Toronto, CA'\n",
    "\n",
    "geolocator = Nominatim(user_agent=\"to_explorer\")\n",
    "location = geolocator.geocode(address)\n",
    "latitude = location.latitude\n",
    "longitude = location.longitude\n",
    "print('The geograpical coordinate of Toronto are {}, {}.'.format(latitude, longitude))"
   ]
  },
  {
   "cell_type": "markdown",
   "metadata": {},
   "source": [
    "### Create a map of Toronto with the neighborhoods "
   ]
  },
  {
   "cell_type": "code",
   "execution_count": 46,
   "metadata": {
    "scrolled": true
   },
   "outputs": [
    {
     "data": {
      "text/html": [
       "<div style=\"width:100%;\"><div style=\"position:relative;width:100%;height:0;padding-bottom:60%;\"><iframe src=\"data:text/html;charset=utf-8;base64,PCFET0NUWVBFIGh0bWw+CjxoZWFkPiAgICAKICAgIDxtZXRhIGh0dHAtZXF1aXY9ImNvbnRlbnQtdHlwZSIgY29udGVudD0idGV4dC9odG1sOyBjaGFyc2V0PVVURi04IiAvPgogICAgCiAgICAgICAgPHNjcmlwdD4KICAgICAgICAgICAgTF9OT19UT1VDSCA9IGZhbHNlOwogICAgICAgICAgICBMX0RJU0FCTEVfM0QgPSBmYWxzZTsKICAgICAgICA8L3NjcmlwdD4KICAgIAogICAgPHNjcmlwdCBzcmM9Imh0dHBzOi8vY2RuLmpzZGVsaXZyLm5ldC9ucG0vbGVhZmxldEAxLjUuMS9kaXN0L2xlYWZsZXQuanMiPjwvc2NyaXB0PgogICAgPHNjcmlwdCBzcmM9Imh0dHBzOi8vY29kZS5qcXVlcnkuY29tL2pxdWVyeS0xLjEyLjQubWluLmpzIj48L3NjcmlwdD4KICAgIDxzY3JpcHQgc3JjPSJodHRwczovL21heGNkbi5ib290c3RyYXBjZG4uY29tL2Jvb3RzdHJhcC8zLjIuMC9qcy9ib290c3RyYXAubWluLmpzIj48L3NjcmlwdD4KICAgIDxzY3JpcHQgc3JjPSJodHRwczovL2NkbmpzLmNsb3VkZmxhcmUuY29tL2FqYXgvbGlicy9MZWFmbGV0LmF3ZXNvbWUtbWFya2Vycy8yLjAuMi9sZWFmbGV0LmF3ZXNvbWUtbWFya2Vycy5qcyI+PC9zY3JpcHQ+CiAgICA8bGluayByZWw9InN0eWxlc2hlZXQiIGhyZWY9Imh0dHBzOi8vY2RuLmpzZGVsaXZyLm5ldC9ucG0vbGVhZmxldEAxLjUuMS9kaXN0L2xlYWZsZXQuY3NzIi8+CiAgICA8bGluayByZWw9InN0eWxlc2hlZXQiIGhyZWY9Imh0dHBzOi8vbWF4Y2RuLmJvb3RzdHJhcGNkbi5jb20vYm9vdHN0cmFwLzMuMi4wL2Nzcy9ib290c3RyYXAubWluLmNzcyIvPgogICAgPGxpbmsgcmVsPSJzdHlsZXNoZWV0IiBocmVmPSJodHRwczovL21heGNkbi5ib290c3RyYXBjZG4uY29tL2Jvb3RzdHJhcC8zLjIuMC9jc3MvYm9vdHN0cmFwLXRoZW1lLm1pbi5jc3MiLz4KICAgIDxsaW5rIHJlbD0ic3R5bGVzaGVldCIgaHJlZj0iaHR0cHM6Ly9tYXhjZG4uYm9vdHN0cmFwY2RuLmNvbS9mb250LWF3ZXNvbWUvNC42LjMvY3NzL2ZvbnQtYXdlc29tZS5taW4uY3NzIi8+CiAgICA8bGluayByZWw9InN0eWxlc2hlZXQiIGhyZWY9Imh0dHBzOi8vY2RuanMuY2xvdWRmbGFyZS5jb20vYWpheC9saWJzL0xlYWZsZXQuYXdlc29tZS1tYXJrZXJzLzIuMC4yL2xlYWZsZXQuYXdlc29tZS1tYXJrZXJzLmNzcyIvPgogICAgPGxpbmsgcmVsPSJzdHlsZXNoZWV0IiBocmVmPSJodHRwczovL3Jhd2Nkbi5naXRoYWNrLmNvbS9weXRob24tdmlzdWFsaXphdGlvbi9mb2xpdW0vbWFzdGVyL2ZvbGl1bS90ZW1wbGF0ZXMvbGVhZmxldC5hd2Vzb21lLnJvdGF0ZS5jc3MiLz4KICAgIDxzdHlsZT5odG1sLCBib2R5IHt3aWR0aDogMTAwJTtoZWlnaHQ6IDEwMCU7bWFyZ2luOiAwO3BhZGRpbmc6IDA7fTwvc3R5bGU+CiAgICA8c3R5bGU+I21hcCB7cG9zaXRpb246YWJzb2x1dGU7dG9wOjA7Ym90dG9tOjA7cmlnaHQ6MDtsZWZ0OjA7fTwvc3R5bGU+CiAgICAKICAgICAgICAgICAgPG1ldGEgbmFtZT0idmlld3BvcnQiIGNvbnRlbnQ9IndpZHRoPWRldmljZS13aWR0aCwKICAgICAgICAgICAgICAgIGluaXRpYWwtc2NhbGU9MS4wLCBtYXhpbXVtLXNjYWxlPTEuMCwgdXNlci1zY2FsYWJsZT1ubyIgLz4KICAgICAgICAgICAgPHN0eWxlPgogICAgICAgICAgICAgICAgI21hcF9lMjU4Y2NlNDRiODQ0NzY2OTIzYTA5ODk4YmUxNGQyYSB7CiAgICAgICAgICAgICAgICAgICAgcG9zaXRpb246IHJlbGF0aXZlOwogICAgICAgICAgICAgICAgICAgIHdpZHRoOiAxMDAuMCU7CiAgICAgICAgICAgICAgICAgICAgaGVpZ2h0OiAxMDAuMCU7CiAgICAgICAgICAgICAgICAgICAgbGVmdDogMC4wJTsKICAgICAgICAgICAgICAgICAgICB0b3A6IDAuMCU7CiAgICAgICAgICAgICAgICB9CiAgICAgICAgICAgIDwvc3R5bGU+CiAgICAgICAgCjwvaGVhZD4KPGJvZHk+ICAgIAogICAgCiAgICAgICAgICAgIDxkaXYgY2xhc3M9ImZvbGl1bS1tYXAiIGlkPSJtYXBfZTI1OGNjZTQ0Yjg0NDc2NjkyM2EwOTg5OGJlMTRkMmEiID48L2Rpdj4KICAgICAgICAKPC9ib2R5Pgo8c2NyaXB0PiAgICAKICAgIAogICAgICAgICAgICB2YXIgbWFwX2UyNThjY2U0NGI4NDQ3NjY5MjNhMDk4OThiZTE0ZDJhID0gTC5tYXAoCiAgICAgICAgICAgICAgICAibWFwX2UyNThjY2U0NGI4NDQ3NjY5MjNhMDk4OThiZTE0ZDJhIiwKICAgICAgICAgICAgICAgIHsKICAgICAgICAgICAgICAgICAgICBjZW50ZXI6IFs0My42NTM5NjMsIC03OS4zODcyMDddLAogICAgICAgICAgICAgICAgICAgIGNyczogTC5DUlMuRVBTRzM4NTcsCiAgICAgICAgICAgICAgICAgICAgem9vbTogMTAsCiAgICAgICAgICAgICAgICAgICAgem9vbUNvbnRyb2w6IHRydWUsCiAgICAgICAgICAgICAgICAgICAgcHJlZmVyQ2FudmFzOiBmYWxzZSwKICAgICAgICAgICAgICAgIH0KICAgICAgICAgICAgKTsKCiAgICAgICAgICAgIAoKICAgICAgICAKICAgIAogICAgICAgICAgICB2YXIgdGlsZV9sYXllcl8zYWVjNGY5MjQyZDc0NjRhYTg3MDhmNWQ0N2FiMTVjMiA9IEwudGlsZUxheWVyKAogICAgICAgICAgICAgICAgImh0dHBzOi8ve3N9LnRpbGUub3BlbnN0cmVldG1hcC5vcmcve3p9L3t4fS97eX0ucG5nIiwKICAgICAgICAgICAgICAgIHsiYXR0cmlidXRpb24iOiAiRGF0YSBieSBcdTAwMjZjb3B5OyBcdTAwM2NhIGhyZWY9XCJodHRwOi8vb3BlbnN0cmVldG1hcC5vcmdcIlx1MDAzZU9wZW5TdHJlZXRNYXBcdTAwM2MvYVx1MDAzZSwgdW5kZXIgXHUwMDNjYSBocmVmPVwiaHR0cDovL3d3dy5vcGVuc3RyZWV0bWFwLm9yZy9jb3B5cmlnaHRcIlx1MDAzZU9EYkxcdTAwM2MvYVx1MDAzZS4iLCAiZGV0ZWN0UmV0aW5hIjogZmFsc2UsICJtYXhOYXRpdmVab29tIjogMTgsICJtYXhab29tIjogMTgsICJtaW5ab29tIjogMCwgIm5vV3JhcCI6IGZhbHNlLCAib3BhY2l0eSI6IDEsICJzdWJkb21haW5zIjogImFiYyIsICJ0bXMiOiBmYWxzZX0KICAgICAgICAgICAgKS5hZGRUbyhtYXBfZTI1OGNjZTQ0Yjg0NDc2NjkyM2EwOTg5OGJlMTRkMmEpOwogICAgICAgIAogICAgCiAgICAgICAgICAgIHZhciBjaXJjbGVfbWFya2VyXzUzODcwZmNjYWUxODQ4MjViOTU5NWUwOWU5ZGQ2N2U3ID0gTC5jaXJjbGVNYXJrZXIoCiAgICAgICAgICAgICAgICBbNDMuODA2Njg2Mjk5OTk5OTk2LCAtNzkuMTk0MzUzNDAwMDAwMDFdLAogICAgICAgICAgICAgICAgeyJidWJibGluZ01vdXNlRXZlbnRzIjogdHJ1ZSwgImNvbG9yIjogImJsdWUiLCAiZGFzaEFycmF5IjogbnVsbCwgImRhc2hPZmZzZXQiOiBudWxsLCAiZmlsbCI6IHRydWUsICJmaWxsQ29sb3IiOiAiIzMxODZjYyIsICJmaWxsT3BhY2l0eSI6IDAuNywgImZpbGxSdWxlIjogImV2ZW5vZGQiLCAibGluZUNhcCI6ICJyb3VuZCIsICJsaW5lSm9pbiI6ICJyb3VuZCIsICJvcGFjaXR5IjogMS4wLCAicmFkaXVzIjogNSwgInN0cm9rZSI6IHRydWUsICJ3ZWlnaHQiOiAzfQogICAgICAgICAgICApLmFkZFRvKG1hcF9lMjU4Y2NlNDRiODQ0NzY2OTIzYTA5ODk4YmUxNGQyYSk7CiAgICAgICAgCiAgICAKICAgICAgICB2YXIgcG9wdXBfZmQzYzdjOTYwNjcwNGI1Y2JmZTU5YmRiM2Y3MmU1ODIgPSBMLnBvcHVwKHsibWF4V2lkdGgiOiAiMTAwJSJ9KTsKCiAgICAgICAgCiAgICAgICAgICAgIHZhciBodG1sXzQ1NjI4MzY0OTBmZTQxZTE5YjBiZTFlYjk1MGE0NWRiID0gJChgPGRpdiBpZD0iaHRtbF80NTYyODM2NDkwZmU0MWUxOWIwYmUxZWI5NTBhNDVkYiIgc3R5bGU9IndpZHRoOiAxMDAuMCU7IGhlaWdodDogMTAwLjAlOyI+TTFCIC0gU2NhcmJvcm91Z2ggLSBSb3VnZSxNYWx2ZXJuPC9kaXY+YClbMF07CiAgICAgICAgICAgIHBvcHVwX2ZkM2M3Yzk2MDY3MDRiNWNiZmU1OWJkYjNmNzJlNTgyLnNldENvbnRlbnQoaHRtbF80NTYyODM2NDkwZmU0MWUxOWIwYmUxZWI5NTBhNDVkYik7CiAgICAgICAgCgogICAgICAgIGNpcmNsZV9tYXJrZXJfNTM4NzBmY2NhZTE4NDgyNWI5NTk1ZTA5ZTlkZDY3ZTcuYmluZFBvcHVwKHBvcHVwX2ZkM2M3Yzk2MDY3MDRiNWNiZmU1OWJkYjNmNzJlNTgyKQogICAgICAgIDsKCiAgICAgICAgCiAgICAKICAgIAogICAgICAgICAgICB2YXIgY2lyY2xlX21hcmtlcl8zY2MyMjQ1ZWRjMWQ0ZGI4YWUxMGFhYzU2MWQ2YTNiYiA9IEwuY2lyY2xlTWFya2VyKAogICAgICAgICAgICAgICAgWzQzLjc4NDUzNTEsIC03OS4xNjA0OTcwOTk5OTk5OV0sCiAgICAgICAgICAgICAgICB7ImJ1YmJsaW5nTW91c2VFdmVudHMiOiB0cnVlLCAiY29sb3IiOiAiYmx1ZSIsICJkYXNoQXJyYXkiOiBudWxsLCAiZGFzaE9mZnNldCI6IG51bGwsICJmaWxsIjogdHJ1ZSwgImZpbGxDb2xvciI6ICIjMzE4NmNjIiwgImZpbGxPcGFjaXR5IjogMC43LCAiZmlsbFJ1bGUiOiAiZXZlbm9kZCIsICJsaW5lQ2FwIjogInJvdW5kIiwgImxpbmVKb2luIjogInJvdW5kIiwgIm9wYWNpdHkiOiAxLjAsICJyYWRpdXMiOiA1LCAic3Ryb2tlIjogdHJ1ZSwgIndlaWdodCI6IDN9CiAgICAgICAgICAgICkuYWRkVG8obWFwX2UyNThjY2U0NGI4NDQ3NjY5MjNhMDk4OThiZTE0ZDJhKTsKICAgICAgICAKICAgIAogICAgICAgIHZhciBwb3B1cF85MzY3MThiYzVhNjE0ZmU0OGJiMWNjYzcwY2VhOTgyZCA9IEwucG9wdXAoeyJtYXhXaWR0aCI6ICIxMDAlIn0pOwoKICAgICAgICAKICAgICAgICAgICAgdmFyIGh0bWxfZmViZGQ3NTg0Y2QyNDcwMDgyYzNiM2VhMGMyYzAwZTIgPSAkKGA8ZGl2IGlkPSJodG1sX2ZlYmRkNzU4NGNkMjQ3MDA4MmMzYjNlYTBjMmMwMGUyIiBzdHlsZT0id2lkdGg6IDEwMC4wJTsgaGVpZ2h0OiAxMDAuMCU7Ij5NMUMgLSBTY2FyYm9yb3VnaCAtIEhpZ2hsYW5kIENyZWVrLFJvdWdlIEhpbGwsUG9ydCBVbmlvbjwvZGl2PmApWzBdOwogICAgICAgICAgICBwb3B1cF85MzY3MThiYzVhNjE0ZmU0OGJiMWNjYzcwY2VhOTgyZC5zZXRDb250ZW50KGh0bWxfZmViZGQ3NTg0Y2QyNDcwMDgyYzNiM2VhMGMyYzAwZTIpOwogICAgICAgIAoKICAgICAgICBjaXJjbGVfbWFya2VyXzNjYzIyNDVlZGMxZDRkYjhhZTEwYWFjNTYxZDZhM2JiLmJpbmRQb3B1cChwb3B1cF85MzY3MThiYzVhNjE0ZmU0OGJiMWNjYzcwY2VhOTgyZCkKICAgICAgICA7CgogICAgICAgIAogICAgCiAgICAKICAgICAgICAgICAgdmFyIGNpcmNsZV9tYXJrZXJfZjVjMDUxYzZhNGIwNDVhNGFlZjc0NzFjMWM4Y2RiOWUgPSBMLmNpcmNsZU1hcmtlcigKICAgICAgICAgICAgICAgIFs0My43NjM1NzI2LCAtNzkuMTg4NzExNV0sCiAgICAgICAgICAgICAgICB7ImJ1YmJsaW5nTW91c2VFdmVudHMiOiB0cnVlLCAiY29sb3IiOiAiYmx1ZSIsICJkYXNoQXJyYXkiOiBudWxsLCAiZGFzaE9mZnNldCI6IG51bGwsICJmaWxsIjogdHJ1ZSwgImZpbGxDb2xvciI6ICIjMzE4NmNjIiwgImZpbGxPcGFjaXR5IjogMC43LCAiZmlsbFJ1bGUiOiAiZXZlbm9kZCIsICJsaW5lQ2FwIjogInJvdW5kIiwgImxpbmVKb2luIjogInJvdW5kIiwgIm9wYWNpdHkiOiAxLjAsICJyYWRpdXMiOiA1LCAic3Ryb2tlIjogdHJ1ZSwgIndlaWdodCI6IDN9CiAgICAgICAgICAgICkuYWRkVG8obWFwX2UyNThjY2U0NGI4NDQ3NjY5MjNhMDk4OThiZTE0ZDJhKTsKICAgICAgICAKICAgIAogICAgICAgIHZhciBwb3B1cF9mYWZiZTgwZTI0MTg0Yjc5ODZlYmM5NDU5YjU3NTM4NyA9IEwucG9wdXAoeyJtYXhXaWR0aCI6ICIxMDAlIn0pOwoKICAgICAgICAKICAgICAgICAgICAgdmFyIGh0bWxfYzY5M2VhNmU4N2Q1NGFiNzhmMDFlZGY3NWI3NzY4MGUgPSAkKGA8ZGl2IGlkPSJodG1sX2M2OTNlYTZlODdkNTRhYjc4ZjAxZWRmNzViNzc2ODBlIiBzdHlsZT0id2lkdGg6IDEwMC4wJTsgaGVpZ2h0OiAxMDAuMCU7Ij5NMUUgLSBTY2FyYm9yb3VnaCAtIEd1aWxkd29vZCxNb3JuaW5nc2lkZSxXZXN0IEhpbGw8L2Rpdj5gKVswXTsKICAgICAgICAgICAgcG9wdXBfZmFmYmU4MGUyNDE4NGI3OTg2ZWJjOTQ1OWI1NzUzODcuc2V0Q29udGVudChodG1sX2M2OTNlYTZlODdkNTRhYjc4ZjAxZWRmNzViNzc2ODBlKTsKICAgICAgICAKCiAgICAgICAgY2lyY2xlX21hcmtlcl9mNWMwNTFjNmE0YjA0NWE0YWVmNzQ3MWMxYzhjZGI5ZS5iaW5kUG9wdXAocG9wdXBfZmFmYmU4MGUyNDE4NGI3OTg2ZWJjOTQ1OWI1NzUzODcpCiAgICAgICAgOwoKICAgICAgICAKICAgIAogICAgCiAgICAgICAgICAgIHZhciBjaXJjbGVfbWFya2VyXzU2ZGFlNzA3YmNmZjQyYzliM2M0YzMzYzBjMzFkZDVjID0gTC5jaXJjbGVNYXJrZXIoCiAgICAgICAgICAgICAgICBbNDMuNzcwOTkyMSwgLTc5LjIxNjkxNzQwMDAwMDAxXSwKICAgICAgICAgICAgICAgIHsiYnViYmxpbmdNb3VzZUV2ZW50cyI6IHRydWUsICJjb2xvciI6ICJibHVlIiwgImRhc2hBcnJheSI6IG51bGwsICJkYXNoT2Zmc2V0IjogbnVsbCwgImZpbGwiOiB0cnVlLCAiZmlsbENvbG9yIjogIiMzMTg2Y2MiLCAiZmlsbE9wYWNpdHkiOiAwLjcsICJmaWxsUnVsZSI6ICJldmVub2RkIiwgImxpbmVDYXAiOiAicm91bmQiLCAibGluZUpvaW4iOiAicm91bmQiLCAib3BhY2l0eSI6IDEuMCwgInJhZGl1cyI6IDUsICJzdHJva2UiOiB0cnVlLCAid2VpZ2h0IjogM30KICAgICAgICAgICAgKS5hZGRUbyhtYXBfZTI1OGNjZTQ0Yjg0NDc2NjkyM2EwOTg5OGJlMTRkMmEpOwogICAgICAgIAogICAgCiAgICAgICAgdmFyIHBvcHVwX2EzNDAwOTQyMWQ1MjRkNjZiNTk2YTUzNGU5OTcxOWIyID0gTC5wb3B1cCh7Im1heFdpZHRoIjogIjEwMCUifSk7CgogICAgICAgIAogICAgICAgICAgICB2YXIgaHRtbF9hMzIzNjc3MWZiMDM0Y2Q4OTFhMjM3NDkzNjExY2Q2YSA9ICQoYDxkaXYgaWQ9Imh0bWxfYTMyMzY3NzFmYjAzNGNkODkxYTIzNzQ5MzYxMWNkNmEiIHN0eWxlPSJ3aWR0aDogMTAwLjAlOyBoZWlnaHQ6IDEwMC4wJTsiPk0xRyAtIFNjYXJib3JvdWdoIC0gV29idXJuPC9kaXY+YClbMF07CiAgICAgICAgICAgIHBvcHVwX2EzNDAwOTQyMWQ1MjRkNjZiNTk2YTUzNGU5OTcxOWIyLnNldENvbnRlbnQoaHRtbF9hMzIzNjc3MWZiMDM0Y2Q4OTFhMjM3NDkzNjExY2Q2YSk7CiAgICAgICAgCgogICAgICAgIGNpcmNsZV9tYXJrZXJfNTZkYWU3MDdiY2ZmNDJjOWIzYzRjMzNjMGMzMWRkNWMuYmluZFBvcHVwKHBvcHVwX2EzNDAwOTQyMWQ1MjRkNjZiNTk2YTUzNGU5OTcxOWIyKQogICAgICAgIDsKCiAgICAgICAgCiAgICAKICAgIAogICAgICAgICAgICB2YXIgY2lyY2xlX21hcmtlcl85OTAyNDQ1MTI4MWQ0MTYwYjZmZWQ5ZWZlM2IyMjdkYSA9IEwuY2lyY2xlTWFya2VyKAogICAgICAgICAgICAgICAgWzQzLjc3MzEzNiwgLTc5LjIzOTQ3NjA5OTk5OTk5XSwKICAgICAgICAgICAgICAgIHsiYnViYmxpbmdNb3VzZUV2ZW50cyI6IHRydWUsICJjb2xvciI6ICJibHVlIiwgImRhc2hBcnJheSI6IG51bGwsICJkYXNoT2Zmc2V0IjogbnVsbCwgImZpbGwiOiB0cnVlLCAiZmlsbENvbG9yIjogIiMzMTg2Y2MiLCAiZmlsbE9wYWNpdHkiOiAwLjcsICJmaWxsUnVsZSI6ICJldmVub2RkIiwgImxpbmVDYXAiOiAicm91bmQiLCAibGluZUpvaW4iOiAicm91bmQiLCAib3BhY2l0eSI6IDEuMCwgInJhZGl1cyI6IDUsICJzdHJva2UiOiB0cnVlLCAid2VpZ2h0IjogM30KICAgICAgICAgICAgKS5hZGRUbyhtYXBfZTI1OGNjZTQ0Yjg0NDc2NjkyM2EwOTg5OGJlMTRkMmEpOwogICAgICAgIAogICAgCiAgICAgICAgdmFyIHBvcHVwXzQ1OTIzNTZmY2FjNTRkYmQ4YWM2ZTUzZmM4MzY4ZTk4ID0gTC5wb3B1cCh7Im1heFdpZHRoIjogIjEwMCUifSk7CgogICAgICAgIAogICAgICAgICAgICB2YXIgaHRtbF8zYmI0MDhmZjhkZjc0ZDVjYjc3NjM4ZDNjMGMxZmQ1YSA9ICQoYDxkaXYgaWQ9Imh0bWxfM2JiNDA4ZmY4ZGY3NGQ1Y2I3NzYzOGQzYzBjMWZkNWEiIHN0eWxlPSJ3aWR0aDogMTAwLjAlOyBoZWlnaHQ6IDEwMC4wJTsiPk0xSCAtIFNjYXJib3JvdWdoIC0gQ2VkYXJicmFlPC9kaXY+YClbMF07CiAgICAgICAgICAgIHBvcHVwXzQ1OTIzNTZmY2FjNTRkYmQ4YWM2ZTUzZmM4MzY4ZTk4LnNldENvbnRlbnQoaHRtbF8zYmI0MDhmZjhkZjc0ZDVjYjc3NjM4ZDNjMGMxZmQ1YSk7CiAgICAgICAgCgogICAgICAgIGNpcmNsZV9tYXJrZXJfOTkwMjQ0NTEyODFkNDE2MGI2ZmVkOWVmZTNiMjI3ZGEuYmluZFBvcHVwKHBvcHVwXzQ1OTIzNTZmY2FjNTRkYmQ4YWM2ZTUzZmM4MzY4ZTk4KQogICAgICAgIDsKCiAgICAgICAgCiAgICAKICAgIAogICAgICAgICAgICB2YXIgY2lyY2xlX21hcmtlcl8xODk3ZDM5NGEzZTk0YzBiYWYyYzU4M2VkYjQ3ZDRkMCA9IEwuY2lyY2xlTWFya2VyKAogICAgICAgICAgICAgICAgWzQzLjc0NDczNDIsIC03OS4yMzk0NzYwOTk5OTk5OV0sCiAgICAgICAgICAgICAgICB7ImJ1YmJsaW5nTW91c2VFdmVudHMiOiB0cnVlLCAiY29sb3IiOiAiYmx1ZSIsICJkYXNoQXJyYXkiOiBudWxsLCAiZGFzaE9mZnNldCI6IG51bGwsICJmaWxsIjogdHJ1ZSwgImZpbGxDb2xvciI6ICIjMzE4NmNjIiwgImZpbGxPcGFjaXR5IjogMC43LCAiZmlsbFJ1bGUiOiAiZXZlbm9kZCIsICJsaW5lQ2FwIjogInJvdW5kIiwgImxpbmVKb2luIjogInJvdW5kIiwgIm9wYWNpdHkiOiAxLjAsICJyYWRpdXMiOiA1LCAic3Ryb2tlIjogdHJ1ZSwgIndlaWdodCI6IDN9CiAgICAgICAgICAgICkuYWRkVG8obWFwX2UyNThjY2U0NGI4NDQ3NjY5MjNhMDk4OThiZTE0ZDJhKTsKICAgICAgICAKICAgIAogICAgICAgIHZhciBwb3B1cF83NGUzYzc2OGQ0MDk0ZTViYmRkOWZkYzI4NDk1YmYwYiA9IEwucG9wdXAoeyJtYXhXaWR0aCI6ICIxMDAlIn0pOwoKICAgICAgICAKICAgICAgICAgICAgdmFyIGh0bWxfMDQ4NjhkNzVlOGMyNDJlZTgyMzk4OWZjN2M4NmFhZmEgPSAkKGA8ZGl2IGlkPSJodG1sXzA0ODY4ZDc1ZThjMjQyZWU4MjM5ODlmYzdjODZhYWZhIiBzdHlsZT0id2lkdGg6IDEwMC4wJTsgaGVpZ2h0OiAxMDAuMCU7Ij5NMUogLSBTY2FyYm9yb3VnaCAtIFNjYXJib3JvdWdoIFZpbGxhZ2U8L2Rpdj5gKVswXTsKICAgICAgICAgICAgcG9wdXBfNzRlM2M3NjhkNDA5NGU1YmJkZDlmZGMyODQ5NWJmMGIuc2V0Q29udGVudChodG1sXzA0ODY4ZDc1ZThjMjQyZWU4MjM5ODlmYzdjODZhYWZhKTsKICAgICAgICAKCiAgICAgICAgY2lyY2xlX21hcmtlcl8xODk3ZDM5NGEzZTk0YzBiYWYyYzU4M2VkYjQ3ZDRkMC5iaW5kUG9wdXAocG9wdXBfNzRlM2M3NjhkNDA5NGU1YmJkZDlmZGMyODQ5NWJmMGIpCiAgICAgICAgOwoKICAgICAgICAKICAgIAogICAgCiAgICAgICAgICAgIHZhciBjaXJjbGVfbWFya2VyX2E4YjdiNDFkYTJjNTQzMjliN2Y5NGEyMzdhNzE5NTQ0ID0gTC5jaXJjbGVNYXJrZXIoCiAgICAgICAgICAgICAgICBbNDMuNzI3OTI5MiwgLTc5LjI2MjAyOTQwMDAwMDAyXSwKICAgICAgICAgICAgICAgIHsiYnViYmxpbmdNb3VzZUV2ZW50cyI6IHRydWUsICJjb2xvciI6ICJibHVlIiwgImRhc2hBcnJheSI6IG51bGwsICJkYXNoT2Zmc2V0IjogbnVsbCwgImZpbGwiOiB0cnVlLCAiZmlsbENvbG9yIjogIiMzMTg2Y2MiLCAiZmlsbE9wYWNpdHkiOiAwLjcsICJmaWxsUnVsZSI6ICJldmVub2RkIiwgImxpbmVDYXAiOiAicm91bmQiLCAibGluZUpvaW4iOiAicm91bmQiLCAib3BhY2l0eSI6IDEuMCwgInJhZGl1cyI6IDUsICJzdHJva2UiOiB0cnVlLCAid2VpZ2h0IjogM30KICAgICAgICAgICAgKS5hZGRUbyhtYXBfZTI1OGNjZTQ0Yjg0NDc2NjkyM2EwOTg5OGJlMTRkMmEpOwogICAgICAgIAogICAgCiAgICAgICAgdmFyIHBvcHVwX2NhZTdiNGMzZGM2NTQzZDRiYzQ2NDQ3OGNjMTc0YjM2ID0gTC5wb3B1cCh7Im1heFdpZHRoIjogIjEwMCUifSk7CgogICAgICAgIAogICAgICAgICAgICB2YXIgaHRtbF82NGU1ZDNkNmQ4Mzg0MjZjYjg3OTAzNDIyN2E3N2Y1MyA9ICQoYDxkaXYgaWQ9Imh0bWxfNjRlNWQzZDZkODM4NDI2Y2I4NzkwMzQyMjdhNzdmNTMiIHN0eWxlPSJ3aWR0aDogMTAwLjAlOyBoZWlnaHQ6IDEwMC4wJTsiPk0xSyAtIFNjYXJib3JvdWdoIC0gRWFzdCBCaXJjaG1vdW50IFBhcmssSW9udmlldyxLZW5uZWR5IFBhcms8L2Rpdj5gKVswXTsKICAgICAgICAgICAgcG9wdXBfY2FlN2I0YzNkYzY1NDNkNGJjNDY0NDc4Y2MxNzRiMzYuc2V0Q29udGVudChodG1sXzY0ZTVkM2Q2ZDgzODQyNmNiODc5MDM0MjI3YTc3ZjUzKTsKICAgICAgICAKCiAgICAgICAgY2lyY2xlX21hcmtlcl9hOGI3YjQxZGEyYzU0MzI5YjdmOTRhMjM3YTcxOTU0NC5iaW5kUG9wdXAocG9wdXBfY2FlN2I0YzNkYzY1NDNkNGJjNDY0NDc4Y2MxNzRiMzYpCiAgICAgICAgOwoKICAgICAgICAKICAgIAogICAgCiAgICAgICAgICAgIHZhciBjaXJjbGVfbWFya2VyXzEzYjVlNjRjYmFmMTQ2MDhiNGY4YjJhZTM3YWIxZDAxID0gTC5jaXJjbGVNYXJrZXIoCiAgICAgICAgICAgICAgICBbNDMuNzExMTExNzAwMDAwMDA0LCAtNzkuMjg0NTc3Ml0sCiAgICAgICAgICAgICAgICB7ImJ1YmJsaW5nTW91c2VFdmVudHMiOiB0cnVlLCAiY29sb3IiOiAiYmx1ZSIsICJkYXNoQXJyYXkiOiBudWxsLCAiZGFzaE9mZnNldCI6IG51bGwsICJmaWxsIjogdHJ1ZSwgImZpbGxDb2xvciI6ICIjMzE4NmNjIiwgImZpbGxPcGFjaXR5IjogMC43LCAiZmlsbFJ1bGUiOiAiZXZlbm9kZCIsICJsaW5lQ2FwIjogInJvdW5kIiwgImxpbmVKb2luIjogInJvdW5kIiwgIm9wYWNpdHkiOiAxLjAsICJyYWRpdXMiOiA1LCAic3Ryb2tlIjogdHJ1ZSwgIndlaWdodCI6IDN9CiAgICAgICAgICAgICkuYWRkVG8obWFwX2UyNThjY2U0NGI4NDQ3NjY5MjNhMDk4OThiZTE0ZDJhKTsKICAgICAgICAKICAgIAogICAgICAgIHZhciBwb3B1cF83Mjg2ZTM0YzkzZjI0MzljYjYyY2IzNDVlY2U5NTY3NSA9IEwucG9wdXAoeyJtYXhXaWR0aCI6ICIxMDAlIn0pOwoKICAgICAgICAKICAgICAgICAgICAgdmFyIGh0bWxfZGMxYzA3OTAzMmQ1NDNiMmIxNDBjYWZiYzRhMDU0Y2IgPSAkKGA8ZGl2IGlkPSJodG1sX2RjMWMwNzkwMzJkNTQzYjJiMTQwY2FmYmM0YTA1NGNiIiBzdHlsZT0id2lkdGg6IDEwMC4wJTsgaGVpZ2h0OiAxMDAuMCU7Ij5NMUwgLSBTY2FyYm9yb3VnaCAtIENsYWlybGVhLEdvbGRlbiBNaWxlLE9ha3JpZGdlPC9kaXY+YClbMF07CiAgICAgICAgICAgIHBvcHVwXzcyODZlMzRjOTNmMjQzOWNiNjJjYjM0NWVjZTk1Njc1LnNldENvbnRlbnQoaHRtbF9kYzFjMDc5MDMyZDU0M2IyYjE0MGNhZmJjNGEwNTRjYik7CiAgICAgICAgCgogICAgICAgIGNpcmNsZV9tYXJrZXJfMTNiNWU2NGNiYWYxNDYwOGI0ZjhiMmFlMzdhYjFkMDEuYmluZFBvcHVwKHBvcHVwXzcyODZlMzRjOTNmMjQzOWNiNjJjYjM0NWVjZTk1Njc1KQogICAgICAgIDsKCiAgICAgICAgCiAgICAKICAgIAogICAgICAgICAgICB2YXIgY2lyY2xlX21hcmtlcl8yZjNlNjM2MzI1N2M0NjhkOTMwMmIzOTBhZDkyOGViOCA9IEwuY2lyY2xlTWFya2VyKAogICAgICAgICAgICAgICAgWzQzLjcxNjMxNiwgLTc5LjIzOTQ3NjA5OTk5OTk5XSwKICAgICAgICAgICAgICAgIHsiYnViYmxpbmdNb3VzZUV2ZW50cyI6IHRydWUsICJjb2xvciI6ICJibHVlIiwgImRhc2hBcnJheSI6IG51bGwsICJkYXNoT2Zmc2V0IjogbnVsbCwgImZpbGwiOiB0cnVlLCAiZmlsbENvbG9yIjogIiMzMTg2Y2MiLCAiZmlsbE9wYWNpdHkiOiAwLjcsICJmaWxsUnVsZSI6ICJldmVub2RkIiwgImxpbmVDYXAiOiAicm91bmQiLCAibGluZUpvaW4iOiAicm91bmQiLCAib3BhY2l0eSI6IDEuMCwgInJhZGl1cyI6IDUsICJzdHJva2UiOiB0cnVlLCAid2VpZ2h0IjogM30KICAgICAgICAgICAgKS5hZGRUbyhtYXBfZTI1OGNjZTQ0Yjg0NDc2NjkyM2EwOTg5OGJlMTRkMmEpOwogICAgICAgIAogICAgCiAgICAgICAgdmFyIHBvcHVwXzQ4Y2MzMGFkMTNhYTRiYzg4MWI0NTNkZGE4YmVmMjE3ID0gTC5wb3B1cCh7Im1heFdpZHRoIjogIjEwMCUifSk7CgogICAgICAgIAogICAgICAgICAgICB2YXIgaHRtbF9iZjA5MTNiMDE5MjU0NGRlYTUzY2Y2ZWZiNTA0ZjRiYiA9ICQoYDxkaXYgaWQ9Imh0bWxfYmYwOTEzYjAxOTI1NDRkZWE1M2NmNmVmYjUwNGY0YmIiIHN0eWxlPSJ3aWR0aDogMTAwLjAlOyBoZWlnaHQ6IDEwMC4wJTsiPk0xTSAtIFNjYXJib3JvdWdoIC0gQ2xpZmZjcmVzdCxDbGlmZnNpZGUsU2NhcmJvcm91Z2ggVmlsbGFnZSBXZXN0PC9kaXY+YClbMF07CiAgICAgICAgICAgIHBvcHVwXzQ4Y2MzMGFkMTNhYTRiYzg4MWI0NTNkZGE4YmVmMjE3LnNldENvbnRlbnQoaHRtbF9iZjA5MTNiMDE5MjU0NGRlYTUzY2Y2ZWZiNTA0ZjRiYik7CiAgICAgICAgCgogICAgICAgIGNpcmNsZV9tYXJrZXJfMmYzZTYzNjMyNTdjNDY4ZDkzMDJiMzkwYWQ5MjhlYjguYmluZFBvcHVwKHBvcHVwXzQ4Y2MzMGFkMTNhYTRiYzg4MWI0NTNkZGE4YmVmMjE3KQogICAgICAgIDsKCiAgICAgICAgCiAgICAKICAgIAogICAgICAgICAgICB2YXIgY2lyY2xlX21hcmtlcl81OTM2ZWEwNGFmNGI0YmI5YmNlNGMzMjI3MzI5ODhhYiA9IEwuY2lyY2xlTWFya2VyKAogICAgICAgICAgICAgICAgWzQzLjY5MjY1NzAwMDAwMDAwNCwgLTc5LjI2NDg0ODFdLAogICAgICAgICAgICAgICAgeyJidWJibGluZ01vdXNlRXZlbnRzIjogdHJ1ZSwgImNvbG9yIjogImJsdWUiLCAiZGFzaEFycmF5IjogbnVsbCwgImRhc2hPZmZzZXQiOiBudWxsLCAiZmlsbCI6IHRydWUsICJmaWxsQ29sb3IiOiAiIzMxODZjYyIsICJmaWxsT3BhY2l0eSI6IDAuNywgImZpbGxSdWxlIjogImV2ZW5vZGQiLCAibGluZUNhcCI6ICJyb3VuZCIsICJsaW5lSm9pbiI6ICJyb3VuZCIsICJvcGFjaXR5IjogMS4wLCAicmFkaXVzIjogNSwgInN0cm9rZSI6IHRydWUsICJ3ZWlnaHQiOiAzfQogICAgICAgICAgICApLmFkZFRvKG1hcF9lMjU4Y2NlNDRiODQ0NzY2OTIzYTA5ODk4YmUxNGQyYSk7CiAgICAgICAgCiAgICAKICAgICAgICB2YXIgcG9wdXBfYzAzYjQ1Nzk3OTdiNGNhYWEyY2Q0NWQzNjY0OTVlODcgPSBMLnBvcHVwKHsibWF4V2lkdGgiOiAiMTAwJSJ9KTsKCiAgICAgICAgCiAgICAgICAgICAgIHZhciBodG1sX2I2Mjk3NDQzMmI3NTQ1NGJhOWUxZTUwODlkNzE5YTVlID0gJChgPGRpdiBpZD0iaHRtbF9iNjI5NzQ0MzJiNzU0NTRiYTllMWU1MDg5ZDcxOWE1ZSIgc3R5bGU9IndpZHRoOiAxMDAuMCU7IGhlaWdodDogMTAwLjAlOyI+TTFOIC0gU2NhcmJvcm91Z2ggLSBCaXJjaCBDbGlmZixDbGlmZnNpZGUgV2VzdDwvZGl2PmApWzBdOwogICAgICAgICAgICBwb3B1cF9jMDNiNDU3OTc5N2I0Y2FhYTJjZDQ1ZDM2NjQ5NWU4Ny5zZXRDb250ZW50KGh0bWxfYjYyOTc0NDMyYjc1NDU0YmE5ZTFlNTA4OWQ3MTlhNWUpOwogICAgICAgIAoKICAgICAgICBjaXJjbGVfbWFya2VyXzU5MzZlYTA0YWY0YjRiYjliY2U0YzMyMjczMjk4OGFiLmJpbmRQb3B1cChwb3B1cF9jMDNiNDU3OTc5N2I0Y2FhYTJjZDQ1ZDM2NjQ5NWU4NykKICAgICAgICA7CgogICAgICAgIAogICAgCiAgICAKICAgICAgICAgICAgdmFyIGNpcmNsZV9tYXJrZXJfYTFlMDk1ZjQxZjIzNGIxNThiYzRhZTQyNTMzYjUzNTMgPSBMLmNpcmNsZU1hcmtlcigKICAgICAgICAgICAgICAgIFs0My43NTc0MDk2LCAtNzkuMjczMzA0MDAwMDAwMDFdLAogICAgICAgICAgICAgICAgeyJidWJibGluZ01vdXNlRXZlbnRzIjogdHJ1ZSwgImNvbG9yIjogImJsdWUiLCAiZGFzaEFycmF5IjogbnVsbCwgImRhc2hPZmZzZXQiOiBudWxsLCAiZmlsbCI6IHRydWUsICJmaWxsQ29sb3IiOiAiIzMxODZjYyIsICJmaWxsT3BhY2l0eSI6IDAuNywgImZpbGxSdWxlIjogImV2ZW5vZGQiLCAibGluZUNhcCI6ICJyb3VuZCIsICJsaW5lSm9pbiI6ICJyb3VuZCIsICJvcGFjaXR5IjogMS4wLCAicmFkaXVzIjogNSwgInN0cm9rZSI6IHRydWUsICJ3ZWlnaHQiOiAzfQogICAgICAgICAgICApLmFkZFRvKG1hcF9lMjU4Y2NlNDRiODQ0NzY2OTIzYTA5ODk4YmUxNGQyYSk7CiAgICAgICAgCiAgICAKICAgICAgICB2YXIgcG9wdXBfNDdhYjgxYjBmMjhiNGJjMzhkZTcwZjAxMWU5Zjg2YTQgPSBMLnBvcHVwKHsibWF4V2lkdGgiOiAiMTAwJSJ9KTsKCiAgICAgICAgCiAgICAgICAgICAgIHZhciBodG1sXzFjYjRkZjIwMzc3ZTQyNjc4NzZhZjIxYWEwNWUxOTdiID0gJChgPGRpdiBpZD0iaHRtbF8xY2I0ZGYyMDM3N2U0MjY3ODc2YWYyMWFhMDVlMTk3YiIgc3R5bGU9IndpZHRoOiAxMDAuMCU7IGhlaWdodDogMTAwLjAlOyI+TTFQIC0gU2NhcmJvcm91Z2ggLSBEb3JzZXQgUGFyayxTY2FyYm9yb3VnaCBUb3duIENlbnRyZSxXZXhmb3JkIEhlaWdodHM8L2Rpdj5gKVswXTsKICAgICAgICAgICAgcG9wdXBfNDdhYjgxYjBmMjhiNGJjMzhkZTcwZjAxMWU5Zjg2YTQuc2V0Q29udGVudChodG1sXzFjYjRkZjIwMzc3ZTQyNjc4NzZhZjIxYWEwNWUxOTdiKTsKICAgICAgICAKCiAgICAgICAgY2lyY2xlX21hcmtlcl9hMWUwOTVmNDFmMjM0YjE1OGJjNGFlNDI1MzNiNTM1My5iaW5kUG9wdXAocG9wdXBfNDdhYjgxYjBmMjhiNGJjMzhkZTcwZjAxMWU5Zjg2YTQpCiAgICAgICAgOwoKICAgICAgICAKICAgIAogICAgCiAgICAgICAgICAgIHZhciBjaXJjbGVfbWFya2VyXzgyMzFiYjU1OTQzMjQ0NThhMDQzMGNlMThkZWEwOGU2ID0gTC5jaXJjbGVNYXJrZXIoCiAgICAgICAgICAgICAgICBbNDMuNzUwMDcxNTAwMDAwMDA0LCAtNzkuMjk1ODQ5MV0sCiAgICAgICAgICAgICAgICB7ImJ1YmJsaW5nTW91c2VFdmVudHMiOiB0cnVlLCAiY29sb3IiOiAiYmx1ZSIsICJkYXNoQXJyYXkiOiBudWxsLCAiZGFzaE9mZnNldCI6IG51bGwsICJmaWxsIjogdHJ1ZSwgImZpbGxDb2xvciI6ICIjMzE4NmNjIiwgImZpbGxPcGFjaXR5IjogMC43LCAiZmlsbFJ1bGUiOiAiZXZlbm9kZCIsICJsaW5lQ2FwIjogInJvdW5kIiwgImxpbmVKb2luIjogInJvdW5kIiwgIm9wYWNpdHkiOiAxLjAsICJyYWRpdXMiOiA1LCAic3Ryb2tlIjogdHJ1ZSwgIndlaWdodCI6IDN9CiAgICAgICAgICAgICkuYWRkVG8obWFwX2UyNThjY2U0NGI4NDQ3NjY5MjNhMDk4OThiZTE0ZDJhKTsKICAgICAgICAKICAgIAogICAgICAgIHZhciBwb3B1cF81ODJhOWQ5YTk1ZDQ0YTFlODBlNzhhYTRjNDI3M2FlNiA9IEwucG9wdXAoeyJtYXhXaWR0aCI6ICIxMDAlIn0pOwoKICAgICAgICAKICAgICAgICAgICAgdmFyIGh0bWxfOWVmZmE1ZTc3OTI3NDlmOWFlMTA4NmM5NDY0MTViZTQgPSAkKGA8ZGl2IGlkPSJodG1sXzllZmZhNWU3NzkyNzQ5ZjlhZTEwODZjOTQ2NDE1YmU0IiBzdHlsZT0id2lkdGg6IDEwMC4wJTsgaGVpZ2h0OiAxMDAuMCU7Ij5NMVIgLSBTY2FyYm9yb3VnaCAtIE1hcnl2YWxlLFdleGZvcmQ8L2Rpdj5gKVswXTsKICAgICAgICAgICAgcG9wdXBfNTgyYTlkOWE5NWQ0NGExZTgwZTc4YWE0YzQyNzNhZTYuc2V0Q29udGVudChodG1sXzllZmZhNWU3NzkyNzQ5ZjlhZTEwODZjOTQ2NDE1YmU0KTsKICAgICAgICAKCiAgICAgICAgY2lyY2xlX21hcmtlcl84MjMxYmI1NTk0MzI0NDU4YTA0MzBjZTE4ZGVhMDhlNi5iaW5kUG9wdXAocG9wdXBfNTgyYTlkOWE5NWQ0NGExZTgwZTc4YWE0YzQyNzNhZTYpCiAgICAgICAgOwoKICAgICAgICAKICAgIAogICAgCiAgICAgICAgICAgIHZhciBjaXJjbGVfbWFya2VyXzA1MWE0ZGRmZWQwODRlOGZhZmQyOWRlNWZhZDQ4YzUzID0gTC5jaXJjbGVNYXJrZXIoCiAgICAgICAgICAgICAgICBbNDMuNzk0MjAwMywgLTc5LjI2MjAyOTQwMDAwMDAyXSwKICAgICAgICAgICAgICAgIHsiYnViYmxpbmdNb3VzZUV2ZW50cyI6IHRydWUsICJjb2xvciI6ICJibHVlIiwgImRhc2hBcnJheSI6IG51bGwsICJkYXNoT2Zmc2V0IjogbnVsbCwgImZpbGwiOiB0cnVlLCAiZmlsbENvbG9yIjogIiMzMTg2Y2MiLCAiZmlsbE9wYWNpdHkiOiAwLjcsICJmaWxsUnVsZSI6ICJldmVub2RkIiwgImxpbmVDYXAiOiAicm91bmQiLCAibGluZUpvaW4iOiAicm91bmQiLCAib3BhY2l0eSI6IDEuMCwgInJhZGl1cyI6IDUsICJzdHJva2UiOiB0cnVlLCAid2VpZ2h0IjogM30KICAgICAgICAgICAgKS5hZGRUbyhtYXBfZTI1OGNjZTQ0Yjg0NDc2NjkyM2EwOTg5OGJlMTRkMmEpOwogICAgICAgIAogICAgCiAgICAgICAgdmFyIHBvcHVwXzQ0MzQ1ZjQ3OTkyOTRhNWE5NjkwM2FhYzJjN2YyZDFhID0gTC5wb3B1cCh7Im1heFdpZHRoIjogIjEwMCUifSk7CgogICAgICAgIAogICAgICAgICAgICB2YXIgaHRtbF9kMmUxYWNkYjRmODk0NTljODQxZWJjOTlhNDRjNDc3OCA9ICQoYDxkaXYgaWQ9Imh0bWxfZDJlMWFjZGI0Zjg5NDU5Yzg0MWViYzk5YTQ0YzQ3NzgiIHN0eWxlPSJ3aWR0aDogMTAwLjAlOyBoZWlnaHQ6IDEwMC4wJTsiPk0xUyAtIFNjYXJib3JvdWdoIC0gQWdpbmNvdXJ0PC9kaXY+YClbMF07CiAgICAgICAgICAgIHBvcHVwXzQ0MzQ1ZjQ3OTkyOTRhNWE5NjkwM2FhYzJjN2YyZDFhLnNldENvbnRlbnQoaHRtbF9kMmUxYWNkYjRmODk0NTljODQxZWJjOTlhNDRjNDc3OCk7CiAgICAgICAgCgogICAgICAgIGNpcmNsZV9tYXJrZXJfMDUxYTRkZGZlZDA4NGU4ZmFmZDI5ZGU1ZmFkNDhjNTMuYmluZFBvcHVwKHBvcHVwXzQ0MzQ1ZjQ3OTkyOTRhNWE5NjkwM2FhYzJjN2YyZDFhKQogICAgICAgIDsKCiAgICAgICAgCiAgICAKICAgIAogICAgICAgICAgICB2YXIgY2lyY2xlX21hcmtlcl82MzNhYTkxMTU3OTY0ZTRiYTM1NmIwMDFiNWNiZTdmYiA9IEwuY2lyY2xlTWFya2VyKAogICAgICAgICAgICAgICAgWzQzLjc4MTYzNzUsIC03OS4zMDQzMDIxXSwKICAgICAgICAgICAgICAgIHsiYnViYmxpbmdNb3VzZUV2ZW50cyI6IHRydWUsICJjb2xvciI6ICJibHVlIiwgImRhc2hBcnJheSI6IG51bGwsICJkYXNoT2Zmc2V0IjogbnVsbCwgImZpbGwiOiB0cnVlLCAiZmlsbENvbG9yIjogIiMzMTg2Y2MiLCAiZmlsbE9wYWNpdHkiOiAwLjcsICJmaWxsUnVsZSI6ICJldmVub2RkIiwgImxpbmVDYXAiOiAicm91bmQiLCAibGluZUpvaW4iOiAicm91bmQiLCAib3BhY2l0eSI6IDEuMCwgInJhZGl1cyI6IDUsICJzdHJva2UiOiB0cnVlLCAid2VpZ2h0IjogM30KICAgICAgICAgICAgKS5hZGRUbyhtYXBfZTI1OGNjZTQ0Yjg0NDc2NjkyM2EwOTg5OGJlMTRkMmEpOwogICAgICAgIAogICAgCiAgICAgICAgdmFyIHBvcHVwXzYyOTg1MmRmMTgxZjQ1ODliYzAwYjViNWNlM2M3OTU0ID0gTC5wb3B1cCh7Im1heFdpZHRoIjogIjEwMCUifSk7CgogICAgICAgIAogICAgICAgICAgICB2YXIgaHRtbF9jOTEwN2QyMjkzYTQ0OTcwYWVkZjBlMjMyNjY3MGUyMSA9ICQoYDxkaXYgaWQ9Imh0bWxfYzkxMDdkMjI5M2E0NDk3MGFlZGYwZTIzMjY2NzBlMjEiIHN0eWxlPSJ3aWR0aDogMTAwLjAlOyBoZWlnaHQ6IDEwMC4wJTsiPk0xVCAtIFNjYXJib3JvdWdoIC0gQ2xhcmtzIENvcm5lcnMsU3VsbGl2YW4sVGFtIE8mIzM5O1NoYW50ZXI8L2Rpdj5gKVswXTsKICAgICAgICAgICAgcG9wdXBfNjI5ODUyZGYxODFmNDU4OWJjMDBiNWI1Y2UzYzc5NTQuc2V0Q29udGVudChodG1sX2M5MTA3ZDIyOTNhNDQ5NzBhZWRmMGUyMzI2NjcwZTIxKTsKICAgICAgICAKCiAgICAgICAgY2lyY2xlX21hcmtlcl82MzNhYTkxMTU3OTY0ZTRiYTM1NmIwMDFiNWNiZTdmYi5iaW5kUG9wdXAocG9wdXBfNjI5ODUyZGYxODFmNDU4OWJjMDBiNWI1Y2UzYzc5NTQpCiAgICAgICAgOwoKICAgICAgICAKICAgIAogICAgCiAgICAgICAgICAgIHZhciBjaXJjbGVfbWFya2VyXzE3Y2YxZDhhYmJmZjQyY2ZiZTRjYjQwOWEzMTBmNDI2ID0gTC5jaXJjbGVNYXJrZXIoCiAgICAgICAgICAgICAgICBbNDMuODE1MjUyMiwgLTc5LjI4NDU3NzJdLAogICAgICAgICAgICAgICAgeyJidWJibGluZ01vdXNlRXZlbnRzIjogdHJ1ZSwgImNvbG9yIjogImJsdWUiLCAiZGFzaEFycmF5IjogbnVsbCwgImRhc2hPZmZzZXQiOiBudWxsLCAiZmlsbCI6IHRydWUsICJmaWxsQ29sb3IiOiAiIzMxODZjYyIsICJmaWxsT3BhY2l0eSI6IDAuNywgImZpbGxSdWxlIjogImV2ZW5vZGQiLCAibGluZUNhcCI6ICJyb3VuZCIsICJsaW5lSm9pbiI6ICJyb3VuZCIsICJvcGFjaXR5IjogMS4wLCAicmFkaXVzIjogNSwgInN0cm9rZSI6IHRydWUsICJ3ZWlnaHQiOiAzfQogICAgICAgICAgICApLmFkZFRvKG1hcF9lMjU4Y2NlNDRiODQ0NzY2OTIzYTA5ODk4YmUxNGQyYSk7CiAgICAgICAgCiAgICAKICAgICAgICB2YXIgcG9wdXBfNTFlYjI0MzQ0ODg4NDU0NThkYmU4MjMwYWI5NTcyOGYgPSBMLnBvcHVwKHsibWF4V2lkdGgiOiAiMTAwJSJ9KTsKCiAgICAgICAgCiAgICAgICAgICAgIHZhciBodG1sXzRlMjQxZDdkMjNjYzRkNDViZGQ4MDdkNDI2YzUwYWI4ID0gJChgPGRpdiBpZD0iaHRtbF80ZTI0MWQ3ZDIzY2M0ZDQ1YmRkODA3ZDQyNmM1MGFiOCIgc3R5bGU9IndpZHRoOiAxMDAuMCU7IGhlaWdodDogMTAwLjAlOyI+TTFWIC0gU2NhcmJvcm91Z2ggLSBBZ2luY291cnQgTm9ydGgsTCYjMzk7QW1vcmVhdXggRWFzdCxNaWxsaWtlbixTdGVlbGVzIEVhc3Q8L2Rpdj5gKVswXTsKICAgICAgICAgICAgcG9wdXBfNTFlYjI0MzQ0ODg4NDU0NThkYmU4MjMwYWI5NTcyOGYuc2V0Q29udGVudChodG1sXzRlMjQxZDdkMjNjYzRkNDViZGQ4MDdkNDI2YzUwYWI4KTsKICAgICAgICAKCiAgICAgICAgY2lyY2xlX21hcmtlcl8xN2NmMWQ4YWJiZmY0MmNmYmU0Y2I0MDlhMzEwZjQyNi5iaW5kUG9wdXAocG9wdXBfNTFlYjI0MzQ0ODg4NDU0NThkYmU4MjMwYWI5NTcyOGYpCiAgICAgICAgOwoKICAgICAgICAKICAgIAogICAgCiAgICAgICAgICAgIHZhciBjaXJjbGVfbWFya2VyX2I0YmVkMWZhNTRkZDQ0MGY4ZjYwMjQ1NWY0Yzg4YWJhID0gTC5jaXJjbGVNYXJrZXIoCiAgICAgICAgICAgICAgICBbNDMuNzk5NTI1MjAwMDAwMDA1LCAtNzkuMzE4Mzg4N10sCiAgICAgICAgICAgICAgICB7ImJ1YmJsaW5nTW91c2VFdmVudHMiOiB0cnVlLCAiY29sb3IiOiAiYmx1ZSIsICJkYXNoQXJyYXkiOiBudWxsLCAiZGFzaE9mZnNldCI6IG51bGwsICJmaWxsIjogdHJ1ZSwgImZpbGxDb2xvciI6ICIjMzE4NmNjIiwgImZpbGxPcGFjaXR5IjogMC43LCAiZmlsbFJ1bGUiOiAiZXZlbm9kZCIsICJsaW5lQ2FwIjogInJvdW5kIiwgImxpbmVKb2luIjogInJvdW5kIiwgIm9wYWNpdHkiOiAxLjAsICJyYWRpdXMiOiA1LCAic3Ryb2tlIjogdHJ1ZSwgIndlaWdodCI6IDN9CiAgICAgICAgICAgICkuYWRkVG8obWFwX2UyNThjY2U0NGI4NDQ3NjY5MjNhMDk4OThiZTE0ZDJhKTsKICAgICAgICAKICAgIAogICAgICAgIHZhciBwb3B1cF9kNmUxNzNkY2ZkMzU0YjU0OGRmODRkYWM2OTAyMzVjZiA9IEwucG9wdXAoeyJtYXhXaWR0aCI6ICIxMDAlIn0pOwoKICAgICAgICAKICAgICAgICAgICAgdmFyIGh0bWxfMDc0NDcwMDU2NDU0NGMxZjgyMGU5YjcyMTE5MjMxMGMgPSAkKGA8ZGl2IGlkPSJodG1sXzA3NDQ3MDA1NjQ1NDRjMWY4MjBlOWI3MjExOTIzMTBjIiBzdHlsZT0id2lkdGg6IDEwMC4wJTsgaGVpZ2h0OiAxMDAuMCU7Ij5NMVcgLSBTY2FyYm9yb3VnaCAtIEwmIzM5O0Ftb3JlYXV4IFdlc3Q8L2Rpdj5gKVswXTsKICAgICAgICAgICAgcG9wdXBfZDZlMTczZGNmZDM1NGI1NDhkZjg0ZGFjNjkwMjM1Y2Yuc2V0Q29udGVudChodG1sXzA3NDQ3MDA1NjQ1NDRjMWY4MjBlOWI3MjExOTIzMTBjKTsKICAgICAgICAKCiAgICAgICAgY2lyY2xlX21hcmtlcl9iNGJlZDFmYTU0ZGQ0NDBmOGY2MDI0NTVmNGM4OGFiYS5iaW5kUG9wdXAocG9wdXBfZDZlMTczZGNmZDM1NGI1NDhkZjg0ZGFjNjkwMjM1Y2YpCiAgICAgICAgOwoKICAgICAgICAKICAgIAogICAgCiAgICAgICAgICAgIHZhciBjaXJjbGVfbWFya2VyXzdkMWJiZjJjZWUxYTQyNjhiNDVkZWY3Zjg0ZmEwYjM4ID0gTC5jaXJjbGVNYXJrZXIoCiAgICAgICAgICAgICAgICBbNDMuODM2MTI0NzAwMDAwMDA2LCAtNzkuMjA1NjM2MDk5OTk5OTldLAogICAgICAgICAgICAgICAgeyJidWJibGluZ01vdXNlRXZlbnRzIjogdHJ1ZSwgImNvbG9yIjogImJsdWUiLCAiZGFzaEFycmF5IjogbnVsbCwgImRhc2hPZmZzZXQiOiBudWxsLCAiZmlsbCI6IHRydWUsICJmaWxsQ29sb3IiOiAiIzMxODZjYyIsICJmaWxsT3BhY2l0eSI6IDAuNywgImZpbGxSdWxlIjogImV2ZW5vZGQiLCAibGluZUNhcCI6ICJyb3VuZCIsICJsaW5lSm9pbiI6ICJyb3VuZCIsICJvcGFjaXR5IjogMS4wLCAicmFkaXVzIjogNSwgInN0cm9rZSI6IHRydWUsICJ3ZWlnaHQiOiAzfQogICAgICAgICAgICApLmFkZFRvKG1hcF9lMjU4Y2NlNDRiODQ0NzY2OTIzYTA5ODk4YmUxNGQyYSk7CiAgICAgICAgCiAgICAKICAgICAgICB2YXIgcG9wdXBfMzgwMzU4NzJkNmVhNDc3MGEzMGU0M2EyNWQ3MzU5NTkgPSBMLnBvcHVwKHsibWF4V2lkdGgiOiAiMTAwJSJ9KTsKCiAgICAgICAgCiAgICAgICAgICAgIHZhciBodG1sX2Y4MWRkYTE4ZTlhOTRiOWQ5ZDkzZmQyMGM5N2I1MzMyID0gJChgPGRpdiBpZD0iaHRtbF9mODFkZGExOGU5YTk0YjlkOWQ5M2ZkMjBjOTdiNTMzMiIgc3R5bGU9IndpZHRoOiAxMDAuMCU7IGhlaWdodDogMTAwLjAlOyI+TTFYIC0gU2NhcmJvcm91Z2ggLSBVcHBlciBSb3VnZTwvZGl2PmApWzBdOwogICAgICAgICAgICBwb3B1cF8zODAzNTg3MmQ2ZWE0NzcwYTMwZTQzYTI1ZDczNTk1OS5zZXRDb250ZW50KGh0bWxfZjgxZGRhMThlOWE5NGI5ZDlkOTNmZDIwYzk3YjUzMzIpOwogICAgICAgIAoKICAgICAgICBjaXJjbGVfbWFya2VyXzdkMWJiZjJjZWUxYTQyNjhiNDVkZWY3Zjg0ZmEwYjM4LmJpbmRQb3B1cChwb3B1cF8zODAzNTg3MmQ2ZWE0NzcwYTMwZTQzYTI1ZDczNTk1OSkKICAgICAgICA7CgogICAgICAgIAogICAgCiAgICAKICAgICAgICAgICAgdmFyIGNpcmNsZV9tYXJrZXJfZjk5ZTM5NWMzMTVkNDQwMjk3YzU4ODA4YTNhNTVlMzcgPSBMLmNpcmNsZU1hcmtlcigKICAgICAgICAgICAgICAgIFs0My44MDM3NjIyLCAtNzkuMzYzNDUxN10sCiAgICAgICAgICAgICAgICB7ImJ1YmJsaW5nTW91c2VFdmVudHMiOiB0cnVlLCAiY29sb3IiOiAiYmx1ZSIsICJkYXNoQXJyYXkiOiBudWxsLCAiZGFzaE9mZnNldCI6IG51bGwsICJmaWxsIjogdHJ1ZSwgImZpbGxDb2xvciI6ICIjMzE4NmNjIiwgImZpbGxPcGFjaXR5IjogMC43LCAiZmlsbFJ1bGUiOiAiZXZlbm9kZCIsICJsaW5lQ2FwIjogInJvdW5kIiwgImxpbmVKb2luIjogInJvdW5kIiwgIm9wYWNpdHkiOiAxLjAsICJyYWRpdXMiOiA1LCAic3Ryb2tlIjogdHJ1ZSwgIndlaWdodCI6IDN9CiAgICAgICAgICAgICkuYWRkVG8obWFwX2UyNThjY2U0NGI4NDQ3NjY5MjNhMDk4OThiZTE0ZDJhKTsKICAgICAgICAKICAgIAogICAgICAgIHZhciBwb3B1cF9hZTU1MDE0YzcwOTU0OTk4OTg2OTY5ZjMyYTNhYzJiZCA9IEwucG9wdXAoeyJtYXhXaWR0aCI6ICIxMDAlIn0pOwoKICAgICAgICAKICAgICAgICAgICAgdmFyIGh0bWxfZDFjZGZjZjkwOTkxNDQ2Nzk5OWRlNGEwN2YyMjJlMWQgPSAkKGA8ZGl2IGlkPSJodG1sX2QxY2RmY2Y5MDk5MTQ0Njc5OTlkZTRhMDdmMjIyZTFkIiBzdHlsZT0id2lkdGg6IDEwMC4wJTsgaGVpZ2h0OiAxMDAuMCU7Ij5NMkggLSBOb3J0aCBZb3JrIC0gSGlsbGNyZXN0IFZpbGxhZ2U8L2Rpdj5gKVswXTsKICAgICAgICAgICAgcG9wdXBfYWU1NTAxNGM3MDk1NDk5ODk4Njk2OWYzMmEzYWMyYmQuc2V0Q29udGVudChodG1sX2QxY2RmY2Y5MDk5MTQ0Njc5OTlkZTRhMDdmMjIyZTFkKTsKICAgICAgICAKCiAgICAgICAgY2lyY2xlX21hcmtlcl9mOTllMzk1YzMxNWQ0NDAyOTdjNTg4MDhhM2E1NWUzNy5iaW5kUG9wdXAocG9wdXBfYWU1NTAxNGM3MDk1NDk5ODk4Njk2OWYzMmEzYWMyYmQpCiAgICAgICAgOwoKICAgICAgICAKICAgIAogICAgCiAgICAgICAgICAgIHZhciBjaXJjbGVfbWFya2VyX2YzYjNkNjU3MDMzMDQ2ODA4ZWE3YTBjYTU0ZjhiMTFhID0gTC5jaXJjbGVNYXJrZXIoCiAgICAgICAgICAgICAgICBbNDMuNzc4NTE3NSwgLTc5LjM0NjU1NTddLAogICAgICAgICAgICAgICAgeyJidWJibGluZ01vdXNlRXZlbnRzIjogdHJ1ZSwgImNvbG9yIjogImJsdWUiLCAiZGFzaEFycmF5IjogbnVsbCwgImRhc2hPZmZzZXQiOiBudWxsLCAiZmlsbCI6IHRydWUsICJmaWxsQ29sb3IiOiAiIzMxODZjYyIsICJmaWxsT3BhY2l0eSI6IDAuNywgImZpbGxSdWxlIjogImV2ZW5vZGQiLCAibGluZUNhcCI6ICJyb3VuZCIsICJsaW5lSm9pbiI6ICJyb3VuZCIsICJvcGFjaXR5IjogMS4wLCAicmFkaXVzIjogNSwgInN0cm9rZSI6IHRydWUsICJ3ZWlnaHQiOiAzfQogICAgICAgICAgICApLmFkZFRvKG1hcF9lMjU4Y2NlNDRiODQ0NzY2OTIzYTA5ODk4YmUxNGQyYSk7CiAgICAgICAgCiAgICAKICAgICAgICB2YXIgcG9wdXBfYmJiYzM5ZDk3MWUwNDIxODhhYTY2Njk4ZmYwMTM3MjAgPSBMLnBvcHVwKHsibWF4V2lkdGgiOiAiMTAwJSJ9KTsKCiAgICAgICAgCiAgICAgICAgICAgIHZhciBodG1sXzAyNWI0ZDM2MWMzZDRlM2JhMWQ3YTliNzk4Y2ViZGQ5ID0gJChgPGRpdiBpZD0iaHRtbF8wMjViNGQzNjFjM2Q0ZTNiYTFkN2E5Yjc5OGNlYmRkOSIgc3R5bGU9IndpZHRoOiAxMDAuMCU7IGhlaWdodDogMTAwLjAlOyI+TTJKIC0gTm9ydGggWW9yayAtIEZhaXJ2aWV3LEhlbnJ5IEZhcm0sT3Jpb2xlPC9kaXY+YClbMF07CiAgICAgICAgICAgIHBvcHVwX2JiYmMzOWQ5NzFlMDQyMTg4YWE2NjY5OGZmMDEzNzIwLnNldENvbnRlbnQoaHRtbF8wMjViNGQzNjFjM2Q0ZTNiYTFkN2E5Yjc5OGNlYmRkOSk7CiAgICAgICAgCgogICAgICAgIGNpcmNsZV9tYXJrZXJfZjNiM2Q2NTcwMzMwNDY4MDhlYTdhMGNhNTRmOGIxMWEuYmluZFBvcHVwKHBvcHVwX2JiYmMzOWQ5NzFlMDQyMTg4YWE2NjY5OGZmMDEzNzIwKQogICAgICAgIDsKCiAgICAgICAgCiAgICAKICAgIAogICAgICAgICAgICB2YXIgY2lyY2xlX21hcmtlcl9hYzg3MjRjOTdlMzg0NjVhYjg5ZDc4MmY3MWFmNzIyOCA9IEwuY2lyY2xlTWFya2VyKAogICAgICAgICAgICAgICAgWzQzLjc4Njk0NzMsIC03OS4zODU5NzVdLAogICAgICAgICAgICAgICAgeyJidWJibGluZ01vdXNlRXZlbnRzIjogdHJ1ZSwgImNvbG9yIjogImJsdWUiLCAiZGFzaEFycmF5IjogbnVsbCwgImRhc2hPZmZzZXQiOiBudWxsLCAiZmlsbCI6IHRydWUsICJmaWxsQ29sb3IiOiAiIzMxODZjYyIsICJmaWxsT3BhY2l0eSI6IDAuNywgImZpbGxSdWxlIjogImV2ZW5vZGQiLCAibGluZUNhcCI6ICJyb3VuZCIsICJsaW5lSm9pbiI6ICJyb3VuZCIsICJvcGFjaXR5IjogMS4wLCAicmFkaXVzIjogNSwgInN0cm9rZSI6IHRydWUsICJ3ZWlnaHQiOiAzfQogICAgICAgICAgICApLmFkZFRvKG1hcF9lMjU4Y2NlNDRiODQ0NzY2OTIzYTA5ODk4YmUxNGQyYSk7CiAgICAgICAgCiAgICAKICAgICAgICB2YXIgcG9wdXBfOWM2NzI5YTFmNjljNDE4MjliOGQ1MTUzYTZjYTczMzAgPSBMLnBvcHVwKHsibWF4V2lkdGgiOiAiMTAwJSJ9KTsKCiAgICAgICAgCiAgICAgICAgICAgIHZhciBodG1sXzM1MjNhMWM3YmYxMTRmNDBhYjI5Y2NlOGNkYWZkZWZmID0gJChgPGRpdiBpZD0iaHRtbF8zNTIzYTFjN2JmMTE0ZjQwYWIyOWNjZThjZGFmZGVmZiIgc3R5bGU9IndpZHRoOiAxMDAuMCU7IGhlaWdodDogMTAwLjAlOyI+TTJLIC0gTm9ydGggWW9yayAtIEJheXZpZXcgVmlsbGFnZTwvZGl2PmApWzBdOwogICAgICAgICAgICBwb3B1cF85YzY3MjlhMWY2OWM0MTgyOWI4ZDUxNTNhNmNhNzMzMC5zZXRDb250ZW50KGh0bWxfMzUyM2ExYzdiZjExNGY0MGFiMjljY2U4Y2RhZmRlZmYpOwogICAgICAgIAoKICAgICAgICBjaXJjbGVfbWFya2VyX2FjODcyNGM5N2UzODQ2NWFiODlkNzgyZjcxYWY3MjI4LmJpbmRQb3B1cChwb3B1cF85YzY3MjlhMWY2OWM0MTgyOWI4ZDUxNTNhNmNhNzMzMCkKICAgICAgICA7CgogICAgICAgIAogICAgCiAgICAKICAgICAgICAgICAgdmFyIGNpcmNsZV9tYXJrZXJfZmYwNmNiYzAxOTUzNGExZjhlODQwNTBkODFiOTQzODEgPSBMLmNpcmNsZU1hcmtlcigKICAgICAgICAgICAgICAgIFs0My43NTc0OTAyLCAtNzkuMzc0NzE0MDk5OTk5OTldLAogICAgICAgICAgICAgICAgeyJidWJibGluZ01vdXNlRXZlbnRzIjogdHJ1ZSwgImNvbG9yIjogImJsdWUiLCAiZGFzaEFycmF5IjogbnVsbCwgImRhc2hPZmZzZXQiOiBudWxsLCAiZmlsbCI6IHRydWUsICJmaWxsQ29sb3IiOiAiIzMxODZjYyIsICJmaWxsT3BhY2l0eSI6IDAuNywgImZpbGxSdWxlIjogImV2ZW5vZGQiLCAibGluZUNhcCI6ICJyb3VuZCIsICJsaW5lSm9pbiI6ICJyb3VuZCIsICJvcGFjaXR5IjogMS4wLCAicmFkaXVzIjogNSwgInN0cm9rZSI6IHRydWUsICJ3ZWlnaHQiOiAzfQogICAgICAgICAgICApLmFkZFRvKG1hcF9lMjU4Y2NlNDRiODQ0NzY2OTIzYTA5ODk4YmUxNGQyYSk7CiAgICAgICAgCiAgICAKICAgICAgICB2YXIgcG9wdXBfYmQ2M2FjZDc2NGY3NDllOWI4ZWM5YzQyNGM3Zjc4MDAgPSBMLnBvcHVwKHsibWF4V2lkdGgiOiAiMTAwJSJ9KTsKCiAgICAgICAgCiAgICAgICAgICAgIHZhciBodG1sX2I4ZWNhNjUzNzdlYjQ4Y2JiYzlhZGM5NDM1MDYwOTUxID0gJChgPGRpdiBpZD0iaHRtbF9iOGVjYTY1Mzc3ZWI0OGNiYmM5YWRjOTQzNTA2MDk1MSIgc3R5bGU9IndpZHRoOiAxMDAuMCU7IGhlaWdodDogMTAwLjAlOyI+TTJMIC0gTm9ydGggWW9yayAtIFNpbHZlciBIaWxscyxZb3JrIE1pbGxzPC9kaXY+YClbMF07CiAgICAgICAgICAgIHBvcHVwX2JkNjNhY2Q3NjRmNzQ5ZTliOGVjOWM0MjRjN2Y3ODAwLnNldENvbnRlbnQoaHRtbF9iOGVjYTY1Mzc3ZWI0OGNiYmM5YWRjOTQzNTA2MDk1MSk7CiAgICAgICAgCgogICAgICAgIGNpcmNsZV9tYXJrZXJfZmYwNmNiYzAxOTUzNGExZjhlODQwNTBkODFiOTQzODEuYmluZFBvcHVwKHBvcHVwX2JkNjNhY2Q3NjRmNzQ5ZTliOGVjOWM0MjRjN2Y3ODAwKQogICAgICAgIDsKCiAgICAgICAgCiAgICAKICAgIAogICAgICAgICAgICB2YXIgY2lyY2xlX21hcmtlcl8zM2Y4MmIxNGY3NzY0MjgyODQ1Y2FiMWViZDU2ZjQyMCA9IEwuY2lyY2xlTWFya2VyKAogICAgICAgICAgICAgICAgWzQzLjc4OTA1MywgLTc5LjQwODQ5Mjc5OTk5OTk5XSwKICAgICAgICAgICAgICAgIHsiYnViYmxpbmdNb3VzZUV2ZW50cyI6IHRydWUsICJjb2xvciI6ICJibHVlIiwgImRhc2hBcnJheSI6IG51bGwsICJkYXNoT2Zmc2V0IjogbnVsbCwgImZpbGwiOiB0cnVlLCAiZmlsbENvbG9yIjogIiMzMTg2Y2MiLCAiZmlsbE9wYWNpdHkiOiAwLjcsICJmaWxsUnVsZSI6ICJldmVub2RkIiwgImxpbmVDYXAiOiAicm91bmQiLCAibGluZUpvaW4iOiAicm91bmQiLCAib3BhY2l0eSI6IDEuMCwgInJhZGl1cyI6IDUsICJzdHJva2UiOiB0cnVlLCAid2VpZ2h0IjogM30KICAgICAgICAgICAgKS5hZGRUbyhtYXBfZTI1OGNjZTQ0Yjg0NDc2NjkyM2EwOTg5OGJlMTRkMmEpOwogICAgICAgIAogICAgCiAgICAgICAgdmFyIHBvcHVwXzNmYmViYmFiNTliZDRiNDRhYTk3MTFjYTQyNjNlM2E0ID0gTC5wb3B1cCh7Im1heFdpZHRoIjogIjEwMCUifSk7CgogICAgICAgIAogICAgICAgICAgICB2YXIgaHRtbF9lN2ExMjFkZGFjNzk0NjFkOTUzMzU5ZjEzMzc4ZjY3ZCA9ICQoYDxkaXYgaWQ9Imh0bWxfZTdhMTIxZGRhYzc5NDYxZDk1MzM1OWYxMzM3OGY2N2QiIHN0eWxlPSJ3aWR0aDogMTAwLjAlOyBoZWlnaHQ6IDEwMC4wJTsiPk0yTSAtIE5vcnRoIFlvcmsgLSBOZXd0b25icm9vayxXaWxsb3dkYWxlPC9kaXY+YClbMF07CiAgICAgICAgICAgIHBvcHVwXzNmYmViYmFiNTliZDRiNDRhYTk3MTFjYTQyNjNlM2E0LnNldENvbnRlbnQoaHRtbF9lN2ExMjFkZGFjNzk0NjFkOTUzMzU5ZjEzMzc4ZjY3ZCk7CiAgICAgICAgCgogICAgICAgIGNpcmNsZV9tYXJrZXJfMzNmODJiMTRmNzc2NDI4Mjg0NWNhYjFlYmQ1NmY0MjAuYmluZFBvcHVwKHBvcHVwXzNmYmViYmFiNTliZDRiNDRhYTk3MTFjYTQyNjNlM2E0KQogICAgICAgIDsKCiAgICAgICAgCiAgICAKICAgIAogICAgICAgICAgICB2YXIgY2lyY2xlX21hcmtlcl9hNTlkMzM5NDhiMDU0ZjRkYmNkM2ZmMGM5YzdjNDA4NCA9IEwuY2lyY2xlTWFya2VyKAogICAgICAgICAgICAgICAgWzQzLjc3MDExOTksIC03OS40MDg0OTI3OTk5OTk5OV0sCiAgICAgICAgICAgICAgICB7ImJ1YmJsaW5nTW91c2VFdmVudHMiOiB0cnVlLCAiY29sb3IiOiAiYmx1ZSIsICJkYXNoQXJyYXkiOiBudWxsLCAiZGFzaE9mZnNldCI6IG51bGwsICJmaWxsIjogdHJ1ZSwgImZpbGxDb2xvciI6ICIjMzE4NmNjIiwgImZpbGxPcGFjaXR5IjogMC43LCAiZmlsbFJ1bGUiOiAiZXZlbm9kZCIsICJsaW5lQ2FwIjogInJvdW5kIiwgImxpbmVKb2luIjogInJvdW5kIiwgIm9wYWNpdHkiOiAxLjAsICJyYWRpdXMiOiA1LCAic3Ryb2tlIjogdHJ1ZSwgIndlaWdodCI6IDN9CiAgICAgICAgICAgICkuYWRkVG8obWFwX2UyNThjY2U0NGI4NDQ3NjY5MjNhMDk4OThiZTE0ZDJhKTsKICAgICAgICAKICAgIAogICAgICAgIHZhciBwb3B1cF8zOGYzODAxYWRhZDE0N2YzYWJkZjgxYjUwZjQ3ZjI3MiA9IEwucG9wdXAoeyJtYXhXaWR0aCI6ICIxMDAlIn0pOwoKICAgICAgICAKICAgICAgICAgICAgdmFyIGh0bWxfMjg1YWQwNTQ1NmJkNDlhYTlkMjc3YTk1ODEzYzQ5OWQgPSAkKGA8ZGl2IGlkPSJodG1sXzI4NWFkMDU0NTZiZDQ5YWE5ZDI3N2E5NTgxM2M0OTlkIiBzdHlsZT0id2lkdGg6IDEwMC4wJTsgaGVpZ2h0OiAxMDAuMCU7Ij5NMk4gLSBOb3J0aCBZb3JrIC0gV2lsbG93ZGFsZSBTb3V0aDwvZGl2PmApWzBdOwogICAgICAgICAgICBwb3B1cF8zOGYzODAxYWRhZDE0N2YzYWJkZjgxYjUwZjQ3ZjI3Mi5zZXRDb250ZW50KGh0bWxfMjg1YWQwNTQ1NmJkNDlhYTlkMjc3YTk1ODEzYzQ5OWQpOwogICAgICAgIAoKICAgICAgICBjaXJjbGVfbWFya2VyX2E1OWQzMzk0OGIwNTRmNGRiY2QzZmYwYzljN2M0MDg0LmJpbmRQb3B1cChwb3B1cF8zOGYzODAxYWRhZDE0N2YzYWJkZjgxYjUwZjQ3ZjI3MikKICAgICAgICA7CgogICAgICAgIAogICAgCiAgICAKICAgICAgICAgICAgdmFyIGNpcmNsZV9tYXJrZXJfZjJjNDE2ZTFiODQ0NGIwZGFiMDE4YWYzYmZlNDdhYmQgPSBMLmNpcmNsZU1hcmtlcigKICAgICAgICAgICAgICAgIFs0My43NTI3NTgyOTk5OTk5OTYsIC03OS40MDAwNDkzXSwKICAgICAgICAgICAgICAgIHsiYnViYmxpbmdNb3VzZUV2ZW50cyI6IHRydWUsICJjb2xvciI6ICJibHVlIiwgImRhc2hBcnJheSI6IG51bGwsICJkYXNoT2Zmc2V0IjogbnVsbCwgImZpbGwiOiB0cnVlLCAiZmlsbENvbG9yIjogIiMzMTg2Y2MiLCAiZmlsbE9wYWNpdHkiOiAwLjcsICJmaWxsUnVsZSI6ICJldmVub2RkIiwgImxpbmVDYXAiOiAicm91bmQiLCAibGluZUpvaW4iOiAicm91bmQiLCAib3BhY2l0eSI6IDEuMCwgInJhZGl1cyI6IDUsICJzdHJva2UiOiB0cnVlLCAid2VpZ2h0IjogM30KICAgICAgICAgICAgKS5hZGRUbyhtYXBfZTI1OGNjZTQ0Yjg0NDc2NjkyM2EwOTg5OGJlMTRkMmEpOwogICAgICAgIAogICAgCiAgICAgICAgdmFyIHBvcHVwXzM0MzA3M2JhYjg0OTQ4Yzg5YWU2OTZhNzM0NWIzMjg3ID0gTC5wb3B1cCh7Im1heFdpZHRoIjogIjEwMCUifSk7CgogICAgICAgIAogICAgICAgICAgICB2YXIgaHRtbF9kY2IzYzFkNzBhNTg0YjNjOGEzOTE2MjkyODNiZGVhYyA9ICQoYDxkaXYgaWQ9Imh0bWxfZGNiM2MxZDcwYTU4NGIzYzhhMzkxNjI5MjgzYmRlYWMiIHN0eWxlPSJ3aWR0aDogMTAwLjAlOyBoZWlnaHQ6IDEwMC4wJTsiPk0yUCAtIE5vcnRoIFlvcmsgLSBZb3JrIE1pbGxzIFdlc3Q8L2Rpdj5gKVswXTsKICAgICAgICAgICAgcG9wdXBfMzQzMDczYmFiODQ5NDhjODlhZTY5NmE3MzQ1YjMyODcuc2V0Q29udGVudChodG1sX2RjYjNjMWQ3MGE1ODRiM2M4YTM5MTYyOTI4M2JkZWFjKTsKICAgICAgICAKCiAgICAgICAgY2lyY2xlX21hcmtlcl9mMmM0MTZlMWI4NDQ0YjBkYWIwMThhZjNiZmU0N2FiZC5iaW5kUG9wdXAocG9wdXBfMzQzMDczYmFiODQ5NDhjODlhZTY5NmE3MzQ1YjMyODcpCiAgICAgICAgOwoKICAgICAgICAKICAgIAogICAgCiAgICAgICAgICAgIHZhciBjaXJjbGVfbWFya2VyX2NkNzFhYTk2YjQwMDQ0ZGM4NWJjOWY1MmI3NDlmNzQxID0gTC5jaXJjbGVNYXJrZXIoCiAgICAgICAgICAgICAgICBbNDMuNzgyNzM2NCwgLTc5LjQ0MjI1OTNdLAogICAgICAgICAgICAgICAgeyJidWJibGluZ01vdXNlRXZlbnRzIjogdHJ1ZSwgImNvbG9yIjogImJsdWUiLCAiZGFzaEFycmF5IjogbnVsbCwgImRhc2hPZmZzZXQiOiBudWxsLCAiZmlsbCI6IHRydWUsICJmaWxsQ29sb3IiOiAiIzMxODZjYyIsICJmaWxsT3BhY2l0eSI6IDAuNywgImZpbGxSdWxlIjogImV2ZW5vZGQiLCAibGluZUNhcCI6ICJyb3VuZCIsICJsaW5lSm9pbiI6ICJyb3VuZCIsICJvcGFjaXR5IjogMS4wLCAicmFkaXVzIjogNSwgInN0cm9rZSI6IHRydWUsICJ3ZWlnaHQiOiAzfQogICAgICAgICAgICApLmFkZFRvKG1hcF9lMjU4Y2NlNDRiODQ0NzY2OTIzYTA5ODk4YmUxNGQyYSk7CiAgICAgICAgCiAgICAKICAgICAgICB2YXIgcG9wdXBfM2RhMTBlNjZjY2FlNGYyNjliMzliOWExNGNiNmFiNjkgPSBMLnBvcHVwKHsibWF4V2lkdGgiOiAiMTAwJSJ9KTsKCiAgICAgICAgCiAgICAgICAgICAgIHZhciBodG1sXzgyN2IxNzBjYTVjMjRhNTViYjc1MmNkY2VmZWI2ZDFkID0gJChgPGRpdiBpZD0iaHRtbF84MjdiMTcwY2E1YzI0YTU1YmI3NTJjZGNlZmViNmQxZCIgc3R5bGU9IndpZHRoOiAxMDAuMCU7IGhlaWdodDogMTAwLjAlOyI+TTJSIC0gTm9ydGggWW9yayAtIFdpbGxvd2RhbGUgV2VzdDwvZGl2PmApWzBdOwogICAgICAgICAgICBwb3B1cF8zZGExMGU2NmNjYWU0ZjI2OWIzOWI5YTE0Y2I2YWI2OS5zZXRDb250ZW50KGh0bWxfODI3YjE3MGNhNWMyNGE1NWJiNzUyY2RjZWZlYjZkMWQpOwogICAgICAgIAoKICAgICAgICBjaXJjbGVfbWFya2VyX2NkNzFhYTk2YjQwMDQ0ZGM4NWJjOWY1MmI3NDlmNzQxLmJpbmRQb3B1cChwb3B1cF8zZGExMGU2NmNjYWU0ZjI2OWIzOWI5YTE0Y2I2YWI2OSkKICAgICAgICA7CgogICAgICAgIAogICAgCiAgICAKICAgICAgICAgICAgdmFyIGNpcmNsZV9tYXJrZXJfMGFlOTg2MWMwMmQwNDYyMjg4OTE3Mjk5MTc0MzlkYWEgPSBMLmNpcmNsZU1hcmtlcigKICAgICAgICAgICAgICAgIFs0My43NTMyNTg2LCAtNzkuMzI5NjU2NV0sCiAgICAgICAgICAgICAgICB7ImJ1YmJsaW5nTW91c2VFdmVudHMiOiB0cnVlLCAiY29sb3IiOiAiYmx1ZSIsICJkYXNoQXJyYXkiOiBudWxsLCAiZGFzaE9mZnNldCI6IG51bGwsICJmaWxsIjogdHJ1ZSwgImZpbGxDb2xvciI6ICIjMzE4NmNjIiwgImZpbGxPcGFjaXR5IjogMC43LCAiZmlsbFJ1bGUiOiAiZXZlbm9kZCIsICJsaW5lQ2FwIjogInJvdW5kIiwgImxpbmVKb2luIjogInJvdW5kIiwgIm9wYWNpdHkiOiAxLjAsICJyYWRpdXMiOiA1LCAic3Ryb2tlIjogdHJ1ZSwgIndlaWdodCI6IDN9CiAgICAgICAgICAgICkuYWRkVG8obWFwX2UyNThjY2U0NGI4NDQ3NjY5MjNhMDk4OThiZTE0ZDJhKTsKICAgICAgICAKICAgIAogICAgICAgIHZhciBwb3B1cF81Nzg0MDI4ZDZlZjg0MDA5YmNjZDlhOWMwMWY5MDY2NyA9IEwucG9wdXAoeyJtYXhXaWR0aCI6ICIxMDAlIn0pOwoKICAgICAgICAKICAgICAgICAgICAgdmFyIGh0bWxfMTBkN2FmNGVmMmQ1NDQ2YWI2Y2E0ZDUzZjQ5YjdkZGMgPSAkKGA8ZGl2IGlkPSJodG1sXzEwZDdhZjRlZjJkNTQ0NmFiNmNhNGQ1M2Y0OWI3ZGRjIiBzdHlsZT0id2lkdGg6IDEwMC4wJTsgaGVpZ2h0OiAxMDAuMCU7Ij5NM0EgLSBOb3J0aCBZb3JrIC0gUGFya3dvb2RzPC9kaXY+YClbMF07CiAgICAgICAgICAgIHBvcHVwXzU3ODQwMjhkNmVmODQwMDliY2NkOWE5YzAxZjkwNjY3LnNldENvbnRlbnQoaHRtbF8xMGQ3YWY0ZWYyZDU0NDZhYjZjYTRkNTNmNDliN2RkYyk7CiAgICAgICAgCgogICAgICAgIGNpcmNsZV9tYXJrZXJfMGFlOTg2MWMwMmQwNDYyMjg4OTE3Mjk5MTc0MzlkYWEuYmluZFBvcHVwKHBvcHVwXzU3ODQwMjhkNmVmODQwMDliY2NkOWE5YzAxZjkwNjY3KQogICAgICAgIDsKCiAgICAgICAgCiAgICAKICAgIAogICAgICAgICAgICB2YXIgY2lyY2xlX21hcmtlcl9jZDEzMTQwNGU4NWY0MjY1OWIxY2Q4NWIxOTJmNGI3ZiA9IEwuY2lyY2xlTWFya2VyKAogICAgICAgICAgICAgICAgWzQzLjc0NTkwNTc5OTk5OTk5NiwgLTc5LjM1MjE4OF0sCiAgICAgICAgICAgICAgICB7ImJ1YmJsaW5nTW91c2VFdmVudHMiOiB0cnVlLCAiY29sb3IiOiAiYmx1ZSIsICJkYXNoQXJyYXkiOiBudWxsLCAiZGFzaE9mZnNldCI6IG51bGwsICJmaWxsIjogdHJ1ZSwgImZpbGxDb2xvciI6ICIjMzE4NmNjIiwgImZpbGxPcGFjaXR5IjogMC43LCAiZmlsbFJ1bGUiOiAiZXZlbm9kZCIsICJsaW5lQ2FwIjogInJvdW5kIiwgImxpbmVKb2luIjogInJvdW5kIiwgIm9wYWNpdHkiOiAxLjAsICJyYWRpdXMiOiA1LCAic3Ryb2tlIjogdHJ1ZSwgIndlaWdodCI6IDN9CiAgICAgICAgICAgICkuYWRkVG8obWFwX2UyNThjY2U0NGI4NDQ3NjY5MjNhMDk4OThiZTE0ZDJhKTsKICAgICAgICAKICAgIAogICAgICAgIHZhciBwb3B1cF9lNWUzZjY0ZDZiYmU0OWYyYjM2NzhkM2FkMDE1ZmFlOCA9IEwucG9wdXAoeyJtYXhXaWR0aCI6ICIxMDAlIn0pOwoKICAgICAgICAKICAgICAgICAgICAgdmFyIGh0bWxfODkyOTA5MWNiZGFkNDI4YWI4ODY4MmMyYTIxMGY0MGYgPSAkKGA8ZGl2IGlkPSJodG1sXzg5MjkwOTFjYmRhZDQyOGFiODg2ODJjMmEyMTBmNDBmIiBzdHlsZT0id2lkdGg6IDEwMC4wJTsgaGVpZ2h0OiAxMDAuMCU7Ij5NM0IgLSBOb3J0aCBZb3JrIC0gRG9uIE1pbGxzIE5vcnRoPC9kaXY+YClbMF07CiAgICAgICAgICAgIHBvcHVwX2U1ZTNmNjRkNmJiZTQ5ZjJiMzY3OGQzYWQwMTVmYWU4LnNldENvbnRlbnQoaHRtbF84OTI5MDkxY2JkYWQ0MjhhYjg4NjgyYzJhMjEwZjQwZik7CiAgICAgICAgCgogICAgICAgIGNpcmNsZV9tYXJrZXJfY2QxMzE0MDRlODVmNDI2NTliMWNkODViMTkyZjRiN2YuYmluZFBvcHVwKHBvcHVwX2U1ZTNmNjRkNmJiZTQ5ZjJiMzY3OGQzYWQwMTVmYWU4KQogICAgICAgIDsKCiAgICAgICAgCiAgICAKICAgIAogICAgICAgICAgICB2YXIgY2lyY2xlX21hcmtlcl8wM2VlMjk1ZDAxMDA0MjdmYTExZGRmNGQwYzJjY2VhMSA9IEwuY2lyY2xlTWFya2VyKAogICAgICAgICAgICAgICAgWzQzLjcyNTg5OTcwMDAwMDAxLCAtNzkuMzQwOTIzXSwKICAgICAgICAgICAgICAgIHsiYnViYmxpbmdNb3VzZUV2ZW50cyI6IHRydWUsICJjb2xvciI6ICJibHVlIiwgImRhc2hBcnJheSI6IG51bGwsICJkYXNoT2Zmc2V0IjogbnVsbCwgImZpbGwiOiB0cnVlLCAiZmlsbENvbG9yIjogIiMzMTg2Y2MiLCAiZmlsbE9wYWNpdHkiOiAwLjcsICJmaWxsUnVsZSI6ICJldmVub2RkIiwgImxpbmVDYXAiOiAicm91bmQiLCAibGluZUpvaW4iOiAicm91bmQiLCAib3BhY2l0eSI6IDEuMCwgInJhZGl1cyI6IDUsICJzdHJva2UiOiB0cnVlLCAid2VpZ2h0IjogM30KICAgICAgICAgICAgKS5hZGRUbyhtYXBfZTI1OGNjZTQ0Yjg0NDc2NjkyM2EwOTg5OGJlMTRkMmEpOwogICAgICAgIAogICAgCiAgICAgICAgdmFyIHBvcHVwXzNkODlkNTYwYjdiYTQ1MmRhZjk3NGVjNTdmMzhhN2M3ID0gTC5wb3B1cCh7Im1heFdpZHRoIjogIjEwMCUifSk7CgogICAgICAgIAogICAgICAgICAgICB2YXIgaHRtbF85MWFiMjc1NDNmYWI0NzZkODQ0OWNjMzE4OTE3MWRiNSA9ICQoYDxkaXYgaWQ9Imh0bWxfOTFhYjI3NTQzZmFiNDc2ZDg0NDljYzMxODkxNzFkYjUiIHN0eWxlPSJ3aWR0aDogMTAwLjAlOyBoZWlnaHQ6IDEwMC4wJTsiPk0zQyAtIE5vcnRoIFlvcmsgLSBGbGVtaW5nZG9uIFBhcmssRG9uIE1pbGxzIFNvdXRoPC9kaXY+YClbMF07CiAgICAgICAgICAgIHBvcHVwXzNkODlkNTYwYjdiYTQ1MmRhZjk3NGVjNTdmMzhhN2M3LnNldENvbnRlbnQoaHRtbF85MWFiMjc1NDNmYWI0NzZkODQ0OWNjMzE4OTE3MWRiNSk7CiAgICAgICAgCgogICAgICAgIGNpcmNsZV9tYXJrZXJfMDNlZTI5NWQwMTAwNDI3ZmExMWRkZjRkMGMyY2NlYTEuYmluZFBvcHVwKHBvcHVwXzNkODlkNTYwYjdiYTQ1MmRhZjk3NGVjNTdmMzhhN2M3KQogICAgICAgIDsKCiAgICAgICAgCiAgICAKICAgIAogICAgICAgICAgICB2YXIgY2lyY2xlX21hcmtlcl9hZWU0YzgxZDE2ZDI0MDVkYWIxMDUzNzBiMzdkYmNkOCA9IEwuY2lyY2xlTWFya2VyKAogICAgICAgICAgICAgICAgWzQzLjc1NDMyODMsIC03OS40NDIyNTkzXSwKICAgICAgICAgICAgICAgIHsiYnViYmxpbmdNb3VzZUV2ZW50cyI6IHRydWUsICJjb2xvciI6ICJibHVlIiwgImRhc2hBcnJheSI6IG51bGwsICJkYXNoT2Zmc2V0IjogbnVsbCwgImZpbGwiOiB0cnVlLCAiZmlsbENvbG9yIjogIiMzMTg2Y2MiLCAiZmlsbE9wYWNpdHkiOiAwLjcsICJmaWxsUnVsZSI6ICJldmVub2RkIiwgImxpbmVDYXAiOiAicm91bmQiLCAibGluZUpvaW4iOiAicm91bmQiLCAib3BhY2l0eSI6IDEuMCwgInJhZGl1cyI6IDUsICJzdHJva2UiOiB0cnVlLCAid2VpZ2h0IjogM30KICAgICAgICAgICAgKS5hZGRUbyhtYXBfZTI1OGNjZTQ0Yjg0NDc2NjkyM2EwOTg5OGJlMTRkMmEpOwogICAgICAgIAogICAgCiAgICAgICAgdmFyIHBvcHVwXzc0NjBlNWEzYTJlZDQwYWNiZGRhZjMwZTdhMWFmNTMzID0gTC5wb3B1cCh7Im1heFdpZHRoIjogIjEwMCUifSk7CgogICAgICAgIAogICAgICAgICAgICB2YXIgaHRtbF9lYTAyNGVlN2I0M2Y0ODAwOTNkNTQwOTMzNWNkYjY4YSA9ICQoYDxkaXYgaWQ9Imh0bWxfZWEwMjRlZTdiNDNmNDgwMDkzZDU0MDkzMzVjZGI2OGEiIHN0eWxlPSJ3aWR0aDogMTAwLjAlOyBoZWlnaHQ6IDEwMC4wJTsiPk0zSCAtIE5vcnRoIFlvcmsgLSBCYXRodXJzdCBNYW5vcixEb3duc3ZpZXcgTm9ydGgsV2lsc29uIEhlaWdodHM8L2Rpdj5gKVswXTsKICAgICAgICAgICAgcG9wdXBfNzQ2MGU1YTNhMmVkNDBhY2JkZGFmMzBlN2ExYWY1MzMuc2V0Q29udGVudChodG1sX2VhMDI0ZWU3YjQzZjQ4MDA5M2Q1NDA5MzM1Y2RiNjhhKTsKICAgICAgICAKCiAgICAgICAgY2lyY2xlX21hcmtlcl9hZWU0YzgxZDE2ZDI0MDVkYWIxMDUzNzBiMzdkYmNkOC5iaW5kUG9wdXAocG9wdXBfNzQ2MGU1YTNhMmVkNDBhY2JkZGFmMzBlN2ExYWY1MzMpCiAgICAgICAgOwoKICAgICAgICAKICAgIAogICAgCiAgICAgICAgICAgIHZhciBjaXJjbGVfbWFya2VyXzEyNzg4YTQwMzdiZTQ5MmZhMzRmNjViNDdkYTk3MDdiID0gTC5jaXJjbGVNYXJrZXIoCiAgICAgICAgICAgICAgICBbNDMuNzY3OTgwMywgLTc5LjQ4NzI2MTkwMDAwMDAxXSwKICAgICAgICAgICAgICAgIHsiYnViYmxpbmdNb3VzZUV2ZW50cyI6IHRydWUsICJjb2xvciI6ICJibHVlIiwgImRhc2hBcnJheSI6IG51bGwsICJkYXNoT2Zmc2V0IjogbnVsbCwgImZpbGwiOiB0cnVlLCAiZmlsbENvbG9yIjogIiMzMTg2Y2MiLCAiZmlsbE9wYWNpdHkiOiAwLjcsICJmaWxsUnVsZSI6ICJldmVub2RkIiwgImxpbmVDYXAiOiAicm91bmQiLCAibGluZUpvaW4iOiAicm91bmQiLCAib3BhY2l0eSI6IDEuMCwgInJhZGl1cyI6IDUsICJzdHJva2UiOiB0cnVlLCAid2VpZ2h0IjogM30KICAgICAgICAgICAgKS5hZGRUbyhtYXBfZTI1OGNjZTQ0Yjg0NDc2NjkyM2EwOTg5OGJlMTRkMmEpOwogICAgICAgIAogICAgCiAgICAgICAgdmFyIHBvcHVwXzVhMWQ4ZDhhZmIyNTRiOTQ5NTg3NDk4MWI2MTFjNWJjID0gTC5wb3B1cCh7Im1heFdpZHRoIjogIjEwMCUifSk7CgogICAgICAgIAogICAgICAgICAgICB2YXIgaHRtbF9iOGFlZWEwMDZjMjY0N2M2ODFmODkyNzI0Y2NhNDU5NyA9ICQoYDxkaXYgaWQ9Imh0bWxfYjhhZWVhMDA2YzI2NDdjNjgxZjg5MjcyNGNjYTQ1OTciIHN0eWxlPSJ3aWR0aDogMTAwLjAlOyBoZWlnaHQ6IDEwMC4wJTsiPk0zSiAtIE5vcnRoIFlvcmsgLSBOb3J0aHdvb2QgUGFyayxZb3JrIFVuaXZlcnNpdHk8L2Rpdj5gKVswXTsKICAgICAgICAgICAgcG9wdXBfNWExZDhkOGFmYjI1NGI5NDk1ODc0OTgxYjYxMWM1YmMuc2V0Q29udGVudChodG1sX2I4YWVlYTAwNmMyNjQ3YzY4MWY4OTI3MjRjY2E0NTk3KTsKICAgICAgICAKCiAgICAgICAgY2lyY2xlX21hcmtlcl8xMjc4OGE0MDM3YmU0OTJmYTM0ZjY1YjQ3ZGE5NzA3Yi5iaW5kUG9wdXAocG9wdXBfNWExZDhkOGFmYjI1NGI5NDk1ODc0OTgxYjYxMWM1YmMpCiAgICAgICAgOwoKICAgICAgICAKICAgIAogICAgCiAgICAgICAgICAgIHZhciBjaXJjbGVfbWFya2VyX2ExYjkxMTY3Yjg4NjQzMWM4MGY2ZjY1ZTk4YmM1YWRlID0gTC5jaXJjbGVNYXJrZXIoCiAgICAgICAgICAgICAgICBbNDMuNzM3NDczMjAwMDAwMDA0LCAtNzkuNDY0NzYzMjk5OTk5OTldLAogICAgICAgICAgICAgICAgeyJidWJibGluZ01vdXNlRXZlbnRzIjogdHJ1ZSwgImNvbG9yIjogImJsdWUiLCAiZGFzaEFycmF5IjogbnVsbCwgImRhc2hPZmZzZXQiOiBudWxsLCAiZmlsbCI6IHRydWUsICJmaWxsQ29sb3IiOiAiIzMxODZjYyIsICJmaWxsT3BhY2l0eSI6IDAuNywgImZpbGxSdWxlIjogImV2ZW5vZGQiLCAibGluZUNhcCI6ICJyb3VuZCIsICJsaW5lSm9pbiI6ICJyb3VuZCIsICJvcGFjaXR5IjogMS4wLCAicmFkaXVzIjogNSwgInN0cm9rZSI6IHRydWUsICJ3ZWlnaHQiOiAzfQogICAgICAgICAgICApLmFkZFRvKG1hcF9lMjU4Y2NlNDRiODQ0NzY2OTIzYTA5ODk4YmUxNGQyYSk7CiAgICAgICAgCiAgICAKICAgICAgICB2YXIgcG9wdXBfYmYzMDYxNDI4YWYxNDFmOWEzMTUwMjJlNmU2YTU4NmIgPSBMLnBvcHVwKHsibWF4V2lkdGgiOiAiMTAwJSJ9KTsKCiAgICAgICAgCiAgICAgICAgICAgIHZhciBodG1sX2MxMTk0OWY4NmRhMjQ4ZGRhZDNiYjk2ZTBlMThhMjY2ID0gJChgPGRpdiBpZD0iaHRtbF9jMTE5NDlmODZkYTI0OGRkYWQzYmI5NmUwZTE4YTI2NiIgc3R5bGU9IndpZHRoOiAxMDAuMCU7IGhlaWdodDogMTAwLjAlOyI+TTNLIC0gTm9ydGggWW9yayAtIENGQiBUb3JvbnRvLERvd25zdmlldyBFYXN0PC9kaXY+YClbMF07CiAgICAgICAgICAgIHBvcHVwX2JmMzA2MTQyOGFmMTQxZjlhMzE1MDIyZTZlNmE1ODZiLnNldENvbnRlbnQoaHRtbF9jMTE5NDlmODZkYTI0OGRkYWQzYmI5NmUwZTE4YTI2Nik7CiAgICAgICAgCgogICAgICAgIGNpcmNsZV9tYXJrZXJfYTFiOTExNjdiODg2NDMxYzgwZjZmNjVlOThiYzVhZGUuYmluZFBvcHVwKHBvcHVwX2JmMzA2MTQyOGFmMTQxZjlhMzE1MDIyZTZlNmE1ODZiKQogICAgICAgIDsKCiAgICAgICAgCiAgICAKICAgIAogICAgICAgICAgICB2YXIgY2lyY2xlX21hcmtlcl9lY2MwMzZiYzA5ZTc0NGVlOTA0ZDM2ZjEwOWMyZmVmYiA9IEwuY2lyY2xlTWFya2VyKAogICAgICAgICAgICAgICAgWzQzLjczOTAxNDYsIC03OS41MDY5NDM2XSwKICAgICAgICAgICAgICAgIHsiYnViYmxpbmdNb3VzZUV2ZW50cyI6IHRydWUsICJjb2xvciI6ICJibHVlIiwgImRhc2hBcnJheSI6IG51bGwsICJkYXNoT2Zmc2V0IjogbnVsbCwgImZpbGwiOiB0cnVlLCAiZmlsbENvbG9yIjogIiMzMTg2Y2MiLCAiZmlsbE9wYWNpdHkiOiAwLjcsICJmaWxsUnVsZSI6ICJldmVub2RkIiwgImxpbmVDYXAiOiAicm91bmQiLCAibGluZUpvaW4iOiAicm91bmQiLCAib3BhY2l0eSI6IDEuMCwgInJhZGl1cyI6IDUsICJzdHJva2UiOiB0cnVlLCAid2VpZ2h0IjogM30KICAgICAgICAgICAgKS5hZGRUbyhtYXBfZTI1OGNjZTQ0Yjg0NDc2NjkyM2EwOTg5OGJlMTRkMmEpOwogICAgICAgIAogICAgCiAgICAgICAgdmFyIHBvcHVwXzRkMTI0MTU0ZTJmMjRiNWI4MWFkZmM0N2RlYjI5MjZhID0gTC5wb3B1cCh7Im1heFdpZHRoIjogIjEwMCUifSk7CgogICAgICAgIAogICAgICAgICAgICB2YXIgaHRtbF80MjRkMjRmOWYyYzQ0YmMwOGFmMjQ3OTQzNGViMjAyNyA9ICQoYDxkaXYgaWQ9Imh0bWxfNDI0ZDI0ZjlmMmM0NGJjMDhhZjI0Nzk0MzRlYjIwMjciIHN0eWxlPSJ3aWR0aDogMTAwLjAlOyBoZWlnaHQ6IDEwMC4wJTsiPk0zTCAtIE5vcnRoIFlvcmsgLSBEb3duc3ZpZXcgV2VzdDwvZGl2PmApWzBdOwogICAgICAgICAgICBwb3B1cF80ZDEyNDE1NGUyZjI0YjViODFhZGZjNDdkZWIyOTI2YS5zZXRDb250ZW50KGh0bWxfNDI0ZDI0ZjlmMmM0NGJjMDhhZjI0Nzk0MzRlYjIwMjcpOwogICAgICAgIAoKICAgICAgICBjaXJjbGVfbWFya2VyX2VjYzAzNmJjMDllNzQ0ZWU5MDRkMzZmMTA5YzJmZWZiLmJpbmRQb3B1cChwb3B1cF80ZDEyNDE1NGUyZjI0YjViODFhZGZjNDdkZWIyOTI2YSkKICAgICAgICA7CgogICAgICAgIAogICAgCiAgICAKICAgICAgICAgICAgdmFyIGNpcmNsZV9tYXJrZXJfZTJkZDM4ZGFjOTY0NDZjZGE3YmRmYmFlMTM5YmJkNzEgPSBMLmNpcmNsZU1hcmtlcigKICAgICAgICAgICAgICAgIFs0My43Mjg0OTY0LCAtNzkuNDk1Njk3NDAwMDAwMDFdLAogICAgICAgICAgICAgICAgeyJidWJibGluZ01vdXNlRXZlbnRzIjogdHJ1ZSwgImNvbG9yIjogImJsdWUiLCAiZGFzaEFycmF5IjogbnVsbCwgImRhc2hPZmZzZXQiOiBudWxsLCAiZmlsbCI6IHRydWUsICJmaWxsQ29sb3IiOiAiIzMxODZjYyIsICJmaWxsT3BhY2l0eSI6IDAuNywgImZpbGxSdWxlIjogImV2ZW5vZGQiLCAibGluZUNhcCI6ICJyb3VuZCIsICJsaW5lSm9pbiI6ICJyb3VuZCIsICJvcGFjaXR5IjogMS4wLCAicmFkaXVzIjogNSwgInN0cm9rZSI6IHRydWUsICJ3ZWlnaHQiOiAzfQogICAgICAgICAgICApLmFkZFRvKG1hcF9lMjU4Y2NlNDRiODQ0NzY2OTIzYTA5ODk4YmUxNGQyYSk7CiAgICAgICAgCiAgICAKICAgICAgICB2YXIgcG9wdXBfMTk1Mzg0MDJmMzQ3NGE4M2JkZTMwOGE5NWJmZDNiNzMgPSBMLnBvcHVwKHsibWF4V2lkdGgiOiAiMTAwJSJ9KTsKCiAgICAgICAgCiAgICAgICAgICAgIHZhciBodG1sXzA2NmFkYzM2NjU1MzRkNTQ5OTMyOGJmZDZlMjI4MmIwID0gJChgPGRpdiBpZD0iaHRtbF8wNjZhZGMzNjY1NTM0ZDU0OTkzMjhiZmQ2ZTIyODJiMCIgc3R5bGU9IndpZHRoOiAxMDAuMCU7IGhlaWdodDogMTAwLjAlOyI+TTNNIC0gTm9ydGggWW9yayAtIERvd25zdmlldyBDZW50cmFsPC9kaXY+YClbMF07CiAgICAgICAgICAgIHBvcHVwXzE5NTM4NDAyZjM0NzRhODNiZGUzMDhhOTViZmQzYjczLnNldENvbnRlbnQoaHRtbF8wNjZhZGMzNjY1NTM0ZDU0OTkzMjhiZmQ2ZTIyODJiMCk7CiAgICAgICAgCgogICAgICAgIGNpcmNsZV9tYXJrZXJfZTJkZDM4ZGFjOTY0NDZjZGE3YmRmYmFlMTM5YmJkNzEuYmluZFBvcHVwKHBvcHVwXzE5NTM4NDAyZjM0NzRhODNiZGUzMDhhOTViZmQzYjczKQogICAgICAgIDsKCiAgICAgICAgCiAgICAKICAgIAogICAgICAgICAgICB2YXIgY2lyY2xlX21hcmtlcl9iNTAyMmE5ODk2MDA0ZTI4YjdkNWUzOTA3NDExMDhhOSA9IEwuY2lyY2xlTWFya2VyKAogICAgICAgICAgICAgICAgWzQzLjc2MTYzMTMsIC03OS41MjA5OTk0MDAwMDAwMV0sCiAgICAgICAgICAgICAgICB7ImJ1YmJsaW5nTW91c2VFdmVudHMiOiB0cnVlLCAiY29sb3IiOiAiYmx1ZSIsICJkYXNoQXJyYXkiOiBudWxsLCAiZGFzaE9mZnNldCI6IG51bGwsICJmaWxsIjogdHJ1ZSwgImZpbGxDb2xvciI6ICIjMzE4NmNjIiwgImZpbGxPcGFjaXR5IjogMC43LCAiZmlsbFJ1bGUiOiAiZXZlbm9kZCIsICJsaW5lQ2FwIjogInJvdW5kIiwgImxpbmVKb2luIjogInJvdW5kIiwgIm9wYWNpdHkiOiAxLjAsICJyYWRpdXMiOiA1LCAic3Ryb2tlIjogdHJ1ZSwgIndlaWdodCI6IDN9CiAgICAgICAgICAgICkuYWRkVG8obWFwX2UyNThjY2U0NGI4NDQ3NjY5MjNhMDk4OThiZTE0ZDJhKTsKICAgICAgICAKICAgIAogICAgICAgIHZhciBwb3B1cF9lNWNlMjJlZmE4Yzk0YzU0OTc1ZDA0N2U3N2EwZDNjZiA9IEwucG9wdXAoeyJtYXhXaWR0aCI6ICIxMDAlIn0pOwoKICAgICAgICAKICAgICAgICAgICAgdmFyIGh0bWxfZDZmMWQyN2MyZTliNGZlZjliMWNmMWI2ZmUwNWQyZTAgPSAkKGA8ZGl2IGlkPSJodG1sX2Q2ZjFkMjdjMmU5YjRmZWY5YjFjZjFiNmZlMDVkMmUwIiBzdHlsZT0id2lkdGg6IDEwMC4wJTsgaGVpZ2h0OiAxMDAuMCU7Ij5NM04gLSBOb3J0aCBZb3JrIC0gRG93bnN2aWV3IE5vcnRod2VzdDwvZGl2PmApWzBdOwogICAgICAgICAgICBwb3B1cF9lNWNlMjJlZmE4Yzk0YzU0OTc1ZDA0N2U3N2EwZDNjZi5zZXRDb250ZW50KGh0bWxfZDZmMWQyN2MyZTliNGZlZjliMWNmMWI2ZmUwNWQyZTApOwogICAgICAgIAoKICAgICAgICBjaXJjbGVfbWFya2VyX2I1MDIyYTk4OTYwMDRlMjhiN2Q1ZTM5MDc0MTEwOGE5LmJpbmRQb3B1cChwb3B1cF9lNWNlMjJlZmE4Yzk0YzU0OTc1ZDA0N2U3N2EwZDNjZikKICAgICAgICA7CgogICAgICAgIAogICAgCiAgICAKICAgICAgICAgICAgdmFyIGNpcmNsZV9tYXJrZXJfNzRmMTRmMGU1M2I2NGRhMjhjZDEyNTZlYmEwNWE5MmEgPSBMLmNpcmNsZU1hcmtlcigKICAgICAgICAgICAgICAgIFs0My43MjU4ODIyOTk5OTk5OTUsIC03OS4zMTU1NzE1OTk5OTk5OF0sCiAgICAgICAgICAgICAgICB7ImJ1YmJsaW5nTW91c2VFdmVudHMiOiB0cnVlLCAiY29sb3IiOiAiYmx1ZSIsICJkYXNoQXJyYXkiOiBudWxsLCAiZGFzaE9mZnNldCI6IG51bGwsICJmaWxsIjogdHJ1ZSwgImZpbGxDb2xvciI6ICIjMzE4NmNjIiwgImZpbGxPcGFjaXR5IjogMC43LCAiZmlsbFJ1bGUiOiAiZXZlbm9kZCIsICJsaW5lQ2FwIjogInJvdW5kIiwgImxpbmVKb2luIjogInJvdW5kIiwgIm9wYWNpdHkiOiAxLjAsICJyYWRpdXMiOiA1LCAic3Ryb2tlIjogdHJ1ZSwgIndlaWdodCI6IDN9CiAgICAgICAgICAgICkuYWRkVG8obWFwX2UyNThjY2U0NGI4NDQ3NjY5MjNhMDk4OThiZTE0ZDJhKTsKICAgICAgICAKICAgIAogICAgICAgIHZhciBwb3B1cF83NDdlNDc1YTJhZWQ0MTBmYmZmZjkzNWZmMzZhMmRkMSA9IEwucG9wdXAoeyJtYXhXaWR0aCI6ICIxMDAlIn0pOwoKICAgICAgICAKICAgICAgICAgICAgdmFyIGh0bWxfZDYyZGE0MGY3ZDFlNDA1OWIzNjIwOGNlYTdlYjlhYTMgPSAkKGA8ZGl2IGlkPSJodG1sX2Q2MmRhNDBmN2QxZTQwNTliMzYyMDhjZWE3ZWI5YWEzIiBzdHlsZT0id2lkdGg6IDEwMC4wJTsgaGVpZ2h0OiAxMDAuMCU7Ij5NNEEgLSBOb3J0aCBZb3JrIC0gVmljdG9yaWEgVmlsbGFnZTwvZGl2PmApWzBdOwogICAgICAgICAgICBwb3B1cF83NDdlNDc1YTJhZWQ0MTBmYmZmZjkzNWZmMzZhMmRkMS5zZXRDb250ZW50KGh0bWxfZDYyZGE0MGY3ZDFlNDA1OWIzNjIwOGNlYTdlYjlhYTMpOwogICAgICAgIAoKICAgICAgICBjaXJjbGVfbWFya2VyXzc0ZjE0ZjBlNTNiNjRkYTI4Y2QxMjU2ZWJhMDVhOTJhLmJpbmRQb3B1cChwb3B1cF83NDdlNDc1YTJhZWQ0MTBmYmZmZjkzNWZmMzZhMmRkMSkKICAgICAgICA7CgogICAgICAgIAogICAgCiAgICAKICAgICAgICAgICAgdmFyIGNpcmNsZV9tYXJrZXJfZjlmNjM1YjhlYjU2NDM3NjhlMzM3MTI5N2UxYTRjNzAgPSBMLmNpcmNsZU1hcmtlcigKICAgICAgICAgICAgICAgIFs0My43MDYzOTcyLCAtNzkuMzA5OTM3XSwKICAgICAgICAgICAgICAgIHsiYnViYmxpbmdNb3VzZUV2ZW50cyI6IHRydWUsICJjb2xvciI6ICJibHVlIiwgImRhc2hBcnJheSI6IG51bGwsICJkYXNoT2Zmc2V0IjogbnVsbCwgImZpbGwiOiB0cnVlLCAiZmlsbENvbG9yIjogIiMzMTg2Y2MiLCAiZmlsbE9wYWNpdHkiOiAwLjcsICJmaWxsUnVsZSI6ICJldmVub2RkIiwgImxpbmVDYXAiOiAicm91bmQiLCAibGluZUpvaW4iOiAicm91bmQiLCAib3BhY2l0eSI6IDEuMCwgInJhZGl1cyI6IDUsICJzdHJva2UiOiB0cnVlLCAid2VpZ2h0IjogM30KICAgICAgICAgICAgKS5hZGRUbyhtYXBfZTI1OGNjZTQ0Yjg0NDc2NjkyM2EwOTg5OGJlMTRkMmEpOwogICAgICAgIAogICAgCiAgICAgICAgdmFyIHBvcHVwXzBlOTNlODM3MTNhNjQwZDhiNGM3OTFmZGNmYjVkMmE3ID0gTC5wb3B1cCh7Im1heFdpZHRoIjogIjEwMCUifSk7CgogICAgICAgIAogICAgICAgICAgICB2YXIgaHRtbF85ZWFmZmFiMjhlODE0NDM3YjVhNjViZWFlNWIyZDVlYiA9ICQoYDxkaXYgaWQ9Imh0bWxfOWVhZmZhYjI4ZTgxNDQzN2I1YTY1YmVhZTViMmQ1ZWIiIHN0eWxlPSJ3aWR0aDogMTAwLjAlOyBoZWlnaHQ6IDEwMC4wJTsiPk00QiAtIEVhc3QgWW9yayAtIFdvb2RiaW5lIEdhcmRlbnMsUGFya3ZpZXcgSGlsbDwvZGl2PmApWzBdOwogICAgICAgICAgICBwb3B1cF8wZTkzZTgzNzEzYTY0MGQ4YjRjNzkxZmRjZmI1ZDJhNy5zZXRDb250ZW50KGh0bWxfOWVhZmZhYjI4ZTgxNDQzN2I1YTY1YmVhZTViMmQ1ZWIpOwogICAgICAgIAoKICAgICAgICBjaXJjbGVfbWFya2VyX2Y5ZjYzNWI4ZWI1NjQzNzY4ZTMzNzEyOTdlMWE0YzcwLmJpbmRQb3B1cChwb3B1cF8wZTkzZTgzNzEzYTY0MGQ4YjRjNzkxZmRjZmI1ZDJhNykKICAgICAgICA7CgogICAgICAgIAogICAgCiAgICAKICAgICAgICAgICAgdmFyIGNpcmNsZV9tYXJrZXJfNjk5NWUwYWI1NjBiNGExNGIzODMwYTczMWE3ZmQ5MDUgPSBMLmNpcmNsZU1hcmtlcigKICAgICAgICAgICAgICAgIFs0My42OTUzNDM5MDAwMDAwMDUsIC03OS4zMTgzODg3XSwKICAgICAgICAgICAgICAgIHsiYnViYmxpbmdNb3VzZUV2ZW50cyI6IHRydWUsICJjb2xvciI6ICJibHVlIiwgImRhc2hBcnJheSI6IG51bGwsICJkYXNoT2Zmc2V0IjogbnVsbCwgImZpbGwiOiB0cnVlLCAiZmlsbENvbG9yIjogIiMzMTg2Y2MiLCAiZmlsbE9wYWNpdHkiOiAwLjcsICJmaWxsUnVsZSI6ICJldmVub2RkIiwgImxpbmVDYXAiOiAicm91bmQiLCAibGluZUpvaW4iOiAicm91bmQiLCAib3BhY2l0eSI6IDEuMCwgInJhZGl1cyI6IDUsICJzdHJva2UiOiB0cnVlLCAid2VpZ2h0IjogM30KICAgICAgICAgICAgKS5hZGRUbyhtYXBfZTI1OGNjZTQ0Yjg0NDc2NjkyM2EwOTg5OGJlMTRkMmEpOwogICAgICAgIAogICAgCiAgICAgICAgdmFyIHBvcHVwXzc1NjVjMjdjY2YwMTRlNTc4ZTgxNTRjNDE5ZGJmNDQ1ID0gTC5wb3B1cCh7Im1heFdpZHRoIjogIjEwMCUifSk7CgogICAgICAgIAogICAgICAgICAgICB2YXIgaHRtbF82YjBiOTk5MDZmNmQ0MjU2YmNhNjUwYjk4OWI0YzJhMCA9ICQoYDxkaXYgaWQ9Imh0bWxfNmIwYjk5OTA2ZjZkNDI1NmJjYTY1MGI5ODliNGMyYTAiIHN0eWxlPSJ3aWR0aDogMTAwLjAlOyBoZWlnaHQ6IDEwMC4wJTsiPk00QyAtIEVhc3QgWW9yayAtIFdvb2RiaW5lIEhlaWdodHM8L2Rpdj5gKVswXTsKICAgICAgICAgICAgcG9wdXBfNzU2NWMyN2NjZjAxNGU1NzhlODE1NGM0MTlkYmY0NDUuc2V0Q29udGVudChodG1sXzZiMGI5OTkwNmY2ZDQyNTZiY2E2NTBiOTg5YjRjMmEwKTsKICAgICAgICAKCiAgICAgICAgY2lyY2xlX21hcmtlcl82OTk1ZTBhYjU2MGI0YTE0YjM4MzBhNzMxYTdmZDkwNS5iaW5kUG9wdXAocG9wdXBfNzU2NWMyN2NjZjAxNGU1NzhlODE1NGM0MTlkYmY0NDUpCiAgICAgICAgOwoKICAgICAgICAKICAgIAogICAgCiAgICAgICAgICAgIHZhciBjaXJjbGVfbWFya2VyXzg4MjQwMjExN2IyYzQ4ZjFhOWQ1Njc3ZmQzOTE1NTc2ID0gTC5jaXJjbGVNYXJrZXIoCiAgICAgICAgICAgICAgICBbNDMuNjc2MzU3Mzk5OTk5OTksIC03OS4yOTMwMzEyXSwKICAgICAgICAgICAgICAgIHsiYnViYmxpbmdNb3VzZUV2ZW50cyI6IHRydWUsICJjb2xvciI6ICJibHVlIiwgImRhc2hBcnJheSI6IG51bGwsICJkYXNoT2Zmc2V0IjogbnVsbCwgImZpbGwiOiB0cnVlLCAiZmlsbENvbG9yIjogIiMzMTg2Y2MiLCAiZmlsbE9wYWNpdHkiOiAwLjcsICJmaWxsUnVsZSI6ICJldmVub2RkIiwgImxpbmVDYXAiOiAicm91bmQiLCAibGluZUpvaW4iOiAicm91bmQiLCAib3BhY2l0eSI6IDEuMCwgInJhZGl1cyI6IDUsICJzdHJva2UiOiB0cnVlLCAid2VpZ2h0IjogM30KICAgICAgICAgICAgKS5hZGRUbyhtYXBfZTI1OGNjZTQ0Yjg0NDc2NjkyM2EwOTg5OGJlMTRkMmEpOwogICAgICAgIAogICAgCiAgICAgICAgdmFyIHBvcHVwX2Y3Yjk3ZDA4ODI4ZTRjY2JhNjRmYTk1N2M0NGNhYmM0ID0gTC5wb3B1cCh7Im1heFdpZHRoIjogIjEwMCUifSk7CgogICAgICAgIAogICAgICAgICAgICB2YXIgaHRtbF8wYWUzN2E2ZGM2NjY0MmVmYjBkNzJiMTA1MzM1Mjk0YiA9ICQoYDxkaXYgaWQ9Imh0bWxfMGFlMzdhNmRjNjY2NDJlZmIwZDcyYjEwNTMzNTI5NGIiIHN0eWxlPSJ3aWR0aDogMTAwLjAlOyBoZWlnaHQ6IDEwMC4wJTsiPk00RSAtIEVhc3QgVG9yb250byAtIFRoZSBCZWFjaGVzPC9kaXY+YClbMF07CiAgICAgICAgICAgIHBvcHVwX2Y3Yjk3ZDA4ODI4ZTRjY2JhNjRmYTk1N2M0NGNhYmM0LnNldENvbnRlbnQoaHRtbF8wYWUzN2E2ZGM2NjY0MmVmYjBkNzJiMTA1MzM1Mjk0Yik7CiAgICAgICAgCgogICAgICAgIGNpcmNsZV9tYXJrZXJfODgyNDAyMTE3YjJjNDhmMWE5ZDU2NzdmZDM5MTU1NzYuYmluZFBvcHVwKHBvcHVwX2Y3Yjk3ZDA4ODI4ZTRjY2JhNjRmYTk1N2M0NGNhYmM0KQogICAgICAgIDsKCiAgICAgICAgCiAgICAKICAgIAogICAgICAgICAgICB2YXIgY2lyY2xlX21hcmtlcl9kNjU5NWVmZGYyYWU0MWQ3OTIzN2QwNDk1ZTA2MjQ0NSA9IEwuY2lyY2xlTWFya2VyKAogICAgICAgICAgICAgICAgWzQzLjcwOTA2MDQsIC03OS4zNjM0NTE3XSwKICAgICAgICAgICAgICAgIHsiYnViYmxpbmdNb3VzZUV2ZW50cyI6IHRydWUsICJjb2xvciI6ICJibHVlIiwgImRhc2hBcnJheSI6IG51bGwsICJkYXNoT2Zmc2V0IjogbnVsbCwgImZpbGwiOiB0cnVlLCAiZmlsbENvbG9yIjogIiMzMTg2Y2MiLCAiZmlsbE9wYWNpdHkiOiAwLjcsICJmaWxsUnVsZSI6ICJldmVub2RkIiwgImxpbmVDYXAiOiAicm91bmQiLCAibGluZUpvaW4iOiAicm91bmQiLCAib3BhY2l0eSI6IDEuMCwgInJhZGl1cyI6IDUsICJzdHJva2UiOiB0cnVlLCAid2VpZ2h0IjogM30KICAgICAgICAgICAgKS5hZGRUbyhtYXBfZTI1OGNjZTQ0Yjg0NDc2NjkyM2EwOTg5OGJlMTRkMmEpOwogICAgICAgIAogICAgCiAgICAgICAgdmFyIHBvcHVwXzE3ZmRmMmY0YTk1YjQxNGI4YmM4YWNiNGI0NzhjNTkyID0gTC5wb3B1cCh7Im1heFdpZHRoIjogIjEwMCUifSk7CgogICAgICAgIAogICAgICAgICAgICB2YXIgaHRtbF9kNTU1NWNlZDJhYzg0ZDY2YWZkM2Q2ZjU4ZGMyZTc4ZCA9ICQoYDxkaXYgaWQ9Imh0bWxfZDU1NTVjZWQyYWM4NGQ2NmFmZDNkNmY1OGRjMmU3OGQiIHN0eWxlPSJ3aWR0aDogMTAwLjAlOyBoZWlnaHQ6IDEwMC4wJTsiPk00RyAtIEVhc3QgWW9yayAtIExlYXNpZGU8L2Rpdj5gKVswXTsKICAgICAgICAgICAgcG9wdXBfMTdmZGYyZjRhOTViNDE0YjhiYzhhY2I0YjQ3OGM1OTIuc2V0Q29udGVudChodG1sX2Q1NTU1Y2VkMmFjODRkNjZhZmQzZDZmNThkYzJlNzhkKTsKICAgICAgICAKCiAgICAgICAgY2lyY2xlX21hcmtlcl9kNjU5NWVmZGYyYWU0MWQ3OTIzN2QwNDk1ZTA2MjQ0NS5iaW5kUG9wdXAocG9wdXBfMTdmZGYyZjRhOTViNDE0YjhiYzhhY2I0YjQ3OGM1OTIpCiAgICAgICAgOwoKICAgICAgICAKICAgIAogICAgCiAgICAgICAgICAgIHZhciBjaXJjbGVfbWFya2VyX2ZhMTY1ZjRjMzM2NjQ2YjI4MjU1YWJjMDNjMWFjZGU2ID0gTC5jaXJjbGVNYXJrZXIoCiAgICAgICAgICAgICAgICBbNDMuNzA1MzY4OSwgLTc5LjM0OTM3MTkwMDAwMDAxXSwKICAgICAgICAgICAgICAgIHsiYnViYmxpbmdNb3VzZUV2ZW50cyI6IHRydWUsICJjb2xvciI6ICJibHVlIiwgImRhc2hBcnJheSI6IG51bGwsICJkYXNoT2Zmc2V0IjogbnVsbCwgImZpbGwiOiB0cnVlLCAiZmlsbENvbG9yIjogIiMzMTg2Y2MiLCAiZmlsbE9wYWNpdHkiOiAwLjcsICJmaWxsUnVsZSI6ICJldmVub2RkIiwgImxpbmVDYXAiOiAicm91bmQiLCAibGluZUpvaW4iOiAicm91bmQiLCAib3BhY2l0eSI6IDEuMCwgInJhZGl1cyI6IDUsICJzdHJva2UiOiB0cnVlLCAid2VpZ2h0IjogM30KICAgICAgICAgICAgKS5hZGRUbyhtYXBfZTI1OGNjZTQ0Yjg0NDc2NjkyM2EwOTg5OGJlMTRkMmEpOwogICAgICAgIAogICAgCiAgICAgICAgdmFyIHBvcHVwX2UxYjE2NjgzOTUyNTQxMTU4ZDYxMGI5NDdkODYxNGEyID0gTC5wb3B1cCh7Im1heFdpZHRoIjogIjEwMCUifSk7CgogICAgICAgIAogICAgICAgICAgICB2YXIgaHRtbF9kY2RhNDNhZTNhYTc0YjVjOTgyY2U1YjJlMjQ0OTdjMCA9ICQoYDxkaXYgaWQ9Imh0bWxfZGNkYTQzYWUzYWE3NGI1Yzk4MmNlNWIyZTI0NDk3YzAiIHN0eWxlPSJ3aWR0aDogMTAwLjAlOyBoZWlnaHQ6IDEwMC4wJTsiPk00SCAtIEVhc3QgWW9yayAtIFRob3JuY2xpZmZlIFBhcms8L2Rpdj5gKVswXTsKICAgICAgICAgICAgcG9wdXBfZTFiMTY2ODM5NTI1NDExNThkNjEwYjk0N2Q4NjE0YTIuc2V0Q29udGVudChodG1sX2RjZGE0M2FlM2FhNzRiNWM5ODJjZTViMmUyNDQ5N2MwKTsKICAgICAgICAKCiAgICAgICAgY2lyY2xlX21hcmtlcl9mYTE2NWY0YzMzNjY0NmIyODI1NWFiYzAzYzFhY2RlNi5iaW5kUG9wdXAocG9wdXBfZTFiMTY2ODM5NTI1NDExNThkNjEwYjk0N2Q4NjE0YTIpCiAgICAgICAgOwoKICAgICAgICAKICAgIAogICAgCiAgICAgICAgICAgIHZhciBjaXJjbGVfbWFya2VyX2EyN2JlMjBhN2FmMDQyYmQ5NDRkNzk2ZDRjMGEyNDA4ID0gTC5jaXJjbGVNYXJrZXIoCiAgICAgICAgICAgICAgICBbNDMuNjg1MzQ3LCAtNzkuMzM4MTA2NV0sCiAgICAgICAgICAgICAgICB7ImJ1YmJsaW5nTW91c2VFdmVudHMiOiB0cnVlLCAiY29sb3IiOiAiYmx1ZSIsICJkYXNoQXJyYXkiOiBudWxsLCAiZGFzaE9mZnNldCI6IG51bGwsICJmaWxsIjogdHJ1ZSwgImZpbGxDb2xvciI6ICIjMzE4NmNjIiwgImZpbGxPcGFjaXR5IjogMC43LCAiZmlsbFJ1bGUiOiAiZXZlbm9kZCIsICJsaW5lQ2FwIjogInJvdW5kIiwgImxpbmVKb2luIjogInJvdW5kIiwgIm9wYWNpdHkiOiAxLjAsICJyYWRpdXMiOiA1LCAic3Ryb2tlIjogdHJ1ZSwgIndlaWdodCI6IDN9CiAgICAgICAgICAgICkuYWRkVG8obWFwX2UyNThjY2U0NGI4NDQ3NjY5MjNhMDk4OThiZTE0ZDJhKTsKICAgICAgICAKICAgIAogICAgICAgIHZhciBwb3B1cF8xYjkyYjE0MzJkZDE0NmVkOTM4OWQ5ZWRmYmJiOTJlOCA9IEwucG9wdXAoeyJtYXhXaWR0aCI6ICIxMDAlIn0pOwoKICAgICAgICAKICAgICAgICAgICAgdmFyIGh0bWxfM2FlZGRkMDVjZmVhNDM4ZThhZWIxMjg0ZDg3OWE3YWQgPSAkKGA8ZGl2IGlkPSJodG1sXzNhZWRkZDA1Y2ZlYTQzOGU4YWViMTI4NGQ4NzlhN2FkIiBzdHlsZT0id2lkdGg6IDEwMC4wJTsgaGVpZ2h0OiAxMDAuMCU7Ij5NNEogLSBFYXN0IFlvcmsgLSBFYXN0IFRvcm9udG88L2Rpdj5gKVswXTsKICAgICAgICAgICAgcG9wdXBfMWI5MmIxNDMyZGQxNDZlZDkzODlkOWVkZmJiYjkyZTguc2V0Q29udGVudChodG1sXzNhZWRkZDA1Y2ZlYTQzOGU4YWViMTI4NGQ4NzlhN2FkKTsKICAgICAgICAKCiAgICAgICAgY2lyY2xlX21hcmtlcl9hMjdiZTIwYTdhZjA0MmJkOTQ0ZDc5NmQ0YzBhMjQwOC5iaW5kUG9wdXAocG9wdXBfMWI5MmIxNDMyZGQxNDZlZDkzODlkOWVkZmJiYjkyZTgpCiAgICAgICAgOwoKICAgICAgICAKICAgIAogICAgCiAgICAgICAgICAgIHZhciBjaXJjbGVfbWFya2VyXzM4MDk5ZThmZmM0NjQ5NmQ5NjFmNThiNjA2NmJhZTE1ID0gTC5jaXJjbGVNYXJrZXIoCiAgICAgICAgICAgICAgICBbNDMuNjc5NTU3MSwgLTc5LjM1MjE4OF0sCiAgICAgICAgICAgICAgICB7ImJ1YmJsaW5nTW91c2VFdmVudHMiOiB0cnVlLCAiY29sb3IiOiAiYmx1ZSIsICJkYXNoQXJyYXkiOiBudWxsLCAiZGFzaE9mZnNldCI6IG51bGwsICJmaWxsIjogdHJ1ZSwgImZpbGxDb2xvciI6ICIjMzE4NmNjIiwgImZpbGxPcGFjaXR5IjogMC43LCAiZmlsbFJ1bGUiOiAiZXZlbm9kZCIsICJsaW5lQ2FwIjogInJvdW5kIiwgImxpbmVKb2luIjogInJvdW5kIiwgIm9wYWNpdHkiOiAxLjAsICJyYWRpdXMiOiA1LCAic3Ryb2tlIjogdHJ1ZSwgIndlaWdodCI6IDN9CiAgICAgICAgICAgICkuYWRkVG8obWFwX2UyNThjY2U0NGI4NDQ3NjY5MjNhMDk4OThiZTE0ZDJhKTsKICAgICAgICAKICAgIAogICAgICAgIHZhciBwb3B1cF82ZTVkZjA5ZmEyYjg0OWM4OWY1NzkwZDdlYzBkMzM4ZiA9IEwucG9wdXAoeyJtYXhXaWR0aCI6ICIxMDAlIn0pOwoKICAgICAgICAKICAgICAgICAgICAgdmFyIGh0bWxfNjRjNzI4MDFmYTBhNDBhZmE1MDgzMjljYjdmNGY0YjMgPSAkKGA8ZGl2IGlkPSJodG1sXzY0YzcyODAxZmEwYTQwYWZhNTA4MzI5Y2I3ZjRmNGIzIiBzdHlsZT0id2lkdGg6IDEwMC4wJTsgaGVpZ2h0OiAxMDAuMCU7Ij5NNEsgLSBFYXN0IFRvcm9udG8gLSBUaGUgRGFuZm9ydGggV2VzdCxSaXZlcmRhbGU8L2Rpdj5gKVswXTsKICAgICAgICAgICAgcG9wdXBfNmU1ZGYwOWZhMmI4NDljODlmNTc5MGQ3ZWMwZDMzOGYuc2V0Q29udGVudChodG1sXzY0YzcyODAxZmEwYTQwYWZhNTA4MzI5Y2I3ZjRmNGIzKTsKICAgICAgICAKCiAgICAgICAgY2lyY2xlX21hcmtlcl8zODA5OWU4ZmZjNDY0OTZkOTYxZjU4YjYwNjZiYWUxNS5iaW5kUG9wdXAocG9wdXBfNmU1ZGYwOWZhMmI4NDljODlmNTc5MGQ3ZWMwZDMzOGYpCiAgICAgICAgOwoKICAgICAgICAKICAgIAogICAgCiAgICAgICAgICAgIHZhciBjaXJjbGVfbWFya2VyX2Q5MmRmNzZlOTAyZTQxMjE4N2VhM2FjZjI1NjlmZjE0ID0gTC5jaXJjbGVNYXJrZXIoCiAgICAgICAgICAgICAgICBbNDMuNjY4OTk4NSwgLTc5LjMxNTU3MTU5OTk5OTk4XSwKICAgICAgICAgICAgICAgIHsiYnViYmxpbmdNb3VzZUV2ZW50cyI6IHRydWUsICJjb2xvciI6ICJibHVlIiwgImRhc2hBcnJheSI6IG51bGwsICJkYXNoT2Zmc2V0IjogbnVsbCwgImZpbGwiOiB0cnVlLCAiZmlsbENvbG9yIjogIiMzMTg2Y2MiLCAiZmlsbE9wYWNpdHkiOiAwLjcsICJmaWxsUnVsZSI6ICJldmVub2RkIiwgImxpbmVDYXAiOiAicm91bmQiLCAibGluZUpvaW4iOiAicm91bmQiLCAib3BhY2l0eSI6IDEuMCwgInJhZGl1cyI6IDUsICJzdHJva2UiOiB0cnVlLCAid2VpZ2h0IjogM30KICAgICAgICAgICAgKS5hZGRUbyhtYXBfZTI1OGNjZTQ0Yjg0NDc2NjkyM2EwOTg5OGJlMTRkMmEpOwogICAgICAgIAogICAgCiAgICAgICAgdmFyIHBvcHVwXzM4NTRiYWI5Y2FhYzRjZDg5Yzc2YTJiOGFjMWQ1NDk5ID0gTC5wb3B1cCh7Im1heFdpZHRoIjogIjEwMCUifSk7CgogICAgICAgIAogICAgICAgICAgICB2YXIgaHRtbF81NWM0NmNlYmE5NTQ0MTk4YTc1NjMyMmY0MDc0ZjIzMiA9ICQoYDxkaXYgaWQ9Imh0bWxfNTVjNDZjZWJhOTU0NDE5OGE3NTYzMjJmNDA3NGYyMzIiIHN0eWxlPSJ3aWR0aDogMTAwLjAlOyBoZWlnaHQ6IDEwMC4wJTsiPk00TCAtIEVhc3QgVG9yb250byAtIFRoZSBCZWFjaGVzIFdlc3QsSW5kaWEgQmF6YWFyPC9kaXY+YClbMF07CiAgICAgICAgICAgIHBvcHVwXzM4NTRiYWI5Y2FhYzRjZDg5Yzc2YTJiOGFjMWQ1NDk5LnNldENvbnRlbnQoaHRtbF81NWM0NmNlYmE5NTQ0MTk4YTc1NjMyMmY0MDc0ZjIzMik7CiAgICAgICAgCgogICAgICAgIGNpcmNsZV9tYXJrZXJfZDkyZGY3NmU5MDJlNDEyMTg3ZWEzYWNmMjU2OWZmMTQuYmluZFBvcHVwKHBvcHVwXzM4NTRiYWI5Y2FhYzRjZDg5Yzc2YTJiOGFjMWQ1NDk5KQogICAgICAgIDsKCiAgICAgICAgCiAgICAKICAgIAogICAgICAgICAgICB2YXIgY2lyY2xlX21hcmtlcl8xYzc2OWYxZWM2OTY0NDE0YjRkZTM3NDIzOTI5OTBlNiA9IEwuY2lyY2xlTWFya2VyKAogICAgICAgICAgICAgICAgWzQzLjY1OTUyNTUsIC03OS4zNDA5MjNdLAogICAgICAgICAgICAgICAgeyJidWJibGluZ01vdXNlRXZlbnRzIjogdHJ1ZSwgImNvbG9yIjogImJsdWUiLCAiZGFzaEFycmF5IjogbnVsbCwgImRhc2hPZmZzZXQiOiBudWxsLCAiZmlsbCI6IHRydWUsICJmaWxsQ29sb3IiOiAiIzMxODZjYyIsICJmaWxsT3BhY2l0eSI6IDAuNywgImZpbGxSdWxlIjogImV2ZW5vZGQiLCAibGluZUNhcCI6ICJyb3VuZCIsICJsaW5lSm9pbiI6ICJyb3VuZCIsICJvcGFjaXR5IjogMS4wLCAicmFkaXVzIjogNSwgInN0cm9rZSI6IHRydWUsICJ3ZWlnaHQiOiAzfQogICAgICAgICAgICApLmFkZFRvKG1hcF9lMjU4Y2NlNDRiODQ0NzY2OTIzYTA5ODk4YmUxNGQyYSk7CiAgICAgICAgCiAgICAKICAgICAgICB2YXIgcG9wdXBfNTc0YWQ5MjdjM2Y1NGVhOThiYzg5Y2Y1ZmVjNmEzNTggPSBMLnBvcHVwKHsibWF4V2lkdGgiOiAiMTAwJSJ9KTsKCiAgICAgICAgCiAgICAgICAgICAgIHZhciBodG1sXzIyM2NjZDY4N2M3MjQ4MTJiOWQ3YWYyMWRiODVjMTY5ID0gJChgPGRpdiBpZD0iaHRtbF8yMjNjY2Q2ODdjNzI0ODEyYjlkN2FmMjFkYjg1YzE2OSIgc3R5bGU9IndpZHRoOiAxMDAuMCU7IGhlaWdodDogMTAwLjAlOyI+TTRNIC0gRWFzdCBUb3JvbnRvIC0gU3R1ZGlvIERpc3RyaWN0PC9kaXY+YClbMF07CiAgICAgICAgICAgIHBvcHVwXzU3NGFkOTI3YzNmNTRlYTk4YmM4OWNmNWZlYzZhMzU4LnNldENvbnRlbnQoaHRtbF8yMjNjY2Q2ODdjNzI0ODEyYjlkN2FmMjFkYjg1YzE2OSk7CiAgICAgICAgCgogICAgICAgIGNpcmNsZV9tYXJrZXJfMWM3NjlmMWVjNjk2NDQxNGI0ZGUzNzQyMzkyOTkwZTYuYmluZFBvcHVwKHBvcHVwXzU3NGFkOTI3YzNmNTRlYTk4YmM4OWNmNWZlYzZhMzU4KQogICAgICAgIDsKCiAgICAgICAgCiAgICAKICAgIAogICAgICAgICAgICB2YXIgY2lyY2xlX21hcmtlcl9jYjJkNTQ4MjdhMWI0NTMzOWU1MTI5YjgxNjMyMDNjYiA9IEwuY2lyY2xlTWFya2VyKAogICAgICAgICAgICAgICAgWzQzLjcyODAyMDUsIC03OS4zODg3OTAxXSwKICAgICAgICAgICAgICAgIHsiYnViYmxpbmdNb3VzZUV2ZW50cyI6IHRydWUsICJjb2xvciI6ICJibHVlIiwgImRhc2hBcnJheSI6IG51bGwsICJkYXNoT2Zmc2V0IjogbnVsbCwgImZpbGwiOiB0cnVlLCAiZmlsbENvbG9yIjogIiMzMTg2Y2MiLCAiZmlsbE9wYWNpdHkiOiAwLjcsICJmaWxsUnVsZSI6ICJldmVub2RkIiwgImxpbmVDYXAiOiAicm91bmQiLCAibGluZUpvaW4iOiAicm91bmQiLCAib3BhY2l0eSI6IDEuMCwgInJhZGl1cyI6IDUsICJzdHJva2UiOiB0cnVlLCAid2VpZ2h0IjogM30KICAgICAgICAgICAgKS5hZGRUbyhtYXBfZTI1OGNjZTQ0Yjg0NDc2NjkyM2EwOTg5OGJlMTRkMmEpOwogICAgICAgIAogICAgCiAgICAgICAgdmFyIHBvcHVwX2VmNjAyMzg1N2ZmMDRkZTViZTRmZmQ3MDMzZTZmN2ZmID0gTC5wb3B1cCh7Im1heFdpZHRoIjogIjEwMCUifSk7CgogICAgICAgIAogICAgICAgICAgICB2YXIgaHRtbF82YTIwOWY1MjZlMDY0MzJhOGVjYWI3NWRkMThkZjQ3OCA9ICQoYDxkaXYgaWQ9Imh0bWxfNmEyMDlmNTI2ZTA2NDMyYThlY2FiNzVkZDE4ZGY0NzgiIHN0eWxlPSJ3aWR0aDogMTAwLjAlOyBoZWlnaHQ6IDEwMC4wJTsiPk00TiAtIENlbnRyYWwgVG9yb250byAtIExhd3JlbmNlIFBhcms8L2Rpdj5gKVswXTsKICAgICAgICAgICAgcG9wdXBfZWY2MDIzODU3ZmYwNGRlNWJlNGZmZDcwMzNlNmY3ZmYuc2V0Q29udGVudChodG1sXzZhMjA5ZjUyNmUwNjQzMmE4ZWNhYjc1ZGQxOGRmNDc4KTsKICAgICAgICAKCiAgICAgICAgY2lyY2xlX21hcmtlcl9jYjJkNTQ4MjdhMWI0NTMzOWU1MTI5YjgxNjMyMDNjYi5iaW5kUG9wdXAocG9wdXBfZWY2MDIzODU3ZmYwNGRlNWJlNGZmZDcwMzNlNmY3ZmYpCiAgICAgICAgOwoKICAgICAgICAKICAgIAogICAgCiAgICAgICAgICAgIHZhciBjaXJjbGVfbWFya2VyXzBkOTcyMmVkMzgwYzQ2MjNhZTUwMTZhOTkwMmVhYzU4ID0gTC5jaXJjbGVNYXJrZXIoCiAgICAgICAgICAgICAgICBbNDMuNzEyNzUxMSwgLTc5LjM5MDE5NzVdLAogICAgICAgICAgICAgICAgeyJidWJibGluZ01vdXNlRXZlbnRzIjogdHJ1ZSwgImNvbG9yIjogImJsdWUiLCAiZGFzaEFycmF5IjogbnVsbCwgImRhc2hPZmZzZXQiOiBudWxsLCAiZmlsbCI6IHRydWUsICJmaWxsQ29sb3IiOiAiIzMxODZjYyIsICJmaWxsT3BhY2l0eSI6IDAuNywgImZpbGxSdWxlIjogImV2ZW5vZGQiLCAibGluZUNhcCI6ICJyb3VuZCIsICJsaW5lSm9pbiI6ICJyb3VuZCIsICJvcGFjaXR5IjogMS4wLCAicmFkaXVzIjogNSwgInN0cm9rZSI6IHRydWUsICJ3ZWlnaHQiOiAzfQogICAgICAgICAgICApLmFkZFRvKG1hcF9lMjU4Y2NlNDRiODQ0NzY2OTIzYTA5ODk4YmUxNGQyYSk7CiAgICAgICAgCiAgICAKICAgICAgICB2YXIgcG9wdXBfZGYyNWYzZDAzZTk0NGIxYWI1YTY2NzM2YmU5ODgxNmUgPSBMLnBvcHVwKHsibWF4V2lkdGgiOiAiMTAwJSJ9KTsKCiAgICAgICAgCiAgICAgICAgICAgIHZhciBodG1sX2QzMGE2OGExOTFhMjQyNzViMTY1YjhlOGNiZDEwYmZhID0gJChgPGRpdiBpZD0iaHRtbF9kMzBhNjhhMTkxYTI0Mjc1YjE2NWI4ZThjYmQxMGJmYSIgc3R5bGU9IndpZHRoOiAxMDAuMCU7IGhlaWdodDogMTAwLjAlOyI+TTRQIC0gQ2VudHJhbCBUb3JvbnRvIC0gRGF2aXN2aWxsZSBOb3J0aDwvZGl2PmApWzBdOwogICAgICAgICAgICBwb3B1cF9kZjI1ZjNkMDNlOTQ0YjFhYjVhNjY3MzZiZTk4ODE2ZS5zZXRDb250ZW50KGh0bWxfZDMwYTY4YTE5MWEyNDI3NWIxNjViOGU4Y2JkMTBiZmEpOwogICAgICAgIAoKICAgICAgICBjaXJjbGVfbWFya2VyXzBkOTcyMmVkMzgwYzQ2MjNhZTUwMTZhOTkwMmVhYzU4LmJpbmRQb3B1cChwb3B1cF9kZjI1ZjNkMDNlOTQ0YjFhYjVhNjY3MzZiZTk4ODE2ZSkKICAgICAgICA7CgogICAgICAgIAogICAgCiAgICAKICAgICAgICAgICAgdmFyIGNpcmNsZV9tYXJrZXJfNTk1MWE5ZTJjZjQwNGU0NGIxZDkwNTYwZGFjNjJiMDQgPSBMLmNpcmNsZU1hcmtlcigKICAgICAgICAgICAgICAgIFs0My43MTUzODM0LCAtNzkuNDA1Njc4NDAwMDAwMDFdLAogICAgICAgICAgICAgICAgeyJidWJibGluZ01vdXNlRXZlbnRzIjogdHJ1ZSwgImNvbG9yIjogImJsdWUiLCAiZGFzaEFycmF5IjogbnVsbCwgImRhc2hPZmZzZXQiOiBudWxsLCAiZmlsbCI6IHRydWUsICJmaWxsQ29sb3IiOiAiIzMxODZjYyIsICJmaWxsT3BhY2l0eSI6IDAuNywgImZpbGxSdWxlIjogImV2ZW5vZGQiLCAibGluZUNhcCI6ICJyb3VuZCIsICJsaW5lSm9pbiI6ICJyb3VuZCIsICJvcGFjaXR5IjogMS4wLCAicmFkaXVzIjogNSwgInN0cm9rZSI6IHRydWUsICJ3ZWlnaHQiOiAzfQogICAgICAgICAgICApLmFkZFRvKG1hcF9lMjU4Y2NlNDRiODQ0NzY2OTIzYTA5ODk4YmUxNGQyYSk7CiAgICAgICAgCiAgICAKICAgICAgICB2YXIgcG9wdXBfNTI2MmY3YmNjZmQ5NDc1Y2EyMGMwODkwZDI3MDRmODQgPSBMLnBvcHVwKHsibWF4V2lkdGgiOiAiMTAwJSJ9KTsKCiAgICAgICAgCiAgICAgICAgICAgIHZhciBodG1sXzM0OTFkYzUzODhjMDQyYjBhNGY2NWUzZWQ3NGM2NjMxID0gJChgPGRpdiBpZD0iaHRtbF8zNDkxZGM1Mzg4YzA0MmIwYTRmNjVlM2VkNzRjNjYzMSIgc3R5bGU9IndpZHRoOiAxMDAuMCU7IGhlaWdodDogMTAwLjAlOyI+TTRSIC0gQ2VudHJhbCBUb3JvbnRvIC0gTm9ydGggVG9yb250byBXZXN0PC9kaXY+YClbMF07CiAgICAgICAgICAgIHBvcHVwXzUyNjJmN2JjY2ZkOTQ3NWNhMjBjMDg5MGQyNzA0Zjg0LnNldENvbnRlbnQoaHRtbF8zNDkxZGM1Mzg4YzA0MmIwYTRmNjVlM2VkNzRjNjYzMSk7CiAgICAgICAgCgogICAgICAgIGNpcmNsZV9tYXJrZXJfNTk1MWE5ZTJjZjQwNGU0NGIxZDkwNTYwZGFjNjJiMDQuYmluZFBvcHVwKHBvcHVwXzUyNjJmN2JjY2ZkOTQ3NWNhMjBjMDg5MGQyNzA0Zjg0KQogICAgICAgIDsKCiAgICAgICAgCiAgICAKICAgIAogICAgICAgICAgICB2YXIgY2lyY2xlX21hcmtlcl80MmY4MzZkYTE5Nzk0OTBmOWI4MTZlMjA1MWEwMTI0OCA9IEwuY2lyY2xlTWFya2VyKAogICAgICAgICAgICAgICAgWzQzLjcwNDMyNDQsIC03OS4zODg3OTAxXSwKICAgICAgICAgICAgICAgIHsiYnViYmxpbmdNb3VzZUV2ZW50cyI6IHRydWUsICJjb2xvciI6ICJibHVlIiwgImRhc2hBcnJheSI6IG51bGwsICJkYXNoT2Zmc2V0IjogbnVsbCwgImZpbGwiOiB0cnVlLCAiZmlsbENvbG9yIjogIiMzMTg2Y2MiLCAiZmlsbE9wYWNpdHkiOiAwLjcsICJmaWxsUnVsZSI6ICJldmVub2RkIiwgImxpbmVDYXAiOiAicm91bmQiLCAibGluZUpvaW4iOiAicm91bmQiLCAib3BhY2l0eSI6IDEuMCwgInJhZGl1cyI6IDUsICJzdHJva2UiOiB0cnVlLCAid2VpZ2h0IjogM30KICAgICAgICAgICAgKS5hZGRUbyhtYXBfZTI1OGNjZTQ0Yjg0NDc2NjkyM2EwOTg5OGJlMTRkMmEpOwogICAgICAgIAogICAgCiAgICAgICAgdmFyIHBvcHVwXzdkMmIwZGJhNjVhZTRmMmZiMzllZjNkY2YzMTkwZGU1ID0gTC5wb3B1cCh7Im1heFdpZHRoIjogIjEwMCUifSk7CgogICAgICAgIAogICAgICAgICAgICB2YXIgaHRtbF9kYTk4NjUxMGFhMTY0NTQxYTkzODg2NDdiMjhmODczOSA9ICQoYDxkaXYgaWQ9Imh0bWxfZGE5ODY1MTBhYTE2NDU0MWE5Mzg4NjQ3YjI4Zjg3MzkiIHN0eWxlPSJ3aWR0aDogMTAwLjAlOyBoZWlnaHQ6IDEwMC4wJTsiPk00UyAtIENlbnRyYWwgVG9yb250byAtIERhdmlzdmlsbGU8L2Rpdj5gKVswXTsKICAgICAgICAgICAgcG9wdXBfN2QyYjBkYmE2NWFlNGYyZmIzOWVmM2RjZjMxOTBkZTUuc2V0Q29udGVudChodG1sX2RhOTg2NTEwYWExNjQ1NDFhOTM4ODY0N2IyOGY4NzM5KTsKICAgICAgICAKCiAgICAgICAgY2lyY2xlX21hcmtlcl80MmY4MzZkYTE5Nzk0OTBmOWI4MTZlMjA1MWEwMTI0OC5iaW5kUG9wdXAocG9wdXBfN2QyYjBkYmE2NWFlNGYyZmIzOWVmM2RjZjMxOTBkZTUpCiAgICAgICAgOwoKICAgICAgICAKICAgIAogICAgCiAgICAgICAgICAgIHZhciBjaXJjbGVfbWFya2VyXzhjZDE2NWI2NmQ1ZjRlMjE5YTkzZTUwYzEzYjdhM2Y3ID0gTC5jaXJjbGVNYXJrZXIoCiAgICAgICAgICAgICAgICBbNDMuNjg5NTc0MywgLTc5LjM4MzE1OTkwMDAwMDAxXSwKICAgICAgICAgICAgICAgIHsiYnViYmxpbmdNb3VzZUV2ZW50cyI6IHRydWUsICJjb2xvciI6ICJibHVlIiwgImRhc2hBcnJheSI6IG51bGwsICJkYXNoT2Zmc2V0IjogbnVsbCwgImZpbGwiOiB0cnVlLCAiZmlsbENvbG9yIjogIiMzMTg2Y2MiLCAiZmlsbE9wYWNpdHkiOiAwLjcsICJmaWxsUnVsZSI6ICJldmVub2RkIiwgImxpbmVDYXAiOiAicm91bmQiLCAibGluZUpvaW4iOiAicm91bmQiLCAib3BhY2l0eSI6IDEuMCwgInJhZGl1cyI6IDUsICJzdHJva2UiOiB0cnVlLCAid2VpZ2h0IjogM30KICAgICAgICAgICAgKS5hZGRUbyhtYXBfZTI1OGNjZTQ0Yjg0NDc2NjkyM2EwOTg5OGJlMTRkMmEpOwogICAgICAgIAogICAgCiAgICAgICAgdmFyIHBvcHVwX2Y3N2EwZWRjMmMxMDQ1ZjM5OGNjODAwNmYyZDc4MTZhID0gTC5wb3B1cCh7Im1heFdpZHRoIjogIjEwMCUifSk7CgogICAgICAgIAogICAgICAgICAgICB2YXIgaHRtbF81ODU0MWUzNDhiN2I0N2U2YjI3MmM3YThjZmI2ODNlMCA9ICQoYDxkaXYgaWQ9Imh0bWxfNTg1NDFlMzQ4YjdiNDdlNmIyNzJjN2E4Y2ZiNjgzZTAiIHN0eWxlPSJ3aWR0aDogMTAwLjAlOyBoZWlnaHQ6IDEwMC4wJTsiPk00VCAtIENlbnRyYWwgVG9yb250byAtIE1vb3JlIFBhcmssU3VtbWVyaGlsbCBFYXN0PC9kaXY+YClbMF07CiAgICAgICAgICAgIHBvcHVwX2Y3N2EwZWRjMmMxMDQ1ZjM5OGNjODAwNmYyZDc4MTZhLnNldENvbnRlbnQoaHRtbF81ODU0MWUzNDhiN2I0N2U2YjI3MmM3YThjZmI2ODNlMCk7CiAgICAgICAgCgogICAgICAgIGNpcmNsZV9tYXJrZXJfOGNkMTY1YjY2ZDVmNGUyMTlhOTNlNTBjMTNiN2EzZjcuYmluZFBvcHVwKHBvcHVwX2Y3N2EwZWRjMmMxMDQ1ZjM5OGNjODAwNmYyZDc4MTZhKQogICAgICAgIDsKCiAgICAgICAgCiAgICAKICAgIAogICAgICAgICAgICB2YXIgY2lyY2xlX21hcmtlcl9jYWU3OGFiNmQ0MDI0MTNlOGQ0ZWQ2N2Y3MzQ4ZjJlMyA9IEwuY2lyY2xlTWFya2VyKAogICAgICAgICAgICAgICAgWzQzLjY4NjQxMjI5OTk5OTk5LCAtNzkuNDAwMDQ5M10sCiAgICAgICAgICAgICAgICB7ImJ1YmJsaW5nTW91c2VFdmVudHMiOiB0cnVlLCAiY29sb3IiOiAiYmx1ZSIsICJkYXNoQXJyYXkiOiBudWxsLCAiZGFzaE9mZnNldCI6IG51bGwsICJmaWxsIjogdHJ1ZSwgImZpbGxDb2xvciI6ICIjMzE4NmNjIiwgImZpbGxPcGFjaXR5IjogMC43LCAiZmlsbFJ1bGUiOiAiZXZlbm9kZCIsICJsaW5lQ2FwIjogInJvdW5kIiwgImxpbmVKb2luIjogInJvdW5kIiwgIm9wYWNpdHkiOiAxLjAsICJyYWRpdXMiOiA1LCAic3Ryb2tlIjogdHJ1ZSwgIndlaWdodCI6IDN9CiAgICAgICAgICAgICkuYWRkVG8obWFwX2UyNThjY2U0NGI4NDQ3NjY5MjNhMDk4OThiZTE0ZDJhKTsKICAgICAgICAKICAgIAogICAgICAgIHZhciBwb3B1cF9kNzc3YzRlNDVkNzc0ZGU0YjY5ODg5ZDNhODk2ODFmOCA9IEwucG9wdXAoeyJtYXhXaWR0aCI6ICIxMDAlIn0pOwoKICAgICAgICAKICAgICAgICAgICAgdmFyIGh0bWxfYWM1YzI4MmM3NjkyNGY1MmIxMDAwOWEzM2I0N2MyMDkgPSAkKGA8ZGl2IGlkPSJodG1sX2FjNWMyODJjNzY5MjRmNTJiMTAwMDlhMzNiNDdjMjA5IiBzdHlsZT0id2lkdGg6IDEwMC4wJTsgaGVpZ2h0OiAxMDAuMCU7Ij5NNFYgLSBDZW50cmFsIFRvcm9udG8gLSBEZWVyIFBhcmssRm9yZXN0IEhpbGwgU0UsUmF0aG5lbGx5LFNvdXRoIEhpbGwsU3VtbWVyaGlsbCBXZXN0PC9kaXY+YClbMF07CiAgICAgICAgICAgIHBvcHVwX2Q3NzdjNGU0NWQ3NzRkZTRiNjk4ODlkM2E4OTY4MWY4LnNldENvbnRlbnQoaHRtbF9hYzVjMjgyYzc2OTI0ZjUyYjEwMDA5YTMzYjQ3YzIwOSk7CiAgICAgICAgCgogICAgICAgIGNpcmNsZV9tYXJrZXJfY2FlNzhhYjZkNDAyNDEzZThkNGVkNjdmNzM0OGYyZTMuYmluZFBvcHVwKHBvcHVwX2Q3NzdjNGU0NWQ3NzRkZTRiNjk4ODlkM2E4OTY4MWY4KQogICAgICAgIDsKCiAgICAgICAgCiAgICAKICAgIAogICAgICAgICAgICB2YXIgY2lyY2xlX21hcmtlcl81N2QwYzhlMDI5MWY0ZmQwODllYTEzZjM1M2NiOWNiMCA9IEwuY2lyY2xlTWFya2VyKAogICAgICAgICAgICAgICAgWzQzLjY3OTU2MjYsIC03OS4zNzc1Mjk0MDAwMDAwMV0sCiAgICAgICAgICAgICAgICB7ImJ1YmJsaW5nTW91c2VFdmVudHMiOiB0cnVlLCAiY29sb3IiOiAiYmx1ZSIsICJkYXNoQXJyYXkiOiBudWxsLCAiZGFzaE9mZnNldCI6IG51bGwsICJmaWxsIjogdHJ1ZSwgImZpbGxDb2xvciI6ICIjMzE4NmNjIiwgImZpbGxPcGFjaXR5IjogMC43LCAiZmlsbFJ1bGUiOiAiZXZlbm9kZCIsICJsaW5lQ2FwIjogInJvdW5kIiwgImxpbmVKb2luIjogInJvdW5kIiwgIm9wYWNpdHkiOiAxLjAsICJyYWRpdXMiOiA1LCAic3Ryb2tlIjogdHJ1ZSwgIndlaWdodCI6IDN9CiAgICAgICAgICAgICkuYWRkVG8obWFwX2UyNThjY2U0NGI4NDQ3NjY5MjNhMDk4OThiZTE0ZDJhKTsKICAgICAgICAKICAgIAogICAgICAgIHZhciBwb3B1cF82ZDlhZjdhMDEzM2Y0OTQwOTZiNjY2MDdhNjJkOTdjZiA9IEwucG9wdXAoeyJtYXhXaWR0aCI6ICIxMDAlIn0pOwoKICAgICAgICAKICAgICAgICAgICAgdmFyIGh0bWxfNGQzNDRhYzk2M2RhNGM2NGI5NTlkOThlZjYyZDRkMjIgPSAkKGA8ZGl2IGlkPSJodG1sXzRkMzQ0YWM5NjNkYTRjNjRiOTU5ZDk4ZWY2MmQ0ZDIyIiBzdHlsZT0id2lkdGg6IDEwMC4wJTsgaGVpZ2h0OiAxMDAuMCU7Ij5NNFcgLSBEb3dudG93biBUb3JvbnRvIC0gUm9zZWRhbGU8L2Rpdj5gKVswXTsKICAgICAgICAgICAgcG9wdXBfNmQ5YWY3YTAxMzNmNDk0MDk2YjY2NjA3YTYyZDk3Y2Yuc2V0Q29udGVudChodG1sXzRkMzQ0YWM5NjNkYTRjNjRiOTU5ZDk4ZWY2MmQ0ZDIyKTsKICAgICAgICAKCiAgICAgICAgY2lyY2xlX21hcmtlcl81N2QwYzhlMDI5MWY0ZmQwODllYTEzZjM1M2NiOWNiMC5iaW5kUG9wdXAocG9wdXBfNmQ5YWY3YTAxMzNmNDk0MDk2YjY2NjA3YTYyZDk3Y2YpCiAgICAgICAgOwoKICAgICAgICAKICAgIAogICAgCiAgICAgICAgICAgIHZhciBjaXJjbGVfbWFya2VyXzQwZTlhMjc4MmQ4YjQ5M2Q5YTY5MDdmOTM1ODZhZjlkID0gTC5jaXJjbGVNYXJrZXIoCiAgICAgICAgICAgICAgICBbNDMuNjY3OTY3LCAtNzkuMzY3Njc1M10sCiAgICAgICAgICAgICAgICB7ImJ1YmJsaW5nTW91c2VFdmVudHMiOiB0cnVlLCAiY29sb3IiOiAiYmx1ZSIsICJkYXNoQXJyYXkiOiBudWxsLCAiZGFzaE9mZnNldCI6IG51bGwsICJmaWxsIjogdHJ1ZSwgImZpbGxDb2xvciI6ICIjMzE4NmNjIiwgImZpbGxPcGFjaXR5IjogMC43LCAiZmlsbFJ1bGUiOiAiZXZlbm9kZCIsICJsaW5lQ2FwIjogInJvdW5kIiwgImxpbmVKb2luIjogInJvdW5kIiwgIm9wYWNpdHkiOiAxLjAsICJyYWRpdXMiOiA1LCAic3Ryb2tlIjogdHJ1ZSwgIndlaWdodCI6IDN9CiAgICAgICAgICAgICkuYWRkVG8obWFwX2UyNThjY2U0NGI4NDQ3NjY5MjNhMDk4OThiZTE0ZDJhKTsKICAgICAgICAKICAgIAogICAgICAgIHZhciBwb3B1cF9lZjdhZGQxNGY3NDA0MzdkOTc0MDM5NDM0MmU2YTcyOCA9IEwucG9wdXAoeyJtYXhXaWR0aCI6ICIxMDAlIn0pOwoKICAgICAgICAKICAgICAgICAgICAgdmFyIGh0bWxfODM5ZjdkM2U1ODgzNDA5Zjg2MGIxNjhhZDQ2NDdlMDkgPSAkKGA8ZGl2IGlkPSJodG1sXzgzOWY3ZDNlNTg4MzQwOWY4NjBiMTY4YWQ0NjQ3ZTA5IiBzdHlsZT0id2lkdGg6IDEwMC4wJTsgaGVpZ2h0OiAxMDAuMCU7Ij5NNFggLSBEb3dudG93biBUb3JvbnRvIC0gQ2FiYmFnZXRvd24sU3QuIEphbWVzIFRvd248L2Rpdj5gKVswXTsKICAgICAgICAgICAgcG9wdXBfZWY3YWRkMTRmNzQwNDM3ZDk3NDAzOTQzNDJlNmE3Mjguc2V0Q29udGVudChodG1sXzgzOWY3ZDNlNTg4MzQwOWY4NjBiMTY4YWQ0NjQ3ZTA5KTsKICAgICAgICAKCiAgICAgICAgY2lyY2xlX21hcmtlcl80MGU5YTI3ODJkOGI0OTNkOWE2OTA3ZjkzNTg2YWY5ZC5iaW5kUG9wdXAocG9wdXBfZWY3YWRkMTRmNzQwNDM3ZDk3NDAzOTQzNDJlNmE3MjgpCiAgICAgICAgOwoKICAgICAgICAKICAgIAogICAgCiAgICAgICAgICAgIHZhciBjaXJjbGVfbWFya2VyX2U2ZGQwZDNlYmRmZDQ4YTk5Njg5MTFmMjA3YjdiNTBiID0gTC5jaXJjbGVNYXJrZXIoCiAgICAgICAgICAgICAgICBbNDMuNjY1ODU5OSwgLTc5LjM4MzE1OTkwMDAwMDAxXSwKICAgICAgICAgICAgICAgIHsiYnViYmxpbmdNb3VzZUV2ZW50cyI6IHRydWUsICJjb2xvciI6ICJibHVlIiwgImRhc2hBcnJheSI6IG51bGwsICJkYXNoT2Zmc2V0IjogbnVsbCwgImZpbGwiOiB0cnVlLCAiZmlsbENvbG9yIjogIiMzMTg2Y2MiLCAiZmlsbE9wYWNpdHkiOiAwLjcsICJmaWxsUnVsZSI6ICJldmVub2RkIiwgImxpbmVDYXAiOiAicm91bmQiLCAibGluZUpvaW4iOiAicm91bmQiLCAib3BhY2l0eSI6IDEuMCwgInJhZGl1cyI6IDUsICJzdHJva2UiOiB0cnVlLCAid2VpZ2h0IjogM30KICAgICAgICAgICAgKS5hZGRUbyhtYXBfZTI1OGNjZTQ0Yjg0NDc2NjkyM2EwOTg5OGJlMTRkMmEpOwogICAgICAgIAogICAgCiAgICAgICAgdmFyIHBvcHVwXzU0MWM1Y2E2N2Y1MzQ3MTc5NjJkYThkMDBmZjRmZGYxID0gTC5wb3B1cCh7Im1heFdpZHRoIjogIjEwMCUifSk7CgogICAgICAgIAogICAgICAgICAgICB2YXIgaHRtbF9kOTA1ZjI2OTFlNGY0NTA3YmRiMDlkZjUwNTY0ZmQ3ZSA9ICQoYDxkaXYgaWQ9Imh0bWxfZDkwNWYyNjkxZTRmNDUwN2JkYjA5ZGY1MDU2NGZkN2UiIHN0eWxlPSJ3aWR0aDogMTAwLjAlOyBoZWlnaHQ6IDEwMC4wJTsiPk00WSAtIERvd250b3duIFRvcm9udG8gLSBDaHVyY2ggYW5kIFdlbGxlc2xleTwvZGl2PmApWzBdOwogICAgICAgICAgICBwb3B1cF81NDFjNWNhNjdmNTM0NzE3OTYyZGE4ZDAwZmY0ZmRmMS5zZXRDb250ZW50KGh0bWxfZDkwNWYyNjkxZTRmNDUwN2JkYjA5ZGY1MDU2NGZkN2UpOwogICAgICAgIAoKICAgICAgICBjaXJjbGVfbWFya2VyX2U2ZGQwZDNlYmRmZDQ4YTk5Njg5MTFmMjA3YjdiNTBiLmJpbmRQb3B1cChwb3B1cF81NDFjNWNhNjdmNTM0NzE3OTYyZGE4ZDAwZmY0ZmRmMSkKICAgICAgICA7CgogICAgICAgIAogICAgCiAgICAKICAgICAgICAgICAgdmFyIGNpcmNsZV9tYXJrZXJfZGQxY2Q0MDMxYzNlNGUwMzhhNDFkYjY1MjE1MTM2NTcgPSBMLmNpcmNsZU1hcmtlcigKICAgICAgICAgICAgICAgIFs0My42NTQyNTk5LCAtNzkuMzYwNjM1OV0sCiAgICAgICAgICAgICAgICB7ImJ1YmJsaW5nTW91c2VFdmVudHMiOiB0cnVlLCAiY29sb3IiOiAiYmx1ZSIsICJkYXNoQXJyYXkiOiBudWxsLCAiZGFzaE9mZnNldCI6IG51bGwsICJmaWxsIjogdHJ1ZSwgImZpbGxDb2xvciI6ICIjMzE4NmNjIiwgImZpbGxPcGFjaXR5IjogMC43LCAiZmlsbFJ1bGUiOiAiZXZlbm9kZCIsICJsaW5lQ2FwIjogInJvdW5kIiwgImxpbmVKb2luIjogInJvdW5kIiwgIm9wYWNpdHkiOiAxLjAsICJyYWRpdXMiOiA1LCAic3Ryb2tlIjogdHJ1ZSwgIndlaWdodCI6IDN9CiAgICAgICAgICAgICkuYWRkVG8obWFwX2UyNThjY2U0NGI4NDQ3NjY5MjNhMDk4OThiZTE0ZDJhKTsKICAgICAgICAKICAgIAogICAgICAgIHZhciBwb3B1cF8zYjcyOWViZGQwYmQ0NjlkYThkNDVkN2I3NmMxNDE4ZSA9IEwucG9wdXAoeyJtYXhXaWR0aCI6ICIxMDAlIn0pOwoKICAgICAgICAKICAgICAgICAgICAgdmFyIGh0bWxfMDBjODcxNjA1YTE1NDRjYTkwNDVjYmQyMjUwYWU5YTcgPSAkKGA8ZGl2IGlkPSJodG1sXzAwYzg3MTYwNWExNTQ0Y2E5MDQ1Y2JkMjI1MGFlOWE3IiBzdHlsZT0id2lkdGg6IDEwMC4wJTsgaGVpZ2h0OiAxMDAuMCU7Ij5NNUEgLSBEb3dudG93biBUb3JvbnRvIC0gSGFyYm91cmZyb250LFJlZ2VudCBQYXJrPC9kaXY+YClbMF07CiAgICAgICAgICAgIHBvcHVwXzNiNzI5ZWJkZDBiZDQ2OWRhOGQ0NWQ3Yjc2YzE0MThlLnNldENvbnRlbnQoaHRtbF8wMGM4NzE2MDVhMTU0NGNhOTA0NWNiZDIyNTBhZTlhNyk7CiAgICAgICAgCgogICAgICAgIGNpcmNsZV9tYXJrZXJfZGQxY2Q0MDMxYzNlNGUwMzhhNDFkYjY1MjE1MTM2NTcuYmluZFBvcHVwKHBvcHVwXzNiNzI5ZWJkZDBiZDQ2OWRhOGQ0NWQ3Yjc2YzE0MThlKQogICAgICAgIDsKCiAgICAgICAgCiAgICAKICAgIAogICAgICAgICAgICB2YXIgY2lyY2xlX21hcmtlcl8yYzVmOWMxNDIzZmI0OWY1YWRiZGFjYTAxMTcyNDgyMSA9IEwuY2lyY2xlTWFya2VyKAogICAgICAgICAgICAgICAgWzQzLjY1NzE2MTgsIC03OS4zNzg5MzcwOTk5OTk5OV0sCiAgICAgICAgICAgICAgICB7ImJ1YmJsaW5nTW91c2VFdmVudHMiOiB0cnVlLCAiY29sb3IiOiAiYmx1ZSIsICJkYXNoQXJyYXkiOiBudWxsLCAiZGFzaE9mZnNldCI6IG51bGwsICJmaWxsIjogdHJ1ZSwgImZpbGxDb2xvciI6ICIjMzE4NmNjIiwgImZpbGxPcGFjaXR5IjogMC43LCAiZmlsbFJ1bGUiOiAiZXZlbm9kZCIsICJsaW5lQ2FwIjogInJvdW5kIiwgImxpbmVKb2luIjogInJvdW5kIiwgIm9wYWNpdHkiOiAxLjAsICJyYWRpdXMiOiA1LCAic3Ryb2tlIjogdHJ1ZSwgIndlaWdodCI6IDN9CiAgICAgICAgICAgICkuYWRkVG8obWFwX2UyNThjY2U0NGI4NDQ3NjY5MjNhMDk4OThiZTE0ZDJhKTsKICAgICAgICAKICAgIAogICAgICAgIHZhciBwb3B1cF9mYjI2YTFmNTZhODQ0ZGQyODliYzIwYzdlNTYyZDIyOSA9IEwucG9wdXAoeyJtYXhXaWR0aCI6ICIxMDAlIn0pOwoKICAgICAgICAKICAgICAgICAgICAgdmFyIGh0bWxfMTViYzk5ODg4NDRiNGFkYjkxMTVhZWMzOWRmNzZlNGEgPSAkKGA8ZGl2IGlkPSJodG1sXzE1YmM5OTg4ODQ0YjRhZGI5MTE1YWVjMzlkZjc2ZTRhIiBzdHlsZT0id2lkdGg6IDEwMC4wJTsgaGVpZ2h0OiAxMDAuMCU7Ij5NNUIgLSBEb3dudG93biBUb3JvbnRvIC0gUnllcnNvbixHYXJkZW4gRGlzdHJpY3Q8L2Rpdj5gKVswXTsKICAgICAgICAgICAgcG9wdXBfZmIyNmExZjU2YTg0NGRkMjg5YmMyMGM3ZTU2MmQyMjkuc2V0Q29udGVudChodG1sXzE1YmM5OTg4ODQ0YjRhZGI5MTE1YWVjMzlkZjc2ZTRhKTsKICAgICAgICAKCiAgICAgICAgY2lyY2xlX21hcmtlcl8yYzVmOWMxNDIzZmI0OWY1YWRiZGFjYTAxMTcyNDgyMS5iaW5kUG9wdXAocG9wdXBfZmIyNmExZjU2YTg0NGRkMjg5YmMyMGM3ZTU2MmQyMjkpCiAgICAgICAgOwoKICAgICAgICAKICAgIAogICAgCiAgICAgICAgICAgIHZhciBjaXJjbGVfbWFya2VyXzFmZGY2YjY0ZmQ3MDRlNjc5MGE2MDJhZWY3NDM5OTAyID0gTC5jaXJjbGVNYXJrZXIoCiAgICAgICAgICAgICAgICBbNDMuNjUxNDkzOSwgLTc5LjM3NTQxNzldLAogICAgICAgICAgICAgICAgeyJidWJibGluZ01vdXNlRXZlbnRzIjogdHJ1ZSwgImNvbG9yIjogImJsdWUiLCAiZGFzaEFycmF5IjogbnVsbCwgImRhc2hPZmZzZXQiOiBudWxsLCAiZmlsbCI6IHRydWUsICJmaWxsQ29sb3IiOiAiIzMxODZjYyIsICJmaWxsT3BhY2l0eSI6IDAuNywgImZpbGxSdWxlIjogImV2ZW5vZGQiLCAibGluZUNhcCI6ICJyb3VuZCIsICJsaW5lSm9pbiI6ICJyb3VuZCIsICJvcGFjaXR5IjogMS4wLCAicmFkaXVzIjogNSwgInN0cm9rZSI6IHRydWUsICJ3ZWlnaHQiOiAzfQogICAgICAgICAgICApLmFkZFRvKG1hcF9lMjU4Y2NlNDRiODQ0NzY2OTIzYTA5ODk4YmUxNGQyYSk7CiAgICAgICAgCiAgICAKICAgICAgICB2YXIgcG9wdXBfNjUzMmJjZGRiNTM2NGViMzg2ZjMyNjcwZmNkMGE5ZDEgPSBMLnBvcHVwKHsibWF4V2lkdGgiOiAiMTAwJSJ9KTsKCiAgICAgICAgCiAgICAgICAgICAgIHZhciBodG1sXzlmNTYwZDAzMjk4ZDQ5NjU4MTNiNjRhYzY3MTYwZThlID0gJChgPGRpdiBpZD0iaHRtbF85ZjU2MGQwMzI5OGQ0OTY1ODEzYjY0YWM2NzE2MGU4ZSIgc3R5bGU9IndpZHRoOiAxMDAuMCU7IGhlaWdodDogMTAwLjAlOyI+TTVDIC0gRG93bnRvd24gVG9yb250byAtIFN0LiBKYW1lcyBUb3duPC9kaXY+YClbMF07CiAgICAgICAgICAgIHBvcHVwXzY1MzJiY2RkYjUzNjRlYjM4NmYzMjY3MGZjZDBhOWQxLnNldENvbnRlbnQoaHRtbF85ZjU2MGQwMzI5OGQ0OTY1ODEzYjY0YWM2NzE2MGU4ZSk7CiAgICAgICAgCgogICAgICAgIGNpcmNsZV9tYXJrZXJfMWZkZjZiNjRmZDcwNGU2NzkwYTYwMmFlZjc0Mzk5MDIuYmluZFBvcHVwKHBvcHVwXzY1MzJiY2RkYjUzNjRlYjM4NmYzMjY3MGZjZDBhOWQxKQogICAgICAgIDsKCiAgICAgICAgCiAgICAKICAgIAogICAgICAgICAgICB2YXIgY2lyY2xlX21hcmtlcl83MjU3YjYzNzhhNjE0NWVmYTlkOGM2MTgxM2ZhNGYyNyA9IEwuY2lyY2xlTWFya2VyKAogICAgICAgICAgICAgICAgWzQzLjY0NDc3MDc5OTk5OTk5NiwgLTc5LjM3MzMwNjRdLAogICAgICAgICAgICAgICAgeyJidWJibGluZ01vdXNlRXZlbnRzIjogdHJ1ZSwgImNvbG9yIjogImJsdWUiLCAiZGFzaEFycmF5IjogbnVsbCwgImRhc2hPZmZzZXQiOiBudWxsLCAiZmlsbCI6IHRydWUsICJmaWxsQ29sb3IiOiAiIzMxODZjYyIsICJmaWxsT3BhY2l0eSI6IDAuNywgImZpbGxSdWxlIjogImV2ZW5vZGQiLCAibGluZUNhcCI6ICJyb3VuZCIsICJsaW5lSm9pbiI6ICJyb3VuZCIsICJvcGFjaXR5IjogMS4wLCAicmFkaXVzIjogNSwgInN0cm9rZSI6IHRydWUsICJ3ZWlnaHQiOiAzfQogICAgICAgICAgICApLmFkZFRvKG1hcF9lMjU4Y2NlNDRiODQ0NzY2OTIzYTA5ODk4YmUxNGQyYSk7CiAgICAgICAgCiAgICAKICAgICAgICB2YXIgcG9wdXBfMGYwYWE4NWI2M2ZmNGQzZGI1NmU2ZjE3MmQxZmU0ZjQgPSBMLnBvcHVwKHsibWF4V2lkdGgiOiAiMTAwJSJ9KTsKCiAgICAgICAgCiAgICAgICAgICAgIHZhciBodG1sX2Q0MjNiYTY2ZmQxODQyNDBhMjliYTJiNGQwOWE5MTM4ID0gJChgPGRpdiBpZD0iaHRtbF9kNDIzYmE2NmZkMTg0MjQwYTI5YmEyYjRkMDlhOTEzOCIgc3R5bGU9IndpZHRoOiAxMDAuMCU7IGhlaWdodDogMTAwLjAlOyI+TTVFIC0gRG93bnRvd24gVG9yb250byAtIEJlcmN6eSBQYXJrPC9kaXY+YClbMF07CiAgICAgICAgICAgIHBvcHVwXzBmMGFhODViNjNmZjRkM2RiNTZlNmYxNzJkMWZlNGY0LnNldENvbnRlbnQoaHRtbF9kNDIzYmE2NmZkMTg0MjQwYTI5YmEyYjRkMDlhOTEzOCk7CiAgICAgICAgCgogICAgICAgIGNpcmNsZV9tYXJrZXJfNzI1N2I2Mzc4YTYxNDVlZmE5ZDhjNjE4MTNmYTRmMjcuYmluZFBvcHVwKHBvcHVwXzBmMGFhODViNjNmZjRkM2RiNTZlNmYxNzJkMWZlNGY0KQogICAgICAgIDsKCiAgICAgICAgCiAgICAKICAgIAogICAgICAgICAgICB2YXIgY2lyY2xlX21hcmtlcl8zYzc2OWExYjYzZmY0NjJlYTY3YmUwZGVmMjZjZGQyNyA9IEwuY2lyY2xlTWFya2VyKAogICAgICAgICAgICAgICAgWzQzLjY1Nzk1MjQsIC03OS4zODczODI2XSwKICAgICAgICAgICAgICAgIHsiYnViYmxpbmdNb3VzZUV2ZW50cyI6IHRydWUsICJjb2xvciI6ICJibHVlIiwgImRhc2hBcnJheSI6IG51bGwsICJkYXNoT2Zmc2V0IjogbnVsbCwgImZpbGwiOiB0cnVlLCAiZmlsbENvbG9yIjogIiMzMTg2Y2MiLCAiZmlsbE9wYWNpdHkiOiAwLjcsICJmaWxsUnVsZSI6ICJldmVub2RkIiwgImxpbmVDYXAiOiAicm91bmQiLCAibGluZUpvaW4iOiAicm91bmQiLCAib3BhY2l0eSI6IDEuMCwgInJhZGl1cyI6IDUsICJzdHJva2UiOiB0cnVlLCAid2VpZ2h0IjogM30KICAgICAgICAgICAgKS5hZGRUbyhtYXBfZTI1OGNjZTQ0Yjg0NDc2NjkyM2EwOTg5OGJlMTRkMmEpOwogICAgICAgIAogICAgCiAgICAgICAgdmFyIHBvcHVwX2JhMWQ2MDFhY2U2YzQzYmZiMDM0MWExMGVjZDkzOGZiID0gTC5wb3B1cCh7Im1heFdpZHRoIjogIjEwMCUifSk7CgogICAgICAgIAogICAgICAgICAgICB2YXIgaHRtbF83YzdkYTE1ZTkxOTQ0ZWM1YmEyN2M1OWMwOGI1YTZhNiA9ICQoYDxkaXYgaWQ9Imh0bWxfN2M3ZGExNWU5MTk0NGVjNWJhMjdjNTljMDhiNWE2YTYiIHN0eWxlPSJ3aWR0aDogMTAwLjAlOyBoZWlnaHQ6IDEwMC4wJTsiPk01RyAtIERvd250b3duIFRvcm9udG8gLSBDZW50cmFsIEJheSBTdHJlZXQ8L2Rpdj5gKVswXTsKICAgICAgICAgICAgcG9wdXBfYmExZDYwMWFjZTZjNDNiZmIwMzQxYTEwZWNkOTM4ZmIuc2V0Q29udGVudChodG1sXzdjN2RhMTVlOTE5NDRlYzViYTI3YzU5YzA4YjVhNmE2KTsKICAgICAgICAKCiAgICAgICAgY2lyY2xlX21hcmtlcl8zYzc2OWExYjYzZmY0NjJlYTY3YmUwZGVmMjZjZGQyNy5iaW5kUG9wdXAocG9wdXBfYmExZDYwMWFjZTZjNDNiZmIwMzQxYTEwZWNkOTM4ZmIpCiAgICAgICAgOwoKICAgICAgICAKICAgIAogICAgCiAgICAgICAgICAgIHZhciBjaXJjbGVfbWFya2VyX2M4ZmExNDQxMDVhZDRkMmI4YTEyMWU1ZTY0YWZmYjQwID0gTC5jaXJjbGVNYXJrZXIoCiAgICAgICAgICAgICAgICBbNDMuNjUwNTcxMjAwMDAwMDEsIC03OS4zODQ1Njc1XSwKICAgICAgICAgICAgICAgIHsiYnViYmxpbmdNb3VzZUV2ZW50cyI6IHRydWUsICJjb2xvciI6ICJibHVlIiwgImRhc2hBcnJheSI6IG51bGwsICJkYXNoT2Zmc2V0IjogbnVsbCwgImZpbGwiOiB0cnVlLCAiZmlsbENvbG9yIjogIiMzMTg2Y2MiLCAiZmlsbE9wYWNpdHkiOiAwLjcsICJmaWxsUnVsZSI6ICJldmVub2RkIiwgImxpbmVDYXAiOiAicm91bmQiLCAibGluZUpvaW4iOiAicm91bmQiLCAib3BhY2l0eSI6IDEuMCwgInJhZGl1cyI6IDUsICJzdHJva2UiOiB0cnVlLCAid2VpZ2h0IjogM30KICAgICAgICAgICAgKS5hZGRUbyhtYXBfZTI1OGNjZTQ0Yjg0NDc2NjkyM2EwOTg5OGJlMTRkMmEpOwogICAgICAgIAogICAgCiAgICAgICAgdmFyIHBvcHVwX2JmMDhlZWIwYTg0MTQwYjliMThiNmJiYTA4M2EwNjIxID0gTC5wb3B1cCh7Im1heFdpZHRoIjogIjEwMCUifSk7CgogICAgICAgIAogICAgICAgICAgICB2YXIgaHRtbF84NmNkMzU5ZWM4MTY0NmYwOTBmNzJjNjViYTJhZDA0OSA9ICQoYDxkaXYgaWQ9Imh0bWxfODZjZDM1OWVjODE2NDZmMDkwZjcyYzY1YmEyYWQwNDkiIHN0eWxlPSJ3aWR0aDogMTAwLjAlOyBoZWlnaHQ6IDEwMC4wJTsiPk01SCAtIERvd250b3duIFRvcm9udG8gLSBBZGVsYWlkZSxLaW5nLFJpY2htb25kPC9kaXY+YClbMF07CiAgICAgICAgICAgIHBvcHVwX2JmMDhlZWIwYTg0MTQwYjliMThiNmJiYTA4M2EwNjIxLnNldENvbnRlbnQoaHRtbF84NmNkMzU5ZWM4MTY0NmYwOTBmNzJjNjViYTJhZDA0OSk7CiAgICAgICAgCgogICAgICAgIGNpcmNsZV9tYXJrZXJfYzhmYTE0NDEwNWFkNGQyYjhhMTIxZTVlNjRhZmZiNDAuYmluZFBvcHVwKHBvcHVwX2JmMDhlZWIwYTg0MTQwYjliMThiNmJiYTA4M2EwNjIxKQogICAgICAgIDsKCiAgICAgICAgCiAgICAKICAgIAogICAgICAgICAgICB2YXIgY2lyY2xlX21hcmtlcl9iMDhjMDQzZDhkNzc0OTIxYWE0MTRlZDI1NzUyNWVmYyA9IEwuY2lyY2xlTWFya2VyKAogICAgICAgICAgICAgICAgWzQzLjY0MDgxNTcsIC03OS4zODE3NTIyOTk5OTk5OV0sCiAgICAgICAgICAgICAgICB7ImJ1YmJsaW5nTW91c2VFdmVudHMiOiB0cnVlLCAiY29sb3IiOiAiYmx1ZSIsICJkYXNoQXJyYXkiOiBudWxsLCAiZGFzaE9mZnNldCI6IG51bGwsICJmaWxsIjogdHJ1ZSwgImZpbGxDb2xvciI6ICIjMzE4NmNjIiwgImZpbGxPcGFjaXR5IjogMC43LCAiZmlsbFJ1bGUiOiAiZXZlbm9kZCIsICJsaW5lQ2FwIjogInJvdW5kIiwgImxpbmVKb2luIjogInJvdW5kIiwgIm9wYWNpdHkiOiAxLjAsICJyYWRpdXMiOiA1LCAic3Ryb2tlIjogdHJ1ZSwgIndlaWdodCI6IDN9CiAgICAgICAgICAgICkuYWRkVG8obWFwX2UyNThjY2U0NGI4NDQ3NjY5MjNhMDk4OThiZTE0ZDJhKTsKICAgICAgICAKICAgIAogICAgICAgIHZhciBwb3B1cF81MDE1YWI1Yzc4MDA0MzdkYjM3YjRkZTExOWNjZWViNiA9IEwucG9wdXAoeyJtYXhXaWR0aCI6ICIxMDAlIn0pOwoKICAgICAgICAKICAgICAgICAgICAgdmFyIGh0bWxfMzIwODllYzYwMzA5NGI5ZjlmN2U1YjdlN2U4YmQzYWEgPSAkKGA8ZGl2IGlkPSJodG1sXzMyMDg5ZWM2MDMwOTRiOWY5ZjdlNWI3ZTdlOGJkM2FhIiBzdHlsZT0id2lkdGg6IDEwMC4wJTsgaGVpZ2h0OiAxMDAuMCU7Ij5NNUogLSBEb3dudG93biBUb3JvbnRvIC0gSGFyYm91cmZyb250IEVhc3QsVG9yb250byBJc2xhbmRzLFVuaW9uIFN0YXRpb248L2Rpdj5gKVswXTsKICAgICAgICAgICAgcG9wdXBfNTAxNWFiNWM3ODAwNDM3ZGIzN2I0ZGUxMTljY2VlYjYuc2V0Q29udGVudChodG1sXzMyMDg5ZWM2MDMwOTRiOWY5ZjdlNWI3ZTdlOGJkM2FhKTsKICAgICAgICAKCiAgICAgICAgY2lyY2xlX21hcmtlcl9iMDhjMDQzZDhkNzc0OTIxYWE0MTRlZDI1NzUyNWVmYy5iaW5kUG9wdXAocG9wdXBfNTAxNWFiNWM3ODAwNDM3ZGIzN2I0ZGUxMTljY2VlYjYpCiAgICAgICAgOwoKICAgICAgICAKICAgIAogICAgCiAgICAgICAgICAgIHZhciBjaXJjbGVfbWFya2VyXzY3MDgzOTAxZTczNDQxMzI4Y2Q0MTI5ZjNhMmNhYTk5ID0gTC5jaXJjbGVNYXJrZXIoCiAgICAgICAgICAgICAgICBbNDMuNjQ3MTc2OCwgLTc5LjM4MTU3NjQwMDAwMDAxXSwKICAgICAgICAgICAgICAgIHsiYnViYmxpbmdNb3VzZUV2ZW50cyI6IHRydWUsICJjb2xvciI6ICJibHVlIiwgImRhc2hBcnJheSI6IG51bGwsICJkYXNoT2Zmc2V0IjogbnVsbCwgImZpbGwiOiB0cnVlLCAiZmlsbENvbG9yIjogIiMzMTg2Y2MiLCAiZmlsbE9wYWNpdHkiOiAwLjcsICJmaWxsUnVsZSI6ICJldmVub2RkIiwgImxpbmVDYXAiOiAicm91bmQiLCAibGluZUpvaW4iOiAicm91bmQiLCAib3BhY2l0eSI6IDEuMCwgInJhZGl1cyI6IDUsICJzdHJva2UiOiB0cnVlLCAid2VpZ2h0IjogM30KICAgICAgICAgICAgKS5hZGRUbyhtYXBfZTI1OGNjZTQ0Yjg0NDc2NjkyM2EwOTg5OGJlMTRkMmEpOwogICAgICAgIAogICAgCiAgICAgICAgdmFyIHBvcHVwX2Q5YmE3NTc0ZDQ4MzQ0ZGI5YzFlOGEwN2E3MjBhODQ5ID0gTC5wb3B1cCh7Im1heFdpZHRoIjogIjEwMCUifSk7CgogICAgICAgIAogICAgICAgICAgICB2YXIgaHRtbF9hZTUyMjZiZTkyMzA0ZjgwYWFhNTkxNmViZTZjOGM1ZCA9ICQoYDxkaXYgaWQ9Imh0bWxfYWU1MjI2YmU5MjMwNGY4MGFhYTU5MTZlYmU2YzhjNWQiIHN0eWxlPSJ3aWR0aDogMTAwLjAlOyBoZWlnaHQ6IDEwMC4wJTsiPk01SyAtIERvd250b3duIFRvcm9udG8gLSBEZXNpZ24gRXhjaGFuZ2UsVG9yb250byBEb21pbmlvbiBDZW50cmU8L2Rpdj5gKVswXTsKICAgICAgICAgICAgcG9wdXBfZDliYTc1NzRkNDgzNDRkYjljMWU4YTA3YTcyMGE4NDkuc2V0Q29udGVudChodG1sX2FlNTIyNmJlOTIzMDRmODBhYWE1OTE2ZWJlNmM4YzVkKTsKICAgICAgICAKCiAgICAgICAgY2lyY2xlX21hcmtlcl82NzA4MzkwMWU3MzQ0MTMyOGNkNDEyOWYzYTJjYWE5OS5iaW5kUG9wdXAocG9wdXBfZDliYTc1NzRkNDgzNDRkYjljMWU4YTA3YTcyMGE4NDkpCiAgICAgICAgOwoKICAgICAgICAKICAgIAogICAgCiAgICAgICAgICAgIHZhciBjaXJjbGVfbWFya2VyX2U1Mzc4YTBiMmYwNTQxZThiNTkxZTg0NzgxNTc1N2RkID0gTC5jaXJjbGVNYXJrZXIoCiAgICAgICAgICAgICAgICBbNDMuNjQ4MTk4NSwgLTc5LjM3OTgxNjkwMDAwMDAxXSwKICAgICAgICAgICAgICAgIHsiYnViYmxpbmdNb3VzZUV2ZW50cyI6IHRydWUsICJjb2xvciI6ICJibHVlIiwgImRhc2hBcnJheSI6IG51bGwsICJkYXNoT2Zmc2V0IjogbnVsbCwgImZpbGwiOiB0cnVlLCAiZmlsbENvbG9yIjogIiMzMTg2Y2MiLCAiZmlsbE9wYWNpdHkiOiAwLjcsICJmaWxsUnVsZSI6ICJldmVub2RkIiwgImxpbmVDYXAiOiAicm91bmQiLCAibGluZUpvaW4iOiAicm91bmQiLCAib3BhY2l0eSI6IDEuMCwgInJhZGl1cyI6IDUsICJzdHJva2UiOiB0cnVlLCAid2VpZ2h0IjogM30KICAgICAgICAgICAgKS5hZGRUbyhtYXBfZTI1OGNjZTQ0Yjg0NDc2NjkyM2EwOTg5OGJlMTRkMmEpOwogICAgICAgIAogICAgCiAgICAgICAgdmFyIHBvcHVwXzE1YWIzYzNkMWM2MjQyMDA4ZjVkNmM0YTZlMTRkZDM0ID0gTC5wb3B1cCh7Im1heFdpZHRoIjogIjEwMCUifSk7CgogICAgICAgIAogICAgICAgICAgICB2YXIgaHRtbF9kNTE5YzAwZjVkN2I0ZDZjOGQwY2JlOGFiMzRmNDgyZiA9ICQoYDxkaXYgaWQ9Imh0bWxfZDUxOWMwMGY1ZDdiNGQ2YzhkMGNiZThhYjM0ZjQ4MmYiIHN0eWxlPSJ3aWR0aDogMTAwLjAlOyBoZWlnaHQ6IDEwMC4wJTsiPk01TCAtIERvd250b3duIFRvcm9udG8gLSBDb21tZXJjZSBDb3VydCxWaWN0b3JpYSBIb3RlbDwvZGl2PmApWzBdOwogICAgICAgICAgICBwb3B1cF8xNWFiM2MzZDFjNjI0MjAwOGY1ZDZjNGE2ZTE0ZGQzNC5zZXRDb250ZW50KGh0bWxfZDUxOWMwMGY1ZDdiNGQ2YzhkMGNiZThhYjM0ZjQ4MmYpOwogICAgICAgIAoKICAgICAgICBjaXJjbGVfbWFya2VyX2U1Mzc4YTBiMmYwNTQxZThiNTkxZTg0NzgxNTc1N2RkLmJpbmRQb3B1cChwb3B1cF8xNWFiM2MzZDFjNjI0MjAwOGY1ZDZjNGE2ZTE0ZGQzNCkKICAgICAgICA7CgogICAgICAgIAogICAgCiAgICAKICAgICAgICAgICAgdmFyIGNpcmNsZV9tYXJrZXJfMzY5MmNjNThjMmQwNDUzZGJlM2I0ZWQ2ZDI3N2ZiNmMgPSBMLmNpcmNsZU1hcmtlcigKICAgICAgICAgICAgICAgIFs0My43MzMyODI1LCAtNzkuNDE5NzQ5N10sCiAgICAgICAgICAgICAgICB7ImJ1YmJsaW5nTW91c2VFdmVudHMiOiB0cnVlLCAiY29sb3IiOiAiYmx1ZSIsICJkYXNoQXJyYXkiOiBudWxsLCAiZGFzaE9mZnNldCI6IG51bGwsICJmaWxsIjogdHJ1ZSwgImZpbGxDb2xvciI6ICIjMzE4NmNjIiwgImZpbGxPcGFjaXR5IjogMC43LCAiZmlsbFJ1bGUiOiAiZXZlbm9kZCIsICJsaW5lQ2FwIjogInJvdW5kIiwgImxpbmVKb2luIjogInJvdW5kIiwgIm9wYWNpdHkiOiAxLjAsICJyYWRpdXMiOiA1LCAic3Ryb2tlIjogdHJ1ZSwgIndlaWdodCI6IDN9CiAgICAgICAgICAgICkuYWRkVG8obWFwX2UyNThjY2U0NGI4NDQ3NjY5MjNhMDk4OThiZTE0ZDJhKTsKICAgICAgICAKICAgIAogICAgICAgIHZhciBwb3B1cF9hOGQ3MDc3M2Y1N2I0MjRmOTZiY2IzYzlkMmQ3NDM1OSA9IEwucG9wdXAoeyJtYXhXaWR0aCI6ICIxMDAlIn0pOwoKICAgICAgICAKICAgICAgICAgICAgdmFyIGh0bWxfZjlkNjM4N2JjOTg4NDVlNWE1MmQ1NDYzNDMyYmRiOTIgPSAkKGA8ZGl2IGlkPSJodG1sX2Y5ZDYzODdiYzk4ODQ1ZTVhNTJkNTQ2MzQzMmJkYjkyIiBzdHlsZT0id2lkdGg6IDEwMC4wJTsgaGVpZ2h0OiAxMDAuMCU7Ij5NNU0gLSBOb3J0aCBZb3JrIC0gQmVkZm9yZCBQYXJrLExhd3JlbmNlIE1hbm9yIEVhc3Q8L2Rpdj5gKVswXTsKICAgICAgICAgICAgcG9wdXBfYThkNzA3NzNmNTdiNDI0Zjk2YmNiM2M5ZDJkNzQzNTkuc2V0Q29udGVudChodG1sX2Y5ZDYzODdiYzk4ODQ1ZTVhNTJkNTQ2MzQzMmJkYjkyKTsKICAgICAgICAKCiAgICAgICAgY2lyY2xlX21hcmtlcl8zNjkyY2M1OGMyZDA0NTNkYmUzYjRlZDZkMjc3ZmI2Yy5iaW5kUG9wdXAocG9wdXBfYThkNzA3NzNmNTdiNDI0Zjk2YmNiM2M5ZDJkNzQzNTkpCiAgICAgICAgOwoKICAgICAgICAKICAgIAogICAgCiAgICAgICAgICAgIHZhciBjaXJjbGVfbWFya2VyX2IxMzY2ZGVmZWYzYjRlM2Y4ODUxYjE5ZDlmNjdiNDg2ID0gTC5jaXJjbGVNYXJrZXIoCiAgICAgICAgICAgICAgICBbNDMuNzExNjk0OCwgLTc5LjQxNjkzNTU5OTk5OTk5XSwKICAgICAgICAgICAgICAgIHsiYnViYmxpbmdNb3VzZUV2ZW50cyI6IHRydWUsICJjb2xvciI6ICJibHVlIiwgImRhc2hBcnJheSI6IG51bGwsICJkYXNoT2Zmc2V0IjogbnVsbCwgImZpbGwiOiB0cnVlLCAiZmlsbENvbG9yIjogIiMzMTg2Y2MiLCAiZmlsbE9wYWNpdHkiOiAwLjcsICJmaWxsUnVsZSI6ICJldmVub2RkIiwgImxpbmVDYXAiOiAicm91bmQiLCAibGluZUpvaW4iOiAicm91bmQiLCAib3BhY2l0eSI6IDEuMCwgInJhZGl1cyI6IDUsICJzdHJva2UiOiB0cnVlLCAid2VpZ2h0IjogM30KICAgICAgICAgICAgKS5hZGRUbyhtYXBfZTI1OGNjZTQ0Yjg0NDc2NjkyM2EwOTg5OGJlMTRkMmEpOwogICAgICAgIAogICAgCiAgICAgICAgdmFyIHBvcHVwXzYxMGE0OTRkNjM3NDQyMDQ4YTE5YTcwMjFlYzliYTdiID0gTC5wb3B1cCh7Im1heFdpZHRoIjogIjEwMCUifSk7CgogICAgICAgIAogICAgICAgICAgICB2YXIgaHRtbF82ZTgzOGFkN2MzOTU0MmUzYmI0NDZkMzRhNGEyNDA5ZiA9ICQoYDxkaXYgaWQ9Imh0bWxfNmU4MzhhZDdjMzk1NDJlM2JiNDQ2ZDM0YTRhMjQwOWYiIHN0eWxlPSJ3aWR0aDogMTAwLjAlOyBoZWlnaHQ6IDEwMC4wJTsiPk01TiAtIENlbnRyYWwgVG9yb250byAtIFJvc2VsYXduPC9kaXY+YClbMF07CiAgICAgICAgICAgIHBvcHVwXzYxMGE0OTRkNjM3NDQyMDQ4YTE5YTcwMjFlYzliYTdiLnNldENvbnRlbnQoaHRtbF82ZTgzOGFkN2MzOTU0MmUzYmI0NDZkMzRhNGEyNDA5Zik7CiAgICAgICAgCgogICAgICAgIGNpcmNsZV9tYXJrZXJfYjEzNjZkZWZlZjNiNGUzZjg4NTFiMTlkOWY2N2I0ODYuYmluZFBvcHVwKHBvcHVwXzYxMGE0OTRkNjM3NDQyMDQ4YTE5YTcwMjFlYzliYTdiKQogICAgICAgIDsKCiAgICAgICAgCiAgICAKICAgIAogICAgICAgICAgICB2YXIgY2lyY2xlX21hcmtlcl9kNTg3YzE1N2VmZGU0YTI2OTgyNjg0NmRjMDhkM2NkNSA9IEwuY2lyY2xlTWFya2VyKAogICAgICAgICAgICAgICAgWzQzLjY5Njk0NzYsIC03OS40MTEzMDcyMDAwMDAwMV0sCiAgICAgICAgICAgICAgICB7ImJ1YmJsaW5nTW91c2VFdmVudHMiOiB0cnVlLCAiY29sb3IiOiAiYmx1ZSIsICJkYXNoQXJyYXkiOiBudWxsLCAiZGFzaE9mZnNldCI6IG51bGwsICJmaWxsIjogdHJ1ZSwgImZpbGxDb2xvciI6ICIjMzE4NmNjIiwgImZpbGxPcGFjaXR5IjogMC43LCAiZmlsbFJ1bGUiOiAiZXZlbm9kZCIsICJsaW5lQ2FwIjogInJvdW5kIiwgImxpbmVKb2luIjogInJvdW5kIiwgIm9wYWNpdHkiOiAxLjAsICJyYWRpdXMiOiA1LCAic3Ryb2tlIjogdHJ1ZSwgIndlaWdodCI6IDN9CiAgICAgICAgICAgICkuYWRkVG8obWFwX2UyNThjY2U0NGI4NDQ3NjY5MjNhMDk4OThiZTE0ZDJhKTsKICAgICAgICAKICAgIAogICAgICAgIHZhciBwb3B1cF9jYmI4NDhlYzU2Mzk0MTIzOGFhNGRjMzE0Yzc5N2YzYiA9IEwucG9wdXAoeyJtYXhXaWR0aCI6ICIxMDAlIn0pOwoKICAgICAgICAKICAgICAgICAgICAgdmFyIGh0bWxfMjViYWMxZDA0YjJkNDJjYmI3ZDA2NzFjYTg2MWQ5OTYgPSAkKGA8ZGl2IGlkPSJodG1sXzI1YmFjMWQwNGIyZDQyY2JiN2QwNjcxY2E4NjFkOTk2IiBzdHlsZT0id2lkdGg6IDEwMC4wJTsgaGVpZ2h0OiAxMDAuMCU7Ij5NNVAgLSBDZW50cmFsIFRvcm9udG8gLSBGb3Jlc3QgSGlsbCBOb3J0aCxGb3Jlc3QgSGlsbCBXZXN0PC9kaXY+YClbMF07CiAgICAgICAgICAgIHBvcHVwX2NiYjg0OGVjNTYzOTQxMjM4YWE0ZGMzMTRjNzk3ZjNiLnNldENvbnRlbnQoaHRtbF8yNWJhYzFkMDRiMmQ0MmNiYjdkMDY3MWNhODYxZDk5Nik7CiAgICAgICAgCgogICAgICAgIGNpcmNsZV9tYXJrZXJfZDU4N2MxNTdlZmRlNGEyNjk4MjY4NDZkYzA4ZDNjZDUuYmluZFBvcHVwKHBvcHVwX2NiYjg0OGVjNTYzOTQxMjM4YWE0ZGMzMTRjNzk3ZjNiKQogICAgICAgIDsKCiAgICAgICAgCiAgICAKICAgIAogICAgICAgICAgICB2YXIgY2lyY2xlX21hcmtlcl81NDdhNDNlOWMxMTE0MWM3YWUyNmUzZDNmYjJmN2NmZSA9IEwuY2lyY2xlTWFya2VyKAogICAgICAgICAgICAgICAgWzQzLjY3MjcwOTcsIC03OS40MDU2Nzg0MDAwMDAwMV0sCiAgICAgICAgICAgICAgICB7ImJ1YmJsaW5nTW91c2VFdmVudHMiOiB0cnVlLCAiY29sb3IiOiAiYmx1ZSIsICJkYXNoQXJyYXkiOiBudWxsLCAiZGFzaE9mZnNldCI6IG51bGwsICJmaWxsIjogdHJ1ZSwgImZpbGxDb2xvciI6ICIjMzE4NmNjIiwgImZpbGxPcGFjaXR5IjogMC43LCAiZmlsbFJ1bGUiOiAiZXZlbm9kZCIsICJsaW5lQ2FwIjogInJvdW5kIiwgImxpbmVKb2luIjogInJvdW5kIiwgIm9wYWNpdHkiOiAxLjAsICJyYWRpdXMiOiA1LCAic3Ryb2tlIjogdHJ1ZSwgIndlaWdodCI6IDN9CiAgICAgICAgICAgICkuYWRkVG8obWFwX2UyNThjY2U0NGI4NDQ3NjY5MjNhMDk4OThiZTE0ZDJhKTsKICAgICAgICAKICAgIAogICAgICAgIHZhciBwb3B1cF9mNTA2MTc0YzI2YWU0NjRjYTc4OWUyNDE0OWM3ZTQ0ZCA9IEwucG9wdXAoeyJtYXhXaWR0aCI6ICIxMDAlIn0pOwoKICAgICAgICAKICAgICAgICAgICAgdmFyIGh0bWxfZDc2ZWFmMjA1NTk5NDAyNjkzMzhjNGYxMmE2MzQzZjkgPSAkKGA8ZGl2IGlkPSJodG1sX2Q3NmVhZjIwNTU5OTQwMjY5MzM4YzRmMTJhNjM0M2Y5IiBzdHlsZT0id2lkdGg6IDEwMC4wJTsgaGVpZ2h0OiAxMDAuMCU7Ij5NNVIgLSBDZW50cmFsIFRvcm9udG8gLSBUaGUgQW5uZXgsTm9ydGggTWlkdG93bixZb3JrdmlsbGU8L2Rpdj5gKVswXTsKICAgICAgICAgICAgcG9wdXBfZjUwNjE3NGMyNmFlNDY0Y2E3ODllMjQxNDljN2U0NGQuc2V0Q29udGVudChodG1sX2Q3NmVhZjIwNTU5OTQwMjY5MzM4YzRmMTJhNjM0M2Y5KTsKICAgICAgICAKCiAgICAgICAgY2lyY2xlX21hcmtlcl81NDdhNDNlOWMxMTE0MWM3YWUyNmUzZDNmYjJmN2NmZS5iaW5kUG9wdXAocG9wdXBfZjUwNjE3NGMyNmFlNDY0Y2E3ODllMjQxNDljN2U0NGQpCiAgICAgICAgOwoKICAgICAgICAKICAgIAogICAgCiAgICAgICAgICAgIHZhciBjaXJjbGVfbWFya2VyXzYzNWI5MTg4NTM1ZjRiZTA5Zjc5Yzg3OTFlN2VkZDY0ID0gTC5jaXJjbGVNYXJrZXIoCiAgICAgICAgICAgICAgICBbNDMuNjYyNjk1NiwgLTc5LjQwMDA0OTNdLAogICAgICAgICAgICAgICAgeyJidWJibGluZ01vdXNlRXZlbnRzIjogdHJ1ZSwgImNvbG9yIjogImJsdWUiLCAiZGFzaEFycmF5IjogbnVsbCwgImRhc2hPZmZzZXQiOiBudWxsLCAiZmlsbCI6IHRydWUsICJmaWxsQ29sb3IiOiAiIzMxODZjYyIsICJmaWxsT3BhY2l0eSI6IDAuNywgImZpbGxSdWxlIjogImV2ZW5vZGQiLCAibGluZUNhcCI6ICJyb3VuZCIsICJsaW5lSm9pbiI6ICJyb3VuZCIsICJvcGFjaXR5IjogMS4wLCAicmFkaXVzIjogNSwgInN0cm9rZSI6IHRydWUsICJ3ZWlnaHQiOiAzfQogICAgICAgICAgICApLmFkZFRvKG1hcF9lMjU4Y2NlNDRiODQ0NzY2OTIzYTA5ODk4YmUxNGQyYSk7CiAgICAgICAgCiAgICAKICAgICAgICB2YXIgcG9wdXBfZmEwYzA5MjA0YzkxNGJlMzg0YTI3N2RlNTRhMDVhZjkgPSBMLnBvcHVwKHsibWF4V2lkdGgiOiAiMTAwJSJ9KTsKCiAgICAgICAgCiAgICAgICAgICAgIHZhciBodG1sX2QwYmQ2NzgyNmUwZjQ0Y2ZhMWIxMzhhZGU2YmEzOTViID0gJChgPGRpdiBpZD0iaHRtbF9kMGJkNjc4MjZlMGY0NGNmYTFiMTM4YWRlNmJhMzk1YiIgc3R5bGU9IndpZHRoOiAxMDAuMCU7IGhlaWdodDogMTAwLjAlOyI+TTVTIC0gRG93bnRvd24gVG9yb250byAtIEhhcmJvcmQsVW5pdmVyc2l0eSBvZiBUb3JvbnRvPC9kaXY+YClbMF07CiAgICAgICAgICAgIHBvcHVwX2ZhMGMwOTIwNGM5MTRiZTM4NGEyNzdkZTU0YTA1YWY5LnNldENvbnRlbnQoaHRtbF9kMGJkNjc4MjZlMGY0NGNmYTFiMTM4YWRlNmJhMzk1Yik7CiAgICAgICAgCgogICAgICAgIGNpcmNsZV9tYXJrZXJfNjM1YjkxODg1MzVmNGJlMDlmNzljODc5MWU3ZWRkNjQuYmluZFBvcHVwKHBvcHVwX2ZhMGMwOTIwNGM5MTRiZTM4NGEyNzdkZTU0YTA1YWY5KQogICAgICAgIDsKCiAgICAgICAgCiAgICAKICAgIAogICAgICAgICAgICB2YXIgY2lyY2xlX21hcmtlcl83ZWQ2ZWExOGM3NWU0OGY5OGQ5MGNmMmU3NTEwZmI4NyA9IEwuY2lyY2xlTWFya2VyKAogICAgICAgICAgICAgICAgWzQzLjY1MzIwNTcsIC03OS40MDAwNDkzXSwKICAgICAgICAgICAgICAgIHsiYnViYmxpbmdNb3VzZUV2ZW50cyI6IHRydWUsICJjb2xvciI6ICJibHVlIiwgImRhc2hBcnJheSI6IG51bGwsICJkYXNoT2Zmc2V0IjogbnVsbCwgImZpbGwiOiB0cnVlLCAiZmlsbENvbG9yIjogIiMzMTg2Y2MiLCAiZmlsbE9wYWNpdHkiOiAwLjcsICJmaWxsUnVsZSI6ICJldmVub2RkIiwgImxpbmVDYXAiOiAicm91bmQiLCAibGluZUpvaW4iOiAicm91bmQiLCAib3BhY2l0eSI6IDEuMCwgInJhZGl1cyI6IDUsICJzdHJva2UiOiB0cnVlLCAid2VpZ2h0IjogM30KICAgICAgICAgICAgKS5hZGRUbyhtYXBfZTI1OGNjZTQ0Yjg0NDc2NjkyM2EwOTg5OGJlMTRkMmEpOwogICAgICAgIAogICAgCiAgICAgICAgdmFyIHBvcHVwXzAxNmM0NTY3NmY3ZTRhNDNiMDQxZGIxN2I2Njc2NjYwID0gTC5wb3B1cCh7Im1heFdpZHRoIjogIjEwMCUifSk7CgogICAgICAgIAogICAgICAgICAgICB2YXIgaHRtbF82MTQ2MWMzZGU0M2Y0YjBlYjUxZWNlOTJhMTBjMWI3OSA9ICQoYDxkaXYgaWQ9Imh0bWxfNjE0NjFjM2RlNDNmNGIwZWI1MWVjZTkyYTEwYzFiNzkiIHN0eWxlPSJ3aWR0aDogMTAwLjAlOyBoZWlnaHQ6IDEwMC4wJTsiPk01VCAtIERvd250b3duIFRvcm9udG8gLSBDaGluYXRvd24sR3JhbmdlIFBhcmssS2Vuc2luZ3RvbiBNYXJrZXQ8L2Rpdj5gKVswXTsKICAgICAgICAgICAgcG9wdXBfMDE2YzQ1Njc2ZjdlNGE0M2IwNDFkYjE3YjY2NzY2NjAuc2V0Q29udGVudChodG1sXzYxNDYxYzNkZTQzZjRiMGViNTFlY2U5MmExMGMxYjc5KTsKICAgICAgICAKCiAgICAgICAgY2lyY2xlX21hcmtlcl83ZWQ2ZWExOGM3NWU0OGY5OGQ5MGNmMmU3NTEwZmI4Ny5iaW5kUG9wdXAocG9wdXBfMDE2YzQ1Njc2ZjdlNGE0M2IwNDFkYjE3YjY2NzY2NjApCiAgICAgICAgOwoKICAgICAgICAKICAgIAogICAgCiAgICAgICAgICAgIHZhciBjaXJjbGVfbWFya2VyX2E4OWZjNjI1ZTlkZTRlYTliODhhNWNhZmYyNDc3ZGE4ID0gTC5jaXJjbGVNYXJrZXIoCiAgICAgICAgICAgICAgICBbNDMuNjI4OTQ2NywgLTc5LjM5NDQxOTldLAogICAgICAgICAgICAgICAgeyJidWJibGluZ01vdXNlRXZlbnRzIjogdHJ1ZSwgImNvbG9yIjogImJsdWUiLCAiZGFzaEFycmF5IjogbnVsbCwgImRhc2hPZmZzZXQiOiBudWxsLCAiZmlsbCI6IHRydWUsICJmaWxsQ29sb3IiOiAiIzMxODZjYyIsICJmaWxsT3BhY2l0eSI6IDAuNywgImZpbGxSdWxlIjogImV2ZW5vZGQiLCAibGluZUNhcCI6ICJyb3VuZCIsICJsaW5lSm9pbiI6ICJyb3VuZCIsICJvcGFjaXR5IjogMS4wLCAicmFkaXVzIjogNSwgInN0cm9rZSI6IHRydWUsICJ3ZWlnaHQiOiAzfQogICAgICAgICAgICApLmFkZFRvKG1hcF9lMjU4Y2NlNDRiODQ0NzY2OTIzYTA5ODk4YmUxNGQyYSk7CiAgICAgICAgCiAgICAKICAgICAgICB2YXIgcG9wdXBfYjAwMWE5YTk4ZGYzNDVkN2I3OThlZmIyOGUxMTIxZWYgPSBMLnBvcHVwKHsibWF4V2lkdGgiOiAiMTAwJSJ9KTsKCiAgICAgICAgCiAgICAgICAgICAgIHZhciBodG1sXzhjOWQ1ZWRkN2NiYTQyYjg4NzhhNDFmNzQ1ZmZmNTljID0gJChgPGRpdiBpZD0iaHRtbF84YzlkNWVkZDdjYmE0MmI4ODc4YTQxZjc0NWZmZjU5YyIgc3R5bGU9IndpZHRoOiAxMDAuMCU7IGhlaWdodDogMTAwLjAlOyI+TTVWIC0gRG93bnRvd24gVG9yb250byAtIENOIFRvd2VyLEJhdGh1cnN0IFF1YXksSXNsYW5kIGFpcnBvcnQsSGFyYm91cmZyb250IFdlc3QsS2luZyBhbmQgU3BhZGluYSxSYWlsd2F5IExhbmRzLFNvdXRoIE5pYWdhcmE8L2Rpdj5gKVswXTsKICAgICAgICAgICAgcG9wdXBfYjAwMWE5YTk4ZGYzNDVkN2I3OThlZmIyOGUxMTIxZWYuc2V0Q29udGVudChodG1sXzhjOWQ1ZWRkN2NiYTQyYjg4NzhhNDFmNzQ1ZmZmNTljKTsKICAgICAgICAKCiAgICAgICAgY2lyY2xlX21hcmtlcl9hODlmYzYyNWU5ZGU0ZWE5Yjg4YTVjYWZmMjQ3N2RhOC5iaW5kUG9wdXAocG9wdXBfYjAwMWE5YTk4ZGYzNDVkN2I3OThlZmIyOGUxMTIxZWYpCiAgICAgICAgOwoKICAgICAgICAKICAgIAogICAgCiAgICAgICAgICAgIHZhciBjaXJjbGVfbWFya2VyXzQ4NTQ3NDdlOGJhZDQ5MTNiY2Y2MGI2MTdmNzgxZTBiID0gTC5jaXJjbGVNYXJrZXIoCiAgICAgICAgICAgICAgICBbNDMuNjQ2NDM1MiwgLTc5LjM3NDg0NTk5OTk5OTk5XSwKICAgICAgICAgICAgICAgIHsiYnViYmxpbmdNb3VzZUV2ZW50cyI6IHRydWUsICJjb2xvciI6ICJibHVlIiwgImRhc2hBcnJheSI6IG51bGwsICJkYXNoT2Zmc2V0IjogbnVsbCwgImZpbGwiOiB0cnVlLCAiZmlsbENvbG9yIjogIiMzMTg2Y2MiLCAiZmlsbE9wYWNpdHkiOiAwLjcsICJmaWxsUnVsZSI6ICJldmVub2RkIiwgImxpbmVDYXAiOiAicm91bmQiLCAibGluZUpvaW4iOiAicm91bmQiLCAib3BhY2l0eSI6IDEuMCwgInJhZGl1cyI6IDUsICJzdHJva2UiOiB0cnVlLCAid2VpZ2h0IjogM30KICAgICAgICAgICAgKS5hZGRUbyhtYXBfZTI1OGNjZTQ0Yjg0NDc2NjkyM2EwOTg5OGJlMTRkMmEpOwogICAgICAgIAogICAgCiAgICAgICAgdmFyIHBvcHVwXzdlNTk2YzBkNTI5NDQwMjZhOTBmNzMxNzM3OGE2M2FiID0gTC5wb3B1cCh7Im1heFdpZHRoIjogIjEwMCUifSk7CgogICAgICAgIAogICAgICAgICAgICB2YXIgaHRtbF9lZjUwMjZhYWU0OTY0YzQ5OTI0M2UxMDVlNzM5NzczMSA9ICQoYDxkaXYgaWQ9Imh0bWxfZWY1MDI2YWFlNDk2NGM0OTkyNDNlMTA1ZTczOTc3MzEiIHN0eWxlPSJ3aWR0aDogMTAwLjAlOyBoZWlnaHQ6IDEwMC4wJTsiPk01VyAtIERvd250b3duIFRvcm9udG8gLSBTdG4gQSBQTyBCb3hlcyAyNSBUaGUgRXNwbGFuYWRlPC9kaXY+YClbMF07CiAgICAgICAgICAgIHBvcHVwXzdlNTk2YzBkNTI5NDQwMjZhOTBmNzMxNzM3OGE2M2FiLnNldENvbnRlbnQoaHRtbF9lZjUwMjZhYWU0OTY0YzQ5OTI0M2UxMDVlNzM5NzczMSk7CiAgICAgICAgCgogICAgICAgIGNpcmNsZV9tYXJrZXJfNDg1NDc0N2U4YmFkNDkxM2JjZjYwYjYxN2Y3ODFlMGIuYmluZFBvcHVwKHBvcHVwXzdlNTk2YzBkNTI5NDQwMjZhOTBmNzMxNzM3OGE2M2FiKQogICAgICAgIDsKCiAgICAgICAgCiAgICAKICAgIAogICAgICAgICAgICB2YXIgY2lyY2xlX21hcmtlcl8xOTQyOWQ0OTg5YjY0YTRlYjJkYmY1MGVmMWY4ODhiZiA9IEwuY2lyY2xlTWFya2VyKAogICAgICAgICAgICAgICAgWzQzLjY0ODQyOTIsIC03OS4zODIyODAyXSwKICAgICAgICAgICAgICAgIHsiYnViYmxpbmdNb3VzZUV2ZW50cyI6IHRydWUsICJjb2xvciI6ICJibHVlIiwgImRhc2hBcnJheSI6IG51bGwsICJkYXNoT2Zmc2V0IjogbnVsbCwgImZpbGwiOiB0cnVlLCAiZmlsbENvbG9yIjogIiMzMTg2Y2MiLCAiZmlsbE9wYWNpdHkiOiAwLjcsICJmaWxsUnVsZSI6ICJldmVub2RkIiwgImxpbmVDYXAiOiAicm91bmQiLCAibGluZUpvaW4iOiAicm91bmQiLCAib3BhY2l0eSI6IDEuMCwgInJhZGl1cyI6IDUsICJzdHJva2UiOiB0cnVlLCAid2VpZ2h0IjogM30KICAgICAgICAgICAgKS5hZGRUbyhtYXBfZTI1OGNjZTQ0Yjg0NDc2NjkyM2EwOTg5OGJlMTRkMmEpOwogICAgICAgIAogICAgCiAgICAgICAgdmFyIHBvcHVwXzIyYTJlOGVjZGE5NzRjMzg4MzA3ZDUyMmVlMTU0MjYwID0gTC5wb3B1cCh7Im1heFdpZHRoIjogIjEwMCUifSk7CgogICAgICAgIAogICAgICAgICAgICB2YXIgaHRtbF9jMDJkNWM5MmFlNGQ0MjRlOWIzMTk1NzBmMGQwNGZkOCA9ICQoYDxkaXYgaWQ9Imh0bWxfYzAyZDVjOTJhZTRkNDI0ZTliMzE5NTcwZjBkMDRmZDgiIHN0eWxlPSJ3aWR0aDogMTAwLjAlOyBoZWlnaHQ6IDEwMC4wJTsiPk01WCAtIERvd250b3duIFRvcm9udG8gLSBGaXJzdCBDYW5hZGlhbiBQbGFjZSxVbmRlcmdyb3VuZCBjaXR5PC9kaXY+YClbMF07CiAgICAgICAgICAgIHBvcHVwXzIyYTJlOGVjZGE5NzRjMzg4MzA3ZDUyMmVlMTU0MjYwLnNldENvbnRlbnQoaHRtbF9jMDJkNWM5MmFlNGQ0MjRlOWIzMTk1NzBmMGQwNGZkOCk7CiAgICAgICAgCgogICAgICAgIGNpcmNsZV9tYXJrZXJfMTk0MjlkNDk4OWI2NGE0ZWIyZGJmNTBlZjFmODg4YmYuYmluZFBvcHVwKHBvcHVwXzIyYTJlOGVjZGE5NzRjMzg4MzA3ZDUyMmVlMTU0MjYwKQogICAgICAgIDsKCiAgICAgICAgCiAgICAKICAgIAogICAgICAgICAgICB2YXIgY2lyY2xlX21hcmtlcl8wNTI2NjExOTU5NmM0MjlhYTFmZjFjNWI2N2RkNGNlYiA9IEwuY2lyY2xlTWFya2VyKAogICAgICAgICAgICAgICAgWzQzLjcxODUxNzk5OTk5OTk5NiwgLTc5LjQ2NDc2MzI5OTk5OTk5XSwKICAgICAgICAgICAgICAgIHsiYnViYmxpbmdNb3VzZUV2ZW50cyI6IHRydWUsICJjb2xvciI6ICJibHVlIiwgImRhc2hBcnJheSI6IG51bGwsICJkYXNoT2Zmc2V0IjogbnVsbCwgImZpbGwiOiB0cnVlLCAiZmlsbENvbG9yIjogIiMzMTg2Y2MiLCAiZmlsbE9wYWNpdHkiOiAwLjcsICJmaWxsUnVsZSI6ICJldmVub2RkIiwgImxpbmVDYXAiOiAicm91bmQiLCAibGluZUpvaW4iOiAicm91bmQiLCAib3BhY2l0eSI6IDEuMCwgInJhZGl1cyI6IDUsICJzdHJva2UiOiB0cnVlLCAid2VpZ2h0IjogM30KICAgICAgICAgICAgKS5hZGRUbyhtYXBfZTI1OGNjZTQ0Yjg0NDc2NjkyM2EwOTg5OGJlMTRkMmEpOwogICAgICAgIAogICAgCiAgICAgICAgdmFyIHBvcHVwXzE3MDNlY2VhOWVlZjRmZWY4MjQ0MzEyM2U3ZTI0OGMyID0gTC5wb3B1cCh7Im1heFdpZHRoIjogIjEwMCUifSk7CgogICAgICAgIAogICAgICAgICAgICB2YXIgaHRtbF9hMDdkNDViMWNmY2Y0NGZmYjczM2M5YzU4MmEyNGI4YyA9ICQoYDxkaXYgaWQ9Imh0bWxfYTA3ZDQ1YjFjZmNmNDRmZmI3MzNjOWM1ODJhMjRiOGMiIHN0eWxlPSJ3aWR0aDogMTAwLjAlOyBoZWlnaHQ6IDEwMC4wJTsiPk02QSAtIE5vcnRoIFlvcmsgLSBMYXdyZW5jZSBIZWlnaHRzLExhd3JlbmNlIE1hbm9yPC9kaXY+YClbMF07CiAgICAgICAgICAgIHBvcHVwXzE3MDNlY2VhOWVlZjRmZWY4MjQ0MzEyM2U3ZTI0OGMyLnNldENvbnRlbnQoaHRtbF9hMDdkNDViMWNmY2Y0NGZmYjczM2M5YzU4MmEyNGI4Yyk7CiAgICAgICAgCgogICAgICAgIGNpcmNsZV9tYXJrZXJfMDUyNjYxMTk1OTZjNDI5YWExZmYxYzViNjdkZDRjZWIuYmluZFBvcHVwKHBvcHVwXzE3MDNlY2VhOWVlZjRmZWY4MjQ0MzEyM2U3ZTI0OGMyKQogICAgICAgIDsKCiAgICAgICAgCiAgICAKICAgIAogICAgICAgICAgICB2YXIgY2lyY2xlX21hcmtlcl83NWQ4Yzk4YWVmYzI0NzYwYjQyMTgzYTUzMzVjMzkyMCA9IEwuY2lyY2xlTWFya2VyKAogICAgICAgICAgICAgICAgWzQzLjcwOTU3NywgLTc5LjQ0NTA3MjU5OTk5OTk5XSwKICAgICAgICAgICAgICAgIHsiYnViYmxpbmdNb3VzZUV2ZW50cyI6IHRydWUsICJjb2xvciI6ICJibHVlIiwgImRhc2hBcnJheSI6IG51bGwsICJkYXNoT2Zmc2V0IjogbnVsbCwgImZpbGwiOiB0cnVlLCAiZmlsbENvbG9yIjogIiMzMTg2Y2MiLCAiZmlsbE9wYWNpdHkiOiAwLjcsICJmaWxsUnVsZSI6ICJldmVub2RkIiwgImxpbmVDYXAiOiAicm91bmQiLCAibGluZUpvaW4iOiAicm91bmQiLCAib3BhY2l0eSI6IDEuMCwgInJhZGl1cyI6IDUsICJzdHJva2UiOiB0cnVlLCAid2VpZ2h0IjogM30KICAgICAgICAgICAgKS5hZGRUbyhtYXBfZTI1OGNjZTQ0Yjg0NDc2NjkyM2EwOTg5OGJlMTRkMmEpOwogICAgICAgIAogICAgCiAgICAgICAgdmFyIHBvcHVwXzI0YWFkZWU5MmIyZjRjMGJhZTJjMDZhYzYzOGFmZWJiID0gTC5wb3B1cCh7Im1heFdpZHRoIjogIjEwMCUifSk7CgogICAgICAgIAogICAgICAgICAgICB2YXIgaHRtbF9lMWRjMTI2MjJmOWM0ZTM4OThlMDlhMGJlMGQzMzczMiA9ICQoYDxkaXYgaWQ9Imh0bWxfZTFkYzEyNjIyZjljNGUzODk4ZTA5YTBiZTBkMzM3MzIiIHN0eWxlPSJ3aWR0aDogMTAwLjAlOyBoZWlnaHQ6IDEwMC4wJTsiPk02QiAtIE5vcnRoIFlvcmsgLSBHbGVuY2Fpcm48L2Rpdj5gKVswXTsKICAgICAgICAgICAgcG9wdXBfMjRhYWRlZTkyYjJmNGMwYmFlMmMwNmFjNjM4YWZlYmIuc2V0Q29udGVudChodG1sX2UxZGMxMjYyMmY5YzRlMzg5OGUwOWEwYmUwZDMzNzMyKTsKICAgICAgICAKCiAgICAgICAgY2lyY2xlX21hcmtlcl83NWQ4Yzk4YWVmYzI0NzYwYjQyMTgzYTUzMzVjMzkyMC5iaW5kUG9wdXAocG9wdXBfMjRhYWRlZTkyYjJmNGMwYmFlMmMwNmFjNjM4YWZlYmIpCiAgICAgICAgOwoKICAgICAgICAKICAgIAogICAgCiAgICAgICAgICAgIHZhciBjaXJjbGVfbWFya2VyXzI3MmVmZGMzY2E5NDQxYTBiNDJhMDcyZjU1OTg0Mzk1ID0gTC5jaXJjbGVNYXJrZXIoCiAgICAgICAgICAgICAgICBbNDMuNjkzNzgxMywgLTc5LjQyODE5MTQwMDAwMDAyXSwKICAgICAgICAgICAgICAgIHsiYnViYmxpbmdNb3VzZUV2ZW50cyI6IHRydWUsICJjb2xvciI6ICJibHVlIiwgImRhc2hBcnJheSI6IG51bGwsICJkYXNoT2Zmc2V0IjogbnVsbCwgImZpbGwiOiB0cnVlLCAiZmlsbENvbG9yIjogIiMzMTg2Y2MiLCAiZmlsbE9wYWNpdHkiOiAwLjcsICJmaWxsUnVsZSI6ICJldmVub2RkIiwgImxpbmVDYXAiOiAicm91bmQiLCAibGluZUpvaW4iOiAicm91bmQiLCAib3BhY2l0eSI6IDEuMCwgInJhZGl1cyI6IDUsICJzdHJva2UiOiB0cnVlLCAid2VpZ2h0IjogM30KICAgICAgICAgICAgKS5hZGRUbyhtYXBfZTI1OGNjZTQ0Yjg0NDc2NjkyM2EwOTg5OGJlMTRkMmEpOwogICAgICAgIAogICAgCiAgICAgICAgdmFyIHBvcHVwX2VjYjAzYjRmNDI4ODRlYzliN2Y5NTI2MWUyNjdjNGUzID0gTC5wb3B1cCh7Im1heFdpZHRoIjogIjEwMCUifSk7CgogICAgICAgIAogICAgICAgICAgICB2YXIgaHRtbF80MmYwMmU5MGVmY2U0YmY5YTQwNTAyY2Q3NDhhMTMxOSA9ICQoYDxkaXYgaWQ9Imh0bWxfNDJmMDJlOTBlZmNlNGJmOWE0MDUwMmNkNzQ4YTEzMTkiIHN0eWxlPSJ3aWR0aDogMTAwLjAlOyBoZWlnaHQ6IDEwMC4wJTsiPk02QyAtIFlvcmsgLSBIdW1ld29vZC1DZWRhcnZhbGU8L2Rpdj5gKVswXTsKICAgICAgICAgICAgcG9wdXBfZWNiMDNiNGY0Mjg4NGVjOWI3Zjk1MjYxZTI2N2M0ZTMuc2V0Q29udGVudChodG1sXzQyZjAyZTkwZWZjZTRiZjlhNDA1MDJjZDc0OGExMzE5KTsKICAgICAgICAKCiAgICAgICAgY2lyY2xlX21hcmtlcl8yNzJlZmRjM2NhOTQ0MWEwYjQyYTA3MmY1NTk4NDM5NS5iaW5kUG9wdXAocG9wdXBfZWNiMDNiNGY0Mjg4NGVjOWI3Zjk1MjYxZTI2N2M0ZTMpCiAgICAgICAgOwoKICAgICAgICAKICAgIAogICAgCiAgICAgICAgICAgIHZhciBjaXJjbGVfbWFya2VyXzY0YzBjMDM5ZmIzYzQ0NmViNzk2ZDY5MGM5OGIxMzRiID0gTC5jaXJjbGVNYXJrZXIoCiAgICAgICAgICAgICAgICBbNDMuNjg5MDI1NiwgLTc5LjQ1MzUxMl0sCiAgICAgICAgICAgICAgICB7ImJ1YmJsaW5nTW91c2VFdmVudHMiOiB0cnVlLCAiY29sb3IiOiAiYmx1ZSIsICJkYXNoQXJyYXkiOiBudWxsLCAiZGFzaE9mZnNldCI6IG51bGwsICJmaWxsIjogdHJ1ZSwgImZpbGxDb2xvciI6ICIjMzE4NmNjIiwgImZpbGxPcGFjaXR5IjogMC43LCAiZmlsbFJ1bGUiOiAiZXZlbm9kZCIsICJsaW5lQ2FwIjogInJvdW5kIiwgImxpbmVKb2luIjogInJvdW5kIiwgIm9wYWNpdHkiOiAxLjAsICJyYWRpdXMiOiA1LCAic3Ryb2tlIjogdHJ1ZSwgIndlaWdodCI6IDN9CiAgICAgICAgICAgICkuYWRkVG8obWFwX2UyNThjY2U0NGI4NDQ3NjY5MjNhMDk4OThiZTE0ZDJhKTsKICAgICAgICAKICAgIAogICAgICAgIHZhciBwb3B1cF9hODhiNDlmYjk0YjM0NmU2YTkyNjdhNDZhODUwNGY1ZSA9IEwucG9wdXAoeyJtYXhXaWR0aCI6ICIxMDAlIn0pOwoKICAgICAgICAKICAgICAgICAgICAgdmFyIGh0bWxfYjZhY2MxZjYwYjI2NGE2N2EzYzk5ZDU5NzY1NDMyYjYgPSAkKGA8ZGl2IGlkPSJodG1sX2I2YWNjMWY2MGIyNjRhNjdhM2M5OWQ1OTc2NTQzMmI2IiBzdHlsZT0id2lkdGg6IDEwMC4wJTsgaGVpZ2h0OiAxMDAuMCU7Ij5NNkUgLSBZb3JrIC0gQ2FsZWRvbmlhLUZhaXJiYW5rczwvZGl2PmApWzBdOwogICAgICAgICAgICBwb3B1cF9hODhiNDlmYjk0YjM0NmU2YTkyNjdhNDZhODUwNGY1ZS5zZXRDb250ZW50KGh0bWxfYjZhY2MxZjYwYjI2NGE2N2EzYzk5ZDU5NzY1NDMyYjYpOwogICAgICAgIAoKICAgICAgICBjaXJjbGVfbWFya2VyXzY0YzBjMDM5ZmIzYzQ0NmViNzk2ZDY5MGM5OGIxMzRiLmJpbmRQb3B1cChwb3B1cF9hODhiNDlmYjk0YjM0NmU2YTkyNjdhNDZhODUwNGY1ZSkKICAgICAgICA7CgogICAgICAgIAogICAgCiAgICAKICAgICAgICAgICAgdmFyIGNpcmNsZV9tYXJrZXJfMmY3ZWRmMGExNWY1NDI5NGIzNzdjNWQyZTFlZDM4N2EgPSBMLmNpcmNsZU1hcmtlcigKICAgICAgICAgICAgICAgIFs0My42Njk1NDIsIC03OS40MjI1NjM3XSwKICAgICAgICAgICAgICAgIHsiYnViYmxpbmdNb3VzZUV2ZW50cyI6IHRydWUsICJjb2xvciI6ICJibHVlIiwgImRhc2hBcnJheSI6IG51bGwsICJkYXNoT2Zmc2V0IjogbnVsbCwgImZpbGwiOiB0cnVlLCAiZmlsbENvbG9yIjogIiMzMTg2Y2MiLCAiZmlsbE9wYWNpdHkiOiAwLjcsICJmaWxsUnVsZSI6ICJldmVub2RkIiwgImxpbmVDYXAiOiAicm91bmQiLCAibGluZUpvaW4iOiAicm91bmQiLCAib3BhY2l0eSI6IDEuMCwgInJhZGl1cyI6IDUsICJzdHJva2UiOiB0cnVlLCAid2VpZ2h0IjogM30KICAgICAgICAgICAgKS5hZGRUbyhtYXBfZTI1OGNjZTQ0Yjg0NDc2NjkyM2EwOTg5OGJlMTRkMmEpOwogICAgICAgIAogICAgCiAgICAgICAgdmFyIHBvcHVwX2YwYzI0ZjRiYzVjMDQ1ZTE5MTljOTQzMGY3MzU2ZGY0ID0gTC5wb3B1cCh7Im1heFdpZHRoIjogIjEwMCUifSk7CgogICAgICAgIAogICAgICAgICAgICB2YXIgaHRtbF8zYzYxNzJlMjEwMzA0MzJlYjZkNjQxZjc2ZmIwYjUwZSA9ICQoYDxkaXYgaWQ9Imh0bWxfM2M2MTcyZTIxMDMwNDMyZWI2ZDY0MWY3NmZiMGI1MGUiIHN0eWxlPSJ3aWR0aDogMTAwLjAlOyBoZWlnaHQ6IDEwMC4wJTsiPk02RyAtIERvd250b3duIFRvcm9udG8gLSBDaHJpc3RpZTwvZGl2PmApWzBdOwogICAgICAgICAgICBwb3B1cF9mMGMyNGY0YmM1YzA0NWUxOTE5Yzk0MzBmNzM1NmRmNC5zZXRDb250ZW50KGh0bWxfM2M2MTcyZTIxMDMwNDMyZWI2ZDY0MWY3NmZiMGI1MGUpOwogICAgICAgIAoKICAgICAgICBjaXJjbGVfbWFya2VyXzJmN2VkZjBhMTVmNTQyOTRiMzc3YzVkMmUxZWQzODdhLmJpbmRQb3B1cChwb3B1cF9mMGMyNGY0YmM1YzA0NWUxOTE5Yzk0MzBmNzM1NmRmNCkKICAgICAgICA7CgogICAgICAgIAogICAgCiAgICAKICAgICAgICAgICAgdmFyIGNpcmNsZV9tYXJrZXJfYTczOWZmYmZmNjJhNDFiNmFmYTI0MmI1ODk0ZDlkZWYgPSBMLmNpcmNsZU1hcmtlcigKICAgICAgICAgICAgICAgIFs0My42NjkwMDUxMDAwMDAwMSwgLTc5LjQ0MjI1OTNdLAogICAgICAgICAgICAgICAgeyJidWJibGluZ01vdXNlRXZlbnRzIjogdHJ1ZSwgImNvbG9yIjogImJsdWUiLCAiZGFzaEFycmF5IjogbnVsbCwgImRhc2hPZmZzZXQiOiBudWxsLCAiZmlsbCI6IHRydWUsICJmaWxsQ29sb3IiOiAiIzMxODZjYyIsICJmaWxsT3BhY2l0eSI6IDAuNywgImZpbGxSdWxlIjogImV2ZW5vZGQiLCAibGluZUNhcCI6ICJyb3VuZCIsICJsaW5lSm9pbiI6ICJyb3VuZCIsICJvcGFjaXR5IjogMS4wLCAicmFkaXVzIjogNSwgInN0cm9rZSI6IHRydWUsICJ3ZWlnaHQiOiAzfQogICAgICAgICAgICApLmFkZFRvKG1hcF9lMjU4Y2NlNDRiODQ0NzY2OTIzYTA5ODk4YmUxNGQyYSk7CiAgICAgICAgCiAgICAKICAgICAgICB2YXIgcG9wdXBfNTliNzIwMTI3ZjU4NDlmZTkxY2M5NmU2ZjBjOWY5ZjUgPSBMLnBvcHVwKHsibWF4V2lkdGgiOiAiMTAwJSJ9KTsKCiAgICAgICAgCiAgICAgICAgICAgIHZhciBodG1sXzUzMGQ2ODU4MDdiYTQ3MWFiNTVmNjk5NGUyMDIwNjg4ID0gJChgPGRpdiBpZD0iaHRtbF81MzBkNjg1ODA3YmE0NzFhYjU1ZjY5OTRlMjAyMDY4OCIgc3R5bGU9IndpZHRoOiAxMDAuMCU7IGhlaWdodDogMTAwLjAlOyI+TTZIIC0gV2VzdCBUb3JvbnRvIC0gRG92ZXJjb3VydCBWaWxsYWdlLER1ZmZlcmluPC9kaXY+YClbMF07CiAgICAgICAgICAgIHBvcHVwXzU5YjcyMDEyN2Y1ODQ5ZmU5MWNjOTZlNmYwYzlmOWY1LnNldENvbnRlbnQoaHRtbF81MzBkNjg1ODA3YmE0NzFhYjU1ZjY5OTRlMjAyMDY4OCk7CiAgICAgICAgCgogICAgICAgIGNpcmNsZV9tYXJrZXJfYTczOWZmYmZmNjJhNDFiNmFmYTI0MmI1ODk0ZDlkZWYuYmluZFBvcHVwKHBvcHVwXzU5YjcyMDEyN2Y1ODQ5ZmU5MWNjOTZlNmYwYzlmOWY1KQogICAgICAgIDsKCiAgICAgICAgCiAgICAKICAgIAogICAgICAgICAgICB2YXIgY2lyY2xlX21hcmtlcl84NjAzZWRmNDMyN2U0MmNmOWQ0ODMyYTIzMWU2ZTFmZiA9IEwuY2lyY2xlTWFya2VyKAogICAgICAgICAgICAgICAgWzQzLjY0NzkyNjcwMDAwMDAwNiwgLTc5LjQxOTc0OTddLAogICAgICAgICAgICAgICAgeyJidWJibGluZ01vdXNlRXZlbnRzIjogdHJ1ZSwgImNvbG9yIjogImJsdWUiLCAiZGFzaEFycmF5IjogbnVsbCwgImRhc2hPZmZzZXQiOiBudWxsLCAiZmlsbCI6IHRydWUsICJmaWxsQ29sb3IiOiAiIzMxODZjYyIsICJmaWxsT3BhY2l0eSI6IDAuNywgImZpbGxSdWxlIjogImV2ZW5vZGQiLCAibGluZUNhcCI6ICJyb3VuZCIsICJsaW5lSm9pbiI6ICJyb3VuZCIsICJvcGFjaXR5IjogMS4wLCAicmFkaXVzIjogNSwgInN0cm9rZSI6IHRydWUsICJ3ZWlnaHQiOiAzfQogICAgICAgICAgICApLmFkZFRvKG1hcF9lMjU4Y2NlNDRiODQ0NzY2OTIzYTA5ODk4YmUxNGQyYSk7CiAgICAgICAgCiAgICAKICAgICAgICB2YXIgcG9wdXBfZTgwZmI4ZjBiN2FlNGZlM2IyMzZkMWNiYjI2MzQ4NDEgPSBMLnBvcHVwKHsibWF4V2lkdGgiOiAiMTAwJSJ9KTsKCiAgICAgICAgCiAgICAgICAgICAgIHZhciBodG1sXzhlYTI3ZTY4YjI2NzQ1NGNhYTBkYTQyNDEwMTg2YjlmID0gJChgPGRpdiBpZD0iaHRtbF84ZWEyN2U2OGIyNjc0NTRjYWEwZGE0MjQxMDE4NmI5ZiIgc3R5bGU9IndpZHRoOiAxMDAuMCU7IGhlaWdodDogMTAwLjAlOyI+TTZKIC0gV2VzdCBUb3JvbnRvIC0gTGl0dGxlIFBvcnR1Z2FsLFRyaW5pdHk8L2Rpdj5gKVswXTsKICAgICAgICAgICAgcG9wdXBfZTgwZmI4ZjBiN2FlNGZlM2IyMzZkMWNiYjI2MzQ4NDEuc2V0Q29udGVudChodG1sXzhlYTI3ZTY4YjI2NzQ1NGNhYTBkYTQyNDEwMTg2YjlmKTsKICAgICAgICAKCiAgICAgICAgY2lyY2xlX21hcmtlcl84NjAzZWRmNDMyN2U0MmNmOWQ0ODMyYTIzMWU2ZTFmZi5iaW5kUG9wdXAocG9wdXBfZTgwZmI4ZjBiN2FlNGZlM2IyMzZkMWNiYjI2MzQ4NDEpCiAgICAgICAgOwoKICAgICAgICAKICAgIAogICAgCiAgICAgICAgICAgIHZhciBjaXJjbGVfbWFya2VyXzQwYzkyNDZmNjQxMzRjNDk4ZWJiMGIxMWZhZmJiMmRmID0gTC5jaXJjbGVNYXJrZXIoCiAgICAgICAgICAgICAgICBbNDMuNjM2ODQ3MiwgLTc5LjQyODE5MTQwMDAwMDAyXSwKICAgICAgICAgICAgICAgIHsiYnViYmxpbmdNb3VzZUV2ZW50cyI6IHRydWUsICJjb2xvciI6ICJibHVlIiwgImRhc2hBcnJheSI6IG51bGwsICJkYXNoT2Zmc2V0IjogbnVsbCwgImZpbGwiOiB0cnVlLCAiZmlsbENvbG9yIjogIiMzMTg2Y2MiLCAiZmlsbE9wYWNpdHkiOiAwLjcsICJmaWxsUnVsZSI6ICJldmVub2RkIiwgImxpbmVDYXAiOiAicm91bmQiLCAibGluZUpvaW4iOiAicm91bmQiLCAib3BhY2l0eSI6IDEuMCwgInJhZGl1cyI6IDUsICJzdHJva2UiOiB0cnVlLCAid2VpZ2h0IjogM30KICAgICAgICAgICAgKS5hZGRUbyhtYXBfZTI1OGNjZTQ0Yjg0NDc2NjkyM2EwOTg5OGJlMTRkMmEpOwogICAgICAgIAogICAgCiAgICAgICAgdmFyIHBvcHVwXzdkNDE0N2FlOWIzNDQ5YWVhMTMwNWVkZWU1NDNmMWRiID0gTC5wb3B1cCh7Im1heFdpZHRoIjogIjEwMCUifSk7CgogICAgICAgIAogICAgICAgICAgICB2YXIgaHRtbF85ZjBiNmEwZDU5YzM0MTVkOTU4NTEyZGRiMzFhYTI0MCA9ICQoYDxkaXYgaWQ9Imh0bWxfOWYwYjZhMGQ1OWMzNDE1ZDk1ODUxMmRkYjMxYWEyNDAiIHN0eWxlPSJ3aWR0aDogMTAwLjAlOyBoZWlnaHQ6IDEwMC4wJTsiPk02SyAtIFdlc3QgVG9yb250byAtIEJyb2NrdG9uLEV4aGliaXRpb24gUGxhY2UsUGFya2RhbGUgVmlsbGFnZTwvZGl2PmApWzBdOwogICAgICAgICAgICBwb3B1cF83ZDQxNDdhZTliMzQ0OWFlYTEzMDVlZGVlNTQzZjFkYi5zZXRDb250ZW50KGh0bWxfOWYwYjZhMGQ1OWMzNDE1ZDk1ODUxMmRkYjMxYWEyNDApOwogICAgICAgIAoKICAgICAgICBjaXJjbGVfbWFya2VyXzQwYzkyNDZmNjQxMzRjNDk4ZWJiMGIxMWZhZmJiMmRmLmJpbmRQb3B1cChwb3B1cF83ZDQxNDdhZTliMzQ0OWFlYTEzMDVlZGVlNTQzZjFkYikKICAgICAgICA7CgogICAgICAgIAogICAgCiAgICAKICAgICAgICAgICAgdmFyIGNpcmNsZV9tYXJrZXJfMzRkNTU1YjNkYmE4NDMxNWFjZDQ1OTE1ODRjMjQ1NDAgPSBMLmNpcmNsZU1hcmtlcigKICAgICAgICAgICAgICAgIFs0My43MTM3NTYyMDAwMDAwMDYsIC03OS40OTAwNzM4XSwKICAgICAgICAgICAgICAgIHsiYnViYmxpbmdNb3VzZUV2ZW50cyI6IHRydWUsICJjb2xvciI6ICJibHVlIiwgImRhc2hBcnJheSI6IG51bGwsICJkYXNoT2Zmc2V0IjogbnVsbCwgImZpbGwiOiB0cnVlLCAiZmlsbENvbG9yIjogIiMzMTg2Y2MiLCAiZmlsbE9wYWNpdHkiOiAwLjcsICJmaWxsUnVsZSI6ICJldmVub2RkIiwgImxpbmVDYXAiOiAicm91bmQiLCAibGluZUpvaW4iOiAicm91bmQiLCAib3BhY2l0eSI6IDEuMCwgInJhZGl1cyI6IDUsICJzdHJva2UiOiB0cnVlLCAid2VpZ2h0IjogM30KICAgICAgICAgICAgKS5hZGRUbyhtYXBfZTI1OGNjZTQ0Yjg0NDc2NjkyM2EwOTg5OGJlMTRkMmEpOwogICAgICAgIAogICAgCiAgICAgICAgdmFyIHBvcHVwX2UxMjdjNTYwYTZkZjQ0ODBhNGQyOTZlMGJjYjcxNGJkID0gTC5wb3B1cCh7Im1heFdpZHRoIjogIjEwMCUifSk7CgogICAgICAgIAogICAgICAgICAgICB2YXIgaHRtbF81OTFmYjdhODJhYzk0ZGQ3YmE4NWRmZGRmMWEyY2ZkNCA9ICQoYDxkaXYgaWQ9Imh0bWxfNTkxZmI3YTgyYWM5NGRkN2JhODVkZmRkZjFhMmNmZDQiIHN0eWxlPSJ3aWR0aDogMTAwLjAlOyBoZWlnaHQ6IDEwMC4wJTsiPk02TCAtIE5vcnRoIFlvcmsgLSBEb3duc3ZpZXcsTm9ydGggUGFyayxVcHdvb2QgUGFyazwvZGl2PmApWzBdOwogICAgICAgICAgICBwb3B1cF9lMTI3YzU2MGE2ZGY0NDgwYTRkMjk2ZTBiY2I3MTRiZC5zZXRDb250ZW50KGh0bWxfNTkxZmI3YTgyYWM5NGRkN2JhODVkZmRkZjFhMmNmZDQpOwogICAgICAgIAoKICAgICAgICBjaXJjbGVfbWFya2VyXzM0ZDU1NWIzZGJhODQzMTVhY2Q0NTkxNTg0YzI0NTQwLmJpbmRQb3B1cChwb3B1cF9lMTI3YzU2MGE2ZGY0NDgwYTRkMjk2ZTBiY2I3MTRiZCkKICAgICAgICA7CgogICAgICAgIAogICAgCiAgICAKICAgICAgICAgICAgdmFyIGNpcmNsZV9tYXJrZXJfNzYyMzEyNmI4MDllNGZiZGExMzg4YjRhNjI5YmMyNGIgPSBMLmNpcmNsZU1hcmtlcigKICAgICAgICAgICAgICAgIFs0My42OTExMTU4LCAtNzkuNDc2MDEzMjk5OTk5OTldLAogICAgICAgICAgICAgICAgeyJidWJibGluZ01vdXNlRXZlbnRzIjogdHJ1ZSwgImNvbG9yIjogImJsdWUiLCAiZGFzaEFycmF5IjogbnVsbCwgImRhc2hPZmZzZXQiOiBudWxsLCAiZmlsbCI6IHRydWUsICJmaWxsQ29sb3IiOiAiIzMxODZjYyIsICJmaWxsT3BhY2l0eSI6IDAuNywgImZpbGxSdWxlIjogImV2ZW5vZGQiLCAibGluZUNhcCI6ICJyb3VuZCIsICJsaW5lSm9pbiI6ICJyb3VuZCIsICJvcGFjaXR5IjogMS4wLCAicmFkaXVzIjogNSwgInN0cm9rZSI6IHRydWUsICJ3ZWlnaHQiOiAzfQogICAgICAgICAgICApLmFkZFRvKG1hcF9lMjU4Y2NlNDRiODQ0NzY2OTIzYTA5ODk4YmUxNGQyYSk7CiAgICAgICAgCiAgICAKICAgICAgICB2YXIgcG9wdXBfODY4NTBlNTZhNDgzNGMxOGI4NThhMWFiYTc1NjE4ODMgPSBMLnBvcHVwKHsibWF4V2lkdGgiOiAiMTAwJSJ9KTsKCiAgICAgICAgCiAgICAgICAgICAgIHZhciBodG1sXzFiNTE4YzcyYjRjZTQzMTY5YTY0MDdjYTA4NDdiMTk5ID0gJChgPGRpdiBpZD0iaHRtbF8xYjUxOGM3MmI0Y2U0MzE2OWE2NDA3Y2EwODQ3YjE5OSIgc3R5bGU9IndpZHRoOiAxMDAuMCU7IGhlaWdodDogMTAwLjAlOyI+TTZNIC0gWW9yayAtIERlbCBSYXksS2VlbGVzZGFsZSxNb3VudCBEZW5uaXMsU2lsdmVydGhvcm48L2Rpdj5gKVswXTsKICAgICAgICAgICAgcG9wdXBfODY4NTBlNTZhNDgzNGMxOGI4NThhMWFiYTc1NjE4ODMuc2V0Q29udGVudChodG1sXzFiNTE4YzcyYjRjZTQzMTY5YTY0MDdjYTA4NDdiMTk5KTsKICAgICAgICAKCiAgICAgICAgY2lyY2xlX21hcmtlcl83NjIzMTI2YjgwOWU0ZmJkYTEzODhiNGE2MjliYzI0Yi5iaW5kUG9wdXAocG9wdXBfODY4NTBlNTZhNDgzNGMxOGI4NThhMWFiYTc1NjE4ODMpCiAgICAgICAgOwoKICAgICAgICAKICAgIAogICAgCiAgICAgICAgICAgIHZhciBjaXJjbGVfbWFya2VyX2ZhNjExNTQ1NzRkNTRlNDZhNjhiMGEzNzgxOGM0YTdlID0gTC5jaXJjbGVNYXJrZXIoCiAgICAgICAgICAgICAgICBbNDMuNjczMTg1Mjk5OTk5OTksIC03OS40ODcyNjE5MDAwMDAwMV0sCiAgICAgICAgICAgICAgICB7ImJ1YmJsaW5nTW91c2VFdmVudHMiOiB0cnVlLCAiY29sb3IiOiAiYmx1ZSIsICJkYXNoQXJyYXkiOiBudWxsLCAiZGFzaE9mZnNldCI6IG51bGwsICJmaWxsIjogdHJ1ZSwgImZpbGxDb2xvciI6ICIjMzE4NmNjIiwgImZpbGxPcGFjaXR5IjogMC43LCAiZmlsbFJ1bGUiOiAiZXZlbm9kZCIsICJsaW5lQ2FwIjogInJvdW5kIiwgImxpbmVKb2luIjogInJvdW5kIiwgIm9wYWNpdHkiOiAxLjAsICJyYWRpdXMiOiA1LCAic3Ryb2tlIjogdHJ1ZSwgIndlaWdodCI6IDN9CiAgICAgICAgICAgICkuYWRkVG8obWFwX2UyNThjY2U0NGI4NDQ3NjY5MjNhMDk4OThiZTE0ZDJhKTsKICAgICAgICAKICAgIAogICAgICAgIHZhciBwb3B1cF9hOWMxYWQyMGY5YmE0OGJmYWY5YzY3YzIwOGIzZWZkYiA9IEwucG9wdXAoeyJtYXhXaWR0aCI6ICIxMDAlIn0pOwoKICAgICAgICAKICAgICAgICAgICAgdmFyIGh0bWxfODgzZTNlODA3OTZlNGIwODgyYTgzZWUyYTVjNjY1NzggPSAkKGA8ZGl2IGlkPSJodG1sXzg4M2UzZTgwNzk2ZTRiMDg4MmE4M2VlMmE1YzY2NTc4IiBzdHlsZT0id2lkdGg6IDEwMC4wJTsgaGVpZ2h0OiAxMDAuMCU7Ij5NNk4gLSBZb3JrIC0gVGhlIEp1bmN0aW9uIE5vcnRoLFJ1bm55bWVkZTwvZGl2PmApWzBdOwogICAgICAgICAgICBwb3B1cF9hOWMxYWQyMGY5YmE0OGJmYWY5YzY3YzIwOGIzZWZkYi5zZXRDb250ZW50KGh0bWxfODgzZTNlODA3OTZlNGIwODgyYTgzZWUyYTVjNjY1NzgpOwogICAgICAgIAoKICAgICAgICBjaXJjbGVfbWFya2VyX2ZhNjExNTQ1NzRkNTRlNDZhNjhiMGEzNzgxOGM0YTdlLmJpbmRQb3B1cChwb3B1cF9hOWMxYWQyMGY5YmE0OGJmYWY5YzY3YzIwOGIzZWZkYikKICAgICAgICA7CgogICAgICAgIAogICAgCiAgICAKICAgICAgICAgICAgdmFyIGNpcmNsZV9tYXJrZXJfYjg1NTk0NDllN2E0NDNlYWI2YjM5NDZhZjFjZjE4MzcgPSBMLmNpcmNsZU1hcmtlcigKICAgICAgICAgICAgICAgIFs0My42NjE2MDgzLCAtNzkuNDY0NzYzMjk5OTk5OTldLAogICAgICAgICAgICAgICAgeyJidWJibGluZ01vdXNlRXZlbnRzIjogdHJ1ZSwgImNvbG9yIjogImJsdWUiLCAiZGFzaEFycmF5IjogbnVsbCwgImRhc2hPZmZzZXQiOiBudWxsLCAiZmlsbCI6IHRydWUsICJmaWxsQ29sb3IiOiAiIzMxODZjYyIsICJmaWxsT3BhY2l0eSI6IDAuNywgImZpbGxSdWxlIjogImV2ZW5vZGQiLCAibGluZUNhcCI6ICJyb3VuZCIsICJsaW5lSm9pbiI6ICJyb3VuZCIsICJvcGFjaXR5IjogMS4wLCAicmFkaXVzIjogNSwgInN0cm9rZSI6IHRydWUsICJ3ZWlnaHQiOiAzfQogICAgICAgICAgICApLmFkZFRvKG1hcF9lMjU4Y2NlNDRiODQ0NzY2OTIzYTA5ODk4YmUxNGQyYSk7CiAgICAgICAgCiAgICAKICAgICAgICB2YXIgcG9wdXBfNTU5OTViZDczNjJjNGU5Mzg4NjU5NDMyZTkzZmJjODggPSBMLnBvcHVwKHsibWF4V2lkdGgiOiAiMTAwJSJ9KTsKCiAgICAgICAgCiAgICAgICAgICAgIHZhciBodG1sX2VlN2E2ODY0ZjNlMzRmYWViOWM1MTlkOTk3ODUyZmRjID0gJChgPGRpdiBpZD0iaHRtbF9lZTdhNjg2NGYzZTM0ZmFlYjljNTE5ZDk5Nzg1MmZkYyIgc3R5bGU9IndpZHRoOiAxMDAuMCU7IGhlaWdodDogMTAwLjAlOyI+TTZQIC0gV2VzdCBUb3JvbnRvIC0gSGlnaCBQYXJrLFRoZSBKdW5jdGlvbiBTb3V0aDwvZGl2PmApWzBdOwogICAgICAgICAgICBwb3B1cF81NTk5NWJkNzM2MmM0ZTkzODg2NTk0MzJlOTNmYmM4OC5zZXRDb250ZW50KGh0bWxfZWU3YTY4NjRmM2UzNGZhZWI5YzUxOWQ5OTc4NTJmZGMpOwogICAgICAgIAoKICAgICAgICBjaXJjbGVfbWFya2VyX2I4NTU5NDQ5ZTdhNDQzZWFiNmIzOTQ2YWYxY2YxODM3LmJpbmRQb3B1cChwb3B1cF81NTk5NWJkNzM2MmM0ZTkzODg2NTk0MzJlOTNmYmM4OCkKICAgICAgICA7CgogICAgICAgIAogICAgCiAgICAKICAgICAgICAgICAgdmFyIGNpcmNsZV9tYXJrZXJfMTY1MTFiZjRkMDE1NDljMGJmMmI2ZGVkNzNkNzExNDYgPSBMLmNpcmNsZU1hcmtlcigKICAgICAgICAgICAgICAgIFs0My42NDg5NTk3LCAtNzkuNDU2MzI1XSwKICAgICAgICAgICAgICAgIHsiYnViYmxpbmdNb3VzZUV2ZW50cyI6IHRydWUsICJjb2xvciI6ICJibHVlIiwgImRhc2hBcnJheSI6IG51bGwsICJkYXNoT2Zmc2V0IjogbnVsbCwgImZpbGwiOiB0cnVlLCAiZmlsbENvbG9yIjogIiMzMTg2Y2MiLCAiZmlsbE9wYWNpdHkiOiAwLjcsICJmaWxsUnVsZSI6ICJldmVub2RkIiwgImxpbmVDYXAiOiAicm91bmQiLCAibGluZUpvaW4iOiAicm91bmQiLCAib3BhY2l0eSI6IDEuMCwgInJhZGl1cyI6IDUsICJzdHJva2UiOiB0cnVlLCAid2VpZ2h0IjogM30KICAgICAgICAgICAgKS5hZGRUbyhtYXBfZTI1OGNjZTQ0Yjg0NDc2NjkyM2EwOTg5OGJlMTRkMmEpOwogICAgICAgIAogICAgCiAgICAgICAgdmFyIHBvcHVwX2Y2M2VmZWIwN2ZkMTRlN2FhZTE4YzM1ZWUzOTVmYmNmID0gTC5wb3B1cCh7Im1heFdpZHRoIjogIjEwMCUifSk7CgogICAgICAgIAogICAgICAgICAgICB2YXIgaHRtbF8wNjlhOWYwZmFlNTE0NWE5YjkwM2ViZmI5MmY2ODBhNyA9ICQoYDxkaXYgaWQ9Imh0bWxfMDY5YTlmMGZhZTUxNDVhOWI5MDNlYmZiOTJmNjgwYTciIHN0eWxlPSJ3aWR0aDogMTAwLjAlOyBoZWlnaHQ6IDEwMC4wJTsiPk02UiAtIFdlc3QgVG9yb250byAtIFBhcmtkYWxlLFJvbmNlc3ZhbGxlczwvZGl2PmApWzBdOwogICAgICAgICAgICBwb3B1cF9mNjNlZmViMDdmZDE0ZTdhYWUxOGMzNWVlMzk1ZmJjZi5zZXRDb250ZW50KGh0bWxfMDY5YTlmMGZhZTUxNDVhOWI5MDNlYmZiOTJmNjgwYTcpOwogICAgICAgIAoKICAgICAgICBjaXJjbGVfbWFya2VyXzE2NTExYmY0ZDAxNTQ5YzBiZjJiNmRlZDczZDcxMTQ2LmJpbmRQb3B1cChwb3B1cF9mNjNlZmViMDdmZDE0ZTdhYWUxOGMzNWVlMzk1ZmJjZikKICAgICAgICA7CgogICAgICAgIAogICAgCiAgICAKICAgICAgICAgICAgdmFyIGNpcmNsZV9tYXJrZXJfYTI0YjgyNWY3OWJjNGJmYWIwYjZiNGE1ZTg4NWUxOTAgPSBMLmNpcmNsZU1hcmtlcigKICAgICAgICAgICAgICAgIFs0My42NTE1NzA2LCAtNzkuNDg0NDQ5OV0sCiAgICAgICAgICAgICAgICB7ImJ1YmJsaW5nTW91c2VFdmVudHMiOiB0cnVlLCAiY29sb3IiOiAiYmx1ZSIsICJkYXNoQXJyYXkiOiBudWxsLCAiZGFzaE9mZnNldCI6IG51bGwsICJmaWxsIjogdHJ1ZSwgImZpbGxDb2xvciI6ICIjMzE4NmNjIiwgImZpbGxPcGFjaXR5IjogMC43LCAiZmlsbFJ1bGUiOiAiZXZlbm9kZCIsICJsaW5lQ2FwIjogInJvdW5kIiwgImxpbmVKb2luIjogInJvdW5kIiwgIm9wYWNpdHkiOiAxLjAsICJyYWRpdXMiOiA1LCAic3Ryb2tlIjogdHJ1ZSwgIndlaWdodCI6IDN9CiAgICAgICAgICAgICkuYWRkVG8obWFwX2UyNThjY2U0NGI4NDQ3NjY5MjNhMDk4OThiZTE0ZDJhKTsKICAgICAgICAKICAgIAogICAgICAgIHZhciBwb3B1cF8yMTU1OTU0NWQzY2Y0ZmU5YTE1NWM3NWQyMDJlYWMzMSA9IEwucG9wdXAoeyJtYXhXaWR0aCI6ICIxMDAlIn0pOwoKICAgICAgICAKICAgICAgICAgICAgdmFyIGh0bWxfMmRlMzBmYzM4ZTkwNGM2MTg1Y2NjMDdmYjQ3MTViMDIgPSAkKGA8ZGl2IGlkPSJodG1sXzJkZTMwZmMzOGU5MDRjNjE4NWNjYzA3ZmI0NzE1YjAyIiBzdHlsZT0id2lkdGg6IDEwMC4wJTsgaGVpZ2h0OiAxMDAuMCU7Ij5NNlMgLSBXZXN0IFRvcm9udG8gLSBSdW5ueW1lZGUsU3dhbnNlYTwvZGl2PmApWzBdOwogICAgICAgICAgICBwb3B1cF8yMTU1OTU0NWQzY2Y0ZmU5YTE1NWM3NWQyMDJlYWMzMS5zZXRDb250ZW50KGh0bWxfMmRlMzBmYzM4ZTkwNGM2MTg1Y2NjMDdmYjQ3MTViMDIpOwogICAgICAgIAoKICAgICAgICBjaXJjbGVfbWFya2VyX2EyNGI4MjVmNzliYzRiZmFiMGI2YjRhNWU4ODVlMTkwLmJpbmRQb3B1cChwb3B1cF8yMTU1OTU0NWQzY2Y0ZmU5YTE1NWM3NWQyMDJlYWMzMSkKICAgICAgICA7CgogICAgICAgIAogICAgCiAgICAKICAgICAgICAgICAgdmFyIGNpcmNsZV9tYXJrZXJfNzA3YmFiYmIxMDkzNGM2YmFiNjA4ZmI0NmE3MjQ4MGMgPSBMLmNpcmNsZU1hcmtlcigKICAgICAgICAgICAgICAgIFs0My42NjIzMDE1LCAtNzkuMzg5NDkzOF0sCiAgICAgICAgICAgICAgICB7ImJ1YmJsaW5nTW91c2VFdmVudHMiOiB0cnVlLCAiY29sb3IiOiAiYmx1ZSIsICJkYXNoQXJyYXkiOiBudWxsLCAiZGFzaE9mZnNldCI6IG51bGwsICJmaWxsIjogdHJ1ZSwgImZpbGxDb2xvciI6ICIjMzE4NmNjIiwgImZpbGxPcGFjaXR5IjogMC43LCAiZmlsbFJ1bGUiOiAiZXZlbm9kZCIsICJsaW5lQ2FwIjogInJvdW5kIiwgImxpbmVKb2luIjogInJvdW5kIiwgIm9wYWNpdHkiOiAxLjAsICJyYWRpdXMiOiA1LCAic3Ryb2tlIjogdHJ1ZSwgIndlaWdodCI6IDN9CiAgICAgICAgICAgICkuYWRkVG8obWFwX2UyNThjY2U0NGI4NDQ3NjY5MjNhMDk4OThiZTE0ZDJhKTsKICAgICAgICAKICAgIAogICAgICAgIHZhciBwb3B1cF8zMDIzZDg3YzQ2NGQ0Njg4ODJmZjQyZjdlMjRlYWJmZCA9IEwucG9wdXAoeyJtYXhXaWR0aCI6ICIxMDAlIn0pOwoKICAgICAgICAKICAgICAgICAgICAgdmFyIGh0bWxfNzQxMGU0ZDFmMDM1NGRjYWIwNTIyM2QwYTRlZTAzMjEgPSAkKGA8ZGl2IGlkPSJodG1sXzc0MTBlNGQxZjAzNTRkY2FiMDUyMjNkMGE0ZWUwMzIxIiBzdHlsZT0id2lkdGg6IDEwMC4wJTsgaGVpZ2h0OiAxMDAuMCU7Ij5NN0EgLSBRdWVlbiYjMzk7cyBQYXJrIC0gUXVlZW4mIzM5O3MgUGFyazwvZGl2PmApWzBdOwogICAgICAgICAgICBwb3B1cF8zMDIzZDg3YzQ2NGQ0Njg4ODJmZjQyZjdlMjRlYWJmZC5zZXRDb250ZW50KGh0bWxfNzQxMGU0ZDFmMDM1NGRjYWIwNTIyM2QwYTRlZTAzMjEpOwogICAgICAgIAoKICAgICAgICBjaXJjbGVfbWFya2VyXzcwN2JhYmJiMTA5MzRjNmJhYjYwOGZiNDZhNzI0ODBjLmJpbmRQb3B1cChwb3B1cF8zMDIzZDg3YzQ2NGQ0Njg4ODJmZjQyZjdlMjRlYWJmZCkKICAgICAgICA7CgogICAgICAgIAogICAgCiAgICAKICAgICAgICAgICAgdmFyIGNpcmNsZV9tYXJrZXJfYThmMTJiOGFiYmRlNDJhZmFmOTU0NDg4NmEwYzNiYjkgPSBMLmNpcmNsZU1hcmtlcigKICAgICAgICAgICAgICAgIFs0My42MzY5NjU2LCAtNzkuNjE1ODE4OTk5OTk5OTldLAogICAgICAgICAgICAgICAgeyJidWJibGluZ01vdXNlRXZlbnRzIjogdHJ1ZSwgImNvbG9yIjogImJsdWUiLCAiZGFzaEFycmF5IjogbnVsbCwgImRhc2hPZmZzZXQiOiBudWxsLCAiZmlsbCI6IHRydWUsICJmaWxsQ29sb3IiOiAiIzMxODZjYyIsICJmaWxsT3BhY2l0eSI6IDAuNywgImZpbGxSdWxlIjogImV2ZW5vZGQiLCAibGluZUNhcCI6ICJyb3VuZCIsICJsaW5lSm9pbiI6ICJyb3VuZCIsICJvcGFjaXR5IjogMS4wLCAicmFkaXVzIjogNSwgInN0cm9rZSI6IHRydWUsICJ3ZWlnaHQiOiAzfQogICAgICAgICAgICApLmFkZFRvKG1hcF9lMjU4Y2NlNDRiODQ0NzY2OTIzYTA5ODk4YmUxNGQyYSk7CiAgICAgICAgCiAgICAKICAgICAgICB2YXIgcG9wdXBfNmIzMDQyODgyZTY3NGJjM2JmYWM2MTJmYzUwOTU1M2QgPSBMLnBvcHVwKHsibWF4V2lkdGgiOiAiMTAwJSJ9KTsKCiAgICAgICAgCiAgICAgICAgICAgIHZhciBodG1sXzEyODkzZWRlNmRkMTRmODM5Y2FkMDEwNTZlNTQwNTc2ID0gJChgPGRpdiBpZD0iaHRtbF8xMjg5M2VkZTZkZDE0ZjgzOWNhZDAxMDU2ZTU0MDU3NiIgc3R5bGU9IndpZHRoOiAxMDAuMCU7IGhlaWdodDogMTAwLjAlOyI+TTdSIC0gTWlzc2lzc2F1Z2EgLSBDYW5hZGEgUG9zdCBHYXRld2F5IFByb2Nlc3NpbmcgQ2VudHJlPC9kaXY+YClbMF07CiAgICAgICAgICAgIHBvcHVwXzZiMzA0Mjg4MmU2NzRiYzNiZmFjNjEyZmM1MDk1NTNkLnNldENvbnRlbnQoaHRtbF8xMjg5M2VkZTZkZDE0ZjgzOWNhZDAxMDU2ZTU0MDU3Nik7CiAgICAgICAgCgogICAgICAgIGNpcmNsZV9tYXJrZXJfYThmMTJiOGFiYmRlNDJhZmFmOTU0NDg4NmEwYzNiYjkuYmluZFBvcHVwKHBvcHVwXzZiMzA0Mjg4MmU2NzRiYzNiZmFjNjEyZmM1MDk1NTNkKQogICAgICAgIDsKCiAgICAgICAgCiAgICAKICAgIAogICAgICAgICAgICB2YXIgY2lyY2xlX21hcmtlcl9lZTk2NWQ2MmMxMjM0NmYyOWJmNDkyYjdmNGZjYmRlMyA9IEwuY2lyY2xlTWFya2VyKAogICAgICAgICAgICAgICAgWzQzLjY2Mjc0MzksIC03OS4zMjE1NThdLAogICAgICAgICAgICAgICAgeyJidWJibGluZ01vdXNlRXZlbnRzIjogdHJ1ZSwgImNvbG9yIjogImJsdWUiLCAiZGFzaEFycmF5IjogbnVsbCwgImRhc2hPZmZzZXQiOiBudWxsLCAiZmlsbCI6IHRydWUsICJmaWxsQ29sb3IiOiAiIzMxODZjYyIsICJmaWxsT3BhY2l0eSI6IDAuNywgImZpbGxSdWxlIjogImV2ZW5vZGQiLCAibGluZUNhcCI6ICJyb3VuZCIsICJsaW5lSm9pbiI6ICJyb3VuZCIsICJvcGFjaXR5IjogMS4wLCAicmFkaXVzIjogNSwgInN0cm9rZSI6IHRydWUsICJ3ZWlnaHQiOiAzfQogICAgICAgICAgICApLmFkZFRvKG1hcF9lMjU4Y2NlNDRiODQ0NzY2OTIzYTA5ODk4YmUxNGQyYSk7CiAgICAgICAgCiAgICAKICAgICAgICB2YXIgcG9wdXBfYjc3NjFhYWM4MzMxNGVkMjhhNDg0MTE3MjdhYzNjMjMgPSBMLnBvcHVwKHsibWF4V2lkdGgiOiAiMTAwJSJ9KTsKCiAgICAgICAgCiAgICAgICAgICAgIHZhciBodG1sX2VjZWVhMWE3MjM1MzQyYzE4Yzc4NWRjMTFmMzBmMjQ4ID0gJChgPGRpdiBpZD0iaHRtbF9lY2VlYTFhNzIzNTM0MmMxOGM3ODVkYzExZjMwZjI0OCIgc3R5bGU9IndpZHRoOiAxMDAuMCU7IGhlaWdodDogMTAwLjAlOyI+TTdZIC0gRWFzdCBUb3JvbnRvIC0gQnVzaW5lc3MgUmVwbHkgTWFpbCBQcm9jZXNzaW5nIENlbnRyZSA5NjkgRWFzdGVybjwvZGl2PmApWzBdOwogICAgICAgICAgICBwb3B1cF9iNzc2MWFhYzgzMzE0ZWQyOGE0ODQxMTcyN2FjM2MyMy5zZXRDb250ZW50KGh0bWxfZWNlZWExYTcyMzUzNDJjMThjNzg1ZGMxMWYzMGYyNDgpOwogICAgICAgIAoKICAgICAgICBjaXJjbGVfbWFya2VyX2VlOTY1ZDYyYzEyMzQ2ZjI5YmY0OTJiN2Y0ZmNiZGUzLmJpbmRQb3B1cChwb3B1cF9iNzc2MWFhYzgzMzE0ZWQyOGE0ODQxMTcyN2FjM2MyMykKICAgICAgICA7CgogICAgICAgIAogICAgCiAgICAKICAgICAgICAgICAgdmFyIGNpcmNsZV9tYXJrZXJfZTYwZDFkMTg2ZWFmNDFlOWJhOTgwZjFlMGEwZDBiZGMgPSBMLmNpcmNsZU1hcmtlcigKICAgICAgICAgICAgICAgIFs0My42MDU2NDY2LCAtNzkuNTAxMzIwNzAwMDAwMDFdLAogICAgICAgICAgICAgICAgeyJidWJibGluZ01vdXNlRXZlbnRzIjogdHJ1ZSwgImNvbG9yIjogImJsdWUiLCAiZGFzaEFycmF5IjogbnVsbCwgImRhc2hPZmZzZXQiOiBudWxsLCAiZmlsbCI6IHRydWUsICJmaWxsQ29sb3IiOiAiIzMxODZjYyIsICJmaWxsT3BhY2l0eSI6IDAuNywgImZpbGxSdWxlIjogImV2ZW5vZGQiLCAibGluZUNhcCI6ICJyb3VuZCIsICJsaW5lSm9pbiI6ICJyb3VuZCIsICJvcGFjaXR5IjogMS4wLCAicmFkaXVzIjogNSwgInN0cm9rZSI6IHRydWUsICJ3ZWlnaHQiOiAzfQogICAgICAgICAgICApLmFkZFRvKG1hcF9lMjU4Y2NlNDRiODQ0NzY2OTIzYTA5ODk4YmUxNGQyYSk7CiAgICAgICAgCiAgICAKICAgICAgICB2YXIgcG9wdXBfYTMyN2ZhYjlhODNmNGNlMWJlMjczZDliYjg4YzY2N2IgPSBMLnBvcHVwKHsibWF4V2lkdGgiOiAiMTAwJSJ9KTsKCiAgICAgICAgCiAgICAgICAgICAgIHZhciBodG1sXzMxOWYzOTFlYmViOTQ5ZjA5MjczOGJjMDdlZWI1MGNmID0gJChgPGRpdiBpZD0iaHRtbF8zMTlmMzkxZWJlYjk0OWYwOTI3MzhiYzA3ZWViNTBjZiIgc3R5bGU9IndpZHRoOiAxMDAuMCU7IGhlaWdodDogMTAwLjAlOyI+TThWIC0gRXRvYmljb2tlIC0gSHVtYmVyIEJheSBTaG9yZXMsTWltaWNvIFNvdXRoLE5ldyBUb3JvbnRvPC9kaXY+YClbMF07CiAgICAgICAgICAgIHBvcHVwX2EzMjdmYWI5YTgzZjRjZTFiZTI3M2Q5YmI4OGM2NjdiLnNldENvbnRlbnQoaHRtbF8zMTlmMzkxZWJlYjk0OWYwOTI3MzhiYzA3ZWViNTBjZik7CiAgICAgICAgCgogICAgICAgIGNpcmNsZV9tYXJrZXJfZTYwZDFkMTg2ZWFmNDFlOWJhOTgwZjFlMGEwZDBiZGMuYmluZFBvcHVwKHBvcHVwX2EzMjdmYWI5YTgzZjRjZTFiZTI3M2Q5YmI4OGM2NjdiKQogICAgICAgIDsKCiAgICAgICAgCiAgICAKICAgIAogICAgICAgICAgICB2YXIgY2lyY2xlX21hcmtlcl9hZTRjMDhjNzJmYWY0MGVhOTNjMjkyNWU5Zjg0MWQ2MSA9IEwuY2lyY2xlTWFya2VyKAogICAgICAgICAgICAgICAgWzQzLjYwMjQxMzcwMDAwMDAxLCAtNzkuNTQzNDg0MDk5OTk5OTldLAogICAgICAgICAgICAgICAgeyJidWJibGluZ01vdXNlRXZlbnRzIjogdHJ1ZSwgImNvbG9yIjogImJsdWUiLCAiZGFzaEFycmF5IjogbnVsbCwgImRhc2hPZmZzZXQiOiBudWxsLCAiZmlsbCI6IHRydWUsICJmaWxsQ29sb3IiOiAiIzMxODZjYyIsICJmaWxsT3BhY2l0eSI6IDAuNywgImZpbGxSdWxlIjogImV2ZW5vZGQiLCAibGluZUNhcCI6ICJyb3VuZCIsICJsaW5lSm9pbiI6ICJyb3VuZCIsICJvcGFjaXR5IjogMS4wLCAicmFkaXVzIjogNSwgInN0cm9rZSI6IHRydWUsICJ3ZWlnaHQiOiAzfQogICAgICAgICAgICApLmFkZFRvKG1hcF9lMjU4Y2NlNDRiODQ0NzY2OTIzYTA5ODk4YmUxNGQyYSk7CiAgICAgICAgCiAgICAKICAgICAgICB2YXIgcG9wdXBfM2Y0NGNkMmI2ZWE5NGFlYTg0N2RlODExMGQwODNlMmEgPSBMLnBvcHVwKHsibWF4V2lkdGgiOiAiMTAwJSJ9KTsKCiAgICAgICAgCiAgICAgICAgICAgIHZhciBodG1sXzU5YWI0ODZkNDQ3ODRmNGFiMWFiNGEyOGI4NTk5ZmQzID0gJChgPGRpdiBpZD0iaHRtbF81OWFiNDg2ZDQ0Nzg0ZjRhYjFhYjRhMjhiODU5OWZkMyIgc3R5bGU9IndpZHRoOiAxMDAuMCU7IGhlaWdodDogMTAwLjAlOyI+TThXIC0gRXRvYmljb2tlIC0gQWxkZXJ3b29kLExvbmcgQnJhbmNoPC9kaXY+YClbMF07CiAgICAgICAgICAgIHBvcHVwXzNmNDRjZDJiNmVhOTRhZWE4NDdkZTgxMTBkMDgzZTJhLnNldENvbnRlbnQoaHRtbF81OWFiNDg2ZDQ0Nzg0ZjRhYjFhYjRhMjhiODU5OWZkMyk7CiAgICAgICAgCgogICAgICAgIGNpcmNsZV9tYXJrZXJfYWU0YzA4YzcyZmFmNDBlYTkzYzI5MjVlOWY4NDFkNjEuYmluZFBvcHVwKHBvcHVwXzNmNDRjZDJiNmVhOTRhZWE4NDdkZTgxMTBkMDgzZTJhKQogICAgICAgIDsKCiAgICAgICAgCiAgICAKICAgIAogICAgICAgICAgICB2YXIgY2lyY2xlX21hcmtlcl8yYjllZjQ5YTk0NGQ0MjFhOTdlM2FkMDFmOGY5ZTcyOSA9IEwuY2lyY2xlTWFya2VyKAogICAgICAgICAgICAgICAgWzQzLjY1MzY1MzYwMDAwMDAwNSwgLTc5LjUwNjk0MzZdLAogICAgICAgICAgICAgICAgeyJidWJibGluZ01vdXNlRXZlbnRzIjogdHJ1ZSwgImNvbG9yIjogImJsdWUiLCAiZGFzaEFycmF5IjogbnVsbCwgImRhc2hPZmZzZXQiOiBudWxsLCAiZmlsbCI6IHRydWUsICJmaWxsQ29sb3IiOiAiIzMxODZjYyIsICJmaWxsT3BhY2l0eSI6IDAuNywgImZpbGxSdWxlIjogImV2ZW5vZGQiLCAibGluZUNhcCI6ICJyb3VuZCIsICJsaW5lSm9pbiI6ICJyb3VuZCIsICJvcGFjaXR5IjogMS4wLCAicmFkaXVzIjogNSwgInN0cm9rZSI6IHRydWUsICJ3ZWlnaHQiOiAzfQogICAgICAgICAgICApLmFkZFRvKG1hcF9lMjU4Y2NlNDRiODQ0NzY2OTIzYTA5ODk4YmUxNGQyYSk7CiAgICAgICAgCiAgICAKICAgICAgICB2YXIgcG9wdXBfNTFkZjVmZjkyNzZkNDQyMThkNjJlYjdlNTdkNGIxYWIgPSBMLnBvcHVwKHsibWF4V2lkdGgiOiAiMTAwJSJ9KTsKCiAgICAgICAgCiAgICAgICAgICAgIHZhciBodG1sXzUyY2ZhMTRmMjc1NzQ0NGY5ODdjNzQ0YmE1OTJmODBjID0gJChgPGRpdiBpZD0iaHRtbF81MmNmYTE0ZjI3NTc0NDRmOTg3Yzc0NGJhNTkyZjgwYyIgc3R5bGU9IndpZHRoOiAxMDAuMCU7IGhlaWdodDogMTAwLjAlOyI+TThYIC0gRXRvYmljb2tlIC0gVGhlIEtpbmdzd2F5LE1vbnRnb21lcnkgUm9hZCxPbGQgTWlsbCBOb3J0aDwvZGl2PmApWzBdOwogICAgICAgICAgICBwb3B1cF81MWRmNWZmOTI3NmQ0NDIxOGQ2MmViN2U1N2Q0YjFhYi5zZXRDb250ZW50KGh0bWxfNTJjZmExNGYyNzU3NDQ0Zjk4N2M3NDRiYTU5MmY4MGMpOwogICAgICAgIAoKICAgICAgICBjaXJjbGVfbWFya2VyXzJiOWVmNDlhOTQ0ZDQyMWE5N2UzYWQwMWY4ZjllNzI5LmJpbmRQb3B1cChwb3B1cF81MWRmNWZmOTI3NmQ0NDIxOGQ2MmViN2U1N2Q0YjFhYikKICAgICAgICA7CgogICAgICAgIAogICAgCiAgICAKICAgICAgICAgICAgdmFyIGNpcmNsZV9tYXJrZXJfZjgxYmI4MGU2OTg4NGEyNDk2MmQ0NjE3NDE4NGJjNmEgPSBMLmNpcmNsZU1hcmtlcigKICAgICAgICAgICAgICAgIFs0My42MzYyNTc5LCAtNzkuNDk4NTA5MDk5OTk5OTldLAogICAgICAgICAgICAgICAgeyJidWJibGluZ01vdXNlRXZlbnRzIjogdHJ1ZSwgImNvbG9yIjogImJsdWUiLCAiZGFzaEFycmF5IjogbnVsbCwgImRhc2hPZmZzZXQiOiBudWxsLCAiZmlsbCI6IHRydWUsICJmaWxsQ29sb3IiOiAiIzMxODZjYyIsICJmaWxsT3BhY2l0eSI6IDAuNywgImZpbGxSdWxlIjogImV2ZW5vZGQiLCAibGluZUNhcCI6ICJyb3VuZCIsICJsaW5lSm9pbiI6ICJyb3VuZCIsICJvcGFjaXR5IjogMS4wLCAicmFkaXVzIjogNSwgInN0cm9rZSI6IHRydWUsICJ3ZWlnaHQiOiAzfQogICAgICAgICAgICApLmFkZFRvKG1hcF9lMjU4Y2NlNDRiODQ0NzY2OTIzYTA5ODk4YmUxNGQyYSk7CiAgICAgICAgCiAgICAKICAgICAgICB2YXIgcG9wdXBfYTEyM2NlNGFiNTcxNDkwMmI0MjU5NmIyY2YwMTlkZDYgPSBMLnBvcHVwKHsibWF4V2lkdGgiOiAiMTAwJSJ9KTsKCiAgICAgICAgCiAgICAgICAgICAgIHZhciBodG1sXzg2YTJhOWY2MjdjOTQ1OTE5ODhjZDNiNGUxMGE5ODA1ID0gJChgPGRpdiBpZD0iaHRtbF84NmEyYTlmNjI3Yzk0NTkxOTg4Y2QzYjRlMTBhOTgwNSIgc3R5bGU9IndpZHRoOiAxMDAuMCU7IGhlaWdodDogMTAwLjAlOyI+TThZIC0gRXRvYmljb2tlIC0gSHVtYmVyIEJheSxLaW5nJiMzOTtzIE1pbGwgUGFyayxLaW5nc3dheSBQYXJrIFNvdXRoIEVhc3QsTWltaWNvIE5FLE9sZCBNaWxsIFNvdXRoLFRoZSBRdWVlbnN3YXkgRWFzdCxSb3lhbCBZb3JrIFNvdXRoIEVhc3QsU3VubnlsZWE8L2Rpdj5gKVswXTsKICAgICAgICAgICAgcG9wdXBfYTEyM2NlNGFiNTcxNDkwMmI0MjU5NmIyY2YwMTlkZDYuc2V0Q29udGVudChodG1sXzg2YTJhOWY2MjdjOTQ1OTE5ODhjZDNiNGUxMGE5ODA1KTsKICAgICAgICAKCiAgICAgICAgY2lyY2xlX21hcmtlcl9mODFiYjgwZTY5ODg0YTI0OTYyZDQ2MTc0MTg0YmM2YS5iaW5kUG9wdXAocG9wdXBfYTEyM2NlNGFiNTcxNDkwMmI0MjU5NmIyY2YwMTlkZDYpCiAgICAgICAgOwoKICAgICAgICAKICAgIAogICAgCiAgICAgICAgICAgIHZhciBjaXJjbGVfbWFya2VyX2RjZTAxZjg2NzUyMDRmODVhYzc1YjMxMGJhYmFlOWMzID0gTC5jaXJjbGVNYXJrZXIoCiAgICAgICAgICAgICAgICBbNDMuNjI4ODQwOCwgLTc5LjUyMDk5OTQwMDAwMDAxXSwKICAgICAgICAgICAgICAgIHsiYnViYmxpbmdNb3VzZUV2ZW50cyI6IHRydWUsICJjb2xvciI6ICJibHVlIiwgImRhc2hBcnJheSI6IG51bGwsICJkYXNoT2Zmc2V0IjogbnVsbCwgImZpbGwiOiB0cnVlLCAiZmlsbENvbG9yIjogIiMzMTg2Y2MiLCAiZmlsbE9wYWNpdHkiOiAwLjcsICJmaWxsUnVsZSI6ICJldmVub2RkIiwgImxpbmVDYXAiOiAicm91bmQiLCAibGluZUpvaW4iOiAicm91bmQiLCAib3BhY2l0eSI6IDEuMCwgInJhZGl1cyI6IDUsICJzdHJva2UiOiB0cnVlLCAid2VpZ2h0IjogM30KICAgICAgICAgICAgKS5hZGRUbyhtYXBfZTI1OGNjZTQ0Yjg0NDc2NjkyM2EwOTg5OGJlMTRkMmEpOwogICAgICAgIAogICAgCiAgICAgICAgdmFyIHBvcHVwXzViMDRjMGUzNmVmZDQ5OGZiY2QwYjA1NDYxYTRjZTUwID0gTC5wb3B1cCh7Im1heFdpZHRoIjogIjEwMCUifSk7CgogICAgICAgIAogICAgICAgICAgICB2YXIgaHRtbF8yNzdmY2FlMGU4MjQ0NTY0YTcxNTZiNGFkNTc3ZTc3NCA9ICQoYDxkaXYgaWQ9Imh0bWxfMjc3ZmNhZTBlODI0NDU2NGE3MTU2YjRhZDU3N2U3NzQiIHN0eWxlPSJ3aWR0aDogMTAwLjAlOyBoZWlnaHQ6IDEwMC4wJTsiPk04WiAtIEV0b2JpY29rZSAtIEtpbmdzd2F5IFBhcmsgU291dGggV2VzdCxNaW1pY28gTlcsVGhlIFF1ZWVuc3dheSBXZXN0LFJveWFsIFlvcmsgU291dGggV2VzdCxTb3V0aCBvZiBCbG9vcjwvZGl2PmApWzBdOwogICAgICAgICAgICBwb3B1cF81YjA0YzBlMzZlZmQ0OThmYmNkMGIwNTQ2MWE0Y2U1MC5zZXRDb250ZW50KGh0bWxfMjc3ZmNhZTBlODI0NDU2NGE3MTU2YjRhZDU3N2U3NzQpOwogICAgICAgIAoKICAgICAgICBjaXJjbGVfbWFya2VyX2RjZTAxZjg2NzUyMDRmODVhYzc1YjMxMGJhYmFlOWMzLmJpbmRQb3B1cChwb3B1cF81YjA0YzBlMzZlZmQ0OThmYmNkMGIwNTQ2MWE0Y2U1MCkKICAgICAgICA7CgogICAgICAgIAogICAgCiAgICAKICAgICAgICAgICAgdmFyIGNpcmNsZV9tYXJrZXJfYWEwZGIzOTc1YzllNDU1ODk4ZTI1ZDZjNDIzOGQ2OTYgPSBMLmNpcmNsZU1hcmtlcigKICAgICAgICAgICAgICAgIFs0My42Njc4NTU2LCAtNzkuNTMyMjQyNDAwMDAwMDJdLAogICAgICAgICAgICAgICAgeyJidWJibGluZ01vdXNlRXZlbnRzIjogdHJ1ZSwgImNvbG9yIjogImJsdWUiLCAiZGFzaEFycmF5IjogbnVsbCwgImRhc2hPZmZzZXQiOiBudWxsLCAiZmlsbCI6IHRydWUsICJmaWxsQ29sb3IiOiAiIzMxODZjYyIsICJmaWxsT3BhY2l0eSI6IDAuNywgImZpbGxSdWxlIjogImV2ZW5vZGQiLCAibGluZUNhcCI6ICJyb3VuZCIsICJsaW5lSm9pbiI6ICJyb3VuZCIsICJvcGFjaXR5IjogMS4wLCAicmFkaXVzIjogNSwgInN0cm9rZSI6IHRydWUsICJ3ZWlnaHQiOiAzfQogICAgICAgICAgICApLmFkZFRvKG1hcF9lMjU4Y2NlNDRiODQ0NzY2OTIzYTA5ODk4YmUxNGQyYSk7CiAgICAgICAgCiAgICAKICAgICAgICB2YXIgcG9wdXBfNmIwY2IzNzdhZDgwNDMyZmEzNTA5NGE2MGQyOWZkNDggPSBMLnBvcHVwKHsibWF4V2lkdGgiOiAiMTAwJSJ9KTsKCiAgICAgICAgCiAgICAgICAgICAgIHZhciBodG1sX2I2MWY3YTgyNGNlZTRmOTFiNjQxZGMyNGQxNTY1NTIzID0gJChgPGRpdiBpZD0iaHRtbF9iNjFmN2E4MjRjZWU0ZjkxYjY0MWRjMjRkMTU2NTUyMyIgc3R5bGU9IndpZHRoOiAxMDAuMCU7IGhlaWdodDogMTAwLjAlOyI+TTlBIC0gRXRvYmljb2tlIC0gSXNsaW5ndG9uIEF2ZW51ZTwvZGl2PmApWzBdOwogICAgICAgICAgICBwb3B1cF82YjBjYjM3N2FkODA0MzJmYTM1MDk0YTYwZDI5ZmQ0OC5zZXRDb250ZW50KGh0bWxfYjYxZjdhODI0Y2VlNGY5MWI2NDFkYzI0ZDE1NjU1MjMpOwogICAgICAgIAoKICAgICAgICBjaXJjbGVfbWFya2VyX2FhMGRiMzk3NWM5ZTQ1NTg5OGUyNWQ2YzQyMzhkNjk2LmJpbmRQb3B1cChwb3B1cF82YjBjYjM3N2FkODA0MzJmYTM1MDk0YTYwZDI5ZmQ0OCkKICAgICAgICA7CgogICAgICAgIAogICAgCiAgICAKICAgICAgICAgICAgdmFyIGNpcmNsZV9tYXJrZXJfNzUyYjIxYzdmM2YyNDZmODk4MzA3NDViYzZhZDdiNmUgPSBMLmNpcmNsZU1hcmtlcigKICAgICAgICAgICAgICAgIFs0My42NTA5NDMyLCAtNzkuNTU0NzI0NDAwMDAwMDFdLAogICAgICAgICAgICAgICAgeyJidWJibGluZ01vdXNlRXZlbnRzIjogdHJ1ZSwgImNvbG9yIjogImJsdWUiLCAiZGFzaEFycmF5IjogbnVsbCwgImRhc2hPZmZzZXQiOiBudWxsLCAiZmlsbCI6IHRydWUsICJmaWxsQ29sb3IiOiAiIzMxODZjYyIsICJmaWxsT3BhY2l0eSI6IDAuNywgImZpbGxSdWxlIjogImV2ZW5vZGQiLCAibGluZUNhcCI6ICJyb3VuZCIsICJsaW5lSm9pbiI6ICJyb3VuZCIsICJvcGFjaXR5IjogMS4wLCAicmFkaXVzIjogNSwgInN0cm9rZSI6IHRydWUsICJ3ZWlnaHQiOiAzfQogICAgICAgICAgICApLmFkZFRvKG1hcF9lMjU4Y2NlNDRiODQ0NzY2OTIzYTA5ODk4YmUxNGQyYSk7CiAgICAgICAgCiAgICAKICAgICAgICB2YXIgcG9wdXBfZTQ0OGQwNTVlNTAyNDEyZjg0Nzc2MTkxNGMxOWUyYzEgPSBMLnBvcHVwKHsibWF4V2lkdGgiOiAiMTAwJSJ9KTsKCiAgICAgICAgCiAgICAgICAgICAgIHZhciBodG1sX2RjZTAxOTE0MTgzZTQzNWU4NTUxZDU3NmM0NjAxYjIxID0gJChgPGRpdiBpZD0iaHRtbF9kY2UwMTkxNDE4M2U0MzVlODU1MWQ1NzZjNDYwMWIyMSIgc3R5bGU9IndpZHRoOiAxMDAuMCU7IGhlaWdodDogMTAwLjAlOyI+TTlCIC0gRXRvYmljb2tlIC0gQ2xvdmVyZGFsZSxJc2xpbmd0b24sTWFydGluIEdyb3ZlLFByaW5jZXNzIEdhcmRlbnMsV2VzdCBEZWFuZSBQYXJrPC9kaXY+YClbMF07CiAgICAgICAgICAgIHBvcHVwX2U0NDhkMDU1ZTUwMjQxMmY4NDc3NjE5MTRjMTllMmMxLnNldENvbnRlbnQoaHRtbF9kY2UwMTkxNDE4M2U0MzVlODU1MWQ1NzZjNDYwMWIyMSk7CiAgICAgICAgCgogICAgICAgIGNpcmNsZV9tYXJrZXJfNzUyYjIxYzdmM2YyNDZmODk4MzA3NDViYzZhZDdiNmUuYmluZFBvcHVwKHBvcHVwX2U0NDhkMDU1ZTUwMjQxMmY4NDc3NjE5MTRjMTllMmMxKQogICAgICAgIDsKCiAgICAgICAgCiAgICAKICAgIAogICAgICAgICAgICB2YXIgY2lyY2xlX21hcmtlcl9iNDAxMDUyZjc0Y2Y0NTIyYmQwYWFmODhhOWI5NDlmNCA9IEwuY2lyY2xlTWFya2VyKAogICAgICAgICAgICAgICAgWzQzLjY0MzUxNTIsIC03OS41NzcyMDA3OTk5OTk5OV0sCiAgICAgICAgICAgICAgICB7ImJ1YmJsaW5nTW91c2VFdmVudHMiOiB0cnVlLCAiY29sb3IiOiAiYmx1ZSIsICJkYXNoQXJyYXkiOiBudWxsLCAiZGFzaE9mZnNldCI6IG51bGwsICJmaWxsIjogdHJ1ZSwgImZpbGxDb2xvciI6ICIjMzE4NmNjIiwgImZpbGxPcGFjaXR5IjogMC43LCAiZmlsbFJ1bGUiOiAiZXZlbm9kZCIsICJsaW5lQ2FwIjogInJvdW5kIiwgImxpbmVKb2luIjogInJvdW5kIiwgIm9wYWNpdHkiOiAxLjAsICJyYWRpdXMiOiA1LCAic3Ryb2tlIjogdHJ1ZSwgIndlaWdodCI6IDN9CiAgICAgICAgICAgICkuYWRkVG8obWFwX2UyNThjY2U0NGI4NDQ3NjY5MjNhMDk4OThiZTE0ZDJhKTsKICAgICAgICAKICAgIAogICAgICAgIHZhciBwb3B1cF9lMjUyNjE1YTgyNTI0MjU0ODBjYjEwOTgwMDk3YmNkZCA9IEwucG9wdXAoeyJtYXhXaWR0aCI6ICIxMDAlIn0pOwoKICAgICAgICAKICAgICAgICAgICAgdmFyIGh0bWxfNTgzNWVlZWJkMzRhNDg0MTg2MjIxMGExNWZiNDVkYTAgPSAkKGA8ZGl2IGlkPSJodG1sXzU4MzVlZWViZDM0YTQ4NDE4NjIyMTBhMTVmYjQ1ZGEwIiBzdHlsZT0id2lkdGg6IDEwMC4wJTsgaGVpZ2h0OiAxMDAuMCU7Ij5NOUMgLSBFdG9iaWNva2UgLSBCbG9vcmRhbGUgR2FyZGVucyxFcmluZ2F0ZSxNYXJrbGFuZCBXb29kLE9sZCBCdXJuaGFtdGhvcnBlPC9kaXY+YClbMF07CiAgICAgICAgICAgIHBvcHVwX2UyNTI2MTVhODI1MjQyNTQ4MGNiMTA5ODAwOTdiY2RkLnNldENvbnRlbnQoaHRtbF81ODM1ZWVlYmQzNGE0ODQxODYyMjEwYTE1ZmI0NWRhMCk7CiAgICAgICAgCgogICAgICAgIGNpcmNsZV9tYXJrZXJfYjQwMTA1MmY3NGNmNDUyMmJkMGFhZjg4YTliOTQ5ZjQuYmluZFBvcHVwKHBvcHVwX2UyNTI2MTVhODI1MjQyNTQ4MGNiMTA5ODAwOTdiY2RkKQogICAgICAgIDsKCiAgICAgICAgCiAgICAKICAgIAogICAgICAgICAgICB2YXIgY2lyY2xlX21hcmtlcl8zMTE4NWE2Mjk3ZDI0MjgxYjBlMjEwMmE1NjZjN2MwZSA9IEwuY2lyY2xlTWFya2VyKAogICAgICAgICAgICAgICAgWzQzLjc1NjMwMzMsIC03OS41NjU5NjMyOTk5OTk5OV0sCiAgICAgICAgICAgICAgICB7ImJ1YmJsaW5nTW91c2VFdmVudHMiOiB0cnVlLCAiY29sb3IiOiAiYmx1ZSIsICJkYXNoQXJyYXkiOiBudWxsLCAiZGFzaE9mZnNldCI6IG51bGwsICJmaWxsIjogdHJ1ZSwgImZpbGxDb2xvciI6ICIjMzE4NmNjIiwgImZpbGxPcGFjaXR5IjogMC43LCAiZmlsbFJ1bGUiOiAiZXZlbm9kZCIsICJsaW5lQ2FwIjogInJvdW5kIiwgImxpbmVKb2luIjogInJvdW5kIiwgIm9wYWNpdHkiOiAxLjAsICJyYWRpdXMiOiA1LCAic3Ryb2tlIjogdHJ1ZSwgIndlaWdodCI6IDN9CiAgICAgICAgICAgICkuYWRkVG8obWFwX2UyNThjY2U0NGI4NDQ3NjY5MjNhMDk4OThiZTE0ZDJhKTsKICAgICAgICAKICAgIAogICAgICAgIHZhciBwb3B1cF85NzEwZDM4YmE4YzY0YWNhYTZkZWU3ZDFjZTU1MWY0MSA9IEwucG9wdXAoeyJtYXhXaWR0aCI6ICIxMDAlIn0pOwoKICAgICAgICAKICAgICAgICAgICAgdmFyIGh0bWxfZjRiOGNiOGNmYmQ5NGE1OTg0ZjZiMjc0MzQyZmQzMTAgPSAkKGA8ZGl2IGlkPSJodG1sX2Y0YjhjYjhjZmJkOTRhNTk4NGY2YjI3NDM0MmZkMzEwIiBzdHlsZT0id2lkdGg6IDEwMC4wJTsgaGVpZ2h0OiAxMDAuMCU7Ij5NOUwgLSBOb3J0aCBZb3JrIC0gSHVtYmVyIFN1bW1pdDwvZGl2PmApWzBdOwogICAgICAgICAgICBwb3B1cF85NzEwZDM4YmE4YzY0YWNhYTZkZWU3ZDFjZTU1MWY0MS5zZXRDb250ZW50KGh0bWxfZjRiOGNiOGNmYmQ5NGE1OTg0ZjZiMjc0MzQyZmQzMTApOwogICAgICAgIAoKICAgICAgICBjaXJjbGVfbWFya2VyXzMxMTg1YTYyOTdkMjQyODFiMGUyMTAyYTU2NmM3YzBlLmJpbmRQb3B1cChwb3B1cF85NzEwZDM4YmE4YzY0YWNhYTZkZWU3ZDFjZTU1MWY0MSkKICAgICAgICA7CgogICAgICAgIAogICAgCiAgICAKICAgICAgICAgICAgdmFyIGNpcmNsZV9tYXJrZXJfOTVkMGM2NzZhZTJmNGM4NThkOTkwMmUyODY0OTkzOTQgPSBMLmNpcmNsZU1hcmtlcigKICAgICAgICAgICAgICAgIFs0My43MjQ3NjU5LCAtNzkuNTMyMjQyNDAwMDAwMDJdLAogICAgICAgICAgICAgICAgeyJidWJibGluZ01vdXNlRXZlbnRzIjogdHJ1ZSwgImNvbG9yIjogImJsdWUiLCAiZGFzaEFycmF5IjogbnVsbCwgImRhc2hPZmZzZXQiOiBudWxsLCAiZmlsbCI6IHRydWUsICJmaWxsQ29sb3IiOiAiIzMxODZjYyIsICJmaWxsT3BhY2l0eSI6IDAuNywgImZpbGxSdWxlIjogImV2ZW5vZGQiLCAibGluZUNhcCI6ICJyb3VuZCIsICJsaW5lSm9pbiI6ICJyb3VuZCIsICJvcGFjaXR5IjogMS4wLCAicmFkaXVzIjogNSwgInN0cm9rZSI6IHRydWUsICJ3ZWlnaHQiOiAzfQogICAgICAgICAgICApLmFkZFRvKG1hcF9lMjU4Y2NlNDRiODQ0NzY2OTIzYTA5ODk4YmUxNGQyYSk7CiAgICAgICAgCiAgICAKICAgICAgICB2YXIgcG9wdXBfZDRkZDNkYWI3Yzc5NGNjZWFhYzU1NTM5MjcxOGQ1ODggPSBMLnBvcHVwKHsibWF4V2lkdGgiOiAiMTAwJSJ9KTsKCiAgICAgICAgCiAgICAgICAgICAgIHZhciBodG1sX2JkYmQ5NTU5NzMwMTQwMDM5ZDVmODliZjdiMDk5N2Y5ID0gJChgPGRpdiBpZD0iaHRtbF9iZGJkOTU1OTczMDE0MDAzOWQ1Zjg5YmY3YjA5OTdmOSIgc3R5bGU9IndpZHRoOiAxMDAuMCU7IGhlaWdodDogMTAwLjAlOyI+TTlNIC0gTm9ydGggWW9yayAtIEVtZXJ5LEh1bWJlcmxlYTwvZGl2PmApWzBdOwogICAgICAgICAgICBwb3B1cF9kNGRkM2RhYjdjNzk0Y2NlYWFjNTU1MzkyNzE4ZDU4OC5zZXRDb250ZW50KGh0bWxfYmRiZDk1NTk3MzAxNDAwMzlkNWY4OWJmN2IwOTk3ZjkpOwogICAgICAgIAoKICAgICAgICBjaXJjbGVfbWFya2VyXzk1ZDBjNjc2YWUyZjRjODU4ZDk5MDJlMjg2NDk5Mzk0LmJpbmRQb3B1cChwb3B1cF9kNGRkM2RhYjdjNzk0Y2NlYWFjNTU1MzkyNzE4ZDU4OCkKICAgICAgICA7CgogICAgICAgIAogICAgCiAgICAKICAgICAgICAgICAgdmFyIGNpcmNsZV9tYXJrZXJfZTVjNWIxNzgyZGMyNDAxOTg2YTM3MTk1MmM5Mjc0N2YgPSBMLmNpcmNsZU1hcmtlcigKICAgICAgICAgICAgICAgIFs0My43MDY4NzYsIC03OS41MTgxODg0MDAwMDAwMV0sCiAgICAgICAgICAgICAgICB7ImJ1YmJsaW5nTW91c2VFdmVudHMiOiB0cnVlLCAiY29sb3IiOiAiYmx1ZSIsICJkYXNoQXJyYXkiOiBudWxsLCAiZGFzaE9mZnNldCI6IG51bGwsICJmaWxsIjogdHJ1ZSwgImZpbGxDb2xvciI6ICIjMzE4NmNjIiwgImZpbGxPcGFjaXR5IjogMC43LCAiZmlsbFJ1bGUiOiAiZXZlbm9kZCIsICJsaW5lQ2FwIjogInJvdW5kIiwgImxpbmVKb2luIjogInJvdW5kIiwgIm9wYWNpdHkiOiAxLjAsICJyYWRpdXMiOiA1LCAic3Ryb2tlIjogdHJ1ZSwgIndlaWdodCI6IDN9CiAgICAgICAgICAgICkuYWRkVG8obWFwX2UyNThjY2U0NGI4NDQ3NjY5MjNhMDk4OThiZTE0ZDJhKTsKICAgICAgICAKICAgIAogICAgICAgIHZhciBwb3B1cF9mYzhiYzcwZWU3ZDg0YzE3Yjk4MGMzMmNmMDc2Mjc0MyA9IEwucG9wdXAoeyJtYXhXaWR0aCI6ICIxMDAlIn0pOwoKICAgICAgICAKICAgICAgICAgICAgdmFyIGh0bWxfMzhhMTJmNjRiNjdlNDQxNzg2OTBlYTUzYzViYzA4NTQgPSAkKGA8ZGl2IGlkPSJodG1sXzM4YTEyZjY0YjY3ZTQ0MTc4NjkwZWE1M2M1YmMwODU0IiBzdHlsZT0id2lkdGg6IDEwMC4wJTsgaGVpZ2h0OiAxMDAuMCU7Ij5NOU4gLSBZb3JrIC0gV2VzdG9uPC9kaXY+YClbMF07CiAgICAgICAgICAgIHBvcHVwX2ZjOGJjNzBlZTdkODRjMTdiOTgwYzMyY2YwNzYyNzQzLnNldENvbnRlbnQoaHRtbF8zOGExMmY2NGI2N2U0NDE3ODY5MGVhNTNjNWJjMDg1NCk7CiAgICAgICAgCgogICAgICAgIGNpcmNsZV9tYXJrZXJfZTVjNWIxNzgyZGMyNDAxOTg2YTM3MTk1MmM5Mjc0N2YuYmluZFBvcHVwKHBvcHVwX2ZjOGJjNzBlZTdkODRjMTdiOTgwYzMyY2YwNzYyNzQzKQogICAgICAgIDsKCiAgICAgICAgCiAgICAKICAgIAogICAgICAgICAgICB2YXIgY2lyY2xlX21hcmtlcl9hYTdiY2NmZDI1ZTY0MDU1YWI3Nzk2ODE0M2I2Y2VlMyA9IEwuY2lyY2xlTWFya2VyKAogICAgICAgICAgICAgICAgWzQzLjY5NjMxOSwgLTc5LjUzMjI0MjQwMDAwMDAyXSwKICAgICAgICAgICAgICAgIHsiYnViYmxpbmdNb3VzZUV2ZW50cyI6IHRydWUsICJjb2xvciI6ICJibHVlIiwgImRhc2hBcnJheSI6IG51bGwsICJkYXNoT2Zmc2V0IjogbnVsbCwgImZpbGwiOiB0cnVlLCAiZmlsbENvbG9yIjogIiMzMTg2Y2MiLCAiZmlsbE9wYWNpdHkiOiAwLjcsICJmaWxsUnVsZSI6ICJldmVub2RkIiwgImxpbmVDYXAiOiAicm91bmQiLCAibGluZUpvaW4iOiAicm91bmQiLCAib3BhY2l0eSI6IDEuMCwgInJhZGl1cyI6IDUsICJzdHJva2UiOiB0cnVlLCAid2VpZ2h0IjogM30KICAgICAgICAgICAgKS5hZGRUbyhtYXBfZTI1OGNjZTQ0Yjg0NDc2NjkyM2EwOTg5OGJlMTRkMmEpOwogICAgICAgIAogICAgCiAgICAgICAgdmFyIHBvcHVwX2Q1N2VjMjdiMDI2ZDQ1NWM4MzZjMmMwNWM2ODM2MWQ1ID0gTC5wb3B1cCh7Im1heFdpZHRoIjogIjEwMCUifSk7CgogICAgICAgIAogICAgICAgICAgICB2YXIgaHRtbF83Y2U2ZWQ2ZTMyN2E0Mjk4YjFhYzc2NDQyMmI0NDZiYSA9ICQoYDxkaXYgaWQ9Imh0bWxfN2NlNmVkNmUzMjdhNDI5OGIxYWM3NjQ0MjJiNDQ2YmEiIHN0eWxlPSJ3aWR0aDogMTAwLjAlOyBoZWlnaHQ6IDEwMC4wJTsiPk05UCAtIEV0b2JpY29rZSAtIFdlc3Rtb3VudDwvZGl2PmApWzBdOwogICAgICAgICAgICBwb3B1cF9kNTdlYzI3YjAyNmQ0NTVjODM2YzJjMDVjNjgzNjFkNS5zZXRDb250ZW50KGh0bWxfN2NlNmVkNmUzMjdhNDI5OGIxYWM3NjQ0MjJiNDQ2YmEpOwogICAgICAgIAoKICAgICAgICBjaXJjbGVfbWFya2VyX2FhN2JjY2ZkMjVlNjQwNTVhYjc3OTY4MTQzYjZjZWUzLmJpbmRQb3B1cChwb3B1cF9kNTdlYzI3YjAyNmQ0NTVjODM2YzJjMDVjNjgzNjFkNSkKICAgICAgICA7CgogICAgICAgIAogICAgCiAgICAKICAgICAgICAgICAgdmFyIGNpcmNsZV9tYXJrZXJfZGI2M2M0N2NjNmRkNGY2N2IwZDVmYTE1OGIzYjlhYjYgPSBMLmNpcmNsZU1hcmtlcigKICAgICAgICAgICAgICAgIFs0My42ODg5MDU0LCAtNzkuNTU0NzI0NDAwMDAwMDFdLAogICAgICAgICAgICAgICAgeyJidWJibGluZ01vdXNlRXZlbnRzIjogdHJ1ZSwgImNvbG9yIjogImJsdWUiLCAiZGFzaEFycmF5IjogbnVsbCwgImRhc2hPZmZzZXQiOiBudWxsLCAiZmlsbCI6IHRydWUsICJmaWxsQ29sb3IiOiAiIzMxODZjYyIsICJmaWxsT3BhY2l0eSI6IDAuNywgImZpbGxSdWxlIjogImV2ZW5vZGQiLCAibGluZUNhcCI6ICJyb3VuZCIsICJsaW5lSm9pbiI6ICJyb3VuZCIsICJvcGFjaXR5IjogMS4wLCAicmFkaXVzIjogNSwgInN0cm9rZSI6IHRydWUsICJ3ZWlnaHQiOiAzfQogICAgICAgICAgICApLmFkZFRvKG1hcF9lMjU4Y2NlNDRiODQ0NzY2OTIzYTA5ODk4YmUxNGQyYSk7CiAgICAgICAgCiAgICAKICAgICAgICB2YXIgcG9wdXBfYmFkMjhiOWNkZDJhNGUxMGE2NWNkNjdjMDRmNzg2NzAgPSBMLnBvcHVwKHsibWF4V2lkdGgiOiAiMTAwJSJ9KTsKCiAgICAgICAgCiAgICAgICAgICAgIHZhciBodG1sX2RmNmFiYmZmZjJlNzQ3NzJiNzBmOWRmZmZhMWQ2MWEwID0gJChgPGRpdiBpZD0iaHRtbF9kZjZhYmJmZmYyZTc0NzcyYjcwZjlkZmZmYTFkNjFhMCIgc3R5bGU9IndpZHRoOiAxMDAuMCU7IGhlaWdodDogMTAwLjAlOyI+TTlSIC0gRXRvYmljb2tlIC0gS2luZ3N2aWV3IFZpbGxhZ2UsTWFydGluIEdyb3ZlIEdhcmRlbnMsUmljaHZpZXcgR2FyZGVucyxTdC4gUGhpbGxpcHM8L2Rpdj5gKVswXTsKICAgICAgICAgICAgcG9wdXBfYmFkMjhiOWNkZDJhNGUxMGE2NWNkNjdjMDRmNzg2NzAuc2V0Q29udGVudChodG1sX2RmNmFiYmZmZjJlNzQ3NzJiNzBmOWRmZmZhMWQ2MWEwKTsKICAgICAgICAKCiAgICAgICAgY2lyY2xlX21hcmtlcl9kYjYzYzQ3Y2M2ZGQ0ZjY3YjBkNWZhMTU4YjNiOWFiNi5iaW5kUG9wdXAocG9wdXBfYmFkMjhiOWNkZDJhNGUxMGE2NWNkNjdjMDRmNzg2NzApCiAgICAgICAgOwoKICAgICAgICAKICAgIAogICAgCiAgICAgICAgICAgIHZhciBjaXJjbGVfbWFya2VyXzQ0NTQ3ODc2M2U0NDQ3YWE5MmU5Yzg2MDEwOWRjNDE5ID0gTC5jaXJjbGVNYXJrZXIoCiAgICAgICAgICAgICAgICBbNDMuNzM5NDE2Mzk5OTk5OTk2LCAtNzkuNTg4NDM2OV0sCiAgICAgICAgICAgICAgICB7ImJ1YmJsaW5nTW91c2VFdmVudHMiOiB0cnVlLCAiY29sb3IiOiAiYmx1ZSIsICJkYXNoQXJyYXkiOiBudWxsLCAiZGFzaE9mZnNldCI6IG51bGwsICJmaWxsIjogdHJ1ZSwgImZpbGxDb2xvciI6ICIjMzE4NmNjIiwgImZpbGxPcGFjaXR5IjogMC43LCAiZmlsbFJ1bGUiOiAiZXZlbm9kZCIsICJsaW5lQ2FwIjogInJvdW5kIiwgImxpbmVKb2luIjogInJvdW5kIiwgIm9wYWNpdHkiOiAxLjAsICJyYWRpdXMiOiA1LCAic3Ryb2tlIjogdHJ1ZSwgIndlaWdodCI6IDN9CiAgICAgICAgICAgICkuYWRkVG8obWFwX2UyNThjY2U0NGI4NDQ3NjY5MjNhMDk4OThiZTE0ZDJhKTsKICAgICAgICAKICAgIAogICAgICAgIHZhciBwb3B1cF8yYzFjZmJkYWJhNDk0M2NiYTI1ZTMwOThkOTM2Mzk1MCA9IEwucG9wdXAoeyJtYXhXaWR0aCI6ICIxMDAlIn0pOwoKICAgICAgICAKICAgICAgICAgICAgdmFyIGh0bWxfYzAyN2YyMDhkNTM1NGFmMjlhMWNjZDc3ODZiNWRjNzMgPSAkKGA8ZGl2IGlkPSJodG1sX2MwMjdmMjA4ZDUzNTRhZjI5YTFjY2Q3Nzg2YjVkYzczIiBzdHlsZT0id2lkdGg6IDEwMC4wJTsgaGVpZ2h0OiAxMDAuMCU7Ij5NOVYgLSBFdG9iaWNva2UgLSBBbGJpb24gR2FyZGVucyxCZWF1bW9uZCBIZWlnaHRzLEh1bWJlcmdhdGUsSmFtZXN0b3duLE1vdW50IE9saXZlLFNpbHZlcnN0b25lLFNvdXRoIFN0ZWVsZXMsVGhpc3RsZXRvd248L2Rpdj5gKVswXTsKICAgICAgICAgICAgcG9wdXBfMmMxY2ZiZGFiYTQ5NDNjYmEyNWUzMDk4ZDkzNjM5NTAuc2V0Q29udGVudChodG1sX2MwMjdmMjA4ZDUzNTRhZjI5YTFjY2Q3Nzg2YjVkYzczKTsKICAgICAgICAKCiAgICAgICAgY2lyY2xlX21hcmtlcl80NDU0Nzg3NjNlNDQ0N2FhOTJlOWM4NjAxMDlkYzQxOS5iaW5kUG9wdXAocG9wdXBfMmMxY2ZiZGFiYTQ5NDNjYmEyNWUzMDk4ZDkzNjM5NTApCiAgICAgICAgOwoKICAgICAgICAKICAgIAogICAgCiAgICAgICAgICAgIHZhciBjaXJjbGVfbWFya2VyXzk2ZTA2NDY1YWU5YTQ4ODc4NjYzZDJlZGI3OWExNzk3ID0gTC5jaXJjbGVNYXJrZXIoCiAgICAgICAgICAgICAgICBbNDMuNzA2NzQ4Mjk5OTk5OTk0LCAtNzkuNTk0MDU0NF0sCiAgICAgICAgICAgICAgICB7ImJ1YmJsaW5nTW91c2VFdmVudHMiOiB0cnVlLCAiY29sb3IiOiAiYmx1ZSIsICJkYXNoQXJyYXkiOiBudWxsLCAiZGFzaE9mZnNldCI6IG51bGwsICJmaWxsIjogdHJ1ZSwgImZpbGxDb2xvciI6ICIjMzE4NmNjIiwgImZpbGxPcGFjaXR5IjogMC43LCAiZmlsbFJ1bGUiOiAiZXZlbm9kZCIsICJsaW5lQ2FwIjogInJvdW5kIiwgImxpbmVKb2luIjogInJvdW5kIiwgIm9wYWNpdHkiOiAxLjAsICJyYWRpdXMiOiA1LCAic3Ryb2tlIjogdHJ1ZSwgIndlaWdodCI6IDN9CiAgICAgICAgICAgICkuYWRkVG8obWFwX2UyNThjY2U0NGI4NDQ3NjY5MjNhMDk4OThiZTE0ZDJhKTsKICAgICAgICAKICAgIAogICAgICAgIHZhciBwb3B1cF8yZGNjZDA4M2Y1YmI0NDBjODZmMDcyY2E4YjFhOWI0OSA9IEwucG9wdXAoeyJtYXhXaWR0aCI6ICIxMDAlIn0pOwoKICAgICAgICAKICAgICAgICAgICAgdmFyIGh0bWxfMmM4YWFhZWEzNDg1NDA1NGI3M2I4NzkwODBjNmIwNTQgPSAkKGA8ZGl2IGlkPSJodG1sXzJjOGFhYWVhMzQ4NTQwNTRiNzNiODc5MDgwYzZiMDU0IiBzdHlsZT0id2lkdGg6IDEwMC4wJTsgaGVpZ2h0OiAxMDAuMCU7Ij5NOVcgLSBFdG9iaWNva2UgLSBOb3J0aHdlc3Q8L2Rpdj5gKVswXTsKICAgICAgICAgICAgcG9wdXBfMmRjY2QwODNmNWJiNDQwYzg2ZjA3MmNhOGIxYTliNDkuc2V0Q29udGVudChodG1sXzJjOGFhYWVhMzQ4NTQwNTRiNzNiODc5MDgwYzZiMDU0KTsKICAgICAgICAKCiAgICAgICAgY2lyY2xlX21hcmtlcl85NmUwNjQ2NWFlOWE0ODg3ODY2M2QyZWRiNzlhMTc5Ny5iaW5kUG9wdXAocG9wdXBfMmRjY2QwODNmNWJiNDQwYzg2ZjA3MmNhOGIxYTliNDkpCiAgICAgICAgOwoKICAgICAgICAKICAgIAo8L3NjcmlwdD4=\" style=\"position:absolute;width:100%;height:100%;left:0;top:0;border:none !important;\" allowfullscreen webkitallowfullscreen mozallowfullscreen></iframe></div></div>"
      ],
      "text/plain": [
       "<folium.folium.Map at 0x266ddeac048>"
      ]
     },
     "execution_count": 46,
     "metadata": {},
     "output_type": "execute_result"
    }
   ],
   "source": [
    "map_toronto = folium.Map(location = [latitude, longitude], zoom_start = 10)\n",
    "\n",
    "#add markers to the map\n",
    "\n",
    "for lat, lng, postcode, borough, neighborhood in zip(df_coord['Latitude'], df_coord['Longitude'], df_coord['Postcode'],df_coord['Borough'], df_coord['Neighborhood']):\n",
    "    label = '{} - {} - {}'.format(postcode, borough, neighborhood)\n",
    "    label = folium.Popup(label, parse_html=True)\n",
    "    folium.CircleMarker(\n",
    "        [lat, lng],\n",
    "        radius = 5,\n",
    "        popup = label,\n",
    "        color = 'blue',\n",
    "        fill = True,\n",
    "        fill_color = '#3186cc',\n",
    "        fill_opacity = 0.7,\n",
    "        parse_html = False).add_to(map_toronto)  \n",
    "    \n",
    "map_toronto"
   ]
  },
  {
   "cell_type": "markdown",
   "metadata": {},
   "source": [
    "### Define Foursquare Credentials and Version"
   ]
  },
  {
   "cell_type": "code",
   "execution_count": 47,
   "metadata": {},
   "outputs": [
    {
     "name": "stdout",
     "output_type": "stream",
     "text": [
      "Your credentails:\n",
      "CLIENT_ID: IXYUHV2CKMPMLB00RL144243ALVWMGDLJRUJQDFJUV1O3TIL\n",
      "CLIENT_SECRET:FO13DDOIJ3Y0UYH3DRTARW3JAGOVFYFHUPR0PO1W2DOIZQ04\n"
     ]
    }
   ],
   "source": [
    "CLIENT_ID = 'IXYUHV2CKMPMLB00RL144243ALVWMGDLJRUJQDFJUV1O3TIL' # your Foursquare ID\n",
    "CLIENT_SECRET = 'FO13DDOIJ3Y0UYH3DRTARW3JAGOVFYFHUPR0PO1W2DOIZQ04' # your Foursquare Secret\n",
    "VERSION = '20180605' # Foursquare API version\n",
    "LIMIT = 100\n",
    "\n",
    "print('Your credentails:')\n",
    "print('CLIENT_ID: ' + CLIENT_ID)\n",
    "print('CLIENT_SECRET:' + CLIENT_SECRET)"
   ]
  },
  {
   "cell_type": "markdown",
   "metadata": {},
   "source": [
    "### Explore Neighborhoods in Toronto"
   ]
  },
  {
   "cell_type": "markdown",
   "metadata": {},
   "source": [
    "Let's create a function to repeat the same process to all the neighborhoods in Toronto"
   ]
  },
  {
   "cell_type": "code",
   "execution_count": 48,
   "metadata": {},
   "outputs": [],
   "source": [
    "def getNearbyVenues(names, latitudes, longitudes, radius=500):\n",
    "    \n",
    "    venues_list=[]\n",
    "    for name, lat, lng in zip(names, latitudes, longitudes):\n",
    "            \n",
    "        # create the API request URL\n",
    "        url = 'https://api.foursquare.com/v2/venues/explore?&client_id={}&client_secret={}&v={}&ll={},{}&radius={}&limit={}'.format(\n",
    "            CLIENT_ID, \n",
    "            CLIENT_SECRET, \n",
    "            VERSION, \n",
    "            lat, \n",
    "            lng, \n",
    "            radius, \n",
    "            LIMIT)\n",
    "            \n",
    "        # make the GET request\n",
    "        results = requests.get(url).json()[\"response\"]['groups'][0]['items']\n",
    "        \n",
    "        # return only relevant information for each nearby venue\n",
    "        venues_list.append([(\n",
    "            name, \n",
    "            lat, \n",
    "            lng, \n",
    "            v['venue']['name'], \n",
    "            v['venue']['location']['lat'], \n",
    "            v['venue']['location']['lng'],  \n",
    "            v['venue']['categories'][0]['name']) for v in results])\n",
    "\n",
    "    nearby_venues = pd.DataFrame([item for venue_list in venues_list for item in venue_list])\n",
    "    nearby_venues.columns = ['Neighborhood', \n",
    "                  'Neighborhood Latitude', \n",
    "                  'Neighborhood Longitude', \n",
    "                  'Venue', \n",
    "                  'Venue Latitude', \n",
    "                  'Venue Longitude', \n",
    "                  'Venue Category']\n",
    "    \n",
    "    return(nearby_venues)"
   ]
  },
  {
   "cell_type": "code",
   "execution_count": 49,
   "metadata": {},
   "outputs": [],
   "source": [
    "#creat a dataframe \n",
    "toronto_venues = getNearbyVenues(names = df_coord['Neighborhood'],\n",
    "                                   latitudes = df_coord['Latitude'],\n",
    "                                   longitudes = df_coord['Longitude']\n",
    "                                  )\n"
   ]
  },
  {
   "cell_type": "code",
   "execution_count": 50,
   "metadata": {},
   "outputs": [
    {
     "data": {
      "text/html": [
       "<div>\n",
       "<style scoped>\n",
       "    .dataframe tbody tr th:only-of-type {\n",
       "        vertical-align: middle;\n",
       "    }\n",
       "\n",
       "    .dataframe tbody tr th {\n",
       "        vertical-align: top;\n",
       "    }\n",
       "\n",
       "    .dataframe thead th {\n",
       "        text-align: right;\n",
       "    }\n",
       "</style>\n",
       "<table border=\"1\" class=\"dataframe\">\n",
       "  <thead>\n",
       "    <tr style=\"text-align: right;\">\n",
       "      <th></th>\n",
       "      <th>Neighborhood</th>\n",
       "      <th>Neighborhood Latitude</th>\n",
       "      <th>Neighborhood Longitude</th>\n",
       "      <th>Venue</th>\n",
       "      <th>Venue Latitude</th>\n",
       "      <th>Venue Longitude</th>\n",
       "      <th>Venue Category</th>\n",
       "    </tr>\n",
       "  </thead>\n",
       "  <tbody>\n",
       "    <tr>\n",
       "      <th>0</th>\n",
       "      <td>Rouge,Malvern</td>\n",
       "      <td>43.806686</td>\n",
       "      <td>-79.194353</td>\n",
       "      <td>Wendy's</td>\n",
       "      <td>43.807448</td>\n",
       "      <td>-79.199056</td>\n",
       "      <td>Fast Food Restaurant</td>\n",
       "    </tr>\n",
       "    <tr>\n",
       "      <th>1</th>\n",
       "      <td>Highland Creek,Rouge Hill,Port Union</td>\n",
       "      <td>43.784535</td>\n",
       "      <td>-79.160497</td>\n",
       "      <td>Royal Canadian Legion</td>\n",
       "      <td>43.782533</td>\n",
       "      <td>-79.163085</td>\n",
       "      <td>Bar</td>\n",
       "    </tr>\n",
       "    <tr>\n",
       "      <th>2</th>\n",
       "      <td>Guildwood,Morningside,West Hill</td>\n",
       "      <td>43.763573</td>\n",
       "      <td>-79.188711</td>\n",
       "      <td>Swiss Chalet Rotisserie &amp; Grill</td>\n",
       "      <td>43.767697</td>\n",
       "      <td>-79.189914</td>\n",
       "      <td>Pizza Place</td>\n",
       "    </tr>\n",
       "    <tr>\n",
       "      <th>3</th>\n",
       "      <td>Guildwood,Morningside,West Hill</td>\n",
       "      <td>43.763573</td>\n",
       "      <td>-79.188711</td>\n",
       "      <td>G &amp; G Electronics</td>\n",
       "      <td>43.765309</td>\n",
       "      <td>-79.191537</td>\n",
       "      <td>Electronics Store</td>\n",
       "    </tr>\n",
       "    <tr>\n",
       "      <th>4</th>\n",
       "      <td>Guildwood,Morningside,West Hill</td>\n",
       "      <td>43.763573</td>\n",
       "      <td>-79.188711</td>\n",
       "      <td>Big Bite Burrito</td>\n",
       "      <td>43.766299</td>\n",
       "      <td>-79.190720</td>\n",
       "      <td>Mexican Restaurant</td>\n",
       "    </tr>\n",
       "  </tbody>\n",
       "</table>\n",
       "</div>"
      ],
      "text/plain": [
       "                           Neighborhood  Neighborhood Latitude  \\\n",
       "0                         Rouge,Malvern              43.806686   \n",
       "1  Highland Creek,Rouge Hill,Port Union              43.784535   \n",
       "2       Guildwood,Morningside,West Hill              43.763573   \n",
       "3       Guildwood,Morningside,West Hill              43.763573   \n",
       "4       Guildwood,Morningside,West Hill              43.763573   \n",
       "\n",
       "   Neighborhood Longitude                            Venue  Venue Latitude  \\\n",
       "0              -79.194353                          Wendy's       43.807448   \n",
       "1              -79.160497            Royal Canadian Legion       43.782533   \n",
       "2              -79.188711  Swiss Chalet Rotisserie & Grill       43.767697   \n",
       "3              -79.188711                G & G Electronics       43.765309   \n",
       "4              -79.188711                 Big Bite Burrito       43.766299   \n",
       "\n",
       "   Venue Longitude        Venue Category  \n",
       "0       -79.199056  Fast Food Restaurant  \n",
       "1       -79.163085                   Bar  \n",
       "2       -79.189914           Pizza Place  \n",
       "3       -79.191537     Electronics Store  \n",
       "4       -79.190720    Mexican Restaurant  "
      ]
     },
     "execution_count": 50,
     "metadata": {},
     "output_type": "execute_result"
    }
   ],
   "source": [
    "toronto_venues.head()"
   ]
  },
  {
   "cell_type": "code",
   "execution_count": 51,
   "metadata": {},
   "outputs": [
    {
     "name": "stdout",
     "output_type": "stream",
     "text": [
      "Number of differents types of venues: 276\n"
     ]
    }
   ],
   "source": [
    "print('Number of differents types of venues:',len(toronto_venues['Venue Category'].unique()))"
   ]
  },
  {
   "cell_type": "code",
   "execution_count": 52,
   "metadata": {},
   "outputs": [
    {
     "data": {
      "text/plain": [
       "(2263, 7)"
      ]
     },
     "execution_count": 52,
     "metadata": {},
     "output_type": "execute_result"
    }
   ],
   "source": [
    "toronto_venues.shape"
   ]
  },
  {
   "cell_type": "code",
   "execution_count": 53,
   "metadata": {
    "scrolled": true
   },
   "outputs": [
    {
     "data": {
      "text/html": [
       "<div>\n",
       "<style scoped>\n",
       "    .dataframe tbody tr th:only-of-type {\n",
       "        vertical-align: middle;\n",
       "    }\n",
       "\n",
       "    .dataframe tbody tr th {\n",
       "        vertical-align: top;\n",
       "    }\n",
       "\n",
       "    .dataframe thead th {\n",
       "        text-align: right;\n",
       "    }\n",
       "</style>\n",
       "<table border=\"1\" class=\"dataframe\">\n",
       "  <thead>\n",
       "    <tr style=\"text-align: right;\">\n",
       "      <th></th>\n",
       "      <th>Neighborhood</th>\n",
       "      <th>Accessories Store</th>\n",
       "      <th>Afghan Restaurant</th>\n",
       "      <th>Airport</th>\n",
       "      <th>Airport Food Court</th>\n",
       "      <th>Airport Gate</th>\n",
       "      <th>Airport Lounge</th>\n",
       "      <th>Airport Service</th>\n",
       "      <th>Airport Terminal</th>\n",
       "      <th>American Restaurant</th>\n",
       "      <th>...</th>\n",
       "      <th>Train Station</th>\n",
       "      <th>Vegetarian / Vegan Restaurant</th>\n",
       "      <th>Video Game Store</th>\n",
       "      <th>Video Store</th>\n",
       "      <th>Vietnamese Restaurant</th>\n",
       "      <th>Warehouse Store</th>\n",
       "      <th>Wine Bar</th>\n",
       "      <th>Wings Joint</th>\n",
       "      <th>Women's Store</th>\n",
       "      <th>Yoga Studio</th>\n",
       "    </tr>\n",
       "  </thead>\n",
       "  <tbody>\n",
       "    <tr>\n",
       "      <th>0</th>\n",
       "      <td>Rouge,Malvern</td>\n",
       "      <td>0</td>\n",
       "      <td>0</td>\n",
       "      <td>0</td>\n",
       "      <td>0</td>\n",
       "      <td>0</td>\n",
       "      <td>0</td>\n",
       "      <td>0</td>\n",
       "      <td>0</td>\n",
       "      <td>0</td>\n",
       "      <td>...</td>\n",
       "      <td>0</td>\n",
       "      <td>0</td>\n",
       "      <td>0</td>\n",
       "      <td>0</td>\n",
       "      <td>0</td>\n",
       "      <td>0</td>\n",
       "      <td>0</td>\n",
       "      <td>0</td>\n",
       "      <td>0</td>\n",
       "      <td>0</td>\n",
       "    </tr>\n",
       "    <tr>\n",
       "      <th>1</th>\n",
       "      <td>Highland Creek,Rouge Hill,Port Union</td>\n",
       "      <td>0</td>\n",
       "      <td>0</td>\n",
       "      <td>0</td>\n",
       "      <td>0</td>\n",
       "      <td>0</td>\n",
       "      <td>0</td>\n",
       "      <td>0</td>\n",
       "      <td>0</td>\n",
       "      <td>0</td>\n",
       "      <td>...</td>\n",
       "      <td>0</td>\n",
       "      <td>0</td>\n",
       "      <td>0</td>\n",
       "      <td>0</td>\n",
       "      <td>0</td>\n",
       "      <td>0</td>\n",
       "      <td>0</td>\n",
       "      <td>0</td>\n",
       "      <td>0</td>\n",
       "      <td>0</td>\n",
       "    </tr>\n",
       "    <tr>\n",
       "      <th>2</th>\n",
       "      <td>Guildwood,Morningside,West Hill</td>\n",
       "      <td>0</td>\n",
       "      <td>0</td>\n",
       "      <td>0</td>\n",
       "      <td>0</td>\n",
       "      <td>0</td>\n",
       "      <td>0</td>\n",
       "      <td>0</td>\n",
       "      <td>0</td>\n",
       "      <td>0</td>\n",
       "      <td>...</td>\n",
       "      <td>0</td>\n",
       "      <td>0</td>\n",
       "      <td>0</td>\n",
       "      <td>0</td>\n",
       "      <td>0</td>\n",
       "      <td>0</td>\n",
       "      <td>0</td>\n",
       "      <td>0</td>\n",
       "      <td>0</td>\n",
       "      <td>0</td>\n",
       "    </tr>\n",
       "    <tr>\n",
       "      <th>3</th>\n",
       "      <td>Guildwood,Morningside,West Hill</td>\n",
       "      <td>0</td>\n",
       "      <td>0</td>\n",
       "      <td>0</td>\n",
       "      <td>0</td>\n",
       "      <td>0</td>\n",
       "      <td>0</td>\n",
       "      <td>0</td>\n",
       "      <td>0</td>\n",
       "      <td>0</td>\n",
       "      <td>...</td>\n",
       "      <td>0</td>\n",
       "      <td>0</td>\n",
       "      <td>0</td>\n",
       "      <td>0</td>\n",
       "      <td>0</td>\n",
       "      <td>0</td>\n",
       "      <td>0</td>\n",
       "      <td>0</td>\n",
       "      <td>0</td>\n",
       "      <td>0</td>\n",
       "    </tr>\n",
       "    <tr>\n",
       "      <th>4</th>\n",
       "      <td>Guildwood,Morningside,West Hill</td>\n",
       "      <td>0</td>\n",
       "      <td>0</td>\n",
       "      <td>0</td>\n",
       "      <td>0</td>\n",
       "      <td>0</td>\n",
       "      <td>0</td>\n",
       "      <td>0</td>\n",
       "      <td>0</td>\n",
       "      <td>0</td>\n",
       "      <td>...</td>\n",
       "      <td>0</td>\n",
       "      <td>0</td>\n",
       "      <td>0</td>\n",
       "      <td>0</td>\n",
       "      <td>0</td>\n",
       "      <td>0</td>\n",
       "      <td>0</td>\n",
       "      <td>0</td>\n",
       "      <td>0</td>\n",
       "      <td>0</td>\n",
       "    </tr>\n",
       "  </tbody>\n",
       "</table>\n",
       "<p>5 rows × 277 columns</p>\n",
       "</div>"
      ],
      "text/plain": [
       "                           Neighborhood   Accessories Store  \\\n",
       "0                         Rouge,Malvern                   0   \n",
       "1  Highland Creek,Rouge Hill,Port Union                   0   \n",
       "2       Guildwood,Morningside,West Hill                   0   \n",
       "3       Guildwood,Morningside,West Hill                   0   \n",
       "4       Guildwood,Morningside,West Hill                   0   \n",
       "\n",
       "    Afghan Restaurant   Airport   Airport Food Court   Airport Gate  \\\n",
       "0                   0         0                    0              0   \n",
       "1                   0         0                    0              0   \n",
       "2                   0         0                    0              0   \n",
       "3                   0         0                    0              0   \n",
       "4                   0         0                    0              0   \n",
       "\n",
       "    Airport Lounge   Airport Service   Airport Terminal   American Restaurant  \\\n",
       "0                0                 0                  0                     0   \n",
       "1                0                 0                  0                     0   \n",
       "2                0                 0                  0                     0   \n",
       "3                0                 0                  0                     0   \n",
       "4                0                 0                  0                     0   \n",
       "\n",
       "   ...   Train Station   Vegetarian / Vegan Restaurant   Video Game Store  \\\n",
       "0  ...               0                               0                  0   \n",
       "1  ...               0                               0                  0   \n",
       "2  ...               0                               0                  0   \n",
       "3  ...               0                               0                  0   \n",
       "4  ...               0                               0                  0   \n",
       "\n",
       "    Video Store   Vietnamese Restaurant   Warehouse Store   Wine Bar  \\\n",
       "0             0                       0                 0          0   \n",
       "1             0                       0                 0          0   \n",
       "2             0                       0                 0          0   \n",
       "3             0                       0                 0          0   \n",
       "4             0                       0                 0          0   \n",
       "\n",
       "    Wings Joint   Women's Store   Yoga Studio  \n",
       "0             0               0             0  \n",
       "1             0               0             0  \n",
       "2             0               0             0  \n",
       "3             0               0             0  \n",
       "4             0               0             0  \n",
       "\n",
       "[5 rows x 277 columns]"
      ]
     },
     "execution_count": 53,
     "metadata": {},
     "output_type": "execute_result"
    }
   ],
   "source": [
    "category = pd.get_dummies(toronto_venues[['Venue Category']], prefix = ' ', prefix_sep = '')\n",
    "\n",
    "# add neighborhood column back to dataframe\n",
    "toronto_category = pd.concat([toronto_venues['Neighborhood'], category], axis = 1)\n",
    "\n",
    "toronto_category.head()\n"
   ]
  },
  {
   "cell_type": "markdown",
   "metadata": {},
   "source": [
    "Let's group rows by neighborhood and by taking the mean of the frequency of occurrence of each category"
   ]
  },
  {
   "cell_type": "code",
   "execution_count": 54,
   "metadata": {},
   "outputs": [
    {
     "data": {
      "text/html": [
       "<div>\n",
       "<style scoped>\n",
       "    .dataframe tbody tr th:only-of-type {\n",
       "        vertical-align: middle;\n",
       "    }\n",
       "\n",
       "    .dataframe tbody tr th {\n",
       "        vertical-align: top;\n",
       "    }\n",
       "\n",
       "    .dataframe thead th {\n",
       "        text-align: right;\n",
       "    }\n",
       "</style>\n",
       "<table border=\"1\" class=\"dataframe\">\n",
       "  <thead>\n",
       "    <tr style=\"text-align: right;\">\n",
       "      <th></th>\n",
       "      <th>Neighborhood</th>\n",
       "      <th>Accessories Store</th>\n",
       "      <th>Afghan Restaurant</th>\n",
       "      <th>Airport</th>\n",
       "      <th>Airport Food Court</th>\n",
       "      <th>Airport Gate</th>\n",
       "      <th>Airport Lounge</th>\n",
       "      <th>Airport Service</th>\n",
       "      <th>Airport Terminal</th>\n",
       "      <th>American Restaurant</th>\n",
       "      <th>...</th>\n",
       "      <th>Train Station</th>\n",
       "      <th>Vegetarian / Vegan Restaurant</th>\n",
       "      <th>Video Game Store</th>\n",
       "      <th>Video Store</th>\n",
       "      <th>Vietnamese Restaurant</th>\n",
       "      <th>Warehouse Store</th>\n",
       "      <th>Wine Bar</th>\n",
       "      <th>Wings Joint</th>\n",
       "      <th>Women's Store</th>\n",
       "      <th>Yoga Studio</th>\n",
       "    </tr>\n",
       "  </thead>\n",
       "  <tbody>\n",
       "    <tr>\n",
       "      <th>0</th>\n",
       "      <td>Adelaide,King,Richmond</td>\n",
       "      <td>0.0</td>\n",
       "      <td>0.0</td>\n",
       "      <td>0.0</td>\n",
       "      <td>0.0</td>\n",
       "      <td>0.0</td>\n",
       "      <td>0.0</td>\n",
       "      <td>0.0</td>\n",
       "      <td>0.0</td>\n",
       "      <td>0.04</td>\n",
       "      <td>...</td>\n",
       "      <td>0.0</td>\n",
       "      <td>0.02</td>\n",
       "      <td>0.0</td>\n",
       "      <td>0.0</td>\n",
       "      <td>0.0</td>\n",
       "      <td>0.0</td>\n",
       "      <td>0.01</td>\n",
       "      <td>0.0</td>\n",
       "      <td>0.0</td>\n",
       "      <td>0.0</td>\n",
       "    </tr>\n",
       "    <tr>\n",
       "      <th>1</th>\n",
       "      <td>Agincourt</td>\n",
       "      <td>0.0</td>\n",
       "      <td>0.0</td>\n",
       "      <td>0.0</td>\n",
       "      <td>0.0</td>\n",
       "      <td>0.0</td>\n",
       "      <td>0.0</td>\n",
       "      <td>0.0</td>\n",
       "      <td>0.0</td>\n",
       "      <td>0.00</td>\n",
       "      <td>...</td>\n",
       "      <td>0.0</td>\n",
       "      <td>0.00</td>\n",
       "      <td>0.0</td>\n",
       "      <td>0.0</td>\n",
       "      <td>0.0</td>\n",
       "      <td>0.0</td>\n",
       "      <td>0.00</td>\n",
       "      <td>0.0</td>\n",
       "      <td>0.0</td>\n",
       "      <td>0.0</td>\n",
       "    </tr>\n",
       "    <tr>\n",
       "      <th>2</th>\n",
       "      <td>Agincourt North,L'Amoreaux East,Milliken,Steel...</td>\n",
       "      <td>0.0</td>\n",
       "      <td>0.0</td>\n",
       "      <td>0.0</td>\n",
       "      <td>0.0</td>\n",
       "      <td>0.0</td>\n",
       "      <td>0.0</td>\n",
       "      <td>0.0</td>\n",
       "      <td>0.0</td>\n",
       "      <td>0.00</td>\n",
       "      <td>...</td>\n",
       "      <td>0.0</td>\n",
       "      <td>0.00</td>\n",
       "      <td>0.0</td>\n",
       "      <td>0.0</td>\n",
       "      <td>0.0</td>\n",
       "      <td>0.0</td>\n",
       "      <td>0.00</td>\n",
       "      <td>0.0</td>\n",
       "      <td>0.0</td>\n",
       "      <td>0.0</td>\n",
       "    </tr>\n",
       "    <tr>\n",
       "      <th>3</th>\n",
       "      <td>Albion Gardens,Beaumond Heights,Humbergate,Jam...</td>\n",
       "      <td>0.0</td>\n",
       "      <td>0.0</td>\n",
       "      <td>0.0</td>\n",
       "      <td>0.0</td>\n",
       "      <td>0.0</td>\n",
       "      <td>0.0</td>\n",
       "      <td>0.0</td>\n",
       "      <td>0.0</td>\n",
       "      <td>0.00</td>\n",
       "      <td>...</td>\n",
       "      <td>0.0</td>\n",
       "      <td>0.00</td>\n",
       "      <td>0.0</td>\n",
       "      <td>0.0</td>\n",
       "      <td>0.0</td>\n",
       "      <td>0.0</td>\n",
       "      <td>0.00</td>\n",
       "      <td>0.0</td>\n",
       "      <td>0.0</td>\n",
       "      <td>0.0</td>\n",
       "    </tr>\n",
       "    <tr>\n",
       "      <th>4</th>\n",
       "      <td>Alderwood,Long Branch</td>\n",
       "      <td>0.0</td>\n",
       "      <td>0.0</td>\n",
       "      <td>0.0</td>\n",
       "      <td>0.0</td>\n",
       "      <td>0.0</td>\n",
       "      <td>0.0</td>\n",
       "      <td>0.0</td>\n",
       "      <td>0.0</td>\n",
       "      <td>0.00</td>\n",
       "      <td>...</td>\n",
       "      <td>0.0</td>\n",
       "      <td>0.00</td>\n",
       "      <td>0.0</td>\n",
       "      <td>0.0</td>\n",
       "      <td>0.0</td>\n",
       "      <td>0.0</td>\n",
       "      <td>0.00</td>\n",
       "      <td>0.0</td>\n",
       "      <td>0.0</td>\n",
       "      <td>0.0</td>\n",
       "    </tr>\n",
       "  </tbody>\n",
       "</table>\n",
       "<p>5 rows × 277 columns</p>\n",
       "</div>"
      ],
      "text/plain": [
       "                                        Neighborhood   Accessories Store  \\\n",
       "0                             Adelaide,King,Richmond                 0.0   \n",
       "1                                          Agincourt                 0.0   \n",
       "2  Agincourt North,L'Amoreaux East,Milliken,Steel...                 0.0   \n",
       "3  Albion Gardens,Beaumond Heights,Humbergate,Jam...                 0.0   \n",
       "4                              Alderwood,Long Branch                 0.0   \n",
       "\n",
       "    Afghan Restaurant   Airport   Airport Food Court   Airport Gate  \\\n",
       "0                 0.0       0.0                  0.0            0.0   \n",
       "1                 0.0       0.0                  0.0            0.0   \n",
       "2                 0.0       0.0                  0.0            0.0   \n",
       "3                 0.0       0.0                  0.0            0.0   \n",
       "4                 0.0       0.0                  0.0            0.0   \n",
       "\n",
       "    Airport Lounge   Airport Service   Airport Terminal   American Restaurant  \\\n",
       "0              0.0               0.0                0.0                  0.04   \n",
       "1              0.0               0.0                0.0                  0.00   \n",
       "2              0.0               0.0                0.0                  0.00   \n",
       "3              0.0               0.0                0.0                  0.00   \n",
       "4              0.0               0.0                0.0                  0.00   \n",
       "\n",
       "   ...   Train Station   Vegetarian / Vegan Restaurant   Video Game Store  \\\n",
       "0  ...             0.0                            0.02                0.0   \n",
       "1  ...             0.0                            0.00                0.0   \n",
       "2  ...             0.0                            0.00                0.0   \n",
       "3  ...             0.0                            0.00                0.0   \n",
       "4  ...             0.0                            0.00                0.0   \n",
       "\n",
       "    Video Store   Vietnamese Restaurant   Warehouse Store   Wine Bar  \\\n",
       "0           0.0                     0.0               0.0       0.01   \n",
       "1           0.0                     0.0               0.0       0.00   \n",
       "2           0.0                     0.0               0.0       0.00   \n",
       "3           0.0                     0.0               0.0       0.00   \n",
       "4           0.0                     0.0               0.0       0.00   \n",
       "\n",
       "    Wings Joint   Women's Store   Yoga Studio  \n",
       "0           0.0             0.0           0.0  \n",
       "1           0.0             0.0           0.0  \n",
       "2           0.0             0.0           0.0  \n",
       "3           0.0             0.0           0.0  \n",
       "4           0.0             0.0           0.0  \n",
       "\n",
       "[5 rows x 277 columns]"
      ]
     },
     "execution_count": 54,
     "metadata": {},
     "output_type": "execute_result"
    }
   ],
   "source": [
    "toronto_grouped = toronto_category.groupby('Neighborhood').mean().reset_index()\n",
    "toronto_grouped.head()"
   ]
  },
  {
   "cell_type": "code",
   "execution_count": 55,
   "metadata": {},
   "outputs": [
    {
     "data": {
      "text/plain": [
       "(100, 277)"
      ]
     },
     "execution_count": 55,
     "metadata": {},
     "output_type": "execute_result"
    }
   ],
   "source": [
    "toronto_grouped.shape"
   ]
  },
  {
   "cell_type": "markdown",
   "metadata": {},
   "source": [
    "Let's create a dataframe with the top 10 most common venues in a neighborhood"
   ]
  },
  {
   "cell_type": "code",
   "execution_count": 56,
   "metadata": {},
   "outputs": [],
   "source": [
    "#function to sort the venues in descending order\n",
    "def return_most_common_venues(row, num_top_venues):\n",
    "    row_categories = row.iloc[1:]\n",
    "    row_categories_sorted = row_categories.sort_values(ascending=False)\n",
    "    \n",
    "    return row_categories_sorted.index.values[0:num_top_venues]"
   ]
  },
  {
   "cell_type": "code",
   "execution_count": 57,
   "metadata": {},
   "outputs": [
    {
     "data": {
      "text/html": [
       "<div>\n",
       "<style scoped>\n",
       "    .dataframe tbody tr th:only-of-type {\n",
       "        vertical-align: middle;\n",
       "    }\n",
       "\n",
       "    .dataframe tbody tr th {\n",
       "        vertical-align: top;\n",
       "    }\n",
       "\n",
       "    .dataframe thead th {\n",
       "        text-align: right;\n",
       "    }\n",
       "</style>\n",
       "<table border=\"1\" class=\"dataframe\">\n",
       "  <thead>\n",
       "    <tr style=\"text-align: right;\">\n",
       "      <th></th>\n",
       "      <th>Neighborhood</th>\n",
       "      <th>1st Most Common Venue</th>\n",
       "      <th>2nd Most Common Venue</th>\n",
       "      <th>3rd Most Common Venue</th>\n",
       "      <th>4th Most Common Venue</th>\n",
       "      <th>5th Most Common Venue</th>\n",
       "      <th>6th Most Common Venue</th>\n",
       "      <th>7th Most Common Venue</th>\n",
       "      <th>8th Most Common Venue</th>\n",
       "      <th>9th Most Common Venue</th>\n",
       "      <th>10th Most Common Venue</th>\n",
       "    </tr>\n",
       "  </thead>\n",
       "  <tbody>\n",
       "    <tr>\n",
       "      <th>0</th>\n",
       "      <td>Adelaide,King,Richmond</td>\n",
       "      <td>Coffee Shop</td>\n",
       "      <td>Café</td>\n",
       "      <td>Thai Restaurant</td>\n",
       "      <td>Bar</td>\n",
       "      <td>Steakhouse</td>\n",
       "      <td>American Restaurant</td>\n",
       "      <td>Hotel</td>\n",
       "      <td>Restaurant</td>\n",
       "      <td>Burger Joint</td>\n",
       "      <td>Asian Restaurant</td>\n",
       "    </tr>\n",
       "    <tr>\n",
       "      <th>1</th>\n",
       "      <td>Agincourt</td>\n",
       "      <td>Lounge</td>\n",
       "      <td>Skating Rink</td>\n",
       "      <td>Breakfast Spot</td>\n",
       "      <td>Clothing Store</td>\n",
       "      <td>Yoga Studio</td>\n",
       "      <td>Eastern European Restaurant</td>\n",
       "      <td>Dog Run</td>\n",
       "      <td>Doner Restaurant</td>\n",
       "      <td>Donut Shop</td>\n",
       "      <td>Drugstore</td>\n",
       "    </tr>\n",
       "    <tr>\n",
       "      <th>2</th>\n",
       "      <td>Agincourt North,L'Amoreaux East,Milliken,Steel...</td>\n",
       "      <td>Park</td>\n",
       "      <td>Playground</td>\n",
       "      <td>Coffee Shop</td>\n",
       "      <td>Yoga Studio</td>\n",
       "      <td>Dumpling Restaurant</td>\n",
       "      <td>Diner</td>\n",
       "      <td>Discount Store</td>\n",
       "      <td>Dog Run</td>\n",
       "      <td>Doner Restaurant</td>\n",
       "      <td>Donut Shop</td>\n",
       "    </tr>\n",
       "    <tr>\n",
       "      <th>3</th>\n",
       "      <td>Albion Gardens,Beaumond Heights,Humbergate,Jam...</td>\n",
       "      <td>Grocery Store</td>\n",
       "      <td>Fast Food Restaurant</td>\n",
       "      <td>Liquor Store</td>\n",
       "      <td>Japanese Restaurant</td>\n",
       "      <td>Discount Store</td>\n",
       "      <td>Sandwich Place</td>\n",
       "      <td>Beer Store</td>\n",
       "      <td>Pizza Place</td>\n",
       "      <td>Pharmacy</td>\n",
       "      <td>Fried Chicken Joint</td>\n",
       "    </tr>\n",
       "    <tr>\n",
       "      <th>4</th>\n",
       "      <td>Alderwood,Long Branch</td>\n",
       "      <td>Pizza Place</td>\n",
       "      <td>Sandwich Place</td>\n",
       "      <td>Gym</td>\n",
       "      <td>Skating Rink</td>\n",
       "      <td>Dance Studio</td>\n",
       "      <td>Pharmacy</td>\n",
       "      <td>Coffee Shop</td>\n",
       "      <td>Athletics &amp; Sports</td>\n",
       "      <td>Pub</td>\n",
       "      <td>Yoga Studio</td>\n",
       "    </tr>\n",
       "  </tbody>\n",
       "</table>\n",
       "</div>"
      ],
      "text/plain": [
       "                                        Neighborhood 1st Most Common Venue  \\\n",
       "0                             Adelaide,King,Richmond           Coffee Shop   \n",
       "1                                          Agincourt                Lounge   \n",
       "2  Agincourt North,L'Amoreaux East,Milliken,Steel...                  Park   \n",
       "3  Albion Gardens,Beaumond Heights,Humbergate,Jam...         Grocery Store   \n",
       "4                              Alderwood,Long Branch           Pizza Place   \n",
       "\n",
       "   2nd Most Common Venue 3rd Most Common Venue 4th Most Common Venue  \\\n",
       "0                   Café       Thai Restaurant                   Bar   \n",
       "1           Skating Rink        Breakfast Spot        Clothing Store   \n",
       "2             Playground           Coffee Shop           Yoga Studio   \n",
       "3   Fast Food Restaurant          Liquor Store   Japanese Restaurant   \n",
       "4         Sandwich Place                   Gym          Skating Rink   \n",
       "\n",
       "  5th Most Common Venue         6th Most Common Venue 7th Most Common Venue  \\\n",
       "0            Steakhouse           American Restaurant                 Hotel   \n",
       "1           Yoga Studio   Eastern European Restaurant               Dog Run   \n",
       "2   Dumpling Restaurant                         Diner        Discount Store   \n",
       "3        Discount Store                Sandwich Place            Beer Store   \n",
       "4          Dance Studio                      Pharmacy           Coffee Shop   \n",
       "\n",
       "  8th Most Common Venue 9th Most Common Venue 10th Most Common Venue  \n",
       "0            Restaurant          Burger Joint       Asian Restaurant  \n",
       "1      Doner Restaurant            Donut Shop              Drugstore  \n",
       "2               Dog Run      Doner Restaurant             Donut Shop  \n",
       "3           Pizza Place              Pharmacy    Fried Chicken Joint  \n",
       "4    Athletics & Sports                   Pub            Yoga Studio  "
      ]
     },
     "execution_count": 57,
     "metadata": {},
     "output_type": "execute_result"
    }
   ],
   "source": [
    "num_top_venues = 10\n",
    "\n",
    "indicators = ['st', 'nd', 'rd']\n",
    "\n",
    "# create columns according to number of top venues\n",
    "columns = ['Neighborhood']\n",
    "for ind in np.arange(num_top_venues):\n",
    "    try:\n",
    "        columns.append('{}{} Most Common Venue'.format(ind + 1, indicators[ind]))\n",
    "    except:\n",
    "        columns.append('{}th Most Common Venue'.format(ind + 1))\n",
    "\n",
    "# create a new dataframe\n",
    "neighborhoods_venues_sorted = pd.DataFrame(columns = columns)\n",
    "neighborhoods_venues_sorted['Neighborhood'] = toronto_grouped['Neighborhood']\n",
    "\n",
    "for ind in np.arange(toronto_grouped.shape[0]):\n",
    "    neighborhoods_venues_sorted.iloc[ind, 1:] = return_most_common_venues(toronto_grouped.iloc[ind, :], num_top_venues)\n",
    "\n",
    "neighborhoods_venues_sorted.head()"
   ]
  },
  {
   "cell_type": "markdown",
   "metadata": {},
   "source": [
    "### Cluster Neighborhoods"
   ]
  },
  {
   "cell_type": "markdown",
   "metadata": {},
   "source": [
    "Run *k*-means to divide the neighborhoods in 5 clusters"
   ]
  },
  {
   "cell_type": "code",
   "execution_count": 58,
   "metadata": {},
   "outputs": [
    {
     "data": {
      "text/plain": [
       "array([0, 0, 4, 0, 0, 0, 0, 0, 0, 0])"
      ]
     },
     "execution_count": 58,
     "metadata": {},
     "output_type": "execute_result"
    }
   ],
   "source": [
    "# set number of clusters\n",
    "kclusters = 5\n",
    "\n",
    "toronto_grouped_clustering = toronto_grouped.drop('Neighborhood', 1)\n",
    "\n",
    "# run k-means clustering\n",
    "kmeans = KMeans(n_clusters = kclusters, random_state = 0).fit(toronto_grouped_clustering)\n",
    "\n",
    "# check cluster labels generated for each row in the dataframe\n",
    "kmeans.labels_[0:10] "
   ]
  },
  {
   "cell_type": "markdown",
   "metadata": {},
   "source": [
    "Let's create a dataframe with the information of the neighborhood as well the top 10 most common venues and the cluster"
   ]
  },
  {
   "cell_type": "code",
   "execution_count": 59,
   "metadata": {
    "scrolled": false
   },
   "outputs": [
    {
     "data": {
      "text/html": [
       "<div>\n",
       "<style scoped>\n",
       "    .dataframe tbody tr th:only-of-type {\n",
       "        vertical-align: middle;\n",
       "    }\n",
       "\n",
       "    .dataframe tbody tr th {\n",
       "        vertical-align: top;\n",
       "    }\n",
       "\n",
       "    .dataframe thead th {\n",
       "        text-align: right;\n",
       "    }\n",
       "</style>\n",
       "<table border=\"1\" class=\"dataframe\">\n",
       "  <thead>\n",
       "    <tr style=\"text-align: right;\">\n",
       "      <th></th>\n",
       "      <th>Postcode</th>\n",
       "      <th>Borough</th>\n",
       "      <th>Neighborhood</th>\n",
       "      <th>Latitude</th>\n",
       "      <th>Longitude</th>\n",
       "      <th>Cluster Labels</th>\n",
       "      <th>1st Most Common Venue</th>\n",
       "      <th>2nd Most Common Venue</th>\n",
       "      <th>3rd Most Common Venue</th>\n",
       "      <th>4th Most Common Venue</th>\n",
       "      <th>5th Most Common Venue</th>\n",
       "      <th>6th Most Common Venue</th>\n",
       "      <th>7th Most Common Venue</th>\n",
       "      <th>8th Most Common Venue</th>\n",
       "      <th>9th Most Common Venue</th>\n",
       "      <th>10th Most Common Venue</th>\n",
       "    </tr>\n",
       "  </thead>\n",
       "  <tbody>\n",
       "    <tr>\n",
       "      <th>0</th>\n",
       "      <td>M1B</td>\n",
       "      <td>Scarborough</td>\n",
       "      <td>Rouge,Malvern</td>\n",
       "      <td>43.806686</td>\n",
       "      <td>-79.194353</td>\n",
       "      <td>3.0</td>\n",
       "      <td>Fast Food Restaurant</td>\n",
       "      <td>Dumpling Restaurant</td>\n",
       "      <td>Diner</td>\n",
       "      <td>Discount Store</td>\n",
       "      <td>Dog Run</td>\n",
       "      <td>Doner Restaurant</td>\n",
       "      <td>Donut Shop</td>\n",
       "      <td>Drugstore</td>\n",
       "      <td>Eastern European Restaurant</td>\n",
       "      <td>Field</td>\n",
       "    </tr>\n",
       "    <tr>\n",
       "      <th>1</th>\n",
       "      <td>M1C</td>\n",
       "      <td>Scarborough</td>\n",
       "      <td>Highland Creek,Rouge Hill,Port Union</td>\n",
       "      <td>43.784535</td>\n",
       "      <td>-79.160497</td>\n",
       "      <td>0.0</td>\n",
       "      <td>Bar</td>\n",
       "      <td>Yoga Studio</td>\n",
       "      <td>Eastern European Restaurant</td>\n",
       "      <td>Dog Run</td>\n",
       "      <td>Doner Restaurant</td>\n",
       "      <td>Donut Shop</td>\n",
       "      <td>Drugstore</td>\n",
       "      <td>Dumpling Restaurant</td>\n",
       "      <td>Electronics Store</td>\n",
       "      <td>Diner</td>\n",
       "    </tr>\n",
       "    <tr>\n",
       "      <th>2</th>\n",
       "      <td>M1E</td>\n",
       "      <td>Scarborough</td>\n",
       "      <td>Guildwood,Morningside,West Hill</td>\n",
       "      <td>43.763573</td>\n",
       "      <td>-79.188711</td>\n",
       "      <td>0.0</td>\n",
       "      <td>Pizza Place</td>\n",
       "      <td>Rental Car Location</td>\n",
       "      <td>Breakfast Spot</td>\n",
       "      <td>Electronics Store</td>\n",
       "      <td>Medical Center</td>\n",
       "      <td>Intersection</td>\n",
       "      <td>Mexican Restaurant</td>\n",
       "      <td>Yoga Studio</td>\n",
       "      <td>Doner Restaurant</td>\n",
       "      <td>Diner</td>\n",
       "    </tr>\n",
       "    <tr>\n",
       "      <th>3</th>\n",
       "      <td>M1G</td>\n",
       "      <td>Scarborough</td>\n",
       "      <td>Woburn</td>\n",
       "      <td>43.770992</td>\n",
       "      <td>-79.216917</td>\n",
       "      <td>0.0</td>\n",
       "      <td>Coffee Shop</td>\n",
       "      <td>Korean Restaurant</td>\n",
       "      <td>Yoga Studio</td>\n",
       "      <td>Dumpling Restaurant</td>\n",
       "      <td>Discount Store</td>\n",
       "      <td>Dog Run</td>\n",
       "      <td>Doner Restaurant</td>\n",
       "      <td>Donut Shop</td>\n",
       "      <td>Drugstore</td>\n",
       "      <td>Eastern European Restaurant</td>\n",
       "    </tr>\n",
       "    <tr>\n",
       "      <th>4</th>\n",
       "      <td>M1H</td>\n",
       "      <td>Scarborough</td>\n",
       "      <td>Cedarbrae</td>\n",
       "      <td>43.773136</td>\n",
       "      <td>-79.239476</td>\n",
       "      <td>0.0</td>\n",
       "      <td>Hakka Restaurant</td>\n",
       "      <td>Bakery</td>\n",
       "      <td>Bank</td>\n",
       "      <td>Athletics &amp; Sports</td>\n",
       "      <td>Caribbean Restaurant</td>\n",
       "      <td>Thai Restaurant</td>\n",
       "      <td>Fried Chicken Joint</td>\n",
       "      <td>Yoga Studio</td>\n",
       "      <td>Donut Shop</td>\n",
       "      <td>Dog Run</td>\n",
       "    </tr>\n",
       "  </tbody>\n",
       "</table>\n",
       "</div>"
      ],
      "text/plain": [
       "  Postcode      Borough                          Neighborhood   Latitude  \\\n",
       "0      M1B  Scarborough                         Rouge,Malvern  43.806686   \n",
       "1      M1C  Scarborough  Highland Creek,Rouge Hill,Port Union  43.784535   \n",
       "2      M1E  Scarborough       Guildwood,Morningside,West Hill  43.763573   \n",
       "3      M1G  Scarborough                                Woburn  43.770992   \n",
       "4      M1H  Scarborough                             Cedarbrae  43.773136   \n",
       "\n",
       "   Longitude  Cluster Labels  1st Most Common Venue 2nd Most Common Venue  \\\n",
       "0 -79.194353             3.0   Fast Food Restaurant   Dumpling Restaurant   \n",
       "1 -79.160497             0.0                    Bar           Yoga Studio   \n",
       "2 -79.188711             0.0            Pizza Place   Rental Car Location   \n",
       "3 -79.216917             0.0            Coffee Shop     Korean Restaurant   \n",
       "4 -79.239476             0.0       Hakka Restaurant                Bakery   \n",
       "\n",
       "          3rd Most Common Venue 4th Most Common Venue  5th Most Common Venue  \\\n",
       "0                         Diner        Discount Store                Dog Run   \n",
       "1   Eastern European Restaurant               Dog Run       Doner Restaurant   \n",
       "2                Breakfast Spot     Electronics Store         Medical Center   \n",
       "3                   Yoga Studio   Dumpling Restaurant         Discount Store   \n",
       "4                          Bank    Athletics & Sports   Caribbean Restaurant   \n",
       "\n",
       "  6th Most Common Venue 7th Most Common Venue 8th Most Common Venue  \\\n",
       "0      Doner Restaurant            Donut Shop             Drugstore   \n",
       "1            Donut Shop             Drugstore   Dumpling Restaurant   \n",
       "2          Intersection    Mexican Restaurant           Yoga Studio   \n",
       "3               Dog Run      Doner Restaurant            Donut Shop   \n",
       "4       Thai Restaurant   Fried Chicken Joint           Yoga Studio   \n",
       "\n",
       "          9th Most Common Venue        10th Most Common Venue  \n",
       "0   Eastern European Restaurant                         Field  \n",
       "1             Electronics Store                         Diner  \n",
       "2              Doner Restaurant                         Diner  \n",
       "3                     Drugstore   Eastern European Restaurant  \n",
       "4                    Donut Shop                       Dog Run  "
      ]
     },
     "execution_count": 59,
     "metadata": {},
     "output_type": "execute_result"
    }
   ],
   "source": [
    "# add clustering labels\n",
    "neighborhoods_venues_sorted.insert(0, 'Cluster Labels', kmeans.labels_)\n",
    "\n",
    "toronto_merged = df_coord\n",
    "\n",
    "# merge toronto_grouped with df_coord to add latitude/longitude for each neighborhood\n",
    "toronto_merged = toronto_merged.join(neighborhoods_venues_sorted.set_index('Neighborhood'), on='Neighborhood')\n",
    "\n",
    "toronto_merged.head() # check the last columns!"
   ]
  },
  {
   "cell_type": "code",
   "execution_count": 63,
   "metadata": {},
   "outputs": [
    {
     "name": "stdout",
     "output_type": "stream",
     "text": [
      "<class 'pandas.core.frame.DataFrame'>\n",
      "Int64Index: 103 entries, 0 to 102\n",
      "Data columns (total 16 columns):\n",
      "Postcode                  103 non-null object\n",
      "Borough                   103 non-null object\n",
      "Neighborhood              103 non-null object\n",
      "Latitude                  103 non-null float64\n",
      "Longitude                 103 non-null float64\n",
      "Cluster Labels            100 non-null float64\n",
      "1st Most Common Venue     100 non-null object\n",
      "2nd Most Common Venue     100 non-null object\n",
      "3rd Most Common Venue     100 non-null object\n",
      "4th Most Common Venue     100 non-null object\n",
      "5th Most Common Venue     100 non-null object\n",
      "6th Most Common Venue     100 non-null object\n",
      "7th Most Common Venue     100 non-null object\n",
      "8th Most Common Venue     100 non-null object\n",
      "9th Most Common Venue     100 non-null object\n",
      "10th Most Common Venue    100 non-null object\n",
      "dtypes: float64(3), object(13)\n",
      "memory usage: 13.7+ KB\n"
     ]
    }
   ],
   "source": [
    "toronto_merged.info()"
   ]
  },
  {
   "cell_type": "code",
   "execution_count": 67,
   "metadata": {},
   "outputs": [
    {
     "data": {
      "text/html": [
       "<div>\n",
       "<style scoped>\n",
       "    .dataframe tbody tr th:only-of-type {\n",
       "        vertical-align: middle;\n",
       "    }\n",
       "\n",
       "    .dataframe tbody tr th {\n",
       "        vertical-align: top;\n",
       "    }\n",
       "\n",
       "    .dataframe thead th {\n",
       "        text-align: right;\n",
       "    }\n",
       "</style>\n",
       "<table border=\"1\" class=\"dataframe\">\n",
       "  <thead>\n",
       "    <tr style=\"text-align: right;\">\n",
       "      <th></th>\n",
       "      <th>Postcode</th>\n",
       "      <th>Borough</th>\n",
       "      <th>Neighborhood</th>\n",
       "      <th>Latitude</th>\n",
       "      <th>Longitude</th>\n",
       "      <th>Cluster Labels</th>\n",
       "      <th>1st Most Common Venue</th>\n",
       "      <th>2nd Most Common Venue</th>\n",
       "      <th>3rd Most Common Venue</th>\n",
       "      <th>4th Most Common Venue</th>\n",
       "      <th>5th Most Common Venue</th>\n",
       "      <th>6th Most Common Venue</th>\n",
       "      <th>7th Most Common Venue</th>\n",
       "      <th>8th Most Common Venue</th>\n",
       "      <th>9th Most Common Venue</th>\n",
       "      <th>10th Most Common Venue</th>\n",
       "    </tr>\n",
       "  </thead>\n",
       "  <tbody>\n",
       "    <tr>\n",
       "      <th>16</th>\n",
       "      <td>M1X</td>\n",
       "      <td>Scarborough</td>\n",
       "      <td>Upper Rouge</td>\n",
       "      <td>43.836125</td>\n",
       "      <td>-79.205636</td>\n",
       "      <td>NaN</td>\n",
       "      <td>NaN</td>\n",
       "      <td>NaN</td>\n",
       "      <td>NaN</td>\n",
       "      <td>NaN</td>\n",
       "      <td>NaN</td>\n",
       "      <td>NaN</td>\n",
       "      <td>NaN</td>\n",
       "      <td>NaN</td>\n",
       "      <td>NaN</td>\n",
       "      <td>NaN</td>\n",
       "    </tr>\n",
       "    <tr>\n",
       "      <th>21</th>\n",
       "      <td>M2M</td>\n",
       "      <td>North York</td>\n",
       "      <td>Newtonbrook,Willowdale</td>\n",
       "      <td>43.789053</td>\n",
       "      <td>-79.408493</td>\n",
       "      <td>NaN</td>\n",
       "      <td>NaN</td>\n",
       "      <td>NaN</td>\n",
       "      <td>NaN</td>\n",
       "      <td>NaN</td>\n",
       "      <td>NaN</td>\n",
       "      <td>NaN</td>\n",
       "      <td>NaN</td>\n",
       "      <td>NaN</td>\n",
       "      <td>NaN</td>\n",
       "      <td>NaN</td>\n",
       "    </tr>\n",
       "    <tr>\n",
       "      <th>93</th>\n",
       "      <td>M9A</td>\n",
       "      <td>Etobicoke</td>\n",
       "      <td>Islington Avenue</td>\n",
       "      <td>43.667856</td>\n",
       "      <td>-79.532242</td>\n",
       "      <td>NaN</td>\n",
       "      <td>NaN</td>\n",
       "      <td>NaN</td>\n",
       "      <td>NaN</td>\n",
       "      <td>NaN</td>\n",
       "      <td>NaN</td>\n",
       "      <td>NaN</td>\n",
       "      <td>NaN</td>\n",
       "      <td>NaN</td>\n",
       "      <td>NaN</td>\n",
       "      <td>NaN</td>\n",
       "    </tr>\n",
       "  </tbody>\n",
       "</table>\n",
       "</div>"
      ],
      "text/plain": [
       "   Postcode      Borough            Neighborhood   Latitude  Longitude  \\\n",
       "16      M1X  Scarborough             Upper Rouge  43.836125 -79.205636   \n",
       "21      M2M   North York  Newtonbrook,Willowdale  43.789053 -79.408493   \n",
       "93      M9A    Etobicoke        Islington Avenue  43.667856 -79.532242   \n",
       "\n",
       "    Cluster Labels 1st Most Common Venue 2nd Most Common Venue  \\\n",
       "16             NaN                   NaN                   NaN   \n",
       "21             NaN                   NaN                   NaN   \n",
       "93             NaN                   NaN                   NaN   \n",
       "\n",
       "   3rd Most Common Venue 4th Most Common Venue 5th Most Common Venue  \\\n",
       "16                   NaN                   NaN                   NaN   \n",
       "21                   NaN                   NaN                   NaN   \n",
       "93                   NaN                   NaN                   NaN   \n",
       "\n",
       "   6th Most Common Venue 7th Most Common Venue 8th Most Common Venue  \\\n",
       "16                   NaN                   NaN                   NaN   \n",
       "21                   NaN                   NaN                   NaN   \n",
       "93                   NaN                   NaN                   NaN   \n",
       "\n",
       "   9th Most Common Venue 10th Most Common Venue  \n",
       "16                   NaN                    NaN  \n",
       "21                   NaN                    NaN  \n",
       "93                   NaN                    NaN  "
      ]
     },
     "execution_count": 67,
     "metadata": {},
     "output_type": "execute_result"
    }
   ],
   "source": [
    "#check for NaN values\n",
    "toronto_merged[np.isnan(toronto_merged['Cluster Labels']) == True]"
   ]
  },
  {
   "cell_type": "markdown",
   "metadata": {},
   "source": [
    "As we can see, there are three neighborhoods that we don't have information, so let's drop them"
   ]
  },
  {
   "cell_type": "code",
   "execution_count": 68,
   "metadata": {},
   "outputs": [],
   "source": [
    "toronto_merged.dropna(inplace = True)"
   ]
  },
  {
   "cell_type": "code",
   "execution_count": 70,
   "metadata": {},
   "outputs": [
    {
     "name": "stdout",
     "output_type": "stream",
     "text": [
      "<class 'pandas.core.frame.DataFrame'>\n",
      "Int64Index: 100 entries, 0 to 102\n",
      "Data columns (total 16 columns):\n",
      "Postcode                  100 non-null object\n",
      "Borough                   100 non-null object\n",
      "Neighborhood              100 non-null object\n",
      "Latitude                  100 non-null float64\n",
      "Longitude                 100 non-null float64\n",
      "Cluster Labels            100 non-null float64\n",
      "1st Most Common Venue     100 non-null object\n",
      "2nd Most Common Venue     100 non-null object\n",
      "3rd Most Common Venue     100 non-null object\n",
      "4th Most Common Venue     100 non-null object\n",
      "5th Most Common Venue     100 non-null object\n",
      "6th Most Common Venue     100 non-null object\n",
      "7th Most Common Venue     100 non-null object\n",
      "8th Most Common Venue     100 non-null object\n",
      "9th Most Common Venue     100 non-null object\n",
      "10th Most Common Venue    100 non-null object\n",
      "dtypes: float64(3), object(13)\n",
      "memory usage: 13.3+ KB\n"
     ]
    }
   ],
   "source": [
    "toronto_merged.info()"
   ]
  },
  {
   "cell_type": "markdown",
   "metadata": {},
   "source": [
    "Let's visualize the clusters"
   ]
  },
  {
   "cell_type": "code",
   "execution_count": 71,
   "metadata": {},
   "outputs": [],
   "source": [
    "import matplotlib.cm as cm\n",
    "import matplotlib.colors as colors"
   ]
  },
  {
   "cell_type": "code",
   "execution_count": 72,
   "metadata": {},
   "outputs": [
    {
     "data": {
      "text/html": [
       "<div style=\"width:100%;\"><div style=\"position:relative;width:100%;height:0;padding-bottom:60%;\"><iframe src=\"data:text/html;charset=utf-8;base64,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\" style=\"position:absolute;width:100%;height:100%;left:0;top:0;border:none !important;\" allowfullscreen webkitallowfullscreen mozallowfullscreen></iframe></div></div>"
      ],
      "text/plain": [
       "<folium.folium.Map at 0x266de2b32b0>"
      ]
     },
     "execution_count": 72,
     "metadata": {},
     "output_type": "execute_result"
    }
   ],
   "source": [
    "# create map\n",
    "map_clusters = folium.Map(location=[latitude, longitude], zoom_start = 11)\n",
    "\n",
    "# set color scheme for the clusters\n",
    "x = np.arange(kclusters)\n",
    "ys = [i + x + (i*x)**2 for i in range(kclusters)]\n",
    "colors_array = cm.rainbow(np.linspace(0, 1, len(ys)))\n",
    "rainbow = [colors.rgb2hex(i) for i in colors_array]\n",
    "\n",
    "# add markers to the map\n",
    "markers_colors = []\n",
    "for lat, lon, poi, cluster in zip(toronto_merged['Latitude'], toronto_merged['Longitude'], toronto_merged['Neighborhood'], toronto_merged['Cluster Labels']):\n",
    "    label = folium.Popup(str(poi) + ' Cluster ' + str(cluster), parse_html=True)\n",
    "    folium.CircleMarker(\n",
    "        [lat, lon],\n",
    "        radius=5,\n",
    "        popup=label,\n",
    "        color=rainbow[int(cluster)-1],\n",
    "        fill=True,\n",
    "        fill_color=rainbow[int(cluster)-1],\n",
    "        fill_opacity=0.7).add_to(map_clusters)\n",
    "       \n",
    "map_clusters"
   ]
  },
  {
   "cell_type": "code",
   "execution_count": null,
   "metadata": {},
   "outputs": [],
   "source": []
  }
 ],
 "metadata": {
  "kernelspec": {
   "display_name": "Python 3",
   "language": "python",
   "name": "python3"
  },
  "language_info": {
   "codemirror_mode": {
    "name": "ipython",
    "version": 3
   },
   "file_extension": ".py",
   "mimetype": "text/x-python",
   "name": "python",
   "nbconvert_exporter": "python",
   "pygments_lexer": "ipython3",
   "version": "3.7.3"
  }
 },
 "nbformat": 4,
 "nbformat_minor": 2
}
