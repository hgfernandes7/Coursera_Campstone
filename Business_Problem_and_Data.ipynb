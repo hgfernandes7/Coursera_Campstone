{
 "cells": [
  {
   "cell_type": "markdown",
   "metadata": {},
   "source": [
    "# Campstone Project - Apartment Rental Price in Toronto"
   ]
  },
  {
   "cell_type": "markdown",
   "metadata": {},
   "source": [
    "## Applied Data Science Campstone by IBM/Coursera"
   ]
  },
  {
   "cell_type": "markdown",
   "metadata": {},
   "source": [
    "# Business Problem"
   ]
  },
  {
   "cell_type": "markdown",
   "metadata": {},
   "source": [
    "This project aims to select the best place to rent an apartment in Toronto based on the rental price and the 10 most common venues in each neighborhood, and finally cluster the neighborhoods using k-mean clustering.\n",
    "\n",
    "This report will be targeted to people who are looking to relocate to Toronto. When you chose a place to live, you have to consider many factors, price, safety and veneus that the neighborhood can offer.\n",
    "\n",
    "So we will explore the venues of the neighborhoods in Toronto and combine with the price of the apartments to help people find the best place to live."
   ]
  },
  {
   "cell_type": "markdown",
   "metadata": {},
   "source": [
    "# Data"
   ]
  },
  {
   "cell_type": "markdown",
   "metadata": {},
   "source": [
    "Based on definition of our problem, factors that will influence our decision are:\n",
    "\n",
    "- The rental price of an apartment.\n",
    "- The most common venues in each of the neighborhood.\n",
    "\n",
    "Following data sources will be needed to extract/generate the required information:\n",
    "\n",
    "- Scrap additional information of the different Boroughs in Toronto from a Wikipedia page:\n",
    "\n",
    "https://en.wikipedia.org/wiki/List_of_postal_codes_of_Canada:_M\n",
    "\n",
    "\n",
    "- Get the geographical coordinates of the neighborhoods\n",
    "\n",
    "http://cocl.us/Geospatial_data\n",
    "\n",
    "\n",
    "- Preprocess a real world data set from Kaggle showing the Toronto Rental Price in 2018:\n",
    "\n",
    "https://www.kaggle.com/rajacsp/toronto-apartment-price"
   ]
  },
  {
   "cell_type": "code",
   "execution_count": null,
   "metadata": {},
   "outputs": [],
   "source": []
  },
  {
   "cell_type": "code",
   "execution_count": null,
   "metadata": {},
   "outputs": [],
   "source": []
  }
 ],
 "metadata": {
  "kernelspec": {
   "display_name": "Python 3",
   "language": "python",
   "name": "python3"
  },
  "language_info": {
   "codemirror_mode": {
    "name": "ipython",
    "version": 3
   },
   "file_extension": ".py",
   "mimetype": "text/x-python",
   "name": "python",
   "nbconvert_exporter": "python",
   "pygments_lexer": "ipython3",
   "version": "3.7.3"
  }
 },
 "nbformat": 4,
 "nbformat_minor": 2
}
